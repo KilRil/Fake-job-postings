{
  "cells": [
    {
      "cell_type": "code",
      "execution_count": 1,
      "metadata": {
        "id": "0800ea05"
      },
      "outputs": [],
      "source": [
        "import pandas as pd\n",
        "import numpy as np\n",
        "import gensim\n",
        "import gensim.downloader\n",
        "import matplotlib.pyplot as plt\n",
        "\n",
        "from tqdm import tqdm\n",
        "import tensorflow as tf\n",
        "import string\n",
        "\n",
        "import nltk\n",
        "from nltk.tokenize import word_tokenize\n",
        "from nltk.corpus import stopwords\n",
        "from nltk.stem import PorterStemmer\n",
        "from nltk.stem import WordNetLemmatizer\n",
        " \n",
        "from keras.layers import LSTM, Activation, Dropout, Dense, Input, Bidirectional, GRU\n",
        "from keras.models import Sequential\n",
        "from keras.layers.embeddings import Embedding\n",
        "from keras.models import Model\n",
        "from keras.callbacks import ModelCheckpoint\n",
        "from keras.preprocessing.sequence import pad_sequences\n",
        "\n",
        "from sklearn.model_selection import train_test_split\n",
        "from sklearn.metrics import f1_score, precision_recall_curve, accuracy_score, plot_confusion_matrix, confusion_matrix, ConfusionMatrixDisplay\n",
        "from sklearn.utils import shuffle"
      ],
      "id": "0800ea05"
    },
    {
      "cell_type": "code",
      "execution_count": 2,
      "metadata": {
        "colab": {
          "base_uri": "https://localhost:8080/"
        },
        "id": "65SPuYyEs10_",
        "outputId": "b0875ec5-aec7-4ad1-8619-d6b7fb61b18d"
      },
      "outputs": [
        {
          "output_type": "stream",
          "name": "stdout",
          "text": [
            "[nltk_data] Downloading package stopwords to /root/nltk_data...\n",
            "[nltk_data]   Unzipping corpora/stopwords.zip.\n",
            "[nltk_data] Downloading package punkt to /root/nltk_data...\n",
            "[nltk_data]   Unzipping tokenizers/punkt.zip.\n",
            "[nltk_data] Downloading package wordnet to /root/nltk_data...\n",
            "[nltk_data]   Unzipping corpora/wordnet.zip.\n"
          ]
        },
        {
          "output_type": "execute_result",
          "data": {
            "text/plain": [
              "True"
            ]
          },
          "metadata": {},
          "execution_count": 2
        }
      ],
      "source": [
        "nltk.download('stopwords')\n",
        "nltk.download('punkt')\n",
        "nltk.download('wordnet')"
      ],
      "id": "65SPuYyEs10_"
    },
    {
      "cell_type": "code",
      "execution_count": 3,
      "metadata": {
        "colab": {
          "base_uri": "https://localhost:8080/"
        },
        "id": "5d5v6siNTU5r",
        "outputId": "a4155c32-b634-4389-c2c9-aaa79c0feba5"
      },
      "outputs": [
        {
          "output_type": "stream",
          "name": "stdout",
          "text": [
            "--2022-05-16 12:02:30--  https://raw.githubusercontent.com/KilRil/Fake-job-postings/main/data/dev.csv\n",
            "Resolving raw.githubusercontent.com (raw.githubusercontent.com)... 185.199.111.133, 185.199.108.133, 185.199.109.133, ...\n",
            "Connecting to raw.githubusercontent.com (raw.githubusercontent.com)|185.199.111.133|:443... connected.\n",
            "HTTP request sent, awaiting response... 200 OK\n",
            "Length: 5060506 (4.8M) [text/plain]\n",
            "Saving to: ‘dev.csv’\n",
            "\n",
            "dev.csv             100%[===================>]   4.83M  --.-KB/s    in 0.07s   \n",
            "\n",
            "2022-05-16 12:02:31 (64.4 MB/s) - ‘dev.csv’ saved [5060506/5060506]\n",
            "\n",
            "--2022-05-16 12:02:31--  https://raw.githubusercontent.com/KilRil/Fake-job-postings/main/data/train.csv\n",
            "Resolving raw.githubusercontent.com (raw.githubusercontent.com)... 185.199.108.133, 185.199.109.133, 185.199.110.133, ...\n",
            "Connecting to raw.githubusercontent.com (raw.githubusercontent.com)|185.199.108.133|:443... connected.\n",
            "HTTP request sent, awaiting response... 200 OK\n",
            "Length: 40062185 (38M) [text/plain]\n",
            "Saving to: ‘train.csv’\n",
            "\n",
            "train.csv           100%[===================>]  38.21M   177MB/s    in 0.2s    \n",
            "\n",
            "2022-05-16 12:02:32 (177 MB/s) - ‘train.csv’ saved [40062185/40062185]\n",
            "\n",
            "--2022-05-16 12:02:32--  https://raw.githubusercontent.com/KilRil/Fake-job-postings/main/data/augmented.csv\n",
            "Resolving raw.githubusercontent.com (raw.githubusercontent.com)... 185.199.110.133, 185.199.109.133, 185.199.108.133, ...\n",
            "Connecting to raw.githubusercontent.com (raw.githubusercontent.com)|185.199.110.133|:443... connected.\n",
            "HTTP request sent, awaiting response... 200 OK\n",
            "Length: 7089385 (6.8M) [text/plain]\n",
            "Saving to: ‘augmented.csv’\n",
            "\n",
            "augmented.csv       100%[===================>]   6.76M  --.-KB/s    in 0.1s    \n",
            "\n",
            "2022-05-16 12:02:32 (63.3 MB/s) - ‘augmented.csv’ saved [7089385/7089385]\n",
            "\n",
            "--2022-05-16 12:02:32--  https://raw.githubusercontent.com/KilRil/Fake-job-postings/main/data/augmented-all.csv\n",
            "Resolving raw.githubusercontent.com (raw.githubusercontent.com)... 185.199.108.133, 185.199.109.133, 185.199.110.133, ...\n",
            "Connecting to raw.githubusercontent.com (raw.githubusercontent.com)|185.199.108.133|:443... connected.\n",
            "HTTP request sent, awaiting response... 200 OK\n",
            "Length: 28353550 (27M) [text/plain]\n",
            "Saving to: ‘augmented-all.csv’\n",
            "\n",
            "augmented-all.csv   100%[===================>]  27.04M   176MB/s    in 0.2s    \n",
            "\n",
            "2022-05-16 12:02:33 (176 MB/s) - ‘augmented-all.csv’ saved [28353550/28353550]\n",
            "\n"
          ]
        }
      ],
      "source": [
        "!wget https://raw.githubusercontent.com/KilRil/Fake-job-postings/main/data/dev.csv\n",
        "!wget https://raw.githubusercontent.com/KilRil/Fake-job-postings/main/data/train.csv\n",
        "!wget https://raw.githubusercontent.com/KilRil/Fake-job-postings/main/data/augmented.csv\n",
        "!wget https://raw.githubusercontent.com/KilRil/Fake-job-postings/main/data/augmented-all.csv"
      ],
      "id": "5d5v6siNTU5r"
    },
    {
      "cell_type": "code",
      "execution_count": 4,
      "metadata": {
        "colab": {
          "base_uri": "https://localhost:8080/"
        },
        "id": "16f41b3f",
        "outputId": "b3be0352-4716-41ec-db54-e5cf1a3a726e"
      },
      "outputs": [
        {
          "output_type": "stream",
          "name": "stdout",
          "text": [
            "[==================================================] 100.0% 199.5/199.5MB downloaded\n"
          ]
        }
      ],
      "source": [
        "# Download\n",
        "embedding_dim = 50\n",
        "# glove_vectors = gensim.downloader.load(f'glove-wiki-gigaword-{embedding_dim}') # 50, 100, 200 or 300\n",
        "glove_vectors = gensim.downloader.load(f'glove-twitter-{embedding_dim}') # 25, 50, 100, 200 or 300"
      ],
      "id": "16f41b3f"
    },
    {
      "cell_type": "markdown",
      "metadata": {
        "id": "9836e28e"
      },
      "source": [
        "# Data exploration"
      ],
      "id": "9836e28e"
    },
    {
      "cell_type": "code",
      "execution_count": 5,
      "metadata": {
        "colab": {
          "base_uri": "https://localhost:8080/",
          "height": 654
        },
        "id": "7faa94a2",
        "outputId": "25803c6f-8c68-468b-e1eb-2f83bc0c6309"
      },
      "outputs": [
        {
          "output_type": "stream",
          "name": "stdout",
          "text": [
            "Dropped: job_id\n",
            "Dropped: company_profile\n"
          ]
        },
        {
          "output_type": "execute_result",
          "data": {
            "text/plain": [
              "                                  title                  location  \\\n",
              "0  Client Audit coordinator Coordinator            us, tx, austin   \n",
              "1            national audit coordinator                us, ny, ny   \n",
              "2                node audit coordinator            Austin TX, US,   \n",
              "3              client Audit Coordinator  US, TX, capital of texas   \n",
              "4         Client scrutinize Coordinator            US, TX, Austin   \n",
              "\n",
              "                       department  \\\n",
              "0       whole COMPLIANCE UNIT 701   \n",
              "1  compliance COMPLIANCE UNIT 701   \n",
              "2             701 UNIT COMPLIANCE   \n",
              "3           compliance package 10   \n",
              "4  COMPLIANCE UNIT compliance 701   \n",
              "\n",
              "                                         description  \\\n",
              "0  Description SUMMARY: The Client Audit Coordina...   \n",
              "1  Description SUMMARY: The Client Audit Coordina...   \n",
              "2  Description SUMMARY: The Client Audit Coordina...   \n",
              "3  Description SUMMARY: The Client Audit Coordina...   \n",
              "4  Description SUMMARY: The Client Audit Coordina...   \n",
              "\n",
              "                                        requirements  \\\n",
              "0  High school diploma or equivalent; Bachelor's ...   \n",
              "1  high school diploma or equivalent; bachelor's ...   \n",
              "2  High school diploma or equivalent; Bachelor's ...   \n",
              "3  High school diploma or equivalent; Bachelor's ...   \n",
              "4  High school diploma or equivalent; Bachelor's ...   \n",
              "\n",
              "                                            benefits employment_type  \\\n",
              "0  we offer a competitive and comprehensive ambit...       Full-time   \n",
              "1  nurses offer a competitive relatively comprehe...       Full-time   \n",
              "2  we offer a competitive and comprehensive compa...             NaN   \n",
              "3  we offer a competitive and comprehensive range...             NaN   \n",
              "4  We offer in competitive and evaluation typical...             NaN   \n",
              "\n",
              "  required_experience         required_education                   industry  \\\n",
              "0                 NaN                  Doctorate     financial intelligence   \n",
              "1                 NaN          Bachelor's Degree            fiscal Services   \n",
              "2                 NaN          Bachelor's Degree       financial assistance   \n",
              "3                 NaN  High School or equivalent  fiscal Financial Services   \n",
              "4         Entry level                        NaN         financial services   \n",
              "\n",
              "         function salary_range  telecommuting  has_company_logo  \\\n",
              "0  Administrative          NaN            NaN               NaN   \n",
              "1     Engineering          NaN            NaN               NaN   \n",
              "2           Other          NaN            NaN               NaN   \n",
              "3     Engineering          NaN            NaN               NaN   \n",
              "4             NaN          NaN            NaN               NaN   \n",
              "\n",
              "   has_questions  fraudulent  \n",
              "0            NaN           1  \n",
              "1            NaN           1  \n",
              "2            NaN           1  \n",
              "3            NaN           1  \n",
              "4            NaN           1  "
            ],
            "text/html": [
              "\n",
              "  <div id=\"df-7759e6c7-d419-4c44-a909-bc63d419d9aa\">\n",
              "    <div class=\"colab-df-container\">\n",
              "      <div>\n",
              "<style scoped>\n",
              "    .dataframe tbody tr th:only-of-type {\n",
              "        vertical-align: middle;\n",
              "    }\n",
              "\n",
              "    .dataframe tbody tr th {\n",
              "        vertical-align: top;\n",
              "    }\n",
              "\n",
              "    .dataframe thead th {\n",
              "        text-align: right;\n",
              "    }\n",
              "</style>\n",
              "<table border=\"1\" class=\"dataframe\">\n",
              "  <thead>\n",
              "    <tr style=\"text-align: right;\">\n",
              "      <th></th>\n",
              "      <th>title</th>\n",
              "      <th>location</th>\n",
              "      <th>department</th>\n",
              "      <th>description</th>\n",
              "      <th>requirements</th>\n",
              "      <th>benefits</th>\n",
              "      <th>employment_type</th>\n",
              "      <th>required_experience</th>\n",
              "      <th>required_education</th>\n",
              "      <th>industry</th>\n",
              "      <th>function</th>\n",
              "      <th>salary_range</th>\n",
              "      <th>telecommuting</th>\n",
              "      <th>has_company_logo</th>\n",
              "      <th>has_questions</th>\n",
              "      <th>fraudulent</th>\n",
              "    </tr>\n",
              "  </thead>\n",
              "  <tbody>\n",
              "    <tr>\n",
              "      <th>0</th>\n",
              "      <td>Client Audit coordinator Coordinator</td>\n",
              "      <td>us, tx, austin</td>\n",
              "      <td>whole COMPLIANCE UNIT 701</td>\n",
              "      <td>Description SUMMARY: The Client Audit Coordina...</td>\n",
              "      <td>High school diploma or equivalent; Bachelor's ...</td>\n",
              "      <td>we offer a competitive and comprehensive ambit...</td>\n",
              "      <td>Full-time</td>\n",
              "      <td>NaN</td>\n",
              "      <td>Doctorate</td>\n",
              "      <td>financial intelligence</td>\n",
              "      <td>Administrative</td>\n",
              "      <td>NaN</td>\n",
              "      <td>NaN</td>\n",
              "      <td>NaN</td>\n",
              "      <td>NaN</td>\n",
              "      <td>1</td>\n",
              "    </tr>\n",
              "    <tr>\n",
              "      <th>1</th>\n",
              "      <td>national audit coordinator</td>\n",
              "      <td>us, ny, ny</td>\n",
              "      <td>compliance COMPLIANCE UNIT 701</td>\n",
              "      <td>Description SUMMARY: The Client Audit Coordina...</td>\n",
              "      <td>high school diploma or equivalent; bachelor's ...</td>\n",
              "      <td>nurses offer a competitive relatively comprehe...</td>\n",
              "      <td>Full-time</td>\n",
              "      <td>NaN</td>\n",
              "      <td>Bachelor's Degree</td>\n",
              "      <td>fiscal Services</td>\n",
              "      <td>Engineering</td>\n",
              "      <td>NaN</td>\n",
              "      <td>NaN</td>\n",
              "      <td>NaN</td>\n",
              "      <td>NaN</td>\n",
              "      <td>1</td>\n",
              "    </tr>\n",
              "    <tr>\n",
              "      <th>2</th>\n",
              "      <td>node audit coordinator</td>\n",
              "      <td>Austin TX, US,</td>\n",
              "      <td>701 UNIT COMPLIANCE</td>\n",
              "      <td>Description SUMMARY: The Client Audit Coordina...</td>\n",
              "      <td>High school diploma or equivalent; Bachelor's ...</td>\n",
              "      <td>we offer a competitive and comprehensive compa...</td>\n",
              "      <td>NaN</td>\n",
              "      <td>NaN</td>\n",
              "      <td>Bachelor's Degree</td>\n",
              "      <td>financial assistance</td>\n",
              "      <td>Other</td>\n",
              "      <td>NaN</td>\n",
              "      <td>NaN</td>\n",
              "      <td>NaN</td>\n",
              "      <td>NaN</td>\n",
              "      <td>1</td>\n",
              "    </tr>\n",
              "    <tr>\n",
              "      <th>3</th>\n",
              "      <td>client Audit Coordinator</td>\n",
              "      <td>US, TX, capital of texas</td>\n",
              "      <td>compliance package 10</td>\n",
              "      <td>Description SUMMARY: The Client Audit Coordina...</td>\n",
              "      <td>High school diploma or equivalent; Bachelor's ...</td>\n",
              "      <td>we offer a competitive and comprehensive range...</td>\n",
              "      <td>NaN</td>\n",
              "      <td>NaN</td>\n",
              "      <td>High School or equivalent</td>\n",
              "      <td>fiscal Financial Services</td>\n",
              "      <td>Engineering</td>\n",
              "      <td>NaN</td>\n",
              "      <td>NaN</td>\n",
              "      <td>NaN</td>\n",
              "      <td>NaN</td>\n",
              "      <td>1</td>\n",
              "    </tr>\n",
              "    <tr>\n",
              "      <th>4</th>\n",
              "      <td>Client scrutinize Coordinator</td>\n",
              "      <td>US, TX, Austin</td>\n",
              "      <td>COMPLIANCE UNIT compliance 701</td>\n",
              "      <td>Description SUMMARY: The Client Audit Coordina...</td>\n",
              "      <td>High school diploma or equivalent; Bachelor's ...</td>\n",
              "      <td>We offer in competitive and evaluation typical...</td>\n",
              "      <td>NaN</td>\n",
              "      <td>Entry level</td>\n",
              "      <td>NaN</td>\n",
              "      <td>financial services</td>\n",
              "      <td>NaN</td>\n",
              "      <td>NaN</td>\n",
              "      <td>NaN</td>\n",
              "      <td>NaN</td>\n",
              "      <td>NaN</td>\n",
              "      <td>1</td>\n",
              "    </tr>\n",
              "  </tbody>\n",
              "</table>\n",
              "</div>\n",
              "      <button class=\"colab-df-convert\" onclick=\"convertToInteractive('df-7759e6c7-d419-4c44-a909-bc63d419d9aa')\"\n",
              "              title=\"Convert this dataframe to an interactive table.\"\n",
              "              style=\"display:none;\">\n",
              "        \n",
              "  <svg xmlns=\"http://www.w3.org/2000/svg\" height=\"24px\"viewBox=\"0 0 24 24\"\n",
              "       width=\"24px\">\n",
              "    <path d=\"M0 0h24v24H0V0z\" fill=\"none\"/>\n",
              "    <path d=\"M18.56 5.44l.94 2.06.94-2.06 2.06-.94-2.06-.94-.94-2.06-.94 2.06-2.06.94zm-11 1L8.5 8.5l.94-2.06 2.06-.94-2.06-.94L8.5 2.5l-.94 2.06-2.06.94zm10 10l.94 2.06.94-2.06 2.06-.94-2.06-.94-.94-2.06-.94 2.06-2.06.94z\"/><path d=\"M17.41 7.96l-1.37-1.37c-.4-.4-.92-.59-1.43-.59-.52 0-1.04.2-1.43.59L10.3 9.45l-7.72 7.72c-.78.78-.78 2.05 0 2.83L4 21.41c.39.39.9.59 1.41.59.51 0 1.02-.2 1.41-.59l7.78-7.78 2.81-2.81c.8-.78.8-2.07 0-2.86zM5.41 20L4 18.59l7.72-7.72 1.47 1.35L5.41 20z\"/>\n",
              "  </svg>\n",
              "      </button>\n",
              "      \n",
              "  <style>\n",
              "    .colab-df-container {\n",
              "      display:flex;\n",
              "      flex-wrap:wrap;\n",
              "      gap: 12px;\n",
              "    }\n",
              "\n",
              "    .colab-df-convert {\n",
              "      background-color: #E8F0FE;\n",
              "      border: none;\n",
              "      border-radius: 50%;\n",
              "      cursor: pointer;\n",
              "      display: none;\n",
              "      fill: #1967D2;\n",
              "      height: 32px;\n",
              "      padding: 0 0 0 0;\n",
              "      width: 32px;\n",
              "    }\n",
              "\n",
              "    .colab-df-convert:hover {\n",
              "      background-color: #E2EBFA;\n",
              "      box-shadow: 0px 1px 2px rgba(60, 64, 67, 0.3), 0px 1px 3px 1px rgba(60, 64, 67, 0.15);\n",
              "      fill: #174EA6;\n",
              "    }\n",
              "\n",
              "    [theme=dark] .colab-df-convert {\n",
              "      background-color: #3B4455;\n",
              "      fill: #D2E3FC;\n",
              "    }\n",
              "\n",
              "    [theme=dark] .colab-df-convert:hover {\n",
              "      background-color: #434B5C;\n",
              "      box-shadow: 0px 1px 3px 1px rgba(0, 0, 0, 0.15);\n",
              "      filter: drop-shadow(0px 1px 2px rgba(0, 0, 0, 0.3));\n",
              "      fill: #FFFFFF;\n",
              "    }\n",
              "  </style>\n",
              "\n",
              "      <script>\n",
              "        const buttonEl =\n",
              "          document.querySelector('#df-7759e6c7-d419-4c44-a909-bc63d419d9aa button.colab-df-convert');\n",
              "        buttonEl.style.display =\n",
              "          google.colab.kernel.accessAllowed ? 'block' : 'none';\n",
              "\n",
              "        async function convertToInteractive(key) {\n",
              "          const element = document.querySelector('#df-7759e6c7-d419-4c44-a909-bc63d419d9aa');\n",
              "          const dataTable =\n",
              "            await google.colab.kernel.invokeFunction('convertToInteractive',\n",
              "                                                     [key], {});\n",
              "          if (!dataTable) return;\n",
              "\n",
              "          const docLinkHtml = 'Like what you see? Visit the ' +\n",
              "            '<a target=\"_blank\" href=https://colab.research.google.com/notebooks/data_table.ipynb>data table notebook</a>'\n",
              "            + ' to learn more about interactive tables.';\n",
              "          element.innerHTML = '';\n",
              "          dataTable['output_type'] = 'display_data';\n",
              "          await google.colab.output.renderOutput(dataTable, element);\n",
              "          const docLink = document.createElement('div');\n",
              "          docLink.innerHTML = docLinkHtml;\n",
              "          element.appendChild(docLink);\n",
              "        }\n",
              "      </script>\n",
              "    </div>\n",
              "  </div>\n",
              "  "
            ]
          },
          "metadata": {},
          "execution_count": 5
        }
      ],
      "source": [
        "df = pd.read_csv(\"train.csv\")\n",
        "df = df.drop([\"Unnamed: 0\"],axis=1)\n",
        "\n",
        "# df_aug = pd.read_csv(\"augmented.csv\", sep='\\t')\n",
        "df_aug = pd.read_csv(\"augmented-all.csv\", sep='\\t')\n",
        "df_aug['fraudulent'] = np.ones(len(df_aug), dtype=int)\n",
        "df_aug = df_aug.replace(\" \",np.nan)\n",
        "\n",
        "df_val = pd.read_csv(\"dev.csv\")\n",
        "df_val = df_val.drop([\"Unnamed: 0\"],axis=1)\n",
        "\n",
        "for df_column in df.columns:\n",
        "    if df_column not in df_aug.columns:\n",
        "        print(\"Dropped:\", df_column)\n",
        "        df = df.drop([df_column],axis=1)\n",
        "        df_val = df_val.drop([df_column],axis=1)\n",
        "\n",
        "df_aug.head()"
      ],
      "id": "7faa94a2"
    },
    {
      "cell_type": "markdown",
      "metadata": {
        "id": "4eec215e"
      },
      "source": [
        "#### Missing Values"
      ],
      "id": "4eec215e"
    },
    {
      "cell_type": "code",
      "execution_count": 6,
      "metadata": {
        "id": "bb0d1a21"
      },
      "outputs": [],
      "source": [
        "df_fake = df.loc[df[\"fraudulent\"]==1]\n",
        "df_true = df.loc[df[\"fraudulent\"]==0]"
      ],
      "id": "bb0d1a21"
    },
    {
      "cell_type": "code",
      "execution_count": 7,
      "metadata": {
        "id": "c7e66c18"
      },
      "outputs": [],
      "source": [
        "def getNaNRatio(dataframes, column_names):\n",
        "    nan_df = pd.DataFrame({\n",
        "        'features': [column for column in sorted(dataframes[0].columns)]\n",
        "    })\n",
        "    for i in range(len(column_names)):\n",
        "        dataframe = dataframes[i]\n",
        "        rows = len(dataframe)\n",
        "        nan_df[column_names[i]] = [round(dataframe[column].isna().sum()/rows, 20) for column in sorted(dataframe.columns)]\n",
        "\n",
        "    return nan_df"
      ],
      "id": "c7e66c18"
    },
    {
      "cell_type": "code",
      "execution_count": 8,
      "metadata": {
        "colab": {
          "base_uri": "https://localhost:8080/",
          "height": 551
        },
        "id": "6a94b0d4",
        "outputId": "4b3f5974-0f3d-4215-929c-cfdff83fd5be"
      },
      "outputs": [
        {
          "output_type": "execute_result",
          "data": {
            "text/plain": [
              "               features  Fake data  Fake data augmented  True data\n",
              "0              benefits   0.404402             0.404680   0.401561\n",
              "1            department   0.610729             0.610461   0.645577\n",
              "2           description   0.001376             0.002753   0.000000\n",
              "3       employment_type   0.280605             0.277908   0.191795\n",
              "4            fraudulent   0.000000             0.000000   0.000000\n",
              "5              function   0.385144             0.378114   0.360831\n",
              "6      has_company_logo   0.000000             1.000000   0.000000\n",
              "7         has_questions   0.000000             1.000000   0.000000\n",
              "8              industry   0.317744             0.317275   0.273919\n",
              "9              location   0.019257             0.019270   0.019224\n",
              "10   required_education   0.515818             0.517206   0.452235\n",
              "11  required_experience   0.491059             0.484721   0.392870\n",
              "12         requirements   0.165062             0.165175   0.151506\n",
              "13         salary_range   0.735901             0.940812   0.843927\n",
              "14        telecommuting   0.000000             1.000000   0.000000\n",
              "15                title   0.000000             0.000000   0.000000"
            ],
            "text/html": [
              "\n",
              "  <div id=\"df-9d8ddc55-6edf-4b26-b975-3ec99f392661\">\n",
              "    <div class=\"colab-df-container\">\n",
              "      <div>\n",
              "<style scoped>\n",
              "    .dataframe tbody tr th:only-of-type {\n",
              "        vertical-align: middle;\n",
              "    }\n",
              "\n",
              "    .dataframe tbody tr th {\n",
              "        vertical-align: top;\n",
              "    }\n",
              "\n",
              "    .dataframe thead th {\n",
              "        text-align: right;\n",
              "    }\n",
              "</style>\n",
              "<table border=\"1\" class=\"dataframe\">\n",
              "  <thead>\n",
              "    <tr style=\"text-align: right;\">\n",
              "      <th></th>\n",
              "      <th>features</th>\n",
              "      <th>Fake data</th>\n",
              "      <th>Fake data augmented</th>\n",
              "      <th>True data</th>\n",
              "    </tr>\n",
              "  </thead>\n",
              "  <tbody>\n",
              "    <tr>\n",
              "      <th>0</th>\n",
              "      <td>benefits</td>\n",
              "      <td>0.404402</td>\n",
              "      <td>0.404680</td>\n",
              "      <td>0.401561</td>\n",
              "    </tr>\n",
              "    <tr>\n",
              "      <th>1</th>\n",
              "      <td>department</td>\n",
              "      <td>0.610729</td>\n",
              "      <td>0.610461</td>\n",
              "      <td>0.645577</td>\n",
              "    </tr>\n",
              "    <tr>\n",
              "      <th>2</th>\n",
              "      <td>description</td>\n",
              "      <td>0.001376</td>\n",
              "      <td>0.002753</td>\n",
              "      <td>0.000000</td>\n",
              "    </tr>\n",
              "    <tr>\n",
              "      <th>3</th>\n",
              "      <td>employment_type</td>\n",
              "      <td>0.280605</td>\n",
              "      <td>0.277908</td>\n",
              "      <td>0.191795</td>\n",
              "    </tr>\n",
              "    <tr>\n",
              "      <th>4</th>\n",
              "      <td>fraudulent</td>\n",
              "      <td>0.000000</td>\n",
              "      <td>0.000000</td>\n",
              "      <td>0.000000</td>\n",
              "    </tr>\n",
              "    <tr>\n",
              "      <th>5</th>\n",
              "      <td>function</td>\n",
              "      <td>0.385144</td>\n",
              "      <td>0.378114</td>\n",
              "      <td>0.360831</td>\n",
              "    </tr>\n",
              "    <tr>\n",
              "      <th>6</th>\n",
              "      <td>has_company_logo</td>\n",
              "      <td>0.000000</td>\n",
              "      <td>1.000000</td>\n",
              "      <td>0.000000</td>\n",
              "    </tr>\n",
              "    <tr>\n",
              "      <th>7</th>\n",
              "      <td>has_questions</td>\n",
              "      <td>0.000000</td>\n",
              "      <td>1.000000</td>\n",
              "      <td>0.000000</td>\n",
              "    </tr>\n",
              "    <tr>\n",
              "      <th>8</th>\n",
              "      <td>industry</td>\n",
              "      <td>0.317744</td>\n",
              "      <td>0.317275</td>\n",
              "      <td>0.273919</td>\n",
              "    </tr>\n",
              "    <tr>\n",
              "      <th>9</th>\n",
              "      <td>location</td>\n",
              "      <td>0.019257</td>\n",
              "      <td>0.019270</td>\n",
              "      <td>0.019224</td>\n",
              "    </tr>\n",
              "    <tr>\n",
              "      <th>10</th>\n",
              "      <td>required_education</td>\n",
              "      <td>0.515818</td>\n",
              "      <td>0.517206</td>\n",
              "      <td>0.452235</td>\n",
              "    </tr>\n",
              "    <tr>\n",
              "      <th>11</th>\n",
              "      <td>required_experience</td>\n",
              "      <td>0.491059</td>\n",
              "      <td>0.484721</td>\n",
              "      <td>0.392870</td>\n",
              "    </tr>\n",
              "    <tr>\n",
              "      <th>12</th>\n",
              "      <td>requirements</td>\n",
              "      <td>0.165062</td>\n",
              "      <td>0.165175</td>\n",
              "      <td>0.151506</td>\n",
              "    </tr>\n",
              "    <tr>\n",
              "      <th>13</th>\n",
              "      <td>salary_range</td>\n",
              "      <td>0.735901</td>\n",
              "      <td>0.940812</td>\n",
              "      <td>0.843927</td>\n",
              "    </tr>\n",
              "    <tr>\n",
              "      <th>14</th>\n",
              "      <td>telecommuting</td>\n",
              "      <td>0.000000</td>\n",
              "      <td>1.000000</td>\n",
              "      <td>0.000000</td>\n",
              "    </tr>\n",
              "    <tr>\n",
              "      <th>15</th>\n",
              "      <td>title</td>\n",
              "      <td>0.000000</td>\n",
              "      <td>0.000000</td>\n",
              "      <td>0.000000</td>\n",
              "    </tr>\n",
              "  </tbody>\n",
              "</table>\n",
              "</div>\n",
              "      <button class=\"colab-df-convert\" onclick=\"convertToInteractive('df-9d8ddc55-6edf-4b26-b975-3ec99f392661')\"\n",
              "              title=\"Convert this dataframe to an interactive table.\"\n",
              "              style=\"display:none;\">\n",
              "        \n",
              "  <svg xmlns=\"http://www.w3.org/2000/svg\" height=\"24px\"viewBox=\"0 0 24 24\"\n",
              "       width=\"24px\">\n",
              "    <path d=\"M0 0h24v24H0V0z\" fill=\"none\"/>\n",
              "    <path d=\"M18.56 5.44l.94 2.06.94-2.06 2.06-.94-2.06-.94-.94-2.06-.94 2.06-2.06.94zm-11 1L8.5 8.5l.94-2.06 2.06-.94-2.06-.94L8.5 2.5l-.94 2.06-2.06.94zm10 10l.94 2.06.94-2.06 2.06-.94-2.06-.94-.94-2.06-.94 2.06-2.06.94z\"/><path d=\"M17.41 7.96l-1.37-1.37c-.4-.4-.92-.59-1.43-.59-.52 0-1.04.2-1.43.59L10.3 9.45l-7.72 7.72c-.78.78-.78 2.05 0 2.83L4 21.41c.39.39.9.59 1.41.59.51 0 1.02-.2 1.41-.59l7.78-7.78 2.81-2.81c.8-.78.8-2.07 0-2.86zM5.41 20L4 18.59l7.72-7.72 1.47 1.35L5.41 20z\"/>\n",
              "  </svg>\n",
              "      </button>\n",
              "      \n",
              "  <style>\n",
              "    .colab-df-container {\n",
              "      display:flex;\n",
              "      flex-wrap:wrap;\n",
              "      gap: 12px;\n",
              "    }\n",
              "\n",
              "    .colab-df-convert {\n",
              "      background-color: #E8F0FE;\n",
              "      border: none;\n",
              "      border-radius: 50%;\n",
              "      cursor: pointer;\n",
              "      display: none;\n",
              "      fill: #1967D2;\n",
              "      height: 32px;\n",
              "      padding: 0 0 0 0;\n",
              "      width: 32px;\n",
              "    }\n",
              "\n",
              "    .colab-df-convert:hover {\n",
              "      background-color: #E2EBFA;\n",
              "      box-shadow: 0px 1px 2px rgba(60, 64, 67, 0.3), 0px 1px 3px 1px rgba(60, 64, 67, 0.15);\n",
              "      fill: #174EA6;\n",
              "    }\n",
              "\n",
              "    [theme=dark] .colab-df-convert {\n",
              "      background-color: #3B4455;\n",
              "      fill: #D2E3FC;\n",
              "    }\n",
              "\n",
              "    [theme=dark] .colab-df-convert:hover {\n",
              "      background-color: #434B5C;\n",
              "      box-shadow: 0px 1px 3px 1px rgba(0, 0, 0, 0.15);\n",
              "      filter: drop-shadow(0px 1px 2px rgba(0, 0, 0, 0.3));\n",
              "      fill: #FFFFFF;\n",
              "    }\n",
              "  </style>\n",
              "\n",
              "      <script>\n",
              "        const buttonEl =\n",
              "          document.querySelector('#df-9d8ddc55-6edf-4b26-b975-3ec99f392661 button.colab-df-convert');\n",
              "        buttonEl.style.display =\n",
              "          google.colab.kernel.accessAllowed ? 'block' : 'none';\n",
              "\n",
              "        async function convertToInteractive(key) {\n",
              "          const element = document.querySelector('#df-9d8ddc55-6edf-4b26-b975-3ec99f392661');\n",
              "          const dataTable =\n",
              "            await google.colab.kernel.invokeFunction('convertToInteractive',\n",
              "                                                     [key], {});\n",
              "          if (!dataTable) return;\n",
              "\n",
              "          const docLinkHtml = 'Like what you see? Visit the ' +\n",
              "            '<a target=\"_blank\" href=https://colab.research.google.com/notebooks/data_table.ipynb>data table notebook</a>'\n",
              "            + ' to learn more about interactive tables.';\n",
              "          element.innerHTML = '';\n",
              "          dataTable['output_type'] = 'display_data';\n",
              "          await google.colab.output.renderOutput(dataTable, element);\n",
              "          const docLink = document.createElement('div');\n",
              "          docLink.innerHTML = docLinkHtml;\n",
              "          element.appendChild(docLink);\n",
              "        }\n",
              "      </script>\n",
              "    </div>\n",
              "  </div>\n",
              "  "
            ]
          },
          "metadata": {},
          "execution_count": 8
        }
      ],
      "source": [
        "getNaNRatio([df_fake, df_aug, df_true], ['Fake data', 'Fake data augmented', 'True data'])"
      ],
      "id": "6a94b0d4"
    },
    {
      "cell_type": "markdown",
      "metadata": {
        "id": "64814e3b"
      },
      "source": [
        "#### Correlation (features with binary value)"
      ],
      "id": "64814e3b"
    },
    {
      "cell_type": "code",
      "execution_count": 9,
      "metadata": {
        "colab": {
          "base_uri": "https://localhost:8080/",
          "height": 0
        },
        "id": "7462e621",
        "outputId": "9a02a5b3-3d77-4c51-869b-c9891bd0ecf5"
      },
      "outputs": [
        {
          "output_type": "execute_result",
          "data": {
            "text/plain": [
              "               telecommuting  fraudulent\n",
              "telecommuting        1.00000     0.03296\n",
              "fraudulent           0.03296     1.00000"
            ],
            "text/html": [
              "\n",
              "  <div id=\"df-c1894d90-15a4-47c2-b086-df4b0430473f\">\n",
              "    <div class=\"colab-df-container\">\n",
              "      <div>\n",
              "<style scoped>\n",
              "    .dataframe tbody tr th:only-of-type {\n",
              "        vertical-align: middle;\n",
              "    }\n",
              "\n",
              "    .dataframe tbody tr th {\n",
              "        vertical-align: top;\n",
              "    }\n",
              "\n",
              "    .dataframe thead th {\n",
              "        text-align: right;\n",
              "    }\n",
              "</style>\n",
              "<table border=\"1\" class=\"dataframe\">\n",
              "  <thead>\n",
              "    <tr style=\"text-align: right;\">\n",
              "      <th></th>\n",
              "      <th>telecommuting</th>\n",
              "      <th>fraudulent</th>\n",
              "    </tr>\n",
              "  </thead>\n",
              "  <tbody>\n",
              "    <tr>\n",
              "      <th>telecommuting</th>\n",
              "      <td>1.00000</td>\n",
              "      <td>0.03296</td>\n",
              "    </tr>\n",
              "    <tr>\n",
              "      <th>fraudulent</th>\n",
              "      <td>0.03296</td>\n",
              "      <td>1.00000</td>\n",
              "    </tr>\n",
              "  </tbody>\n",
              "</table>\n",
              "</div>\n",
              "      <button class=\"colab-df-convert\" onclick=\"convertToInteractive('df-c1894d90-15a4-47c2-b086-df4b0430473f')\"\n",
              "              title=\"Convert this dataframe to an interactive table.\"\n",
              "              style=\"display:none;\">\n",
              "        \n",
              "  <svg xmlns=\"http://www.w3.org/2000/svg\" height=\"24px\"viewBox=\"0 0 24 24\"\n",
              "       width=\"24px\">\n",
              "    <path d=\"M0 0h24v24H0V0z\" fill=\"none\"/>\n",
              "    <path d=\"M18.56 5.44l.94 2.06.94-2.06 2.06-.94-2.06-.94-.94-2.06-.94 2.06-2.06.94zm-11 1L8.5 8.5l.94-2.06 2.06-.94-2.06-.94L8.5 2.5l-.94 2.06-2.06.94zm10 10l.94 2.06.94-2.06 2.06-.94-2.06-.94-.94-2.06-.94 2.06-2.06.94z\"/><path d=\"M17.41 7.96l-1.37-1.37c-.4-.4-.92-.59-1.43-.59-.52 0-1.04.2-1.43.59L10.3 9.45l-7.72 7.72c-.78.78-.78 2.05 0 2.83L4 21.41c.39.39.9.59 1.41.59.51 0 1.02-.2 1.41-.59l7.78-7.78 2.81-2.81c.8-.78.8-2.07 0-2.86zM5.41 20L4 18.59l7.72-7.72 1.47 1.35L5.41 20z\"/>\n",
              "  </svg>\n",
              "      </button>\n",
              "      \n",
              "  <style>\n",
              "    .colab-df-container {\n",
              "      display:flex;\n",
              "      flex-wrap:wrap;\n",
              "      gap: 12px;\n",
              "    }\n",
              "\n",
              "    .colab-df-convert {\n",
              "      background-color: #E8F0FE;\n",
              "      border: none;\n",
              "      border-radius: 50%;\n",
              "      cursor: pointer;\n",
              "      display: none;\n",
              "      fill: #1967D2;\n",
              "      height: 32px;\n",
              "      padding: 0 0 0 0;\n",
              "      width: 32px;\n",
              "    }\n",
              "\n",
              "    .colab-df-convert:hover {\n",
              "      background-color: #E2EBFA;\n",
              "      box-shadow: 0px 1px 2px rgba(60, 64, 67, 0.3), 0px 1px 3px 1px rgba(60, 64, 67, 0.15);\n",
              "      fill: #174EA6;\n",
              "    }\n",
              "\n",
              "    [theme=dark] .colab-df-convert {\n",
              "      background-color: #3B4455;\n",
              "      fill: #D2E3FC;\n",
              "    }\n",
              "\n",
              "    [theme=dark] .colab-df-convert:hover {\n",
              "      background-color: #434B5C;\n",
              "      box-shadow: 0px 1px 3px 1px rgba(0, 0, 0, 0.15);\n",
              "      filter: drop-shadow(0px 1px 2px rgba(0, 0, 0, 0.3));\n",
              "      fill: #FFFFFF;\n",
              "    }\n",
              "  </style>\n",
              "\n",
              "      <script>\n",
              "        const buttonEl =\n",
              "          document.querySelector('#df-c1894d90-15a4-47c2-b086-df4b0430473f button.colab-df-convert');\n",
              "        buttonEl.style.display =\n",
              "          google.colab.kernel.accessAllowed ? 'block' : 'none';\n",
              "\n",
              "        async function convertToInteractive(key) {\n",
              "          const element = document.querySelector('#df-c1894d90-15a4-47c2-b086-df4b0430473f');\n",
              "          const dataTable =\n",
              "            await google.colab.kernel.invokeFunction('convertToInteractive',\n",
              "                                                     [key], {});\n",
              "          if (!dataTable) return;\n",
              "\n",
              "          const docLinkHtml = 'Like what you see? Visit the ' +\n",
              "            '<a target=\"_blank\" href=https://colab.research.google.com/notebooks/data_table.ipynb>data table notebook</a>'\n",
              "            + ' to learn more about interactive tables.';\n",
              "          element.innerHTML = '';\n",
              "          dataTable['output_type'] = 'display_data';\n",
              "          await google.colab.output.renderOutput(dataTable, element);\n",
              "          const docLink = document.createElement('div');\n",
              "          docLink.innerHTML = docLinkHtml;\n",
              "          element.appendChild(docLink);\n",
              "        }\n",
              "      </script>\n",
              "    </div>\n",
              "  </div>\n",
              "  "
            ]
          },
          "metadata": {},
          "execution_count": 9
        }
      ],
      "source": [
        "# Correlation\n",
        "df[[\"telecommuting\",\"fraudulent\"]].corr()"
      ],
      "id": "7462e621"
    },
    {
      "cell_type": "code",
      "execution_count": 10,
      "metadata": {
        "colab": {
          "base_uri": "https://localhost:8080/",
          "height": 0
        },
        "id": "9ef053ee",
        "outputId": "d93db4b5-8a32-4868-a8ba-5610134f628d"
      },
      "outputs": [
        {
          "output_type": "execute_result",
          "data": {
            "text/plain": [
              "                  has_company_logo  fraudulent\n",
              "has_company_logo          1.000000   -0.264599\n",
              "fraudulent               -0.264599    1.000000"
            ],
            "text/html": [
              "\n",
              "  <div id=\"df-ffbc00c8-7bfb-42b7-b5a1-ebaba8821fdb\">\n",
              "    <div class=\"colab-df-container\">\n",
              "      <div>\n",
              "<style scoped>\n",
              "    .dataframe tbody tr th:only-of-type {\n",
              "        vertical-align: middle;\n",
              "    }\n",
              "\n",
              "    .dataframe tbody tr th {\n",
              "        vertical-align: top;\n",
              "    }\n",
              "\n",
              "    .dataframe thead th {\n",
              "        text-align: right;\n",
              "    }\n",
              "</style>\n",
              "<table border=\"1\" class=\"dataframe\">\n",
              "  <thead>\n",
              "    <tr style=\"text-align: right;\">\n",
              "      <th></th>\n",
              "      <th>has_company_logo</th>\n",
              "      <th>fraudulent</th>\n",
              "    </tr>\n",
              "  </thead>\n",
              "  <tbody>\n",
              "    <tr>\n",
              "      <th>has_company_logo</th>\n",
              "      <td>1.000000</td>\n",
              "      <td>-0.264599</td>\n",
              "    </tr>\n",
              "    <tr>\n",
              "      <th>fraudulent</th>\n",
              "      <td>-0.264599</td>\n",
              "      <td>1.000000</td>\n",
              "    </tr>\n",
              "  </tbody>\n",
              "</table>\n",
              "</div>\n",
              "      <button class=\"colab-df-convert\" onclick=\"convertToInteractive('df-ffbc00c8-7bfb-42b7-b5a1-ebaba8821fdb')\"\n",
              "              title=\"Convert this dataframe to an interactive table.\"\n",
              "              style=\"display:none;\">\n",
              "        \n",
              "  <svg xmlns=\"http://www.w3.org/2000/svg\" height=\"24px\"viewBox=\"0 0 24 24\"\n",
              "       width=\"24px\">\n",
              "    <path d=\"M0 0h24v24H0V0z\" fill=\"none\"/>\n",
              "    <path d=\"M18.56 5.44l.94 2.06.94-2.06 2.06-.94-2.06-.94-.94-2.06-.94 2.06-2.06.94zm-11 1L8.5 8.5l.94-2.06 2.06-.94-2.06-.94L8.5 2.5l-.94 2.06-2.06.94zm10 10l.94 2.06.94-2.06 2.06-.94-2.06-.94-.94-2.06-.94 2.06-2.06.94z\"/><path d=\"M17.41 7.96l-1.37-1.37c-.4-.4-.92-.59-1.43-.59-.52 0-1.04.2-1.43.59L10.3 9.45l-7.72 7.72c-.78.78-.78 2.05 0 2.83L4 21.41c.39.39.9.59 1.41.59.51 0 1.02-.2 1.41-.59l7.78-7.78 2.81-2.81c.8-.78.8-2.07 0-2.86zM5.41 20L4 18.59l7.72-7.72 1.47 1.35L5.41 20z\"/>\n",
              "  </svg>\n",
              "      </button>\n",
              "      \n",
              "  <style>\n",
              "    .colab-df-container {\n",
              "      display:flex;\n",
              "      flex-wrap:wrap;\n",
              "      gap: 12px;\n",
              "    }\n",
              "\n",
              "    .colab-df-convert {\n",
              "      background-color: #E8F0FE;\n",
              "      border: none;\n",
              "      border-radius: 50%;\n",
              "      cursor: pointer;\n",
              "      display: none;\n",
              "      fill: #1967D2;\n",
              "      height: 32px;\n",
              "      padding: 0 0 0 0;\n",
              "      width: 32px;\n",
              "    }\n",
              "\n",
              "    .colab-df-convert:hover {\n",
              "      background-color: #E2EBFA;\n",
              "      box-shadow: 0px 1px 2px rgba(60, 64, 67, 0.3), 0px 1px 3px 1px rgba(60, 64, 67, 0.15);\n",
              "      fill: #174EA6;\n",
              "    }\n",
              "\n",
              "    [theme=dark] .colab-df-convert {\n",
              "      background-color: #3B4455;\n",
              "      fill: #D2E3FC;\n",
              "    }\n",
              "\n",
              "    [theme=dark] .colab-df-convert:hover {\n",
              "      background-color: #434B5C;\n",
              "      box-shadow: 0px 1px 3px 1px rgba(0, 0, 0, 0.15);\n",
              "      filter: drop-shadow(0px 1px 2px rgba(0, 0, 0, 0.3));\n",
              "      fill: #FFFFFF;\n",
              "    }\n",
              "  </style>\n",
              "\n",
              "      <script>\n",
              "        const buttonEl =\n",
              "          document.querySelector('#df-ffbc00c8-7bfb-42b7-b5a1-ebaba8821fdb button.colab-df-convert');\n",
              "        buttonEl.style.display =\n",
              "          google.colab.kernel.accessAllowed ? 'block' : 'none';\n",
              "\n",
              "        async function convertToInteractive(key) {\n",
              "          const element = document.querySelector('#df-ffbc00c8-7bfb-42b7-b5a1-ebaba8821fdb');\n",
              "          const dataTable =\n",
              "            await google.colab.kernel.invokeFunction('convertToInteractive',\n",
              "                                                     [key], {});\n",
              "          if (!dataTable) return;\n",
              "\n",
              "          const docLinkHtml = 'Like what you see? Visit the ' +\n",
              "            '<a target=\"_blank\" href=https://colab.research.google.com/notebooks/data_table.ipynb>data table notebook</a>'\n",
              "            + ' to learn more about interactive tables.';\n",
              "          element.innerHTML = '';\n",
              "          dataTable['output_type'] = 'display_data';\n",
              "          await google.colab.output.renderOutput(dataTable, element);\n",
              "          const docLink = document.createElement('div');\n",
              "          docLink.innerHTML = docLinkHtml;\n",
              "          element.appendChild(docLink);\n",
              "        }\n",
              "      </script>\n",
              "    </div>\n",
              "  </div>\n",
              "  "
            ]
          },
          "metadata": {},
          "execution_count": 10
        }
      ],
      "source": [
        "df[[\"has_company_logo\",\"fraudulent\"]].corr()"
      ],
      "id": "9ef053ee"
    },
    {
      "cell_type": "markdown",
      "metadata": {
        "id": "6d1c14b9"
      },
      "source": [
        "-0.26 is significant correlation for keeping this feature"
      ],
      "id": "6d1c14b9"
    },
    {
      "cell_type": "code",
      "execution_count": 11,
      "metadata": {
        "colab": {
          "base_uri": "https://localhost:8080/",
          "height": 0
        },
        "id": "46930490",
        "outputId": "56fcc802-4ade-40c4-9fb3-7a82d919a935"
      },
      "outputs": [
        {
          "output_type": "execute_result",
          "data": {
            "text/plain": [
              "               has_questions  fraudulent\n",
              "has_questions       1.000000   -0.092613\n",
              "fraudulent         -0.092613    1.000000"
            ],
            "text/html": [
              "\n",
              "  <div id=\"df-88abb9a9-143b-46e8-9f88-38083edb1317\">\n",
              "    <div class=\"colab-df-container\">\n",
              "      <div>\n",
              "<style scoped>\n",
              "    .dataframe tbody tr th:only-of-type {\n",
              "        vertical-align: middle;\n",
              "    }\n",
              "\n",
              "    .dataframe tbody tr th {\n",
              "        vertical-align: top;\n",
              "    }\n",
              "\n",
              "    .dataframe thead th {\n",
              "        text-align: right;\n",
              "    }\n",
              "</style>\n",
              "<table border=\"1\" class=\"dataframe\">\n",
              "  <thead>\n",
              "    <tr style=\"text-align: right;\">\n",
              "      <th></th>\n",
              "      <th>has_questions</th>\n",
              "      <th>fraudulent</th>\n",
              "    </tr>\n",
              "  </thead>\n",
              "  <tbody>\n",
              "    <tr>\n",
              "      <th>has_questions</th>\n",
              "      <td>1.000000</td>\n",
              "      <td>-0.092613</td>\n",
              "    </tr>\n",
              "    <tr>\n",
              "      <th>fraudulent</th>\n",
              "      <td>-0.092613</td>\n",
              "      <td>1.000000</td>\n",
              "    </tr>\n",
              "  </tbody>\n",
              "</table>\n",
              "</div>\n",
              "      <button class=\"colab-df-convert\" onclick=\"convertToInteractive('df-88abb9a9-143b-46e8-9f88-38083edb1317')\"\n",
              "              title=\"Convert this dataframe to an interactive table.\"\n",
              "              style=\"display:none;\">\n",
              "        \n",
              "  <svg xmlns=\"http://www.w3.org/2000/svg\" height=\"24px\"viewBox=\"0 0 24 24\"\n",
              "       width=\"24px\">\n",
              "    <path d=\"M0 0h24v24H0V0z\" fill=\"none\"/>\n",
              "    <path d=\"M18.56 5.44l.94 2.06.94-2.06 2.06-.94-2.06-.94-.94-2.06-.94 2.06-2.06.94zm-11 1L8.5 8.5l.94-2.06 2.06-.94-2.06-.94L8.5 2.5l-.94 2.06-2.06.94zm10 10l.94 2.06.94-2.06 2.06-.94-2.06-.94-.94-2.06-.94 2.06-2.06.94z\"/><path d=\"M17.41 7.96l-1.37-1.37c-.4-.4-.92-.59-1.43-.59-.52 0-1.04.2-1.43.59L10.3 9.45l-7.72 7.72c-.78.78-.78 2.05 0 2.83L4 21.41c.39.39.9.59 1.41.59.51 0 1.02-.2 1.41-.59l7.78-7.78 2.81-2.81c.8-.78.8-2.07 0-2.86zM5.41 20L4 18.59l7.72-7.72 1.47 1.35L5.41 20z\"/>\n",
              "  </svg>\n",
              "      </button>\n",
              "      \n",
              "  <style>\n",
              "    .colab-df-container {\n",
              "      display:flex;\n",
              "      flex-wrap:wrap;\n",
              "      gap: 12px;\n",
              "    }\n",
              "\n",
              "    .colab-df-convert {\n",
              "      background-color: #E8F0FE;\n",
              "      border: none;\n",
              "      border-radius: 50%;\n",
              "      cursor: pointer;\n",
              "      display: none;\n",
              "      fill: #1967D2;\n",
              "      height: 32px;\n",
              "      padding: 0 0 0 0;\n",
              "      width: 32px;\n",
              "    }\n",
              "\n",
              "    .colab-df-convert:hover {\n",
              "      background-color: #E2EBFA;\n",
              "      box-shadow: 0px 1px 2px rgba(60, 64, 67, 0.3), 0px 1px 3px 1px rgba(60, 64, 67, 0.15);\n",
              "      fill: #174EA6;\n",
              "    }\n",
              "\n",
              "    [theme=dark] .colab-df-convert {\n",
              "      background-color: #3B4455;\n",
              "      fill: #D2E3FC;\n",
              "    }\n",
              "\n",
              "    [theme=dark] .colab-df-convert:hover {\n",
              "      background-color: #434B5C;\n",
              "      box-shadow: 0px 1px 3px 1px rgba(0, 0, 0, 0.15);\n",
              "      filter: drop-shadow(0px 1px 2px rgba(0, 0, 0, 0.3));\n",
              "      fill: #FFFFFF;\n",
              "    }\n",
              "  </style>\n",
              "\n",
              "      <script>\n",
              "        const buttonEl =\n",
              "          document.querySelector('#df-88abb9a9-143b-46e8-9f88-38083edb1317 button.colab-df-convert');\n",
              "        buttonEl.style.display =\n",
              "          google.colab.kernel.accessAllowed ? 'block' : 'none';\n",
              "\n",
              "        async function convertToInteractive(key) {\n",
              "          const element = document.querySelector('#df-88abb9a9-143b-46e8-9f88-38083edb1317');\n",
              "          const dataTable =\n",
              "            await google.colab.kernel.invokeFunction('convertToInteractive',\n",
              "                                                     [key], {});\n",
              "          if (!dataTable) return;\n",
              "\n",
              "          const docLinkHtml = 'Like what you see? Visit the ' +\n",
              "            '<a target=\"_blank\" href=https://colab.research.google.com/notebooks/data_table.ipynb>data table notebook</a>'\n",
              "            + ' to learn more about interactive tables.';\n",
              "          element.innerHTML = '';\n",
              "          dataTable['output_type'] = 'display_data';\n",
              "          await google.colab.output.renderOutput(dataTable, element);\n",
              "          const docLink = document.createElement('div');\n",
              "          docLink.innerHTML = docLinkHtml;\n",
              "          element.appendChild(docLink);\n",
              "        }\n",
              "      </script>\n",
              "    </div>\n",
              "  </div>\n",
              "  "
            ]
          },
          "metadata": {},
          "execution_count": 11
        }
      ],
      "source": [
        "df[[\"has_questions\",\"fraudulent\"]].corr()"
      ],
      "id": "46930490"
    },
    {
      "cell_type": "markdown",
      "metadata": {
        "id": "92cd5cb4"
      },
      "source": [
        "# Preprocessing"
      ],
      "id": "92cd5cb4"
    },
    {
      "cell_type": "markdown",
      "metadata": {
        "id": "20de6a1c"
      },
      "source": [
        "## Fill nan"
      ],
      "id": "20de6a1c"
    },
    {
      "cell_type": "code",
      "execution_count": 12,
      "metadata": {
        "id": "c434adc8"
      },
      "outputs": [],
      "source": [
        "df = df.fillna(\"none\")\n",
        "df_aug = df_aug.fillna(\"none\")\n",
        "df_val = df_val.fillna(\"none\")"
      ],
      "id": "c434adc8"
    },
    {
      "cell_type": "markdown",
      "metadata": {
        "id": "h-02yv2_xePb"
      },
      "source": [
        "## Concatenate Train and Augmented datasets"
      ],
      "id": "h-02yv2_xePb"
    },
    {
      "cell_type": "code",
      "execution_count": 13,
      "metadata": {
        "colab": {
          "base_uri": "https://localhost:8080/"
        },
        "id": "WW7IRUTgxdu9",
        "outputId": "8a294dfd-a0b7-4e56-e752-8c087be0d536"
      },
      "outputs": [
        {
          "output_type": "stream",
          "name": "stdout",
          "text": [
            "Train dataset length: 14304\n",
            "Augmented dataset length: 14530\n",
            "Train dataset after concatenation: 28834\n"
          ]
        }
      ],
      "source": [
        "print('Train dataset length:', len(df))\n",
        "print('Augmented dataset length:', len(df_aug))\n",
        "\n",
        "df = pd.concat([df_aug, df])\n",
        "df = shuffle(df)\n",
        "df = df.reset_index()\n",
        "\n",
        "print('Train dataset after concatenation:', len(df))"
      ],
      "id": "WW7IRUTgxdu9"
    },
    {
      "cell_type": "markdown",
      "metadata": {
        "id": "cfe8fafc"
      },
      "source": [
        "## Merge Features"
      ],
      "id": "cfe8fafc"
    },
    {
      "cell_type": "code",
      "execution_count": 14,
      "metadata": {
        "id": "03ddd8a4"
      },
      "outputs": [],
      "source": [
        "def merge(df):\n",
        "    # df = df.assign(merged_features=lambda df: df[\"title\"]+\" \"+df[\"location\"]+\" \"+df[\"department\"]+\n",
        "    #           df[\"employment_type\"]+\" \"+df[\"required_experience\"]+\" \"+df[\"required_education\"]+\" \"+\n",
        "    #            df[\"industry\"]+\" \"+df[\"function\"])\n",
        "    \n",
        "    # df = df.assign(merged_features=lambda df: df[\"description\"])\n",
        "    \n",
        "    df = df.assign(merged_features=lambda df: \n",
        "                   df[\"title\"]+\" \"\n",
        "                   +df[\"location\"]+\" \"\n",
        "                   +df[\"department\"]+\" \"\n",
        "                   +df[\"description\"]+\" \"\n",
        "                  #  +df[\"employment_type\"]+\" \"\n",
        "                  #  +df[\"required_experience\"]+\" \"\n",
        "                  #  +df[\"required_education\"]+\" \"\n",
        "                  #  +df[\"industry\"]+\" \"\n",
        "                  #  +df[\"function\"]+\" \"\n",
        "                  #  +df[\"requirements\"]+\" \"\n",
        "                  #  +df[\"benefits\"]\n",
        "                   )\n",
        "    \n",
        "\n",
        "    return df[[\"merged_features\",\"fraudulent\"]]"
      ],
      "id": "03ddd8a4"
    },
    {
      "cell_type": "code",
      "execution_count": 15,
      "metadata": {
        "colab": {
          "base_uri": "https://localhost:8080/",
          "height": 206
        },
        "id": "3e170413",
        "outputId": "18f71057-2d90-44e1-935d-4f0eda9d6374"
      },
      "outputs": [
        {
          "output_type": "execute_result",
          "data": {
            "text/plain": [
              "                                     merged_features  fraudulent\n",
              "0  Operations Manager US, DC, Washington none DBC...           0\n",
              "1  deputy supervisor US, TX, Houston none Oversee...           1\n",
              "2  Sales Professional- SMB (Full-Time) US, MD, ba...           1\n",
              "3  Regional Sales Manager US, MN, Minneapolis non...           0\n",
              "4  8th Grade Science Teacher US, NY, Albany none ...           0"
            ],
            "text/html": [
              "\n",
              "  <div id=\"df-fb0b7f19-89e9-4b80-ad7f-a8ea4478068d\">\n",
              "    <div class=\"colab-df-container\">\n",
              "      <div>\n",
              "<style scoped>\n",
              "    .dataframe tbody tr th:only-of-type {\n",
              "        vertical-align: middle;\n",
              "    }\n",
              "\n",
              "    .dataframe tbody tr th {\n",
              "        vertical-align: top;\n",
              "    }\n",
              "\n",
              "    .dataframe thead th {\n",
              "        text-align: right;\n",
              "    }\n",
              "</style>\n",
              "<table border=\"1\" class=\"dataframe\">\n",
              "  <thead>\n",
              "    <tr style=\"text-align: right;\">\n",
              "      <th></th>\n",
              "      <th>merged_features</th>\n",
              "      <th>fraudulent</th>\n",
              "    </tr>\n",
              "  </thead>\n",
              "  <tbody>\n",
              "    <tr>\n",
              "      <th>0</th>\n",
              "      <td>Operations Manager US, DC, Washington none DBC...</td>\n",
              "      <td>0</td>\n",
              "    </tr>\n",
              "    <tr>\n",
              "      <th>1</th>\n",
              "      <td>deputy supervisor US, TX, Houston none Oversee...</td>\n",
              "      <td>1</td>\n",
              "    </tr>\n",
              "    <tr>\n",
              "      <th>2</th>\n",
              "      <td>Sales Professional- SMB (Full-Time) US, MD, ba...</td>\n",
              "      <td>1</td>\n",
              "    </tr>\n",
              "    <tr>\n",
              "      <th>3</th>\n",
              "      <td>Regional Sales Manager US, MN, Minneapolis non...</td>\n",
              "      <td>0</td>\n",
              "    </tr>\n",
              "    <tr>\n",
              "      <th>4</th>\n",
              "      <td>8th Grade Science Teacher US, NY, Albany none ...</td>\n",
              "      <td>0</td>\n",
              "    </tr>\n",
              "  </tbody>\n",
              "</table>\n",
              "</div>\n",
              "      <button class=\"colab-df-convert\" onclick=\"convertToInteractive('df-fb0b7f19-89e9-4b80-ad7f-a8ea4478068d')\"\n",
              "              title=\"Convert this dataframe to an interactive table.\"\n",
              "              style=\"display:none;\">\n",
              "        \n",
              "  <svg xmlns=\"http://www.w3.org/2000/svg\" height=\"24px\"viewBox=\"0 0 24 24\"\n",
              "       width=\"24px\">\n",
              "    <path d=\"M0 0h24v24H0V0z\" fill=\"none\"/>\n",
              "    <path d=\"M18.56 5.44l.94 2.06.94-2.06 2.06-.94-2.06-.94-.94-2.06-.94 2.06-2.06.94zm-11 1L8.5 8.5l.94-2.06 2.06-.94-2.06-.94L8.5 2.5l-.94 2.06-2.06.94zm10 10l.94 2.06.94-2.06 2.06-.94-2.06-.94-.94-2.06-.94 2.06-2.06.94z\"/><path d=\"M17.41 7.96l-1.37-1.37c-.4-.4-.92-.59-1.43-.59-.52 0-1.04.2-1.43.59L10.3 9.45l-7.72 7.72c-.78.78-.78 2.05 0 2.83L4 21.41c.39.39.9.59 1.41.59.51 0 1.02-.2 1.41-.59l7.78-7.78 2.81-2.81c.8-.78.8-2.07 0-2.86zM5.41 20L4 18.59l7.72-7.72 1.47 1.35L5.41 20z\"/>\n",
              "  </svg>\n",
              "      </button>\n",
              "      \n",
              "  <style>\n",
              "    .colab-df-container {\n",
              "      display:flex;\n",
              "      flex-wrap:wrap;\n",
              "      gap: 12px;\n",
              "    }\n",
              "\n",
              "    .colab-df-convert {\n",
              "      background-color: #E8F0FE;\n",
              "      border: none;\n",
              "      border-radius: 50%;\n",
              "      cursor: pointer;\n",
              "      display: none;\n",
              "      fill: #1967D2;\n",
              "      height: 32px;\n",
              "      padding: 0 0 0 0;\n",
              "      width: 32px;\n",
              "    }\n",
              "\n",
              "    .colab-df-convert:hover {\n",
              "      background-color: #E2EBFA;\n",
              "      box-shadow: 0px 1px 2px rgba(60, 64, 67, 0.3), 0px 1px 3px 1px rgba(60, 64, 67, 0.15);\n",
              "      fill: #174EA6;\n",
              "    }\n",
              "\n",
              "    [theme=dark] .colab-df-convert {\n",
              "      background-color: #3B4455;\n",
              "      fill: #D2E3FC;\n",
              "    }\n",
              "\n",
              "    [theme=dark] .colab-df-convert:hover {\n",
              "      background-color: #434B5C;\n",
              "      box-shadow: 0px 1px 3px 1px rgba(0, 0, 0, 0.15);\n",
              "      filter: drop-shadow(0px 1px 2px rgba(0, 0, 0, 0.3));\n",
              "      fill: #FFFFFF;\n",
              "    }\n",
              "  </style>\n",
              "\n",
              "      <script>\n",
              "        const buttonEl =\n",
              "          document.querySelector('#df-fb0b7f19-89e9-4b80-ad7f-a8ea4478068d button.colab-df-convert');\n",
              "        buttonEl.style.display =\n",
              "          google.colab.kernel.accessAllowed ? 'block' : 'none';\n",
              "\n",
              "        async function convertToInteractive(key) {\n",
              "          const element = document.querySelector('#df-fb0b7f19-89e9-4b80-ad7f-a8ea4478068d');\n",
              "          const dataTable =\n",
              "            await google.colab.kernel.invokeFunction('convertToInteractive',\n",
              "                                                     [key], {});\n",
              "          if (!dataTable) return;\n",
              "\n",
              "          const docLinkHtml = 'Like what you see? Visit the ' +\n",
              "            '<a target=\"_blank\" href=https://colab.research.google.com/notebooks/data_table.ipynb>data table notebook</a>'\n",
              "            + ' to learn more about interactive tables.';\n",
              "          element.innerHTML = '';\n",
              "          dataTable['output_type'] = 'display_data';\n",
              "          await google.colab.output.renderOutput(dataTable, element);\n",
              "          const docLink = document.createElement('div');\n",
              "          docLink.innerHTML = docLinkHtml;\n",
              "          element.appendChild(docLink);\n",
              "        }\n",
              "      </script>\n",
              "    </div>\n",
              "  </div>\n",
              "  "
            ]
          },
          "metadata": {},
          "execution_count": 15
        }
      ],
      "source": [
        "df_merged = merge(df)\n",
        "df_val_merged = merge(df_val)\n",
        "df_merged.head()"
      ],
      "id": "3e170413"
    },
    {
      "cell_type": "code",
      "execution_count": 16,
      "metadata": {
        "id": "63a07108"
      },
      "outputs": [],
      "source": [
        "features_train = np.array(df_merged[\"merged_features\"])\n",
        "target_train = np.array(df_merged[\"fraudulent\"])\n",
        "\n",
        "features_val = np.array(df_val_merged[\"merged_features\"])\n",
        "target_val = np.array(df_val_merged[\"fraudulent\"])"
      ],
      "id": "63a07108"
    },
    {
      "cell_type": "markdown",
      "source": [
        "## Tokenization"
      ],
      "metadata": {
        "id": "eWjhI5B540FH"
      },
      "id": "eWjhI5B540FH"
    },
    {
      "cell_type": "code",
      "execution_count": 17,
      "metadata": {
        "id": "e3de280f"
      },
      "outputs": [],
      "source": [
        "# Lowercase, removing stop words, punctuation, numbers, stemming\n",
        "\n",
        "# Input -> array of docs\n",
        "def preprocess_texts(texts):\n",
        "    preprocessed = []\n",
        "    # stop_words = stopwords.words('english')\n",
        "    punct=string.punctuation\n",
        "    # stemmer=PorterStemmer()\n",
        "    lemmatizer = WordNetLemmatizer()\n",
        "    \n",
        "    print(\"Preprocessing..\")\n",
        "    for text in tqdm(texts):\n",
        "        words = word_tokenize(text)\n",
        "        words = [''.join([i for i in word if not i.isdigit()]) for word in words] # Removing numbers\n",
        "        # All in one :)\n",
        "        # words = [lemmatizer.lemmatize(word.lower()) for word in words if (word not in stop_words) and (word not in punct)]\n",
        "        words = [lemmatizer.lemmatize(word.lower()) for word in words if word not in punct]\n",
        "        preprocessed.append(words)\n",
        "        \n",
        "    print(\"Done\")\n",
        "    return preprocessed\n",
        "        "
      ],
      "id": "e3de280f"
    },
    {
      "cell_type": "code",
      "execution_count": 18,
      "metadata": {
        "colab": {
          "base_uri": "https://localhost:8080/"
        },
        "id": "bf9c9420",
        "outputId": "13b2311e-dab5-4577-a2e8-80409e206c36"
      },
      "outputs": [
        {
          "output_type": "stream",
          "name": "stdout",
          "text": [
            "Preprocessing..\n"
          ]
        },
        {
          "output_type": "stream",
          "name": "stderr",
          "text": [
            "100%|██████████| 28834/28834 [00:59<00:00, 481.25it/s]\n"
          ]
        },
        {
          "output_type": "stream",
          "name": "stdout",
          "text": [
            "Done\n",
            "Preprocessing..\n"
          ]
        },
        {
          "output_type": "stream",
          "name": "stderr",
          "text": [
            "100%|██████████| 1788/1788 [00:03<00:00, 484.75it/s]"
          ]
        },
        {
          "output_type": "stream",
          "name": "stdout",
          "text": [
            "Done\n"
          ]
        },
        {
          "output_type": "stream",
          "name": "stderr",
          "text": [
            "\n"
          ]
        }
      ],
      "source": [
        "preprocessed_train = preprocess_texts(features_train)\n",
        "preprocessed_val = preprocess_texts(features_val)\n",
        "#print(preprocessed[:3])"
      ],
      "id": "bf9c9420"
    },
    {
      "cell_type": "markdown",
      "metadata": {
        "id": "3711b1bc"
      },
      "source": [
        "## GloVe Embeddings"
      ],
      "id": "3711b1bc"
    },
    {
      "cell_type": "code",
      "execution_count": 19,
      "metadata": {
        "id": "a765f8d8"
      },
      "outputs": [],
      "source": [
        "def texts2embeddings(texts, max_length, em_dim):\n",
        "    zero_vector = np.zeros(em_dim)\n",
        "    embeddings = []\n",
        "    total_words = 0\n",
        "    missing_words = 0\n",
        "    for text in tqdm(texts):\n",
        "        embedded_text = []\n",
        "        for word in text:\n",
        "            total_words += 1\n",
        "            try:\n",
        "                embedded_text.append(glove_vectors[word])\n",
        "            except:\n",
        "                # embedded_text.append(zero_vector)\n",
        "                embedded_text.append(glove_vectors['unk'])\n",
        "                missing_words += 1\n",
        "        embeddings.append(embedded_text)\n",
        "    embeddings = pad_sequences(embeddings, maxlen=max_length, padding='post',value=zero_vector,dtype=\"float32\")\n",
        "    print(\"Missing words:\",missing_words/total_words)\n",
        "    return embeddings"
      ],
      "id": "a765f8d8"
    },
    {
      "cell_type": "code",
      "execution_count": 20,
      "metadata": {
        "colab": {
          "base_uri": "https://localhost:8080/"
        },
        "id": "c51b05fa",
        "outputId": "c67cd5ed-4919-49c9-ca9c-9aa9c0fd9a3f"
      },
      "outputs": [
        {
          "output_type": "stream",
          "name": "stdout",
          "text": [
            "Max length: 1313\n"
          ]
        },
        {
          "output_type": "stream",
          "name": "stderr",
          "text": [
            "100%|██████████| 28834/28834 [00:08<00:00, 3532.24it/s]\n"
          ]
        },
        {
          "output_type": "stream",
          "name": "stdout",
          "text": [
            "Missing words: 0.05046605123429707\n"
          ]
        },
        {
          "output_type": "stream",
          "name": "stderr",
          "text": [
            "100%|██████████| 1788/1788 [00:00<00:00, 3748.92it/s]\n"
          ]
        },
        {
          "output_type": "stream",
          "name": "stdout",
          "text": [
            "Missing words: 0.05543104918272393\n"
          ]
        }
      ],
      "source": [
        "max_input_length = max([len(doc) for doc in preprocessed_train]) \n",
        "print(\"Max length:\", max_input_length)\n",
        "max_input_length=1000\n",
        "\n",
        "embedded_features_train = texts2embeddings(preprocessed_train,max_input_length,embedding_dim)\n",
        "embedded_features_val = texts2embeddings(preprocessed_val,max_input_length,embedding_dim)"
      ],
      "id": "c51b05fa"
    },
    {
      "cell_type": "markdown",
      "metadata": {
        "id": "ecrH3STGUJAm"
      },
      "source": [
        "*Uncomment next cells if session crashes in colab:*"
      ],
      "id": "ecrH3STGUJAm"
    },
    {
      "cell_type": "code",
      "execution_count": 21,
      "metadata": {
        "id": "1WVbRX6-p88S"
      },
      "outputs": [],
      "source": [
        "# with open('embedded_features_train.npy', 'wb') as f:\n",
        "#     np.save(f, embedded_features_train)\n",
        "# with open('embedded_features_val.npy', 'wb') as f:\n",
        "#     np.save(f, embedded_features_val)"
      ],
      "id": "1WVbRX6-p88S"
    },
    {
      "cell_type": "code",
      "execution_count": 22,
      "metadata": {
        "id": "o0j3y_P5rE9B"
      },
      "outputs": [],
      "source": [
        "# with open('embedded_features_train.npy', 'rb') as f:\n",
        "#     embedded_features_train = np.load(f)\n",
        "# with open('embedded_features_val.npy', 'rb') as f:\n",
        "#     embedded_features_val = np.load(f)"
      ],
      "id": "o0j3y_P5rE9B"
    },
    {
      "cell_type": "markdown",
      "source": [
        "# Training the Neural Network"
      ],
      "metadata": {
        "id": "BGm4nwYSu8b6"
      },
      "id": "BGm4nwYSu8b6"
    },
    {
      "cell_type": "code",
      "execution_count": 23,
      "metadata": {
        "colab": {
          "base_uri": "https://localhost:8080/"
        },
        "id": "32cca12d",
        "outputId": "e2a94ce2-c7ac-4d24-f4a9-7ceabbe00194"
      },
      "outputs": [
        {
          "output_type": "stream",
          "name": "stdout",
          "text": [
            "Epoch 1/30\n",
            "902/902 - 114s - loss: 0.3166 - accuracy: 0.8611 - val_loss: 0.2558 - val_accuracy: 0.8898 - 114s/epoch - 126ms/step\n",
            "Epoch 2/30\n",
            "902/902 - 108s - loss: 0.1170 - accuracy: 0.9569 - val_loss: 0.1191 - val_accuracy: 0.9592 - 108s/epoch - 120ms/step\n",
            "Epoch 3/30\n",
            "902/902 - 107s - loss: 0.0770 - accuracy: 0.9716 - val_loss: 0.1321 - val_accuracy: 0.9536 - 107s/epoch - 119ms/step\n",
            "Epoch 4/30\n",
            "902/902 - 108s - loss: 0.0530 - accuracy: 0.9806 - val_loss: 0.1048 - val_accuracy: 0.9754 - 108s/epoch - 119ms/step\n",
            "Epoch 5/30\n",
            "902/902 - 108s - loss: 0.0291 - accuracy: 0.9899 - val_loss: 0.1203 - val_accuracy: 0.9704 - 108s/epoch - 120ms/step\n",
            "Epoch 6/30\n",
            "902/902 - 108s - loss: 0.0249 - accuracy: 0.9918 - val_loss: 0.1413 - val_accuracy: 0.9636 - 108s/epoch - 120ms/step\n",
            "Epoch 7/30\n",
            "902/902 - 108s - loss: 0.0188 - accuracy: 0.9929 - val_loss: 0.1142 - val_accuracy: 0.9709 - 108s/epoch - 120ms/step\n",
            "Epoch 8/30\n",
            "902/902 - 108s - loss: 0.0165 - accuracy: 0.9944 - val_loss: 0.1375 - val_accuracy: 0.9709 - 108s/epoch - 119ms/step\n",
            "Epoch 9/30\n",
            "902/902 - 107s - loss: 0.0219 - accuracy: 0.9928 - val_loss: 0.1398 - val_accuracy: 0.9732 - 107s/epoch - 119ms/step\n",
            "Epoch 10/30\n",
            "902/902 - 106s - loss: 0.0123 - accuracy: 0.9962 - val_loss: 0.1255 - val_accuracy: 0.9754 - 106s/epoch - 118ms/step\n",
            "Epoch 11/30\n",
            "902/902 - 108s - loss: 0.0163 - accuracy: 0.9948 - val_loss: 0.1444 - val_accuracy: 0.9732 - 108s/epoch - 120ms/step\n",
            "Epoch 12/30\n",
            "902/902 - 108s - loss: 0.0097 - accuracy: 0.9969 - val_loss: 0.1765 - val_accuracy: 0.9620 - 108s/epoch - 120ms/step\n",
            "Epoch 13/30\n",
            "902/902 - 108s - loss: 0.0099 - accuracy: 0.9967 - val_loss: 0.1222 - val_accuracy: 0.9776 - 108s/epoch - 120ms/step\n",
            "Epoch 14/30\n",
            "902/902 - 108s - loss: 0.0080 - accuracy: 0.9977 - val_loss: 0.1497 - val_accuracy: 0.9754 - 108s/epoch - 119ms/step\n",
            "Epoch 15/30\n",
            "902/902 - 108s - loss: 0.0082 - accuracy: 0.9974 - val_loss: 0.1445 - val_accuracy: 0.9737 - 108s/epoch - 120ms/step\n",
            "Epoch 16/30\n",
            "902/902 - 108s - loss: 0.0077 - accuracy: 0.9973 - val_loss: 0.1422 - val_accuracy: 0.9765 - 108s/epoch - 119ms/step\n",
            "Epoch 17/30\n",
            "902/902 - 108s - loss: 0.0062 - accuracy: 0.9978 - val_loss: 0.1626 - val_accuracy: 0.9754 - 108s/epoch - 119ms/step\n",
            "Epoch 18/30\n",
            "902/902 - 108s - loss: 0.0059 - accuracy: 0.9984 - val_loss: 0.1790 - val_accuracy: 0.9715 - 108s/epoch - 119ms/step\n",
            "Epoch 19/30\n",
            "902/902 - 108s - loss: 0.0177 - accuracy: 0.9946 - val_loss: 0.1519 - val_accuracy: 0.9760 - 108s/epoch - 120ms/step\n",
            "Epoch 20/30\n",
            "902/902 - 108s - loss: 0.0038 - accuracy: 0.9990 - val_loss: 0.1921 - val_accuracy: 0.9765 - 108s/epoch - 120ms/step\n",
            "Epoch 21/30\n",
            "902/902 - 108s - loss: 0.0063 - accuracy: 0.9980 - val_loss: 0.1692 - val_accuracy: 0.9743 - 108s/epoch - 119ms/step\n",
            "Epoch 22/30\n",
            "902/902 - 108s - loss: 0.0012 - accuracy: 0.9997 - val_loss: 0.2084 - val_accuracy: 0.9776 - 108s/epoch - 119ms/step\n",
            "Epoch 23/30\n",
            "902/902 - 107s - loss: 0.0045 - accuracy: 0.9988 - val_loss: 0.1551 - val_accuracy: 0.9787 - 107s/epoch - 119ms/step\n",
            "Epoch 24/30\n",
            "902/902 - 108s - loss: 9.0010e-04 - accuracy: 0.9997 - val_loss: 0.2041 - val_accuracy: 0.9782 - 108s/epoch - 119ms/step\n",
            "Epoch 25/30\n",
            "902/902 - 107s - loss: 7.5136e-04 - accuracy: 0.9998 - val_loss: 0.2502 - val_accuracy: 0.9782 - 107s/epoch - 119ms/step\n",
            "Epoch 26/30\n",
            "902/902 - 108s - loss: 0.0066 - accuracy: 0.9982 - val_loss: 0.1476 - val_accuracy: 0.9815 - 108s/epoch - 120ms/step\n",
            "Epoch 27/30\n",
            "902/902 - 108s - loss: 0.0039 - accuracy: 0.9989 - val_loss: 0.1608 - val_accuracy: 0.9810 - 108s/epoch - 119ms/step\n",
            "Epoch 28/30\n",
            "902/902 - 108s - loss: 0.0037 - accuracy: 0.9991 - val_loss: 0.1749 - val_accuracy: 0.9776 - 108s/epoch - 119ms/step\n",
            "Epoch 29/30\n",
            "902/902 - 107s - loss: 0.0036 - accuracy: 0.9986 - val_loss: 0.1545 - val_accuracy: 0.9793 - 107s/epoch - 119ms/step\n",
            "Epoch 30/30\n",
            "902/902 - 107s - loss: 0.0018 - accuracy: 0.9994 - val_loss: 0.1787 - val_accuracy: 0.9804 - 107s/epoch - 119ms/step\n"
          ]
        }
      ],
      "source": [
        "from functools import lru_cache\n",
        "# Building model\n",
        "\n",
        "checkpoint_filepath = './checkpoint'\n",
        "model_checkpoint_callback = ModelCheckpoint(\n",
        "    filepath=checkpoint_filepath,\n",
        "    save_weights_only=True,\n",
        "    monitor='val_accuracy',\n",
        "    mode='max',\n",
        "    save_best_only=True)\n",
        "\n",
        "\n",
        "model = Sequential()\n",
        "model.add(Bidirectional(LSTM(300, input_shape=(max_input_length, embedding_dim))))\n",
        "model.add(Dropout(0.2))\n",
        "model.add(Dense(32))\n",
        "model.add(Dropout(0.2))\n",
        "model.add(Dense(16))\n",
        "model.add(Dense(1,activation=\"sigmoid\")) \n",
        "model.compile(loss='binary_crossentropy', optimizer='adam',metrics=[\"accuracy\"])\n",
        "history = model.fit(embedded_features_train, target_train, epochs=30, batch_size=32, verbose=2,\n",
        "                    validation_data=(embedded_features_val,target_val), callbacks=[model_checkpoint_callback])"
      ],
      "id": "32cca12d"
    },
    {
      "cell_type": "code",
      "execution_count": 24,
      "metadata": {
        "id": "f40b68d0",
        "colab": {
          "base_uri": "https://localhost:8080/"
        },
        "outputId": "6008016a-cc25-4979-b7ea-0b5003563b79"
      },
      "outputs": [
        {
          "output_type": "stream",
          "name": "stdout",
          "text": [
            "Baseline: 0.9619686800894854\n"
          ]
        }
      ],
      "source": [
        "print(\"Baseline:\",(1-sum(target_val)/len(target_val)))"
      ],
      "id": "f40b68d0"
    },
    {
      "cell_type": "code",
      "execution_count": 25,
      "metadata": {
        "id": "171f8a3a",
        "colab": {
          "base_uri": "https://localhost:8080/"
        },
        "outputId": "10ea23a7-3172-4eef-bcb1-ea83555294be"
      },
      "outputs": [
        {
          "output_type": "stream",
          "name": "stdout",
          "text": [
            "Max threshold 0.9\n",
            "Accuracy: 0.9848993288590604\n",
            "F1:\n",
            "Micro: 0.9848993288590604\n",
            "Macro: 0.880712522516512\n",
            "Weighted: 0.9837146793554647\n",
            "For fraudulent: 0.7692307692307692\n"
          ]
        }
      ],
      "source": [
        "# The model weights (that are considered the best) are loaded into the model.\n",
        "model.load_weights(checkpoint_filepath)\n",
        "\n",
        "predicted = model.predict(embedded_features_val)\n",
        "max_score = 0\n",
        "max_threshold = None\n",
        "max_threshold_predicted_labels = []\n",
        "\n",
        "# As labels\n",
        "for threshold in np.linspace(0.1, 0.9, 9):\n",
        "    predicted_labels = []\n",
        "    for p in predicted:\n",
        "        if p >= threshold:\n",
        "            predicted_labels.append([1])\n",
        "        else:\n",
        "            predicted_labels.append([0])\n",
        "\n",
        "\n",
        "    f1_binary = f1_score(target_val,predicted_labels,average=\"binary\")\n",
        "    if f1_binary > max_score:\n",
        "        max_threshold = threshold\n",
        "        max_score = f1_binary\n",
        "        max_threshold_predicted_labels = predicted_labels\n",
        "\n",
        "print(\"Max threshold\", max_threshold)\n",
        "print(\"Accuracy:\",accuracy_score(target_val, max_threshold_predicted_labels))\n",
        "print(\"F1:\")\n",
        "print(\"Micro:\",f1_score(target_val,max_threshold_predicted_labels,average=\"micro\"))\n",
        "print(\"Macro:\",f1_score(target_val,max_threshold_predicted_labels,average=\"macro\"))\n",
        "print(\"Weighted:\",f1_score(target_val,max_threshold_predicted_labels,average=\"weighted\"))\n",
        "print(\"For fraudulent:\",f1_score(target_val,max_threshold_predicted_labels,average=\"binary\"))"
      ],
      "id": "171f8a3a"
    },
    {
      "cell_type": "markdown",
      "metadata": {
        "id": "68a06f59"
      },
      "source": [
        "Seems gooood!=)"
      ],
      "id": "68a06f59"
    },
    {
      "cell_type": "code",
      "execution_count": 26,
      "metadata": {
        "id": "97bc138d",
        "colab": {
          "base_uri": "https://localhost:8080/",
          "height": 279
        },
        "outputId": "32f1b4ae-4d77-4923-a0a0-f42cc69beaa4"
      },
      "outputs": [
        {
          "output_type": "display_data",
          "data": {
            "text/plain": [
              "<Figure size 432x288 with 1 Axes>"
            ],
            "image/png": "[encoded data removed]"
          },
          "metadata": {
            "needs_background": "light"
          }
        }
      ],
      "source": [
        "# Presicion / recall curve\n",
        "precision,recall,tresholds = precision_recall_curve(target_val,predicted)\n",
        "\n",
        "plt.plot(tresholds,recall[:-1],label=\"Recall\")\n",
        "plt.plot(tresholds,precision[:-1],label=\"Precision\")\n",
        "plt.xlabel(\"Tresholds\")\n",
        "plt.ylabel(\"Precision/Recall\")\n",
        "plt.legend()\n",
        "plt.show()"
      ],
      "id": "97bc138d"
    },
    {
      "cell_type": "code",
      "execution_count": 27,
      "metadata": {
        "id": "6368efc5",
        "colab": {
          "base_uri": "https://localhost:8080/"
        },
        "outputId": "329133cc-1bda-4889-b8a5-1f78b73e8f6d"
      },
      "outputs": [
        {
          "output_type": "execute_result",
          "data": {
            "text/plain": [
              "(0    1720\n",
              " 1      68\n",
              " Name: fraudulent, dtype: int64, array([49]), array([1739]))"
            ]
          },
          "metadata": {},
          "execution_count": 27
        }
      ],
      "source": [
        "df_val['fraudulent'].value_counts(), sum(predicted >= max_threshold), sum(predicted < max_threshold)"
      ],
      "id": "6368efc5"
    },
    {
      "cell_type": "code",
      "source": [
        "fig, ax = plt.subplots(figsize=(4, 4), dpi=200)\n",
        "ConfusionMatrixDisplay(confusion_matrix=confusion_matrix(target_val, max_threshold_predicted_labels)).plot(cmap='cividis', ax=ax)\n",
        "plt.show()"
      ],
      "metadata": {
        "colab": {
          "base_uri": "https://localhost:8080/",
          "height": 693
        },
        "id": "e7BWApzZsEhd",
        "outputId": "e624b593-652e-49b3-a0f9-62a4692524c6"
      },
      "id": "e7BWApzZsEhd",
      "execution_count": 28,
      "outputs": [
        {
          "output_type": "display_data",
          "data": {
            "text/plain": [
              "<Figure size 800x800 with 2 Axes>"
            ],
            "image/png": "[encoded data removed]"
          },
          "metadata": {
            "needs_background": "light"
          }
        }
      ]
    },
    {
      "cell_type": "markdown",
      "source": [
        "# Training Classical ML Models"
      ],
      "metadata": {
        "id": "jqu4tt8l6jeS"
      },
      "id": "jqu4tt8l6jeS"
    },
    {
      "cell_type": "code",
      "source": [
        ""
      ],
      "metadata": {
        "id": "btEesrE_vAQ4"
      },
      "id": "btEesrE_vAQ4",
      "execution_count": 28,
      "outputs": []
    }
  ],
  "metadata": {
    "accelerator": "GPU",
    "colab": {
      "collapsed_sections": [
        "64814e3b"
      ],
      "machine_shape": "hm",
      "name": "Fake_job_postings.ipynb",
      "provenance": []
    },
    "kernelspec": {
      "display_name": "Python 3",
      "language": "python",
      "name": "python3"
    },
    "language_info": {
      "codemirror_mode": {
        "name": "ipython",
        "version": 3
      },
      "file_extension": ".py",
      "mimetype": "text/x-python",
      "name": "python",
      "nbconvert_exporter": "python",
      "pygments_lexer": "ipython3",
      "version": "3.8.8"
    }
  },
  "nbformat": 4,
  "nbformat_minor": 5
}