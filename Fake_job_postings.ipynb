{
  "cells": [
    {
      "cell_type": "code",
      "execution_count": 31,
      "metadata": {
        "id": "0800ea05"
      },
      "outputs": [],
      "source": [
        "import pandas as pd\n",
        "import numpy as np\n",
        "import gensim\n",
        "import gensim.downloader\n",
        "import matplotlib.pyplot as plt\n",
        "\n",
        "from tqdm import tqdm\n",
        "import tensorflow as tf\n",
        "import string\n",
        "\n",
        "import nltk\n",
        "from nltk.tokenize import word_tokenize\n",
        "from nltk.corpus import stopwords\n",
        "from nltk.stem import PorterStemmer\n",
        "from nltk.stem import WordNetLemmatizer\n",
        " \n",
        "from keras.layers import LSTM, Activation, Dropout, Dense, Input, Bidirectional, GRU\n",
        "from keras.models import Sequential\n",
        "from keras.layers.embeddings import Embedding\n",
        "from keras.models import Model\n",
        "from keras.callbacks import ModelCheckpoint\n",
        "from keras.preprocessing.sequence import pad_sequences\n",
        "\n",
        "from sklearn.model_selection import train_test_split\n",
        "from sklearn.metrics import f1_score, precision_recall_curve, accuracy_score, plot_confusion_matrix, confusion_matrix, ConfusionMatrixDisplay\n",
        "from sklearn.utils import shuffle"
      ],
      "id": "0800ea05"
    },
    {
      "cell_type": "code",
      "execution_count": 2,
      "metadata": {
        "colab": {
          "base_uri": "https://localhost:8080/"
        },
        "id": "65SPuYyEs10_",
        "outputId": "027e5cce-f579-43cc-c75e-5a2cb693e2d4"
      },
      "outputs": [
        {
          "output_type": "stream",
          "name": "stdout",
          "text": [
            "[nltk_data] Downloading package stopwords to /root/nltk_data...\n",
            "[nltk_data]   Unzipping corpora/stopwords.zip.\n",
            "[nltk_data] Downloading package punkt to /root/nltk_data...\n",
            "[nltk_data]   Unzipping tokenizers/punkt.zip.\n",
            "[nltk_data] Downloading package wordnet to /root/nltk_data...\n",
            "[nltk_data]   Unzipping corpora/wordnet.zip.\n"
          ]
        },
        {
          "output_type": "execute_result",
          "data": {
            "text/plain": [
              "True"
            ]
          },
          "metadata": {},
          "execution_count": 2
        }
      ],
      "source": [
        "nltk.download('stopwords')\n",
        "nltk.download('punkt')\n",
        "nltk.download('wordnet')"
      ],
      "id": "65SPuYyEs10_"
    },
    {
      "cell_type": "code",
      "execution_count": 3,
      "metadata": {
        "colab": {
          "base_uri": "https://localhost:8080/"
        },
        "id": "5d5v6siNTU5r",
        "outputId": "cefa9efe-761e-4c9d-af28-c3780ce36253"
      },
      "outputs": [
        {
          "output_type": "stream",
          "name": "stdout",
          "text": [
            "--2022-05-12 14:24:44--  https://raw.githubusercontent.com/KilRil/Fake-job-postings/main/data/dev.csv\n",
            "Resolving raw.githubusercontent.com (raw.githubusercontent.com)... 185.199.108.133, 185.199.109.133, 185.199.110.133, ...\n",
            "Connecting to raw.githubusercontent.com (raw.githubusercontent.com)|185.199.108.133|:443... connected.\n",
            "HTTP request sent, awaiting response... 200 OK\n",
            "Length: 5060506 (4.8M) [text/plain]\n",
            "Saving to: ‘dev.csv’\n",
            "\n",
            "dev.csv             100%[===================>]   4.83M  --.-KB/s    in 0.03s   \n",
            "\n",
            "2022-05-12 14:24:44 (163 MB/s) - ‘dev.csv’ saved [5060506/5060506]\n",
            "\n",
            "--2022-05-12 14:24:45--  https://raw.githubusercontent.com/KilRil/Fake-job-postings/main/data/train.csv\n",
            "Resolving raw.githubusercontent.com (raw.githubusercontent.com)... 185.199.108.133, 185.199.109.133, 185.199.110.133, ...\n",
            "Connecting to raw.githubusercontent.com (raw.githubusercontent.com)|185.199.108.133|:443... connected.\n",
            "HTTP request sent, awaiting response... 200 OK\n",
            "Length: 40062185 (38M) [text/plain]\n",
            "Saving to: ‘train.csv’\n",
            "\n",
            "train.csv           100%[===================>]  38.21M  --.-KB/s    in 0.1s    \n",
            "\n",
            "2022-05-12 14:24:46 (341 MB/s) - ‘train.csv’ saved [40062185/40062185]\n",
            "\n",
            "--2022-05-12 14:24:46--  https://raw.githubusercontent.com/KilRil/Fake-job-postings/main/data/augmented.csv\n",
            "Resolving raw.githubusercontent.com (raw.githubusercontent.com)... 185.199.111.133, 185.199.108.133, 185.199.109.133, ...\n",
            "Connecting to raw.githubusercontent.com (raw.githubusercontent.com)|185.199.111.133|:443... connected.\n",
            "HTTP request sent, awaiting response... 200 OK\n",
            "Length: 7089385 (6.8M) [text/plain]\n",
            "Saving to: ‘augmented.csv’\n",
            "\n",
            "augmented.csv       100%[===================>]   6.76M  --.-KB/s    in 0.04s   \n",
            "\n",
            "2022-05-12 14:24:47 (170 MB/s) - ‘augmented.csv’ saved [7089385/7089385]\n",
            "\n",
            "--2022-05-12 14:24:47--  https://raw.githubusercontent.com/KilRil/Fake-job-postings/main/data/augmented-all.csv\n",
            "Resolving raw.githubusercontent.com (raw.githubusercontent.com)... 185.199.108.133, 185.199.109.133, 185.199.110.133, ...\n",
            "Connecting to raw.githubusercontent.com (raw.githubusercontent.com)|185.199.108.133|:443... connected.\n",
            "HTTP request sent, awaiting response... 200 OK\n",
            "Length: 28353550 (27M) [text/plain]\n",
            "Saving to: ‘augmented-all.csv’\n",
            "\n",
            "augmented-all.csv   100%[===================>]  27.04M  --.-KB/s    in 0.09s   \n",
            "\n",
            "2022-05-12 14:24:48 (303 MB/s) - ‘augmented-all.csv’ saved [28353550/28353550]\n",
            "\n"
          ]
        }
      ],
      "source": [
        "!wget https://raw.githubusercontent.com/KilRil/Fake-job-postings/main/data/dev.csv\n",
        "!wget https://raw.githubusercontent.com/KilRil/Fake-job-postings/main/data/train.csv\n",
        "!wget https://raw.githubusercontent.com/KilRil/Fake-job-postings/main/data/augmented.csv\n",
        "!wget https://raw.githubusercontent.com/KilRil/Fake-job-postings/main/data/augmented-all.csv"
      ],
      "id": "5d5v6siNTU5r"
    },
    {
      "cell_type": "code",
      "execution_count": 4,
      "metadata": {
        "colab": {
          "base_uri": "https://localhost:8080/"
        },
        "id": "16f41b3f",
        "outputId": "1756f2a9-a4af-4f1c-9ae2-ef77b1a9ef28"
      },
      "outputs": [
        {
          "output_type": "stream",
          "name": "stdout",
          "text": [
            "[==================================================] 100.0% 66.0/66.0MB downloaded\n"
          ]
        }
      ],
      "source": [
        "# Download\n",
        "embedding_dim = 50\n",
        "glove_vectors = gensim.downloader.load(f'glove-wiki-gigaword-{embedding_dim}') # 50, 100, 200 or 300"
      ],
      "id": "16f41b3f"
    },
    {
      "cell_type": "markdown",
      "metadata": {
        "id": "9836e28e"
      },
      "source": [
        "# Data exploration"
      ],
      "id": "9836e28e"
    },
    {
      "cell_type": "code",
      "execution_count": 5,
      "metadata": {
        "colab": {
          "base_uri": "https://localhost:8080/",
          "height": 652
        },
        "id": "7faa94a2",
        "outputId": "4bfb0780-fb1d-4991-b513-573c6056d02e"
      },
      "outputs": [
        {
          "output_type": "stream",
          "name": "stdout",
          "text": [
            "Dropped: job_id\n",
            "Dropped: company_profile\n"
          ]
        },
        {
          "output_type": "execute_result",
          "data": {
            "text/plain": [
              "                                  title                  location  \\\n",
              "0  Client Audit coordinator Coordinator            us, tx, austin   \n",
              "1            national audit coordinator                us, ny, ny   \n",
              "2                node audit coordinator            Austin TX, US,   \n",
              "3              client Audit Coordinator  US, TX, capital of texas   \n",
              "4         Client scrutinize Coordinator            US, TX, Austin   \n",
              "\n",
              "                       department  \\\n",
              "0       whole COMPLIANCE UNIT 701   \n",
              "1  compliance COMPLIANCE UNIT 701   \n",
              "2             701 UNIT COMPLIANCE   \n",
              "3           compliance package 10   \n",
              "4  COMPLIANCE UNIT compliance 701   \n",
              "\n",
              "                                         description  \\\n",
              "0  Description SUMMARY: The Client Audit Coordina...   \n",
              "1  Description SUMMARY: The Client Audit Coordina...   \n",
              "2  Description SUMMARY: The Client Audit Coordina...   \n",
              "3  Description SUMMARY: The Client Audit Coordina...   \n",
              "4  Description SUMMARY: The Client Audit Coordina...   \n",
              "\n",
              "                                        requirements  \\\n",
              "0  High school diploma or equivalent; Bachelor's ...   \n",
              "1  high school diploma or equivalent; bachelor's ...   \n",
              "2  High school diploma or equivalent; Bachelor's ...   \n",
              "3  High school diploma or equivalent; Bachelor's ...   \n",
              "4  High school diploma or equivalent; Bachelor's ...   \n",
              "\n",
              "                                            benefits employment_type  \\\n",
              "0  we offer a competitive and comprehensive ambit...       Full-time   \n",
              "1  nurses offer a competitive relatively comprehe...       Full-time   \n",
              "2  we offer a competitive and comprehensive compa...             NaN   \n",
              "3  we offer a competitive and comprehensive range...             NaN   \n",
              "4  We offer in competitive and evaluation typical...             NaN   \n",
              "\n",
              "  required_experience         required_education                   industry  \\\n",
              "0                 NaN                  Doctorate     financial intelligence   \n",
              "1                 NaN          Bachelor's Degree            fiscal Services   \n",
              "2                 NaN          Bachelor's Degree       financial assistance   \n",
              "3                 NaN  High School or equivalent  fiscal Financial Services   \n",
              "4         Entry level                        NaN         financial services   \n",
              "\n",
              "         function salary_range  telecommuting  has_company_logo  \\\n",
              "0  Administrative          NaN            NaN               NaN   \n",
              "1     Engineering          NaN            NaN               NaN   \n",
              "2           Other          NaN            NaN               NaN   \n",
              "3     Engineering          NaN            NaN               NaN   \n",
              "4             NaN          NaN            NaN               NaN   \n",
              "\n",
              "   has_questions  fraudulent  \n",
              "0            NaN           1  \n",
              "1            NaN           1  \n",
              "2            NaN           1  \n",
              "3            NaN           1  \n",
              "4            NaN           1  "
            ],
            "text/html": [
              "\n",
              "  <div id=\"df-09747b4b-e92e-418d-9cd4-ef21b746de47\">\n",
              "    <div class=\"colab-df-container\">\n",
              "      <div>\n",
              "<style scoped>\n",
              "    .dataframe tbody tr th:only-of-type {\n",
              "        vertical-align: middle;\n",
              "    }\n",
              "\n",
              "    .dataframe tbody tr th {\n",
              "        vertical-align: top;\n",
              "    }\n",
              "\n",
              "    .dataframe thead th {\n",
              "        text-align: right;\n",
              "    }\n",
              "</style>\n",
              "<table border=\"1\" class=\"dataframe\">\n",
              "  <thead>\n",
              "    <tr style=\"text-align: right;\">\n",
              "      <th></th>\n",
              "      <th>title</th>\n",
              "      <th>location</th>\n",
              "      <th>department</th>\n",
              "      <th>description</th>\n",
              "      <th>requirements</th>\n",
              "      <th>benefits</th>\n",
              "      <th>employment_type</th>\n",
              "      <th>required_experience</th>\n",
              "      <th>required_education</th>\n",
              "      <th>industry</th>\n",
              "      <th>function</th>\n",
              "      <th>salary_range</th>\n",
              "      <th>telecommuting</th>\n",
              "      <th>has_company_logo</th>\n",
              "      <th>has_questions</th>\n",
              "      <th>fraudulent</th>\n",
              "    </tr>\n",
              "  </thead>\n",
              "  <tbody>\n",
              "    <tr>\n",
              "      <th>0</th>\n",
              "      <td>Client Audit coordinator Coordinator</td>\n",
              "      <td>us, tx, austin</td>\n",
              "      <td>whole COMPLIANCE UNIT 701</td>\n",
              "      <td>Description SUMMARY: The Client Audit Coordina...</td>\n",
              "      <td>High school diploma or equivalent; Bachelor's ...</td>\n",
              "      <td>we offer a competitive and comprehensive ambit...</td>\n",
              "      <td>Full-time</td>\n",
              "      <td>NaN</td>\n",
              "      <td>Doctorate</td>\n",
              "      <td>financial intelligence</td>\n",
              "      <td>Administrative</td>\n",
              "      <td>NaN</td>\n",
              "      <td>NaN</td>\n",
              "      <td>NaN</td>\n",
              "      <td>NaN</td>\n",
              "      <td>1</td>\n",
              "    </tr>\n",
              "    <tr>\n",
              "      <th>1</th>\n",
              "      <td>national audit coordinator</td>\n",
              "      <td>us, ny, ny</td>\n",
              "      <td>compliance COMPLIANCE UNIT 701</td>\n",
              "      <td>Description SUMMARY: The Client Audit Coordina...</td>\n",
              "      <td>high school diploma or equivalent; bachelor's ...</td>\n",
              "      <td>nurses offer a competitive relatively comprehe...</td>\n",
              "      <td>Full-time</td>\n",
              "      <td>NaN</td>\n",
              "      <td>Bachelor's Degree</td>\n",
              "      <td>fiscal Services</td>\n",
              "      <td>Engineering</td>\n",
              "      <td>NaN</td>\n",
              "      <td>NaN</td>\n",
              "      <td>NaN</td>\n",
              "      <td>NaN</td>\n",
              "      <td>1</td>\n",
              "    </tr>\n",
              "    <tr>\n",
              "      <th>2</th>\n",
              "      <td>node audit coordinator</td>\n",
              "      <td>Austin TX, US,</td>\n",
              "      <td>701 UNIT COMPLIANCE</td>\n",
              "      <td>Description SUMMARY: The Client Audit Coordina...</td>\n",
              "      <td>High school diploma or equivalent; Bachelor's ...</td>\n",
              "      <td>we offer a competitive and comprehensive compa...</td>\n",
              "      <td>NaN</td>\n",
              "      <td>NaN</td>\n",
              "      <td>Bachelor's Degree</td>\n",
              "      <td>financial assistance</td>\n",
              "      <td>Other</td>\n",
              "      <td>NaN</td>\n",
              "      <td>NaN</td>\n",
              "      <td>NaN</td>\n",
              "      <td>NaN</td>\n",
              "      <td>1</td>\n",
              "    </tr>\n",
              "    <tr>\n",
              "      <th>3</th>\n",
              "      <td>client Audit Coordinator</td>\n",
              "      <td>US, TX, capital of texas</td>\n",
              "      <td>compliance package 10</td>\n",
              "      <td>Description SUMMARY: The Client Audit Coordina...</td>\n",
              "      <td>High school diploma or equivalent; Bachelor's ...</td>\n",
              "      <td>we offer a competitive and comprehensive range...</td>\n",
              "      <td>NaN</td>\n",
              "      <td>NaN</td>\n",
              "      <td>High School or equivalent</td>\n",
              "      <td>fiscal Financial Services</td>\n",
              "      <td>Engineering</td>\n",
              "      <td>NaN</td>\n",
              "      <td>NaN</td>\n",
              "      <td>NaN</td>\n",
              "      <td>NaN</td>\n",
              "      <td>1</td>\n",
              "    </tr>\n",
              "    <tr>\n",
              "      <th>4</th>\n",
              "      <td>Client scrutinize Coordinator</td>\n",
              "      <td>US, TX, Austin</td>\n",
              "      <td>COMPLIANCE UNIT compliance 701</td>\n",
              "      <td>Description SUMMARY: The Client Audit Coordina...</td>\n",
              "      <td>High school diploma or equivalent; Bachelor's ...</td>\n",
              "      <td>We offer in competitive and evaluation typical...</td>\n",
              "      <td>NaN</td>\n",
              "      <td>Entry level</td>\n",
              "      <td>NaN</td>\n",
              "      <td>financial services</td>\n",
              "      <td>NaN</td>\n",
              "      <td>NaN</td>\n",
              "      <td>NaN</td>\n",
              "      <td>NaN</td>\n",
              "      <td>NaN</td>\n",
              "      <td>1</td>\n",
              "    </tr>\n",
              "  </tbody>\n",
              "</table>\n",
              "</div>\n",
              "      <button class=\"colab-df-convert\" onclick=\"convertToInteractive('df-09747b4b-e92e-418d-9cd4-ef21b746de47')\"\n",
              "              title=\"Convert this dataframe to an interactive table.\"\n",
              "              style=\"display:none;\">\n",
              "        \n",
              "  <svg xmlns=\"http://www.w3.org/2000/svg\" height=\"24px\"viewBox=\"0 0 24 24\"\n",
              "       width=\"24px\">\n",
              "    <path d=\"M0 0h24v24H0V0z\" fill=\"none\"/>\n",
              "    <path d=\"M18.56 5.44l.94 2.06.94-2.06 2.06-.94-2.06-.94-.94-2.06-.94 2.06-2.06.94zm-11 1L8.5 8.5l.94-2.06 2.06-.94-2.06-.94L8.5 2.5l-.94 2.06-2.06.94zm10 10l.94 2.06.94-2.06 2.06-.94-2.06-.94-.94-2.06-.94 2.06-2.06.94z\"/><path d=\"M17.41 7.96l-1.37-1.37c-.4-.4-.92-.59-1.43-.59-.52 0-1.04.2-1.43.59L10.3 9.45l-7.72 7.72c-.78.78-.78 2.05 0 2.83L4 21.41c.39.39.9.59 1.41.59.51 0 1.02-.2 1.41-.59l7.78-7.78 2.81-2.81c.8-.78.8-2.07 0-2.86zM5.41 20L4 18.59l7.72-7.72 1.47 1.35L5.41 20z\"/>\n",
              "  </svg>\n",
              "      </button>\n",
              "      \n",
              "  <style>\n",
              "    .colab-df-container {\n",
              "      display:flex;\n",
              "      flex-wrap:wrap;\n",
              "      gap: 12px;\n",
              "    }\n",
              "\n",
              "    .colab-df-convert {\n",
              "      background-color: #E8F0FE;\n",
              "      border: none;\n",
              "      border-radius: 50%;\n",
              "      cursor: pointer;\n",
              "      display: none;\n",
              "      fill: #1967D2;\n",
              "      height: 32px;\n",
              "      padding: 0 0 0 0;\n",
              "      width: 32px;\n",
              "    }\n",
              "\n",
              "    .colab-df-convert:hover {\n",
              "      background-color: #E2EBFA;\n",
              "      box-shadow: 0px 1px 2px rgba(60, 64, 67, 0.3), 0px 1px 3px 1px rgba(60, 64, 67, 0.15);\n",
              "      fill: #174EA6;\n",
              "    }\n",
              "\n",
              "    [theme=dark] .colab-df-convert {\n",
              "      background-color: #3B4455;\n",
              "      fill: #D2E3FC;\n",
              "    }\n",
              "\n",
              "    [theme=dark] .colab-df-convert:hover {\n",
              "      background-color: #434B5C;\n",
              "      box-shadow: 0px 1px 3px 1px rgba(0, 0, 0, 0.15);\n",
              "      filter: drop-shadow(0px 1px 2px rgba(0, 0, 0, 0.3));\n",
              "      fill: #FFFFFF;\n",
              "    }\n",
              "  </style>\n",
              "\n",
              "      <script>\n",
              "        const buttonEl =\n",
              "          document.querySelector('#df-09747b4b-e92e-418d-9cd4-ef21b746de47 button.colab-df-convert');\n",
              "        buttonEl.style.display =\n",
              "          google.colab.kernel.accessAllowed ? 'block' : 'none';\n",
              "\n",
              "        async function convertToInteractive(key) {\n",
              "          const element = document.querySelector('#df-09747b4b-e92e-418d-9cd4-ef21b746de47');\n",
              "          const dataTable =\n",
              "            await google.colab.kernel.invokeFunction('convertToInteractive',\n",
              "                                                     [key], {});\n",
              "          if (!dataTable) return;\n",
              "\n",
              "          const docLinkHtml = 'Like what you see? Visit the ' +\n",
              "            '<a target=\"_blank\" href=https://colab.research.google.com/notebooks/data_table.ipynb>data table notebook</a>'\n",
              "            + ' to learn more about interactive tables.';\n",
              "          element.innerHTML = '';\n",
              "          dataTable['output_type'] = 'display_data';\n",
              "          await google.colab.output.renderOutput(dataTable, element);\n",
              "          const docLink = document.createElement('div');\n",
              "          docLink.innerHTML = docLinkHtml;\n",
              "          element.appendChild(docLink);\n",
              "        }\n",
              "      </script>\n",
              "    </div>\n",
              "  </div>\n",
              "  "
            ]
          },
          "metadata": {},
          "execution_count": 5
        }
      ],
      "source": [
        "df = pd.read_csv(\"train.csv\")\n",
        "df = df.drop([\"Unnamed: 0\"],axis=1)\n",
        "\n",
        "# df_aug = pd.read_csv(\"augmented.csv\", sep='\\t')\n",
        "df_aug = pd.read_csv(\"augmented-all.csv\", sep='\\t')\n",
        "df_aug['fraudulent'] = np.ones(len(df_aug), dtype=int)\n",
        "df_aug = df_aug.replace(\" \",np.nan)\n",
        "\n",
        "df_val = pd.read_csv(\"dev.csv\")\n",
        "df_val = df_val.drop([\"Unnamed: 0\"],axis=1)\n",
        "\n",
        "for df_column in df.columns:\n",
        "    if df_column not in df_aug.columns:\n",
        "        print(\"Dropped:\", df_column)\n",
        "        df = df.drop([df_column],axis=1)\n",
        "        df_val = df_val.drop([df_column],axis=1)\n",
        "\n",
        "df_aug.head()"
      ],
      "id": "7faa94a2"
    },
    {
      "cell_type": "markdown",
      "metadata": {
        "id": "4eec215e"
      },
      "source": [
        "#### Missing values"
      ],
      "id": "4eec215e"
    },
    {
      "cell_type": "code",
      "execution_count": 6,
      "metadata": {
        "id": "bb0d1a21"
      },
      "outputs": [],
      "source": [
        "df_fake = df.loc[df[\"fraudulent\"]==1]\n",
        "df_true = df.loc[df[\"fraudulent\"]==0]"
      ],
      "id": "bb0d1a21"
    },
    {
      "cell_type": "code",
      "execution_count": 7,
      "metadata": {
        "id": "c7e66c18"
      },
      "outputs": [],
      "source": [
        "def getNaNRatio(df):\n",
        "    rows = len(df)\n",
        "    for column in df.columns:\n",
        "        print(f\"{column}: {df[column].isna().sum()/rows}\")\n",
        "    print('-----------------')"
      ],
      "id": "c7e66c18"
    },
    {
      "cell_type": "code",
      "execution_count": 8,
      "metadata": {
        "colab": {
          "base_uri": "https://localhost:8080/"
        },
        "id": "6a94b0d4",
        "outputId": "24353be8-161e-4d46-b9e8-81e01d05f669"
      },
      "outputs": [
        {
          "output_type": "stream",
          "name": "stdout",
          "text": [
            "title: 0.0\n",
            "location: 0.01925722145804677\n",
            "department: 0.6107290233837689\n",
            "salary_range: 0.7359009628610729\n",
            "description: 0.001375515818431912\n",
            "requirements: 0.16506189821182943\n",
            "benefits: 0.40440165061898214\n",
            "telecommuting: 0.0\n",
            "has_company_logo: 0.0\n",
            "has_questions: 0.0\n",
            "employment_type: 0.28060522696011003\n",
            "required_experience: 0.49105914718019256\n",
            "required_education: 0.515818431911967\n",
            "industry: 0.3177441540577717\n",
            "function: 0.38514442916093533\n",
            "fraudulent: 0.0\n",
            "-----------------\n",
            "title: 0.0\n",
            "location: 0.019270474879559532\n",
            "department: 0.6104611149346181\n",
            "description: 0.0027529249827942187\n",
            "requirements: 0.16517549896765313\n",
            "benefits: 0.40467997247075016\n",
            "employment_type: 0.2779077770130764\n",
            "required_experience: 0.48472126634549206\n",
            "required_education: 0.5172057811424638\n",
            "industry: 0.31727460426703374\n",
            "function: 0.378114246386786\n",
            "salary_range: 0.9408121128699243\n",
            "telecommuting: 1.0\n",
            "has_company_logo: 1.0\n",
            "has_questions: 1.0\n",
            "fraudulent: 0.0\n",
            "-----------------\n"
          ]
        }
      ],
      "source": [
        "getNaNRatio(df_fake)\n",
        "getNaNRatio(df_aug)"
      ],
      "id": "6a94b0d4"
    },
    {
      "cell_type": "code",
      "execution_count": 9,
      "metadata": {
        "colab": {
          "base_uri": "https://localhost:8080/"
        },
        "id": "2e371a24",
        "outputId": "8ec6c636-b0b1-489e-8aed-6da1078508b0"
      },
      "outputs": [
        {
          "output_type": "stream",
          "name": "stdout",
          "text": [
            "title: 0.0\n",
            "location: 0.01922368711792001\n",
            "department: 0.6455770788834058\n",
            "salary_range: 0.8439272298740517\n",
            "description: 0.0\n",
            "requirements: 0.15150622376077189\n",
            "benefits: 0.4015614642409958\n",
            "telecommuting: 0.0\n",
            "has_company_logo: 0.0\n",
            "has_questions: 0.0\n",
            "employment_type: 0.19179494733740884\n",
            "required_experience: 0.3928702953524343\n",
            "required_education: 0.45223539809972746\n",
            "industry: 0.2739191279369522\n",
            "function: 0.36083081682256757\n",
            "fraudulent: 0.0\n",
            "-----------------\n"
          ]
        }
      ],
      "source": [
        "getNaNRatio(df_true)"
      ],
      "id": "2e371a24"
    },
    {
      "cell_type": "markdown",
      "metadata": {
        "id": "64814e3b"
      },
      "source": [
        "#### Correlation (features with binary value)"
      ],
      "id": "64814e3b"
    },
    {
      "cell_type": "code",
      "execution_count": 10,
      "metadata": {
        "colab": {
          "base_uri": "https://localhost:8080/",
          "height": 0
        },
        "id": "7462e621",
        "outputId": "86692dca-0d45-4ca7-edb5-aa291c09373c"
      },
      "outputs": [
        {
          "output_type": "execute_result",
          "data": {
            "text/plain": [
              "               telecommuting  fraudulent\n",
              "telecommuting        1.00000     0.03296\n",
              "fraudulent           0.03296     1.00000"
            ],
            "text/html": [
              "\n",
              "  <div id=\"df-3c646831-3fdf-4edf-b93f-c68805941af7\">\n",
              "    <div class=\"colab-df-container\">\n",
              "      <div>\n",
              "<style scoped>\n",
              "    .dataframe tbody tr th:only-of-type {\n",
              "        vertical-align: middle;\n",
              "    }\n",
              "\n",
              "    .dataframe tbody tr th {\n",
              "        vertical-align: top;\n",
              "    }\n",
              "\n",
              "    .dataframe thead th {\n",
              "        text-align: right;\n",
              "    }\n",
              "</style>\n",
              "<table border=\"1\" class=\"dataframe\">\n",
              "  <thead>\n",
              "    <tr style=\"text-align: right;\">\n",
              "      <th></th>\n",
              "      <th>telecommuting</th>\n",
              "      <th>fraudulent</th>\n",
              "    </tr>\n",
              "  </thead>\n",
              "  <tbody>\n",
              "    <tr>\n",
              "      <th>telecommuting</th>\n",
              "      <td>1.00000</td>\n",
              "      <td>0.03296</td>\n",
              "    </tr>\n",
              "    <tr>\n",
              "      <th>fraudulent</th>\n",
              "      <td>0.03296</td>\n",
              "      <td>1.00000</td>\n",
              "    </tr>\n",
              "  </tbody>\n",
              "</table>\n",
              "</div>\n",
              "      <button class=\"colab-df-convert\" onclick=\"convertToInteractive('df-3c646831-3fdf-4edf-b93f-c68805941af7')\"\n",
              "              title=\"Convert this dataframe to an interactive table.\"\n",
              "              style=\"display:none;\">\n",
              "        \n",
              "  <svg xmlns=\"http://www.w3.org/2000/svg\" height=\"24px\"viewBox=\"0 0 24 24\"\n",
              "       width=\"24px\">\n",
              "    <path d=\"M0 0h24v24H0V0z\" fill=\"none\"/>\n",
              "    <path d=\"M18.56 5.44l.94 2.06.94-2.06 2.06-.94-2.06-.94-.94-2.06-.94 2.06-2.06.94zm-11 1L8.5 8.5l.94-2.06 2.06-.94-2.06-.94L8.5 2.5l-.94 2.06-2.06.94zm10 10l.94 2.06.94-2.06 2.06-.94-2.06-.94-.94-2.06-.94 2.06-2.06.94z\"/><path d=\"M17.41 7.96l-1.37-1.37c-.4-.4-.92-.59-1.43-.59-.52 0-1.04.2-1.43.59L10.3 9.45l-7.72 7.72c-.78.78-.78 2.05 0 2.83L4 21.41c.39.39.9.59 1.41.59.51 0 1.02-.2 1.41-.59l7.78-7.78 2.81-2.81c.8-.78.8-2.07 0-2.86zM5.41 20L4 18.59l7.72-7.72 1.47 1.35L5.41 20z\"/>\n",
              "  </svg>\n",
              "      </button>\n",
              "      \n",
              "  <style>\n",
              "    .colab-df-container {\n",
              "      display:flex;\n",
              "      flex-wrap:wrap;\n",
              "      gap: 12px;\n",
              "    }\n",
              "\n",
              "    .colab-df-convert {\n",
              "      background-color: #E8F0FE;\n",
              "      border: none;\n",
              "      border-radius: 50%;\n",
              "      cursor: pointer;\n",
              "      display: none;\n",
              "      fill: #1967D2;\n",
              "      height: 32px;\n",
              "      padding: 0 0 0 0;\n",
              "      width: 32px;\n",
              "    }\n",
              "\n",
              "    .colab-df-convert:hover {\n",
              "      background-color: #E2EBFA;\n",
              "      box-shadow: 0px 1px 2px rgba(60, 64, 67, 0.3), 0px 1px 3px 1px rgba(60, 64, 67, 0.15);\n",
              "      fill: #174EA6;\n",
              "    }\n",
              "\n",
              "    [theme=dark] .colab-df-convert {\n",
              "      background-color: #3B4455;\n",
              "      fill: #D2E3FC;\n",
              "    }\n",
              "\n",
              "    [theme=dark] .colab-df-convert:hover {\n",
              "      background-color: #434B5C;\n",
              "      box-shadow: 0px 1px 3px 1px rgba(0, 0, 0, 0.15);\n",
              "      filter: drop-shadow(0px 1px 2px rgba(0, 0, 0, 0.3));\n",
              "      fill: #FFFFFF;\n",
              "    }\n",
              "  </style>\n",
              "\n",
              "      <script>\n",
              "        const buttonEl =\n",
              "          document.querySelector('#df-3c646831-3fdf-4edf-b93f-c68805941af7 button.colab-df-convert');\n",
              "        buttonEl.style.display =\n",
              "          google.colab.kernel.accessAllowed ? 'block' : 'none';\n",
              "\n",
              "        async function convertToInteractive(key) {\n",
              "          const element = document.querySelector('#df-3c646831-3fdf-4edf-b93f-c68805941af7');\n",
              "          const dataTable =\n",
              "            await google.colab.kernel.invokeFunction('convertToInteractive',\n",
              "                                                     [key], {});\n",
              "          if (!dataTable) return;\n",
              "\n",
              "          const docLinkHtml = 'Like what you see? Visit the ' +\n",
              "            '<a target=\"_blank\" href=https://colab.research.google.com/notebooks/data_table.ipynb>data table notebook</a>'\n",
              "            + ' to learn more about interactive tables.';\n",
              "          element.innerHTML = '';\n",
              "          dataTable['output_type'] = 'display_data';\n",
              "          await google.colab.output.renderOutput(dataTable, element);\n",
              "          const docLink = document.createElement('div');\n",
              "          docLink.innerHTML = docLinkHtml;\n",
              "          element.appendChild(docLink);\n",
              "        }\n",
              "      </script>\n",
              "    </div>\n",
              "  </div>\n",
              "  "
            ]
          },
          "metadata": {},
          "execution_count": 10
        }
      ],
      "source": [
        "# Correlation\n",
        "df[[\"telecommuting\",\"fraudulent\"]].corr()"
      ],
      "id": "7462e621"
    },
    {
      "cell_type": "code",
      "execution_count": 11,
      "metadata": {
        "colab": {
          "base_uri": "https://localhost:8080/",
          "height": 0
        },
        "id": "9ef053ee",
        "outputId": "442f2491-2640-403a-d565-7b74056d1208"
      },
      "outputs": [
        {
          "output_type": "execute_result",
          "data": {
            "text/plain": [
              "                  has_company_logo  fraudulent\n",
              "has_company_logo          1.000000   -0.264599\n",
              "fraudulent               -0.264599    1.000000"
            ],
            "text/html": [
              "\n",
              "  <div id=\"df-827b4dac-a51b-4d0a-9f67-42d5451d3fe8\">\n",
              "    <div class=\"colab-df-container\">\n",
              "      <div>\n",
              "<style scoped>\n",
              "    .dataframe tbody tr th:only-of-type {\n",
              "        vertical-align: middle;\n",
              "    }\n",
              "\n",
              "    .dataframe tbody tr th {\n",
              "        vertical-align: top;\n",
              "    }\n",
              "\n",
              "    .dataframe thead th {\n",
              "        text-align: right;\n",
              "    }\n",
              "</style>\n",
              "<table border=\"1\" class=\"dataframe\">\n",
              "  <thead>\n",
              "    <tr style=\"text-align: right;\">\n",
              "      <th></th>\n",
              "      <th>has_company_logo</th>\n",
              "      <th>fraudulent</th>\n",
              "    </tr>\n",
              "  </thead>\n",
              "  <tbody>\n",
              "    <tr>\n",
              "      <th>has_company_logo</th>\n",
              "      <td>1.000000</td>\n",
              "      <td>-0.264599</td>\n",
              "    </tr>\n",
              "    <tr>\n",
              "      <th>fraudulent</th>\n",
              "      <td>-0.264599</td>\n",
              "      <td>1.000000</td>\n",
              "    </tr>\n",
              "  </tbody>\n",
              "</table>\n",
              "</div>\n",
              "      <button class=\"colab-df-convert\" onclick=\"convertToInteractive('df-827b4dac-a51b-4d0a-9f67-42d5451d3fe8')\"\n",
              "              title=\"Convert this dataframe to an interactive table.\"\n",
              "              style=\"display:none;\">\n",
              "        \n",
              "  <svg xmlns=\"http://www.w3.org/2000/svg\" height=\"24px\"viewBox=\"0 0 24 24\"\n",
              "       width=\"24px\">\n",
              "    <path d=\"M0 0h24v24H0V0z\" fill=\"none\"/>\n",
              "    <path d=\"M18.56 5.44l.94 2.06.94-2.06 2.06-.94-2.06-.94-.94-2.06-.94 2.06-2.06.94zm-11 1L8.5 8.5l.94-2.06 2.06-.94-2.06-.94L8.5 2.5l-.94 2.06-2.06.94zm10 10l.94 2.06.94-2.06 2.06-.94-2.06-.94-.94-2.06-.94 2.06-2.06.94z\"/><path d=\"M17.41 7.96l-1.37-1.37c-.4-.4-.92-.59-1.43-.59-.52 0-1.04.2-1.43.59L10.3 9.45l-7.72 7.72c-.78.78-.78 2.05 0 2.83L4 21.41c.39.39.9.59 1.41.59.51 0 1.02-.2 1.41-.59l7.78-7.78 2.81-2.81c.8-.78.8-2.07 0-2.86zM5.41 20L4 18.59l7.72-7.72 1.47 1.35L5.41 20z\"/>\n",
              "  </svg>\n",
              "      </button>\n",
              "      \n",
              "  <style>\n",
              "    .colab-df-container {\n",
              "      display:flex;\n",
              "      flex-wrap:wrap;\n",
              "      gap: 12px;\n",
              "    }\n",
              "\n",
              "    .colab-df-convert {\n",
              "      background-color: #E8F0FE;\n",
              "      border: none;\n",
              "      border-radius: 50%;\n",
              "      cursor: pointer;\n",
              "      display: none;\n",
              "      fill: #1967D2;\n",
              "      height: 32px;\n",
              "      padding: 0 0 0 0;\n",
              "      width: 32px;\n",
              "    }\n",
              "\n",
              "    .colab-df-convert:hover {\n",
              "      background-color: #E2EBFA;\n",
              "      box-shadow: 0px 1px 2px rgba(60, 64, 67, 0.3), 0px 1px 3px 1px rgba(60, 64, 67, 0.15);\n",
              "      fill: #174EA6;\n",
              "    }\n",
              "\n",
              "    [theme=dark] .colab-df-convert {\n",
              "      background-color: #3B4455;\n",
              "      fill: #D2E3FC;\n",
              "    }\n",
              "\n",
              "    [theme=dark] .colab-df-convert:hover {\n",
              "      background-color: #434B5C;\n",
              "      box-shadow: 0px 1px 3px 1px rgba(0, 0, 0, 0.15);\n",
              "      filter: drop-shadow(0px 1px 2px rgba(0, 0, 0, 0.3));\n",
              "      fill: #FFFFFF;\n",
              "    }\n",
              "  </style>\n",
              "\n",
              "      <script>\n",
              "        const buttonEl =\n",
              "          document.querySelector('#df-827b4dac-a51b-4d0a-9f67-42d5451d3fe8 button.colab-df-convert');\n",
              "        buttonEl.style.display =\n",
              "          google.colab.kernel.accessAllowed ? 'block' : 'none';\n",
              "\n",
              "        async function convertToInteractive(key) {\n",
              "          const element = document.querySelector('#df-827b4dac-a51b-4d0a-9f67-42d5451d3fe8');\n",
              "          const dataTable =\n",
              "            await google.colab.kernel.invokeFunction('convertToInteractive',\n",
              "                                                     [key], {});\n",
              "          if (!dataTable) return;\n",
              "\n",
              "          const docLinkHtml = 'Like what you see? Visit the ' +\n",
              "            '<a target=\"_blank\" href=https://colab.research.google.com/notebooks/data_table.ipynb>data table notebook</a>'\n",
              "            + ' to learn more about interactive tables.';\n",
              "          element.innerHTML = '';\n",
              "          dataTable['output_type'] = 'display_data';\n",
              "          await google.colab.output.renderOutput(dataTable, element);\n",
              "          const docLink = document.createElement('div');\n",
              "          docLink.innerHTML = docLinkHtml;\n",
              "          element.appendChild(docLink);\n",
              "        }\n",
              "      </script>\n",
              "    </div>\n",
              "  </div>\n",
              "  "
            ]
          },
          "metadata": {},
          "execution_count": 11
        }
      ],
      "source": [
        "df[[\"has_company_logo\",\"fraudulent\"]].corr()"
      ],
      "id": "9ef053ee"
    },
    {
      "cell_type": "markdown",
      "metadata": {
        "id": "6d1c14b9"
      },
      "source": [
        "-0.26 is significant correlation for keeping this feature"
      ],
      "id": "6d1c14b9"
    },
    {
      "cell_type": "code",
      "execution_count": 12,
      "metadata": {
        "colab": {
          "base_uri": "https://localhost:8080/",
          "height": 0
        },
        "id": "46930490",
        "outputId": "ed96e356-533f-4e69-f88c-d652747a246c"
      },
      "outputs": [
        {
          "output_type": "execute_result",
          "data": {
            "text/plain": [
              "               has_questions  fraudulent\n",
              "has_questions       1.000000   -0.092613\n",
              "fraudulent         -0.092613    1.000000"
            ],
            "text/html": [
              "\n",
              "  <div id=\"df-033d3212-f395-4c64-bb67-fdc8d939de24\">\n",
              "    <div class=\"colab-df-container\">\n",
              "      <div>\n",
              "<style scoped>\n",
              "    .dataframe tbody tr th:only-of-type {\n",
              "        vertical-align: middle;\n",
              "    }\n",
              "\n",
              "    .dataframe tbody tr th {\n",
              "        vertical-align: top;\n",
              "    }\n",
              "\n",
              "    .dataframe thead th {\n",
              "        text-align: right;\n",
              "    }\n",
              "</style>\n",
              "<table border=\"1\" class=\"dataframe\">\n",
              "  <thead>\n",
              "    <tr style=\"text-align: right;\">\n",
              "      <th></th>\n",
              "      <th>has_questions</th>\n",
              "      <th>fraudulent</th>\n",
              "    </tr>\n",
              "  </thead>\n",
              "  <tbody>\n",
              "    <tr>\n",
              "      <th>has_questions</th>\n",
              "      <td>1.000000</td>\n",
              "      <td>-0.092613</td>\n",
              "    </tr>\n",
              "    <tr>\n",
              "      <th>fraudulent</th>\n",
              "      <td>-0.092613</td>\n",
              "      <td>1.000000</td>\n",
              "    </tr>\n",
              "  </tbody>\n",
              "</table>\n",
              "</div>\n",
              "      <button class=\"colab-df-convert\" onclick=\"convertToInteractive('df-033d3212-f395-4c64-bb67-fdc8d939de24')\"\n",
              "              title=\"Convert this dataframe to an interactive table.\"\n",
              "              style=\"display:none;\">\n",
              "        \n",
              "  <svg xmlns=\"http://www.w3.org/2000/svg\" height=\"24px\"viewBox=\"0 0 24 24\"\n",
              "       width=\"24px\">\n",
              "    <path d=\"M0 0h24v24H0V0z\" fill=\"none\"/>\n",
              "    <path d=\"M18.56 5.44l.94 2.06.94-2.06 2.06-.94-2.06-.94-.94-2.06-.94 2.06-2.06.94zm-11 1L8.5 8.5l.94-2.06 2.06-.94-2.06-.94L8.5 2.5l-.94 2.06-2.06.94zm10 10l.94 2.06.94-2.06 2.06-.94-2.06-.94-.94-2.06-.94 2.06-2.06.94z\"/><path d=\"M17.41 7.96l-1.37-1.37c-.4-.4-.92-.59-1.43-.59-.52 0-1.04.2-1.43.59L10.3 9.45l-7.72 7.72c-.78.78-.78 2.05 0 2.83L4 21.41c.39.39.9.59 1.41.59.51 0 1.02-.2 1.41-.59l7.78-7.78 2.81-2.81c.8-.78.8-2.07 0-2.86zM5.41 20L4 18.59l7.72-7.72 1.47 1.35L5.41 20z\"/>\n",
              "  </svg>\n",
              "      </button>\n",
              "      \n",
              "  <style>\n",
              "    .colab-df-container {\n",
              "      display:flex;\n",
              "      flex-wrap:wrap;\n",
              "      gap: 12px;\n",
              "    }\n",
              "\n",
              "    .colab-df-convert {\n",
              "      background-color: #E8F0FE;\n",
              "      border: none;\n",
              "      border-radius: 50%;\n",
              "      cursor: pointer;\n",
              "      display: none;\n",
              "      fill: #1967D2;\n",
              "      height: 32px;\n",
              "      padding: 0 0 0 0;\n",
              "      width: 32px;\n",
              "    }\n",
              "\n",
              "    .colab-df-convert:hover {\n",
              "      background-color: #E2EBFA;\n",
              "      box-shadow: 0px 1px 2px rgba(60, 64, 67, 0.3), 0px 1px 3px 1px rgba(60, 64, 67, 0.15);\n",
              "      fill: #174EA6;\n",
              "    }\n",
              "\n",
              "    [theme=dark] .colab-df-convert {\n",
              "      background-color: #3B4455;\n",
              "      fill: #D2E3FC;\n",
              "    }\n",
              "\n",
              "    [theme=dark] .colab-df-convert:hover {\n",
              "      background-color: #434B5C;\n",
              "      box-shadow: 0px 1px 3px 1px rgba(0, 0, 0, 0.15);\n",
              "      filter: drop-shadow(0px 1px 2px rgba(0, 0, 0, 0.3));\n",
              "      fill: #FFFFFF;\n",
              "    }\n",
              "  </style>\n",
              "\n",
              "      <script>\n",
              "        const buttonEl =\n",
              "          document.querySelector('#df-033d3212-f395-4c64-bb67-fdc8d939de24 button.colab-df-convert');\n",
              "        buttonEl.style.display =\n",
              "          google.colab.kernel.accessAllowed ? 'block' : 'none';\n",
              "\n",
              "        async function convertToInteractive(key) {\n",
              "          const element = document.querySelector('#df-033d3212-f395-4c64-bb67-fdc8d939de24');\n",
              "          const dataTable =\n",
              "            await google.colab.kernel.invokeFunction('convertToInteractive',\n",
              "                                                     [key], {});\n",
              "          if (!dataTable) return;\n",
              "\n",
              "          const docLinkHtml = 'Like what you see? Visit the ' +\n",
              "            '<a target=\"_blank\" href=https://colab.research.google.com/notebooks/data_table.ipynb>data table notebook</a>'\n",
              "            + ' to learn more about interactive tables.';\n",
              "          element.innerHTML = '';\n",
              "          dataTable['output_type'] = 'display_data';\n",
              "          await google.colab.output.renderOutput(dataTable, element);\n",
              "          const docLink = document.createElement('div');\n",
              "          docLink.innerHTML = docLinkHtml;\n",
              "          element.appendChild(docLink);\n",
              "        }\n",
              "      </script>\n",
              "    </div>\n",
              "  </div>\n",
              "  "
            ]
          },
          "metadata": {},
          "execution_count": 12
        }
      ],
      "source": [
        "df[[\"has_questions\",\"fraudulent\"]].corr()"
      ],
      "id": "46930490"
    },
    {
      "cell_type": "markdown",
      "metadata": {
        "id": "92cd5cb4"
      },
      "source": [
        "# Preprocessing"
      ],
      "id": "92cd5cb4"
    },
    {
      "cell_type": "markdown",
      "metadata": {
        "id": "20de6a1c"
      },
      "source": [
        "## Fill nan"
      ],
      "id": "20de6a1c"
    },
    {
      "cell_type": "code",
      "execution_count": 13,
      "metadata": {
        "id": "c434adc8"
      },
      "outputs": [],
      "source": [
        "df = df.fillna(\"none\")\n",
        "df_aug = df_aug.fillna(\"none\")\n",
        "df_val = df_val.fillna(\"none\")"
      ],
      "id": "c434adc8"
    },
    {
      "cell_type": "markdown",
      "metadata": {
        "id": "h-02yv2_xePb"
      },
      "source": [
        "## Concatenate Train and Augmented datasets"
      ],
      "id": "h-02yv2_xePb"
    },
    {
      "cell_type": "code",
      "execution_count": 14,
      "metadata": {
        "colab": {
          "base_uri": "https://localhost:8080/"
        },
        "id": "WW7IRUTgxdu9",
        "outputId": "764d30aa-5af1-4fb7-d88d-d9e3a53cead2"
      },
      "outputs": [
        {
          "output_type": "stream",
          "name": "stdout",
          "text": [
            "Train dataset length: 14304\n",
            "Augmented dataset length: 14530\n",
            "Train dataset after concatenation: 28834\n"
          ]
        }
      ],
      "source": [
        "print('Train dataset length:', len(df))\n",
        "print('Augmented dataset length:', len(df_aug))\n",
        "\n",
        "df = pd.concat([df_aug, df])\n",
        "df = shuffle(df)\n",
        "df = df.reset_index()\n",
        "\n",
        "print('Train dataset after concatenation:', len(df))"
      ],
      "id": "WW7IRUTgxdu9"
    },
    {
      "cell_type": "markdown",
      "metadata": {
        "id": "cfe8fafc"
      },
      "source": [
        "## Merge features"
      ],
      "id": "cfe8fafc"
    },
    {
      "cell_type": "code",
      "execution_count": 15,
      "metadata": {
        "id": "03ddd8a4"
      },
      "outputs": [],
      "source": [
        "def merge(df):\n",
        "    # df = df.assign(merged_features=lambda df: df[\"title\"]+\" \"+df[\"location\"]+\" \"+df[\"department\"]+\n",
        "    #           df[\"employment_type\"]+\" \"+df[\"required_experience\"]+\" \"+df[\"required_education\"]+\" \"+\n",
        "    #            df[\"industry\"]+\" \"+df[\"function\"])\n",
        "    \n",
        "    # df = df.assign(merged_features=lambda df: df[\"description\"])\n",
        "    \n",
        "    df = df.assign(merged_features=lambda df: \n",
        "                   df[\"title\"]+\" \"\n",
        "                   +df[\"location\"]+\" \"\n",
        "                   +df[\"department\"]+\" \"\n",
        "                   +df[\"employment_type\"]+\" \"\n",
        "                   +df[\"required_experience\"]+\" \"\n",
        "                   +df[\"required_education\"]+\" \"\n",
        "                   +df[\"industry\"]+\" \"\n",
        "                   +df[\"function\"]+\" \"\n",
        "                   +df[\"description\"]+\" \"\n",
        "                   +df[\"requirements\"]+\" \"\n",
        "                   +df[\"benefits\"]\n",
        "                   )\n",
        "    \n",
        "\n",
        "    return df[[\"merged_features\",\"fraudulent\"]]"
      ],
      "id": "03ddd8a4"
    },
    {
      "cell_type": "code",
      "execution_count": 16,
      "metadata": {
        "colab": {
          "base_uri": "https://localhost:8080/",
          "height": 206
        },
        "id": "3e170413",
        "outputId": "ef5e90fd-9548-44f8-d8a1-defe48cbbb49"
      },
      "outputs": [
        {
          "output_type": "execute_result",
          "data": {
            "text/plain": [
              "                                     merged_features  fraudulent\n",
              "0  Customer Service Technical Specialist  US, NJ,...           0\n",
              "1  Network Marketing US, DE, none Full-time Mid-S...           1\n",
              "2  mastermind Hiring for Senior SAP Solution Engi...           1\n",
              "3  administrative helper us, tx, houston none Par...           1\n",
              "4  Internship (Media production) GR, ,  none Full...           0"
            ],
            "text/html": [
              "\n",
              "  <div id=\"df-7ac35555-8737-4eea-86e2-ce6843d37bfa\">\n",
              "    <div class=\"colab-df-container\">\n",
              "      <div>\n",
              "<style scoped>\n",
              "    .dataframe tbody tr th:only-of-type {\n",
              "        vertical-align: middle;\n",
              "    }\n",
              "\n",
              "    .dataframe tbody tr th {\n",
              "        vertical-align: top;\n",
              "    }\n",
              "\n",
              "    .dataframe thead th {\n",
              "        text-align: right;\n",
              "    }\n",
              "</style>\n",
              "<table border=\"1\" class=\"dataframe\">\n",
              "  <thead>\n",
              "    <tr style=\"text-align: right;\">\n",
              "      <th></th>\n",
              "      <th>merged_features</th>\n",
              "      <th>fraudulent</th>\n",
              "    </tr>\n",
              "  </thead>\n",
              "  <tbody>\n",
              "    <tr>\n",
              "      <th>0</th>\n",
              "      <td>Customer Service Technical Specialist  US, NJ,...</td>\n",
              "      <td>0</td>\n",
              "    </tr>\n",
              "    <tr>\n",
              "      <th>1</th>\n",
              "      <td>Network Marketing US, DE, none Full-time Mid-S...</td>\n",
              "      <td>1</td>\n",
              "    </tr>\n",
              "    <tr>\n",
              "      <th>2</th>\n",
              "      <td>mastermind Hiring for Senior SAP Solution Engi...</td>\n",
              "      <td>1</td>\n",
              "    </tr>\n",
              "    <tr>\n",
              "      <th>3</th>\n",
              "      <td>administrative helper us, tx, houston none Par...</td>\n",
              "      <td>1</td>\n",
              "    </tr>\n",
              "    <tr>\n",
              "      <th>4</th>\n",
              "      <td>Internship (Media production) GR, ,  none Full...</td>\n",
              "      <td>0</td>\n",
              "    </tr>\n",
              "  </tbody>\n",
              "</table>\n",
              "</div>\n",
              "      <button class=\"colab-df-convert\" onclick=\"convertToInteractive('df-7ac35555-8737-4eea-86e2-ce6843d37bfa')\"\n",
              "              title=\"Convert this dataframe to an interactive table.\"\n",
              "              style=\"display:none;\">\n",
              "        \n",
              "  <svg xmlns=\"http://www.w3.org/2000/svg\" height=\"24px\"viewBox=\"0 0 24 24\"\n",
              "       width=\"24px\">\n",
              "    <path d=\"M0 0h24v24H0V0z\" fill=\"none\"/>\n",
              "    <path d=\"M18.56 5.44l.94 2.06.94-2.06 2.06-.94-2.06-.94-.94-2.06-.94 2.06-2.06.94zm-11 1L8.5 8.5l.94-2.06 2.06-.94-2.06-.94L8.5 2.5l-.94 2.06-2.06.94zm10 10l.94 2.06.94-2.06 2.06-.94-2.06-.94-.94-2.06-.94 2.06-2.06.94z\"/><path d=\"M17.41 7.96l-1.37-1.37c-.4-.4-.92-.59-1.43-.59-.52 0-1.04.2-1.43.59L10.3 9.45l-7.72 7.72c-.78.78-.78 2.05 0 2.83L4 21.41c.39.39.9.59 1.41.59.51 0 1.02-.2 1.41-.59l7.78-7.78 2.81-2.81c.8-.78.8-2.07 0-2.86zM5.41 20L4 18.59l7.72-7.72 1.47 1.35L5.41 20z\"/>\n",
              "  </svg>\n",
              "      </button>\n",
              "      \n",
              "  <style>\n",
              "    .colab-df-container {\n",
              "      display:flex;\n",
              "      flex-wrap:wrap;\n",
              "      gap: 12px;\n",
              "    }\n",
              "\n",
              "    .colab-df-convert {\n",
              "      background-color: #E8F0FE;\n",
              "      border: none;\n",
              "      border-radius: 50%;\n",
              "      cursor: pointer;\n",
              "      display: none;\n",
              "      fill: #1967D2;\n",
              "      height: 32px;\n",
              "      padding: 0 0 0 0;\n",
              "      width: 32px;\n",
              "    }\n",
              "\n",
              "    .colab-df-convert:hover {\n",
              "      background-color: #E2EBFA;\n",
              "      box-shadow: 0px 1px 2px rgba(60, 64, 67, 0.3), 0px 1px 3px 1px rgba(60, 64, 67, 0.15);\n",
              "      fill: #174EA6;\n",
              "    }\n",
              "\n",
              "    [theme=dark] .colab-df-convert {\n",
              "      background-color: #3B4455;\n",
              "      fill: #D2E3FC;\n",
              "    }\n",
              "\n",
              "    [theme=dark] .colab-df-convert:hover {\n",
              "      background-color: #434B5C;\n",
              "      box-shadow: 0px 1px 3px 1px rgba(0, 0, 0, 0.15);\n",
              "      filter: drop-shadow(0px 1px 2px rgba(0, 0, 0, 0.3));\n",
              "      fill: #FFFFFF;\n",
              "    }\n",
              "  </style>\n",
              "\n",
              "      <script>\n",
              "        const buttonEl =\n",
              "          document.querySelector('#df-7ac35555-8737-4eea-86e2-ce6843d37bfa button.colab-df-convert');\n",
              "        buttonEl.style.display =\n",
              "          google.colab.kernel.accessAllowed ? 'block' : 'none';\n",
              "\n",
              "        async function convertToInteractive(key) {\n",
              "          const element = document.querySelector('#df-7ac35555-8737-4eea-86e2-ce6843d37bfa');\n",
              "          const dataTable =\n",
              "            await google.colab.kernel.invokeFunction('convertToInteractive',\n",
              "                                                     [key], {});\n",
              "          if (!dataTable) return;\n",
              "\n",
              "          const docLinkHtml = 'Like what you see? Visit the ' +\n",
              "            '<a target=\"_blank\" href=https://colab.research.google.com/notebooks/data_table.ipynb>data table notebook</a>'\n",
              "            + ' to learn more about interactive tables.';\n",
              "          element.innerHTML = '';\n",
              "          dataTable['output_type'] = 'display_data';\n",
              "          await google.colab.output.renderOutput(dataTable, element);\n",
              "          const docLink = document.createElement('div');\n",
              "          docLink.innerHTML = docLinkHtml;\n",
              "          element.appendChild(docLink);\n",
              "        }\n",
              "      </script>\n",
              "    </div>\n",
              "  </div>\n",
              "  "
            ]
          },
          "metadata": {},
          "execution_count": 16
        }
      ],
      "source": [
        "df_merged = merge(df)\n",
        "df_val_merged = merge(df_val)\n",
        "df_merged.head()"
      ],
      "id": "3e170413"
    },
    {
      "cell_type": "code",
      "execution_count": 17,
      "metadata": {
        "id": "e3de280f"
      },
      "outputs": [],
      "source": [
        "# Lowercase, removing stop words, punctuation, numbers, stemming\n",
        "\n",
        "# Input -> array of docs\n",
        "def preprocess_texts(texts):\n",
        "    preprocessed = []\n",
        "    stop_words = stopwords.words('english')\n",
        "    punct=string.punctuation\n",
        "    # stemmer=PorterStemmer()\n",
        "    lemmatizer = WordNetLemmatizer()\n",
        "    \n",
        "    print(\"Preprocessing..\")\n",
        "    for text in tqdm(texts):\n",
        "        words = word_tokenize(text)\n",
        "        words = [''.join([i for i in word if not i.isdigit()]) for word in words] # Removing numbers\n",
        "        # All in one :)\n",
        "        words = [lemmatizer.lemmatize(word.lower()) for word in words if (word not in stop_words) and (word not in punct)]\n",
        "        preprocessed.append(words)\n",
        "        \n",
        "    print(\"Done\")\n",
        "    return preprocessed\n",
        "        "
      ],
      "id": "e3de280f"
    },
    {
      "cell_type": "code",
      "execution_count": 18,
      "metadata": {
        "id": "63a07108"
      },
      "outputs": [],
      "source": [
        "features_train = np.array(df_merged[\"merged_features\"])\n",
        "target_train = np.array(df_merged[\"fraudulent\"])\n",
        "\n",
        "features_val = np.array(df_val_merged[\"merged_features\"])\n",
        "target_val = np.array(df_val_merged[\"fraudulent\"])"
      ],
      "id": "63a07108"
    },
    {
      "cell_type": "code",
      "execution_count": 19,
      "metadata": {
        "colab": {
          "base_uri": "https://localhost:8080/"
        },
        "id": "bf9c9420",
        "outputId": "052cb4d7-2ad1-404c-8a6b-7904a907a59c"
      },
      "outputs": [
        {
          "output_type": "stream",
          "name": "stdout",
          "text": [
            "Preprocessing..\n"
          ]
        },
        {
          "output_type": "stream",
          "name": "stderr",
          "text": [
            "100%|██████████| 28834/28834 [01:46<00:00, 270.26it/s]\n"
          ]
        },
        {
          "output_type": "stream",
          "name": "stdout",
          "text": [
            "Done\n",
            "Preprocessing..\n"
          ]
        },
        {
          "output_type": "stream",
          "name": "stderr",
          "text": [
            "100%|██████████| 1788/1788 [00:06<00:00, 274.48it/s]"
          ]
        },
        {
          "output_type": "stream",
          "name": "stdout",
          "text": [
            "Done\n"
          ]
        },
        {
          "output_type": "stream",
          "name": "stderr",
          "text": [
            "\n"
          ]
        }
      ],
      "source": [
        "preprocessed_train = preprocess_texts(features_train)\n",
        "preprocessed_val = preprocess_texts(features_val)\n",
        "#print(preprocessed[:3])"
      ],
      "id": "bf9c9420"
    },
    {
      "cell_type": "markdown",
      "metadata": {
        "id": "3711b1bc"
      },
      "source": [
        "## GloVe embeddings"
      ],
      "id": "3711b1bc"
    },
    {
      "cell_type": "code",
      "execution_count": 20,
      "metadata": {
        "id": "a765f8d8"
      },
      "outputs": [],
      "source": [
        "def texts2embeddings(texts, max_length, em_dim):\n",
        "    zero_vector = np.zeros(em_dim)\n",
        "    embeddings = []\n",
        "    total_words = 0\n",
        "    missing_words = 0\n",
        "    for text in tqdm(texts):\n",
        "        embedded_text = []\n",
        "        for word in text:\n",
        "            total_words += 1\n",
        "            try:\n",
        "                embedded_text.append(glove_vectors[word])\n",
        "            except:\n",
        "                embedded_text.append(zero_vector)\n",
        "                missing_words += 1\n",
        "        embeddings.append(embedded_text)\n",
        "    embeddings = pad_sequences(embeddings, maxlen=max_length, padding='post',value=zero_vector,dtype=\"float32\")\n",
        "    print(\"Missing words:\",missing_words/total_words)\n",
        "    return embeddings"
      ],
      "id": "a765f8d8"
    },
    {
      "cell_type": "code",
      "execution_count": 21,
      "metadata": {
        "colab": {
          "base_uri": "https://localhost:8080/"
        },
        "id": "c51b05fa",
        "outputId": "9d66214c-7b5a-479c-afe8-4431fb132bfd"
      },
      "outputs": [
        {
          "output_type": "stream",
          "name": "stdout",
          "text": [
            "Max length: 985\n"
          ]
        },
        {
          "output_type": "stream",
          "name": "stderr",
          "text": [
            "100%|██████████| 28834/28834 [00:07<00:00, 3608.47it/s]\n"
          ]
        },
        {
          "output_type": "stream",
          "name": "stdout",
          "text": [
            "Missing words: 0.08486360829494474\n"
          ]
        },
        {
          "output_type": "stream",
          "name": "stderr",
          "text": [
            "100%|██████████| 1788/1788 [00:00<00:00, 3639.24it/s]\n"
          ]
        },
        {
          "output_type": "stream",
          "name": "stdout",
          "text": [
            "Missing words: 0.09691660098090733\n"
          ]
        }
      ],
      "source": [
        "max_input_length = max([len(doc) for doc in preprocessed_train]) \n",
        "print(\"Max length:\", max_input_length)\n",
        "max_input_length=800\n",
        "\n",
        "embedded_features_train = texts2embeddings(preprocessed_train,max_input_length,embedding_dim)\n",
        "embedded_features_val = texts2embeddings(preprocessed_val,max_input_length,embedding_dim)"
      ],
      "id": "c51b05fa"
    },
    {
      "cell_type": "markdown",
      "metadata": {
        "id": "ecrH3STGUJAm"
      },
      "source": [
        "*Uncomment next cells if session crashes in colab:*"
      ],
      "id": "ecrH3STGUJAm"
    },
    {
      "cell_type": "code",
      "execution_count": 22,
      "metadata": {
        "id": "1WVbRX6-p88S"
      },
      "outputs": [],
      "source": [
        "# with open('embedded_features_train.npy', 'wb') as f:\n",
        "#     np.save(f, embedded_features_train)\n",
        "# with open('embedded_features_val.npy', 'wb') as f:\n",
        "#     np.save(f, embedded_features_val)"
      ],
      "id": "1WVbRX6-p88S"
    },
    {
      "cell_type": "code",
      "execution_count": 23,
      "metadata": {
        "id": "o0j3y_P5rE9B"
      },
      "outputs": [],
      "source": [
        "# with open('embedded_features_train.npy', 'rb') as f:\n",
        "#     embedded_features_train = np.load(f)\n",
        "# with open('embedded_features_val.npy', 'rb') as f:\n",
        "#     embedded_features_val = np.load(f)"
      ],
      "id": "o0j3y_P5rE9B"
    },
    {
      "cell_type": "markdown",
      "source": [
        "# Training the Neural Network"
      ],
      "metadata": {
        "id": "BGm4nwYSu8b6"
      },
      "id": "BGm4nwYSu8b6"
    },
    {
      "cell_type": "code",
      "execution_count": 75,
      "metadata": {
        "colab": {
          "base_uri": "https://localhost:8080/"
        },
        "id": "32cca12d",
        "outputId": "3cbdd63d-241f-48b4-bfe2-c4352b11272d"
      },
      "outputs": [
        {
          "output_type": "stream",
          "name": "stdout",
          "text": [
            "Epoch 1/30\n",
            "902/902 - 53s - loss: 0.2895 - accuracy: 0.8757 - val_loss: 0.2287 - val_accuracy: 0.9116 - 53s/epoch - 59ms/step\n",
            "Epoch 2/30\n",
            "902/902 - 49s - loss: 0.1195 - accuracy: 0.9548 - val_loss: 0.1692 - val_accuracy: 0.9396 - 49s/epoch - 54ms/step\n",
            "Epoch 3/30\n",
            "902/902 - 49s - loss: 0.2756 - accuracy: 0.8829 - val_loss: 0.2036 - val_accuracy: 0.9234 - 49s/epoch - 54ms/step\n",
            "Epoch 4/30\n",
            "902/902 - 49s - loss: 0.1400 - accuracy: 0.9472 - val_loss: 0.1639 - val_accuracy: 0.9390 - 49s/epoch - 54ms/step\n",
            "Epoch 5/30\n",
            "902/902 - 49s - loss: 0.0785 - accuracy: 0.9712 - val_loss: 0.1131 - val_accuracy: 0.9636 - 49s/epoch - 54ms/step\n",
            "Epoch 6/30\n",
            "902/902 - 49s - loss: 0.0539 - accuracy: 0.9806 - val_loss: 0.0998 - val_accuracy: 0.9664 - 49s/epoch - 54ms/step\n",
            "Epoch 7/30\n",
            "902/902 - 49s - loss: 0.0388 - accuracy: 0.9870 - val_loss: 0.0964 - val_accuracy: 0.9754 - 49s/epoch - 54ms/step\n",
            "Epoch 8/30\n",
            "902/902 - 49s - loss: 0.0322 - accuracy: 0.9892 - val_loss: 0.1206 - val_accuracy: 0.9737 - 49s/epoch - 54ms/step\n",
            "Epoch 9/30\n",
            "902/902 - 49s - loss: 0.0241 - accuracy: 0.9911 - val_loss: 0.1250 - val_accuracy: 0.9760 - 49s/epoch - 54ms/step\n",
            "Epoch 10/30\n",
            "902/902 - 49s - loss: 0.0217 - accuracy: 0.9926 - val_loss: 0.1177 - val_accuracy: 0.9760 - 49s/epoch - 54ms/step\n",
            "Epoch 11/30\n",
            "902/902 - 49s - loss: 0.0176 - accuracy: 0.9939 - val_loss: 0.1388 - val_accuracy: 0.9698 - 49s/epoch - 54ms/step\n",
            "Epoch 12/30\n",
            "902/902 - 49s - loss: 0.0147 - accuracy: 0.9949 - val_loss: 0.1253 - val_accuracy: 0.9787 - 49s/epoch - 54ms/step\n",
            "Epoch 13/30\n",
            "902/902 - 49s - loss: 0.0111 - accuracy: 0.9963 - val_loss: 0.1513 - val_accuracy: 0.9765 - 49s/epoch - 54ms/step\n",
            "Epoch 14/30\n",
            "902/902 - 49s - loss: 0.0120 - accuracy: 0.9957 - val_loss: 0.1326 - val_accuracy: 0.9787 - 49s/epoch - 54ms/step\n",
            "Epoch 15/30\n",
            "902/902 - 49s - loss: 0.0106 - accuracy: 0.9966 - val_loss: 0.1325 - val_accuracy: 0.9804 - 49s/epoch - 54ms/step\n",
            "Epoch 16/30\n",
            "902/902 - 49s - loss: 0.0092 - accuracy: 0.9969 - val_loss: 0.1226 - val_accuracy: 0.9787 - 49s/epoch - 54ms/step\n",
            "Epoch 17/30\n",
            "902/902 - 49s - loss: 0.0103 - accuracy: 0.9966 - val_loss: 0.1531 - val_accuracy: 0.9782 - 49s/epoch - 54ms/step\n",
            "Epoch 18/30\n",
            "902/902 - 49s - loss: 0.0089 - accuracy: 0.9969 - val_loss: 0.1146 - val_accuracy: 0.9827 - 49s/epoch - 54ms/step\n",
            "Epoch 19/30\n",
            "902/902 - 49s - loss: 0.0065 - accuracy: 0.9978 - val_loss: 0.2008 - val_accuracy: 0.9704 - 49s/epoch - 54ms/step\n",
            "Epoch 20/30\n",
            "902/902 - 49s - loss: 0.0063 - accuracy: 0.9980 - val_loss: 0.1227 - val_accuracy: 0.9827 - 49s/epoch - 54ms/step\n",
            "Epoch 21/30\n",
            "902/902 - 49s - loss: 0.0065 - accuracy: 0.9982 - val_loss: 0.1199 - val_accuracy: 0.9782 - 49s/epoch - 54ms/step\n",
            "Epoch 22/30\n",
            "902/902 - 49s - loss: 0.0056 - accuracy: 0.9981 - val_loss: 0.1446 - val_accuracy: 0.9782 - 49s/epoch - 54ms/step\n",
            "Epoch 23/30\n",
            "902/902 - 49s - loss: 0.0066 - accuracy: 0.9981 - val_loss: 0.1020 - val_accuracy: 0.9782 - 49s/epoch - 54ms/step\n",
            "Epoch 24/30\n",
            "902/902 - 49s - loss: 0.0043 - accuracy: 0.9987 - val_loss: 0.1554 - val_accuracy: 0.9787 - 49s/epoch - 54ms/step\n",
            "Epoch 25/30\n",
            "902/902 - 49s - loss: 9.3546e-04 - accuracy: 0.9998 - val_loss: 0.1952 - val_accuracy: 0.9821 - 49s/epoch - 54ms/step\n",
            "Epoch 26/30\n",
            "902/902 - 49s - loss: 0.0054 - accuracy: 0.9982 - val_loss: 0.0893 - val_accuracy: 0.9776 - 49s/epoch - 54ms/step\n",
            "Epoch 27/30\n",
            "902/902 - 49s - loss: 0.0070 - accuracy: 0.9977 - val_loss: 0.1072 - val_accuracy: 0.9815 - 49s/epoch - 54ms/step\n",
            "Epoch 28/30\n",
            "902/902 - 49s - loss: 0.0037 - accuracy: 0.9988 - val_loss: 0.1597 - val_accuracy: 0.9810 - 49s/epoch - 54ms/step\n",
            "Epoch 29/30\n",
            "902/902 - 49s - loss: 0.0049 - accuracy: 0.9982 - val_loss: 0.1304 - val_accuracy: 0.9821 - 49s/epoch - 54ms/step\n",
            "Epoch 30/30\n",
            "902/902 - 48s - loss: 0.0029 - accuracy: 0.9993 - val_loss: 0.1479 - val_accuracy: 0.9787 - 48s/epoch - 54ms/step\n"
          ]
        }
      ],
      "source": [
        "from functools import lru_cache\n",
        "# Building model\n",
        "\n",
        "checkpoint_filepath = './checkpoint'\n",
        "model_checkpoint_callback = ModelCheckpoint(\n",
        "    filepath=checkpoint_filepath,\n",
        "    save_weights_only=True,\n",
        "    monitor='val_accuracy',\n",
        "    mode='max',\n",
        "    save_best_only=True)\n",
        "\n",
        "\n",
        "model = Sequential()\n",
        "model.add(Bidirectional(LSTM(100, input_shape=(max_input_length, embedding_dim))))\n",
        "model.add(Dropout(0.2))\n",
        "model.add(Dense(32))\n",
        "model.add(Dropout(0.2))\n",
        "model.add(Dense(16))\n",
        "model.add(Dense(1,activation=\"sigmoid\")) \n",
        "model.compile(loss='binary_crossentropy', optimizer='adam',metrics=[\"accuracy\"])\n",
        "history = model.fit(embedded_features_train, target_train, epochs=30, batch_size=32, verbose=2,\n",
        "                    validation_data=(embedded_features_val,target_val), callbacks=[model_checkpoint_callback])"
      ],
      "id": "32cca12d"
    },
    {
      "cell_type": "code",
      "execution_count": 76,
      "metadata": {
        "id": "f40b68d0",
        "colab": {
          "base_uri": "https://localhost:8080/"
        },
        "outputId": "5daad3bc-5761-402d-afe8-518c38ad0a85"
      },
      "outputs": [
        {
          "output_type": "stream",
          "name": "stdout",
          "text": [
            "Baseline: 0.9619686800894854\n"
          ]
        }
      ],
      "source": [
        "print(\"Baseline:\",(1-sum(target_val)/len(target_val)))"
      ],
      "id": "f40b68d0"
    },
    {
      "cell_type": "code",
      "execution_count": 77,
      "metadata": {
        "id": "171f8a3a",
        "colab": {
          "base_uri": "https://localhost:8080/"
        },
        "outputId": "a736144f-d397-4709-beaf-24799f8a9189"
      },
      "outputs": [
        {
          "output_type": "stream",
          "name": "stdout",
          "text": [
            "Max threshold 0.7000000000000001\n",
            "Accuracy: 0.9837807606263982\n",
            "F1:\n",
            "Micro: 0.9837807606263982\n",
            "Macro: 0.8833903427989287\n",
            "Weighted: 0.983357172365523\n",
            "For fraudulent: 0.7751937984496124\n"
          ]
        }
      ],
      "source": [
        "# The model weights (that are considered the best) are loaded into the model.\n",
        "model.load_weights(checkpoint_filepath)\n",
        "\n",
        "predicted = model.predict(embedded_features_val)\n",
        "max_score = 0\n",
        "max_threshold = None\n",
        "max_threshold_predicted_labels = []\n",
        "\n",
        "# As labels\n",
        "for threshold in np.linspace(0.1, 0.9, 9):\n",
        "    predicted_labels = []\n",
        "    for p in predicted:\n",
        "        if p >= threshold:\n",
        "            predicted_labels.append([1])\n",
        "        else:\n",
        "            predicted_labels.append([0])\n",
        "\n",
        "\n",
        "    f1_binary = f1_score(target_val,predicted_labels,average=\"binary\")\n",
        "    if f1_binary > max_score:\n",
        "        max_threshold = threshold\n",
        "        max_score = f1_binary\n",
        "        max_threshold_predicted_labels = predicted_labels\n",
        "\n",
        "print(\"Max threshold\", max_threshold)\n",
        "print(\"Accuracy:\",accuracy_score(target_val, max_threshold_predicted_labels))\n",
        "print(\"F1:\")\n",
        "print(\"Micro:\",f1_score(target_val,max_threshold_predicted_labels,average=\"micro\"))\n",
        "print(\"Macro:\",f1_score(target_val,max_threshold_predicted_labels,average=\"macro\"))\n",
        "print(\"Weighted:\",f1_score(target_val,max_threshold_predicted_labels,average=\"weighted\"))\n",
        "print(\"For fraudulent:\",f1_score(target_val,max_threshold_predicted_labels,average=\"binary\"))"
      ],
      "id": "171f8a3a"
    },
    {
      "cell_type": "markdown",
      "metadata": {
        "id": "68a06f59"
      },
      "source": [
        "Seems gooood!=)"
      ],
      "id": "68a06f59"
    },
    {
      "cell_type": "code",
      "execution_count": 28,
      "metadata": {
        "id": "97bc138d",
        "colab": {
          "base_uri": "https://localhost:8080/",
          "height": 279
        },
        "outputId": "0c92b263-f58e-420a-c087-b189f73fc523"
      },
      "outputs": [
        {
          "output_type": "display_data",
          "data": {
            "text/plain": [
              "<Figure size 432x288 with 1 Axes>"
            ],
            "image/png": "[encoded data removed]"
          },
          "metadata": {
            "needs_background": "light"
          }
        }
      ],
      "source": [
        "# Presicion / recall curve\n",
        "precision,recall,tresholds = precision_recall_curve(target_val,predicted)\n",
        "\n",
        "plt.plot(tresholds,recall[:-1],label=\"Recall\")\n",
        "plt.plot(tresholds,precision[:-1],label=\"Precision\")\n",
        "plt.xlabel(\"Tresholds\")\n",
        "plt.ylabel(\"Precision/Recall\")\n",
        "plt.legend()\n",
        "plt.show()"
      ],
      "id": "97bc138d"
    },
    {
      "cell_type": "code",
      "execution_count": 36,
      "metadata": {
        "id": "6368efc5",
        "colab": {
          "base_uri": "https://localhost:8080/"
        },
        "outputId": "b528f57e-8751-4ce7-c8ad-214720db5309"
      },
      "outputs": [
        {
          "output_type": "execute_result",
          "data": {
            "text/plain": [
              "(0    1720\n",
              " 1      68\n",
              " Name: fraudulent, dtype: int64, array([59]), array([1729]))"
            ]
          },
          "metadata": {},
          "execution_count": 36
        }
      ],
      "source": [
        "df_val['fraudulent'].value_counts(), sum(predicted >= max_threshold), sum(predicted < max_threshold)"
      ],
      "id": "6368efc5"
    },
    {
      "cell_type": "code",
      "source": [
        "fig, ax = plt.subplots(figsize=(4, 4), dpi=200)\n",
        "ConfusionMatrixDisplay(confusion_matrix=confusion_matrix(target_val, max_threshold_predicted_labels)).plot(cmap='cividis', ax=ax)\n",
        "plt.show()"
      ],
      "metadata": {
        "colab": {
          "base_uri": "https://localhost:8080/",
          "height": 693
        },
        "id": "e7BWApzZsEhd",
        "outputId": "095111f5-dd55-4ede-a950-294dcdf225d5"
      },
      "id": "e7BWApzZsEhd",
      "execution_count": 78,
      "outputs": [
        {
          "output_type": "display_data",
          "data": {
            "text/plain": [
              "<Figure size 800x800 with 2 Axes>"
            ],
            "image/png": "[encoded data removed]"
          },
          "metadata": {
            "needs_background": "light"
          }
        }
      ]
    },
    {
      "cell_type": "code",
      "source": [
        ""
      ],
      "metadata": {
        "id": "JPLiYqQssXpb"
      },
      "id": "JPLiYqQssXpb",
      "execution_count": null,
      "outputs": []
    }
  ],
  "metadata": {
    "accelerator": "GPU",
    "colab": {
      "collapsed_sections": [
        "4eec215e",
        "64814e3b"
      ],
      "machine_shape": "hm",
      "name": "Fake_job_postings.ipynb",
      "provenance": [],
      "toc_visible": true
    },
    "kernelspec": {
      "display_name": "Python 3",
      "language": "python",
      "name": "python3"
    },
    "language_info": {
      "codemirror_mode": {
        "name": "ipython",
        "version": 3
      },
      "file_extension": ".py",
      "mimetype": "text/x-python",
      "name": "python",
      "nbconvert_exporter": "python",
      "pygments_lexer": "ipython3",
      "version": "3.8.8"
    }
  },
  "nbformat": 4,
  "nbformat_minor": 5
}