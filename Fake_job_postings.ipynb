{
  "cells": [
    {
      "cell_type": "markdown",
      "source": [
        "# Imports and Downloads"
      ],
      "metadata": {
        "id": "d61u-Xw2dGOq"
      },
      "id": "d61u-Xw2dGOq"
    },
    {
      "cell_type": "code",
      "execution_count": 1,
      "metadata": {
        "id": "0800ea05"
      },
      "outputs": [],
      "source": [
        "import pandas as pd\n",
        "import numpy as np\n",
        "import gensim\n",
        "import gensim.downloader\n",
        "import matplotlib.pyplot as plt\n",
        "import tensorflow as tf\n",
        "import string\n",
        "\n",
        "from tqdm import tqdm\n",
        "\n",
        "import nltk\n",
        "from nltk.tokenize import word_tokenize\n",
        "from nltk.corpus import stopwords\n",
        "from nltk.stem import PorterStemmer\n",
        "from nltk.stem import WordNetLemmatizer\n",
        " \n",
        "from keras.layers import LSTM, Activation, Dropout, Dense, Input, Bidirectional, GRU\n",
        "from keras.models import Sequential\n",
        "from keras.layers.embeddings import Embedding\n",
        "from keras.models import Model\n",
        "from keras.callbacks import ModelCheckpoint\n",
        "from keras.preprocessing.sequence import pad_sequences\n",
        "\n",
        "from sklearn.model_selection import train_test_split\n",
        "from sklearn.metrics import f1_score, precision_recall_curve, accuracy_score, plot_confusion_matrix, confusion_matrix, ConfusionMatrixDisplay\n",
        "from sklearn.utils import shuffle\n",
        "from sklearn.ensemble import RandomForestClassifier\n",
        "from sklearn.naive_bayes import GaussianNB\n",
        "from sklearn.neighbors import KNeighborsClassifier, KNeighborsRegressor\n",
        "from sklearn.svm import LinearSVC\n",
        "from sklearn.pipeline import make_pipeline\n",
        "from sklearn.preprocessing import StandardScaler"
      ],
      "id": "0800ea05"
    },
    {
      "cell_type": "code",
      "execution_count": 2,
      "metadata": {
        "colab": {
          "base_uri": "https://localhost:8080/"
        },
        "id": "65SPuYyEs10_",
        "outputId": "74f16612-b90c-4280-bc28-1bf7dc42d63b"
      },
      "outputs": [
        {
          "output_type": "stream",
          "name": "stdout",
          "text": [
            "[nltk_data] Downloading package stopwords to /root/nltk_data...\n",
            "[nltk_data]   Unzipping corpora/stopwords.zip.\n",
            "[nltk_data] Downloading package punkt to /root/nltk_data...\n",
            "[nltk_data]   Unzipping tokenizers/punkt.zip.\n",
            "[nltk_data] Downloading package wordnet to /root/nltk_data...\n",
            "[nltk_data]   Unzipping corpora/wordnet.zip.\n"
          ]
        },
        {
          "output_type": "execute_result",
          "data": {
            "text/plain": [
              "True"
            ]
          },
          "metadata": {},
          "execution_count": 2
        }
      ],
      "source": [
        "nltk.download('stopwords')\n",
        "nltk.download('punkt')\n",
        "nltk.download('wordnet')"
      ],
      "id": "65SPuYyEs10_"
    },
    {
      "cell_type": "code",
      "execution_count": 3,
      "metadata": {
        "colab": {
          "base_uri": "https://localhost:8080/"
        },
        "id": "5d5v6siNTU5r",
        "outputId": "f448e441-1d71-4226-bdec-179a030782d0"
      },
      "outputs": [
        {
          "output_type": "stream",
          "name": "stdout",
          "text": [
            "--2022-05-23 12:37:53--  https://raw.githubusercontent.com/KilRil/Fake-job-postings/main/print_metrics.py\n",
            "Resolving raw.githubusercontent.com (raw.githubusercontent.com)... 185.199.108.133, 185.199.109.133, 185.199.110.133, ...\n",
            "Connecting to raw.githubusercontent.com (raw.githubusercontent.com)|185.199.108.133|:443... connected.\n",
            "HTTP request sent, awaiting response... 200 OK\n",
            "Length: 1694 (1.7K) [text/plain]\n",
            "Saving to: ‘print_metrics.py’\n",
            "\n",
            "\rprint_metrics.py      0%[                    ]       0  --.-KB/s               \rprint_metrics.py    100%[===================>]   1.65K  --.-KB/s    in 0s      \n",
            "\n",
            "2022-05-23 12:37:53 (35.7 MB/s) - ‘print_metrics.py’ saved [1694/1694]\n",
            "\n",
            "--2022-05-23 12:37:53--  https://raw.githubusercontent.com/KilRil/Fake-job-postings/main/data/dev.csv\n",
            "Resolving raw.githubusercontent.com (raw.githubusercontent.com)... 185.199.108.133, 185.199.109.133, 185.199.110.133, ...\n",
            "Connecting to raw.githubusercontent.com (raw.githubusercontent.com)|185.199.108.133|:443... connected.\n",
            "HTTP request sent, awaiting response... 200 OK\n",
            "Length: 5060506 (4.8M) [text/plain]\n",
            "Saving to: ‘dev.csv’\n",
            "\n",
            "dev.csv             100%[===================>]   4.83M  --.-KB/s    in 0.08s   \n",
            "\n",
            "2022-05-23 12:37:53 (63.6 MB/s) - ‘dev.csv’ saved [5060506/5060506]\n",
            "\n",
            "--2022-05-23 12:37:53--  https://raw.githubusercontent.com/KilRil/Fake-job-postings/main/data/train.csv\n",
            "Resolving raw.githubusercontent.com (raw.githubusercontent.com)... 185.199.108.133, 185.199.109.133, 185.199.110.133, ...\n",
            "Connecting to raw.githubusercontent.com (raw.githubusercontent.com)|185.199.108.133|:443... connected.\n",
            "HTTP request sent, awaiting response... 200 OK\n",
            "Length: 40062185 (38M) [text/plain]\n",
            "Saving to: ‘train.csv’\n",
            "\n",
            "train.csv           100%[===================>]  38.21M   188MB/s    in 0.2s    \n",
            "\n",
            "2022-05-23 12:37:54 (188 MB/s) - ‘train.csv’ saved [40062185/40062185]\n",
            "\n",
            "--2022-05-23 12:37:54--  https://raw.githubusercontent.com/KilRil/Fake-job-postings/main/data/augmented.csv\n",
            "Resolving raw.githubusercontent.com (raw.githubusercontent.com)... 185.199.110.133, 185.199.108.133, 185.199.111.133, ...\n",
            "Connecting to raw.githubusercontent.com (raw.githubusercontent.com)|185.199.110.133|:443... connected.\n",
            "HTTP request sent, awaiting response... 200 OK\n",
            "Length: 6863262 (6.5M) [text/plain]\n",
            "Saving to: ‘augmented.csv’\n",
            "\n",
            "augmented.csv       100%[===================>]   6.54M  --.-KB/s    in 0.08s   \n",
            "\n",
            "2022-05-23 12:37:55 (80.8 MB/s) - ‘augmented.csv’ saved [6863262/6863262]\n",
            "\n"
          ]
        }
      ],
      "source": [
        "!wget https://raw.githubusercontent.com/KilRil/Fake-job-postings/main/print_metrics.py\n",
        "\n",
        "!wget https://raw.githubusercontent.com/KilRil/Fake-job-postings/main/data/dev.csv\n",
        "!wget https://raw.githubusercontent.com/KilRil/Fake-job-postings/main/data/train.csv\n",
        "!wget https://raw.githubusercontent.com/KilRil/Fake-job-postings/main/data/augmented.csv\n",
        "# !wget https://raw.githubusercontent.com/KilRil/Fake-job-postings/main/data/augmented-all.csv"
      ],
      "id": "5d5v6siNTU5r"
    },
    {
      "cell_type": "code",
      "execution_count": 4,
      "metadata": {
        "colab": {
          "base_uri": "https://localhost:8080/"
        },
        "id": "16f41b3f",
        "outputId": "2e02cbfe-cd3b-4f7b-e3c7-e1cb17bf671a"
      },
      "outputs": [
        {
          "output_type": "stream",
          "name": "stdout",
          "text": [
            "[==================================================] 100.0% 199.5/199.5MB downloaded\n"
          ]
        }
      ],
      "source": [
        "import print_metrics\n",
        "# Download\n",
        "embedding_dim = 50\n",
        "# glove_vectors = gensim.downloader.load(f'glove-wiki-gigaword-{embedding_dim}') # 50, 100, 200 or 300\n",
        "glove_vectors = gensim.downloader.load(f'glove-twitter-{embedding_dim}') # 25, 50, 100, 200 or 300"
      ],
      "id": "16f41b3f"
    },
    {
      "cell_type": "markdown",
      "metadata": {
        "id": "9836e28e"
      },
      "source": [
        "# Data exploration"
      ],
      "id": "9836e28e"
    },
    {
      "cell_type": "code",
      "execution_count": 5,
      "metadata": {
        "id": "7faa94a2"
      },
      "outputs": [],
      "source": [
        "df = pd.read_csv(\"train.csv\")\n",
        "df = df.drop([\"Unnamed: 0\"],axis=1)\n",
        "\n",
        "\n",
        "df_val = pd.read_csv(\"dev.csv\")\n",
        "df_val = df_val.drop([\"Unnamed: 0\"],axis=1)\n",
        "\n",
        "# df_aug = pd.read_csv(\"augmented.csv\", sep='\\t')\n",
        "# # df_aug = pd.read_csv(\"augmented-all.csv\", sep='\\t')\n",
        "# df_aug['fraudulent'] = np.ones(len(df_aug), dtype=int)\n",
        "# df_aug = df_aug.replace(\" \",np.nan)\n",
        "\n",
        "# for df_column in df.columns:\n",
        "#     if df_column not in df_aug.columns:\n",
        "#         print(\"Dropped:\", df_column)\n",
        "#         df = df.drop([df_column],axis=1)\n",
        "#         df_val = df_val.drop([df_column],axis=1)\n",
        "\n",
        "# df_aug.head()"
      ],
      "id": "7faa94a2"
    },
    {
      "cell_type": "markdown",
      "metadata": {
        "id": "4eec215e"
      },
      "source": [
        "#### Missing Values"
      ],
      "id": "4eec215e"
    },
    {
      "cell_type": "code",
      "execution_count": 6,
      "metadata": {
        "id": "bb0d1a21"
      },
      "outputs": [],
      "source": [
        "df_fake = df.loc[df[\"fraudulent\"]==1]\n",
        "df_true = df.loc[df[\"fraudulent\"]==0]"
      ],
      "id": "bb0d1a21"
    },
    {
      "cell_type": "code",
      "execution_count": 7,
      "metadata": {
        "id": "c7e66c18"
      },
      "outputs": [],
      "source": [
        "def getNaNRatio(dataframes, column_names):\n",
        "    nan_df = pd.DataFrame({\n",
        "        'features': [column for column in sorted(dataframes[0].columns)]\n",
        "    })\n",
        "    for i in range(len(column_names)):\n",
        "        dataframe = dataframes[i]\n",
        "        rows = len(dataframe)\n",
        "        nan_df[column_names[i]] = [round(dataframe[column].isna().sum()/rows, 3) for column in sorted(dataframe.columns)]\n",
        "\n",
        "    return nan_df"
      ],
      "id": "c7e66c18"
    },
    {
      "cell_type": "code",
      "execution_count": 8,
      "metadata": {
        "id": "6a94b0d4"
      },
      "outputs": [],
      "source": [
        "# getNaNRatio([df_fake, df_aug, df_true], ['Fake data', 'Fake data augmented', 'True data'])"
      ],
      "id": "6a94b0d4"
    },
    {
      "cell_type": "markdown",
      "metadata": {
        "id": "64814e3b"
      },
      "source": [
        "#### Correlation (features with binary value)"
      ],
      "id": "64814e3b"
    },
    {
      "cell_type": "code",
      "execution_count": 9,
      "metadata": {
        "colab": {
          "base_uri": "https://localhost:8080/",
          "height": 0
        },
        "id": "7462e621",
        "outputId": "ad844806-8c51-4d7e-eb59-a206fc81d0cf"
      },
      "outputs": [
        {
          "output_type": "execute_result",
          "data": {
            "text/plain": [
              "               telecommuting  fraudulent\n",
              "telecommuting        1.00000     0.03296\n",
              "fraudulent           0.03296     1.00000"
            ],
            "text/html": [
              "\n",
              "  <div id=\"df-49465c51-e932-4625-b235-4496dc1d1f38\">\n",
              "    <div class=\"colab-df-container\">\n",
              "      <div>\n",
              "<style scoped>\n",
              "    .dataframe tbody tr th:only-of-type {\n",
              "        vertical-align: middle;\n",
              "    }\n",
              "\n",
              "    .dataframe tbody tr th {\n",
              "        vertical-align: top;\n",
              "    }\n",
              "\n",
              "    .dataframe thead th {\n",
              "        text-align: right;\n",
              "    }\n",
              "</style>\n",
              "<table border=\"1\" class=\"dataframe\">\n",
              "  <thead>\n",
              "    <tr style=\"text-align: right;\">\n",
              "      <th></th>\n",
              "      <th>telecommuting</th>\n",
              "      <th>fraudulent</th>\n",
              "    </tr>\n",
              "  </thead>\n",
              "  <tbody>\n",
              "    <tr>\n",
              "      <th>telecommuting</th>\n",
              "      <td>1.00000</td>\n",
              "      <td>0.03296</td>\n",
              "    </tr>\n",
              "    <tr>\n",
              "      <th>fraudulent</th>\n",
              "      <td>0.03296</td>\n",
              "      <td>1.00000</td>\n",
              "    </tr>\n",
              "  </tbody>\n",
              "</table>\n",
              "</div>\n",
              "      <button class=\"colab-df-convert\" onclick=\"convertToInteractive('df-49465c51-e932-4625-b235-4496dc1d1f38')\"\n",
              "              title=\"Convert this dataframe to an interactive table.\"\n",
              "              style=\"display:none;\">\n",
              "        \n",
              "  <svg xmlns=\"http://www.w3.org/2000/svg\" height=\"24px\"viewBox=\"0 0 24 24\"\n",
              "       width=\"24px\">\n",
              "    <path d=\"M0 0h24v24H0V0z\" fill=\"none\"/>\n",
              "    <path d=\"M18.56 5.44l.94 2.06.94-2.06 2.06-.94-2.06-.94-.94-2.06-.94 2.06-2.06.94zm-11 1L8.5 8.5l.94-2.06 2.06-.94-2.06-.94L8.5 2.5l-.94 2.06-2.06.94zm10 10l.94 2.06.94-2.06 2.06-.94-2.06-.94-.94-2.06-.94 2.06-2.06.94z\"/><path d=\"M17.41 7.96l-1.37-1.37c-.4-.4-.92-.59-1.43-.59-.52 0-1.04.2-1.43.59L10.3 9.45l-7.72 7.72c-.78.78-.78 2.05 0 2.83L4 21.41c.39.39.9.59 1.41.59.51 0 1.02-.2 1.41-.59l7.78-7.78 2.81-2.81c.8-.78.8-2.07 0-2.86zM5.41 20L4 18.59l7.72-7.72 1.47 1.35L5.41 20z\"/>\n",
              "  </svg>\n",
              "      </button>\n",
              "      \n",
              "  <style>\n",
              "    .colab-df-container {\n",
              "      display:flex;\n",
              "      flex-wrap:wrap;\n",
              "      gap: 12px;\n",
              "    }\n",
              "\n",
              "    .colab-df-convert {\n",
              "      background-color: #E8F0FE;\n",
              "      border: none;\n",
              "      border-radius: 50%;\n",
              "      cursor: pointer;\n",
              "      display: none;\n",
              "      fill: #1967D2;\n",
              "      height: 32px;\n",
              "      padding: 0 0 0 0;\n",
              "      width: 32px;\n",
              "    }\n",
              "\n",
              "    .colab-df-convert:hover {\n",
              "      background-color: #E2EBFA;\n",
              "      box-shadow: 0px 1px 2px rgba(60, 64, 67, 0.3), 0px 1px 3px 1px rgba(60, 64, 67, 0.15);\n",
              "      fill: #174EA6;\n",
              "    }\n",
              "\n",
              "    [theme=dark] .colab-df-convert {\n",
              "      background-color: #3B4455;\n",
              "      fill: #D2E3FC;\n",
              "    }\n",
              "\n",
              "    [theme=dark] .colab-df-convert:hover {\n",
              "      background-color: #434B5C;\n",
              "      box-shadow: 0px 1px 3px 1px rgba(0, 0, 0, 0.15);\n",
              "      filter: drop-shadow(0px 1px 2px rgba(0, 0, 0, 0.3));\n",
              "      fill: #FFFFFF;\n",
              "    }\n",
              "  </style>\n",
              "\n",
              "      <script>\n",
              "        const buttonEl =\n",
              "          document.querySelector('#df-49465c51-e932-4625-b235-4496dc1d1f38 button.colab-df-convert');\n",
              "        buttonEl.style.display =\n",
              "          google.colab.kernel.accessAllowed ? 'block' : 'none';\n",
              "\n",
              "        async function convertToInteractive(key) {\n",
              "          const element = document.querySelector('#df-49465c51-e932-4625-b235-4496dc1d1f38');\n",
              "          const dataTable =\n",
              "            await google.colab.kernel.invokeFunction('convertToInteractive',\n",
              "                                                     [key], {});\n",
              "          if (!dataTable) return;\n",
              "\n",
              "          const docLinkHtml = 'Like what you see? Visit the ' +\n",
              "            '<a target=\"_blank\" href=https://colab.research.google.com/notebooks/data_table.ipynb>data table notebook</a>'\n",
              "            + ' to learn more about interactive tables.';\n",
              "          element.innerHTML = '';\n",
              "          dataTable['output_type'] = 'display_data';\n",
              "          await google.colab.output.renderOutput(dataTable, element);\n",
              "          const docLink = document.createElement('div');\n",
              "          docLink.innerHTML = docLinkHtml;\n",
              "          element.appendChild(docLink);\n",
              "        }\n",
              "      </script>\n",
              "    </div>\n",
              "  </div>\n",
              "  "
            ]
          },
          "metadata": {},
          "execution_count": 9
        }
      ],
      "source": [
        "# Correlation\n",
        "df[[\"telecommuting\",\"fraudulent\"]].corr()"
      ],
      "id": "7462e621"
    },
    {
      "cell_type": "code",
      "execution_count": 10,
      "metadata": {
        "colab": {
          "base_uri": "https://localhost:8080/",
          "height": 0
        },
        "id": "9ef053ee",
        "outputId": "f98e7c24-3b17-4436-c243-545575b7f507"
      },
      "outputs": [
        {
          "output_type": "execute_result",
          "data": {
            "text/plain": [
              "                  has_company_logo  fraudulent\n",
              "has_company_logo          1.000000   -0.264599\n",
              "fraudulent               -0.264599    1.000000"
            ],
            "text/html": [
              "\n",
              "  <div id=\"df-4c337fbc-db86-41af-9753-4f3d7c17e9f5\">\n",
              "    <div class=\"colab-df-container\">\n",
              "      <div>\n",
              "<style scoped>\n",
              "    .dataframe tbody tr th:only-of-type {\n",
              "        vertical-align: middle;\n",
              "    }\n",
              "\n",
              "    .dataframe tbody tr th {\n",
              "        vertical-align: top;\n",
              "    }\n",
              "\n",
              "    .dataframe thead th {\n",
              "        text-align: right;\n",
              "    }\n",
              "</style>\n",
              "<table border=\"1\" class=\"dataframe\">\n",
              "  <thead>\n",
              "    <tr style=\"text-align: right;\">\n",
              "      <th></th>\n",
              "      <th>has_company_logo</th>\n",
              "      <th>fraudulent</th>\n",
              "    </tr>\n",
              "  </thead>\n",
              "  <tbody>\n",
              "    <tr>\n",
              "      <th>has_company_logo</th>\n",
              "      <td>1.000000</td>\n",
              "      <td>-0.264599</td>\n",
              "    </tr>\n",
              "    <tr>\n",
              "      <th>fraudulent</th>\n",
              "      <td>-0.264599</td>\n",
              "      <td>1.000000</td>\n",
              "    </tr>\n",
              "  </tbody>\n",
              "</table>\n",
              "</div>\n",
              "      <button class=\"colab-df-convert\" onclick=\"convertToInteractive('df-4c337fbc-db86-41af-9753-4f3d7c17e9f5')\"\n",
              "              title=\"Convert this dataframe to an interactive table.\"\n",
              "              style=\"display:none;\">\n",
              "        \n",
              "  <svg xmlns=\"http://www.w3.org/2000/svg\" height=\"24px\"viewBox=\"0 0 24 24\"\n",
              "       width=\"24px\">\n",
              "    <path d=\"M0 0h24v24H0V0z\" fill=\"none\"/>\n",
              "    <path d=\"M18.56 5.44l.94 2.06.94-2.06 2.06-.94-2.06-.94-.94-2.06-.94 2.06-2.06.94zm-11 1L8.5 8.5l.94-2.06 2.06-.94-2.06-.94L8.5 2.5l-.94 2.06-2.06.94zm10 10l.94 2.06.94-2.06 2.06-.94-2.06-.94-.94-2.06-.94 2.06-2.06.94z\"/><path d=\"M17.41 7.96l-1.37-1.37c-.4-.4-.92-.59-1.43-.59-.52 0-1.04.2-1.43.59L10.3 9.45l-7.72 7.72c-.78.78-.78 2.05 0 2.83L4 21.41c.39.39.9.59 1.41.59.51 0 1.02-.2 1.41-.59l7.78-7.78 2.81-2.81c.8-.78.8-2.07 0-2.86zM5.41 20L4 18.59l7.72-7.72 1.47 1.35L5.41 20z\"/>\n",
              "  </svg>\n",
              "      </button>\n",
              "      \n",
              "  <style>\n",
              "    .colab-df-container {\n",
              "      display:flex;\n",
              "      flex-wrap:wrap;\n",
              "      gap: 12px;\n",
              "    }\n",
              "\n",
              "    .colab-df-convert {\n",
              "      background-color: #E8F0FE;\n",
              "      border: none;\n",
              "      border-radius: 50%;\n",
              "      cursor: pointer;\n",
              "      display: none;\n",
              "      fill: #1967D2;\n",
              "      height: 32px;\n",
              "      padding: 0 0 0 0;\n",
              "      width: 32px;\n",
              "    }\n",
              "\n",
              "    .colab-df-convert:hover {\n",
              "      background-color: #E2EBFA;\n",
              "      box-shadow: 0px 1px 2px rgba(60, 64, 67, 0.3), 0px 1px 3px 1px rgba(60, 64, 67, 0.15);\n",
              "      fill: #174EA6;\n",
              "    }\n",
              "\n",
              "    [theme=dark] .colab-df-convert {\n",
              "      background-color: #3B4455;\n",
              "      fill: #D2E3FC;\n",
              "    }\n",
              "\n",
              "    [theme=dark] .colab-df-convert:hover {\n",
              "      background-color: #434B5C;\n",
              "      box-shadow: 0px 1px 3px 1px rgba(0, 0, 0, 0.15);\n",
              "      filter: drop-shadow(0px 1px 2px rgba(0, 0, 0, 0.3));\n",
              "      fill: #FFFFFF;\n",
              "    }\n",
              "  </style>\n",
              "\n",
              "      <script>\n",
              "        const buttonEl =\n",
              "          document.querySelector('#df-4c337fbc-db86-41af-9753-4f3d7c17e9f5 button.colab-df-convert');\n",
              "        buttonEl.style.display =\n",
              "          google.colab.kernel.accessAllowed ? 'block' : 'none';\n",
              "\n",
              "        async function convertToInteractive(key) {\n",
              "          const element = document.querySelector('#df-4c337fbc-db86-41af-9753-4f3d7c17e9f5');\n",
              "          const dataTable =\n",
              "            await google.colab.kernel.invokeFunction('convertToInteractive',\n",
              "                                                     [key], {});\n",
              "          if (!dataTable) return;\n",
              "\n",
              "          const docLinkHtml = 'Like what you see? Visit the ' +\n",
              "            '<a target=\"_blank\" href=https://colab.research.google.com/notebooks/data_table.ipynb>data table notebook</a>'\n",
              "            + ' to learn more about interactive tables.';\n",
              "          element.innerHTML = '';\n",
              "          dataTable['output_type'] = 'display_data';\n",
              "          await google.colab.output.renderOutput(dataTable, element);\n",
              "          const docLink = document.createElement('div');\n",
              "          docLink.innerHTML = docLinkHtml;\n",
              "          element.appendChild(docLink);\n",
              "        }\n",
              "      </script>\n",
              "    </div>\n",
              "  </div>\n",
              "  "
            ]
          },
          "metadata": {},
          "execution_count": 10
        }
      ],
      "source": [
        "df[[\"has_company_logo\",\"fraudulent\"]].corr()"
      ],
      "id": "9ef053ee"
    },
    {
      "cell_type": "markdown",
      "metadata": {
        "id": "6d1c14b9"
      },
      "source": [
        "-0.26 is significant correlation for keeping this feature"
      ],
      "id": "6d1c14b9"
    },
    {
      "cell_type": "code",
      "execution_count": 11,
      "metadata": {
        "colab": {
          "base_uri": "https://localhost:8080/",
          "height": 0
        },
        "id": "46930490",
        "outputId": "6147eabf-7a87-4b8d-efaf-edb7ccd33f9b"
      },
      "outputs": [
        {
          "output_type": "execute_result",
          "data": {
            "text/plain": [
              "               has_questions  fraudulent\n",
              "has_questions       1.000000   -0.092613\n",
              "fraudulent         -0.092613    1.000000"
            ],
            "text/html": [
              "\n",
              "  <div id=\"df-0ac977b1-f2b7-4493-be16-ea2a4ba3bf3f\">\n",
              "    <div class=\"colab-df-container\">\n",
              "      <div>\n",
              "<style scoped>\n",
              "    .dataframe tbody tr th:only-of-type {\n",
              "        vertical-align: middle;\n",
              "    }\n",
              "\n",
              "    .dataframe tbody tr th {\n",
              "        vertical-align: top;\n",
              "    }\n",
              "\n",
              "    .dataframe thead th {\n",
              "        text-align: right;\n",
              "    }\n",
              "</style>\n",
              "<table border=\"1\" class=\"dataframe\">\n",
              "  <thead>\n",
              "    <tr style=\"text-align: right;\">\n",
              "      <th></th>\n",
              "      <th>has_questions</th>\n",
              "      <th>fraudulent</th>\n",
              "    </tr>\n",
              "  </thead>\n",
              "  <tbody>\n",
              "    <tr>\n",
              "      <th>has_questions</th>\n",
              "      <td>1.000000</td>\n",
              "      <td>-0.092613</td>\n",
              "    </tr>\n",
              "    <tr>\n",
              "      <th>fraudulent</th>\n",
              "      <td>-0.092613</td>\n",
              "      <td>1.000000</td>\n",
              "    </tr>\n",
              "  </tbody>\n",
              "</table>\n",
              "</div>\n",
              "      <button class=\"colab-df-convert\" onclick=\"convertToInteractive('df-0ac977b1-f2b7-4493-be16-ea2a4ba3bf3f')\"\n",
              "              title=\"Convert this dataframe to an interactive table.\"\n",
              "              style=\"display:none;\">\n",
              "        \n",
              "  <svg xmlns=\"http://www.w3.org/2000/svg\" height=\"24px\"viewBox=\"0 0 24 24\"\n",
              "       width=\"24px\">\n",
              "    <path d=\"M0 0h24v24H0V0z\" fill=\"none\"/>\n",
              "    <path d=\"M18.56 5.44l.94 2.06.94-2.06 2.06-.94-2.06-.94-.94-2.06-.94 2.06-2.06.94zm-11 1L8.5 8.5l.94-2.06 2.06-.94-2.06-.94L8.5 2.5l-.94 2.06-2.06.94zm10 10l.94 2.06.94-2.06 2.06-.94-2.06-.94-.94-2.06-.94 2.06-2.06.94z\"/><path d=\"M17.41 7.96l-1.37-1.37c-.4-.4-.92-.59-1.43-.59-.52 0-1.04.2-1.43.59L10.3 9.45l-7.72 7.72c-.78.78-.78 2.05 0 2.83L4 21.41c.39.39.9.59 1.41.59.51 0 1.02-.2 1.41-.59l7.78-7.78 2.81-2.81c.8-.78.8-2.07 0-2.86zM5.41 20L4 18.59l7.72-7.72 1.47 1.35L5.41 20z\"/>\n",
              "  </svg>\n",
              "      </button>\n",
              "      \n",
              "  <style>\n",
              "    .colab-df-container {\n",
              "      display:flex;\n",
              "      flex-wrap:wrap;\n",
              "      gap: 12px;\n",
              "    }\n",
              "\n",
              "    .colab-df-convert {\n",
              "      background-color: #E8F0FE;\n",
              "      border: none;\n",
              "      border-radius: 50%;\n",
              "      cursor: pointer;\n",
              "      display: none;\n",
              "      fill: #1967D2;\n",
              "      height: 32px;\n",
              "      padding: 0 0 0 0;\n",
              "      width: 32px;\n",
              "    }\n",
              "\n",
              "    .colab-df-convert:hover {\n",
              "      background-color: #E2EBFA;\n",
              "      box-shadow: 0px 1px 2px rgba(60, 64, 67, 0.3), 0px 1px 3px 1px rgba(60, 64, 67, 0.15);\n",
              "      fill: #174EA6;\n",
              "    }\n",
              "\n",
              "    [theme=dark] .colab-df-convert {\n",
              "      background-color: #3B4455;\n",
              "      fill: #D2E3FC;\n",
              "    }\n",
              "\n",
              "    [theme=dark] .colab-df-convert:hover {\n",
              "      background-color: #434B5C;\n",
              "      box-shadow: 0px 1px 3px 1px rgba(0, 0, 0, 0.15);\n",
              "      filter: drop-shadow(0px 1px 2px rgba(0, 0, 0, 0.3));\n",
              "      fill: #FFFFFF;\n",
              "    }\n",
              "  </style>\n",
              "\n",
              "      <script>\n",
              "        const buttonEl =\n",
              "          document.querySelector('#df-0ac977b1-f2b7-4493-be16-ea2a4ba3bf3f button.colab-df-convert');\n",
              "        buttonEl.style.display =\n",
              "          google.colab.kernel.accessAllowed ? 'block' : 'none';\n",
              "\n",
              "        async function convertToInteractive(key) {\n",
              "          const element = document.querySelector('#df-0ac977b1-f2b7-4493-be16-ea2a4ba3bf3f');\n",
              "          const dataTable =\n",
              "            await google.colab.kernel.invokeFunction('convertToInteractive',\n",
              "                                                     [key], {});\n",
              "          if (!dataTable) return;\n",
              "\n",
              "          const docLinkHtml = 'Like what you see? Visit the ' +\n",
              "            '<a target=\"_blank\" href=https://colab.research.google.com/notebooks/data_table.ipynb>data table notebook</a>'\n",
              "            + ' to learn more about interactive tables.';\n",
              "          element.innerHTML = '';\n",
              "          dataTable['output_type'] = 'display_data';\n",
              "          await google.colab.output.renderOutput(dataTable, element);\n",
              "          const docLink = document.createElement('div');\n",
              "          docLink.innerHTML = docLinkHtml;\n",
              "          element.appendChild(docLink);\n",
              "        }\n",
              "      </script>\n",
              "    </div>\n",
              "  </div>\n",
              "  "
            ]
          },
          "metadata": {},
          "execution_count": 11
        }
      ],
      "source": [
        "df[[\"has_questions\",\"fraudulent\"]].corr()"
      ],
      "id": "46930490"
    },
    {
      "cell_type": "markdown",
      "metadata": {
        "id": "92cd5cb4"
      },
      "source": [
        "# Preprocessing"
      ],
      "id": "92cd5cb4"
    },
    {
      "cell_type": "markdown",
      "metadata": {
        "id": "20de6a1c"
      },
      "source": [
        "## Fill nan"
      ],
      "id": "20de6a1c"
    },
    {
      "cell_type": "code",
      "execution_count": 12,
      "metadata": {
        "id": "c434adc8"
      },
      "outputs": [],
      "source": [
        "df = df.fillna(\"none\")\n",
        "# df_aug = df_aug.fillna(\"none\")\n",
        "df_val = df_val.fillna(\"none\")"
      ],
      "id": "c434adc8"
    },
    {
      "cell_type": "markdown",
      "metadata": {
        "id": "h-02yv2_xePb"
      },
      "source": [
        "## Concatenate Train and Augmented datasets"
      ],
      "id": "h-02yv2_xePb"
    },
    {
      "cell_type": "code",
      "execution_count": 13,
      "metadata": {
        "colab": {
          "base_uri": "https://localhost:8080/"
        },
        "id": "WW7IRUTgxdu9",
        "outputId": "c010e94e-55c1-4dc7-b78f-fe69c7e37c58"
      },
      "outputs": [
        {
          "output_type": "stream",
          "name": "stdout",
          "text": [
            "Train dataset length: 14304\n"
          ]
        }
      ],
      "source": [
        "print('Train dataset length:', len(df))\n",
        "# print('Augmented dataset length:', len(df_aug))\n",
        "\n",
        "# df = pd.concat([df_aug, df])\n",
        "df = shuffle(df)\n",
        "df = df.reset_index()\n",
        "\n",
        "# print('Train dataset after concatenation:', len(df))"
      ],
      "id": "WW7IRUTgxdu9"
    },
    {
      "cell_type": "markdown",
      "metadata": {
        "id": "cfe8fafc"
      },
      "source": [
        "## Merge Features"
      ],
      "id": "cfe8fafc"
    },
    {
      "cell_type": "code",
      "execution_count": 14,
      "metadata": {
        "id": "03ddd8a4"
      },
      "outputs": [],
      "source": [
        "def merge(df, is_test):\n",
        "    # df = df.assign(merged_features=lambda df: df[\"title\"]+\" \"+df[\"location\"]+\" \"+df[\"department\"]+\n",
        "    #           df[\"employment_type\"]+\" \"+df[\"required_experience\"]+\" \"+df[\"required_education\"]+\" \"+\n",
        "    #            df[\"industry\"]+\" \"+df[\"function\"])\n",
        "    \n",
        "    # df = df.assign(merged_features=lambda df: df[\"description\"])\n",
        "    \n",
        "    df = df.assign(merged_features=lambda df: \n",
        "                   df[\"title\"]+\" \"\n",
        "                   +df[\"company_profile\"]+\" \"\n",
        "                  #  +df[\"location\"]+\" \"\n",
        "                  #  +df[\"department\"]+\" \"\n",
        "                  #  +df[\"requirements\"]+\" \"\n",
        "                   +df[\"description\"]#+\" \"\n",
        "                  #  +df[\"employment_type\"]+\" \"\n",
        "                  #  +df[\"required_experience\"]+\" \"\n",
        "                  #  +df[\"required_education\"]+\" \"\n",
        "                  #  +df[\"industry\"]+\" \"\n",
        "                  #  +df[\"function\"]+\" \"\n",
        "                  #  +df[\"benefits\"]\n",
        "                   )\n",
        "    \n",
        "    if is_test:\n",
        "        return df[[\"merged_features\"]]\n",
        "        \n",
        "    return df[[\"merged_features\",\"fraudulent\"]]"
      ],
      "id": "03ddd8a4"
    },
    {
      "cell_type": "code",
      "execution_count": 15,
      "metadata": {
        "colab": {
          "base_uri": "https://localhost:8080/",
          "height": 206
        },
        "id": "3e170413",
        "outputId": "f9c03920-6c75-4e34-a62a-7132042e879b"
      },
      "outputs": [
        {
          "output_type": "execute_result",
          "data": {
            "text/plain": [
              "                                     merged_features  fraudulent\n",
              "0  Investor Development Analyst MarketInvoice is ...           0\n",
              "1  Account Executive - Philadelphia Our passion f...           0\n",
              "2  House and Office Cleaners / Housekeepers FT/PT...           0\n",
              "3  Engagement Manager (Nigeria) Upstream’s missio...           0\n",
              "4  Financial Controller none Position:  Financial...           0"
            ],
            "text/html": [
              "\n",
              "  <div id=\"df-deec5233-96a0-4235-8846-8f8b042d5ba5\">\n",
              "    <div class=\"colab-df-container\">\n",
              "      <div>\n",
              "<style scoped>\n",
              "    .dataframe tbody tr th:only-of-type {\n",
              "        vertical-align: middle;\n",
              "    }\n",
              "\n",
              "    .dataframe tbody tr th {\n",
              "        vertical-align: top;\n",
              "    }\n",
              "\n",
              "    .dataframe thead th {\n",
              "        text-align: right;\n",
              "    }\n",
              "</style>\n",
              "<table border=\"1\" class=\"dataframe\">\n",
              "  <thead>\n",
              "    <tr style=\"text-align: right;\">\n",
              "      <th></th>\n",
              "      <th>merged_features</th>\n",
              "      <th>fraudulent</th>\n",
              "    </tr>\n",
              "  </thead>\n",
              "  <tbody>\n",
              "    <tr>\n",
              "      <th>0</th>\n",
              "      <td>Investor Development Analyst MarketInvoice is ...</td>\n",
              "      <td>0</td>\n",
              "    </tr>\n",
              "    <tr>\n",
              "      <th>1</th>\n",
              "      <td>Account Executive - Philadelphia Our passion f...</td>\n",
              "      <td>0</td>\n",
              "    </tr>\n",
              "    <tr>\n",
              "      <th>2</th>\n",
              "      <td>House and Office Cleaners / Housekeepers FT/PT...</td>\n",
              "      <td>0</td>\n",
              "    </tr>\n",
              "    <tr>\n",
              "      <th>3</th>\n",
              "      <td>Engagement Manager (Nigeria) Upstream’s missio...</td>\n",
              "      <td>0</td>\n",
              "    </tr>\n",
              "    <tr>\n",
              "      <th>4</th>\n",
              "      <td>Financial Controller none Position:  Financial...</td>\n",
              "      <td>0</td>\n",
              "    </tr>\n",
              "  </tbody>\n",
              "</table>\n",
              "</div>\n",
              "      <button class=\"colab-df-convert\" onclick=\"convertToInteractive('df-deec5233-96a0-4235-8846-8f8b042d5ba5')\"\n",
              "              title=\"Convert this dataframe to an interactive table.\"\n",
              "              style=\"display:none;\">\n",
              "        \n",
              "  <svg xmlns=\"http://www.w3.org/2000/svg\" height=\"24px\"viewBox=\"0 0 24 24\"\n",
              "       width=\"24px\">\n",
              "    <path d=\"M0 0h24v24H0V0z\" fill=\"none\"/>\n",
              "    <path d=\"M18.56 5.44l.94 2.06.94-2.06 2.06-.94-2.06-.94-.94-2.06-.94 2.06-2.06.94zm-11 1L8.5 8.5l.94-2.06 2.06-.94-2.06-.94L8.5 2.5l-.94 2.06-2.06.94zm10 10l.94 2.06.94-2.06 2.06-.94-2.06-.94-.94-2.06-.94 2.06-2.06.94z\"/><path d=\"M17.41 7.96l-1.37-1.37c-.4-.4-.92-.59-1.43-.59-.52 0-1.04.2-1.43.59L10.3 9.45l-7.72 7.72c-.78.78-.78 2.05 0 2.83L4 21.41c.39.39.9.59 1.41.59.51 0 1.02-.2 1.41-.59l7.78-7.78 2.81-2.81c.8-.78.8-2.07 0-2.86zM5.41 20L4 18.59l7.72-7.72 1.47 1.35L5.41 20z\"/>\n",
              "  </svg>\n",
              "      </button>\n",
              "      \n",
              "  <style>\n",
              "    .colab-df-container {\n",
              "      display:flex;\n",
              "      flex-wrap:wrap;\n",
              "      gap: 12px;\n",
              "    }\n",
              "\n",
              "    .colab-df-convert {\n",
              "      background-color: #E8F0FE;\n",
              "      border: none;\n",
              "      border-radius: 50%;\n",
              "      cursor: pointer;\n",
              "      display: none;\n",
              "      fill: #1967D2;\n",
              "      height: 32px;\n",
              "      padding: 0 0 0 0;\n",
              "      width: 32px;\n",
              "    }\n",
              "\n",
              "    .colab-df-convert:hover {\n",
              "      background-color: #E2EBFA;\n",
              "      box-shadow: 0px 1px 2px rgba(60, 64, 67, 0.3), 0px 1px 3px 1px rgba(60, 64, 67, 0.15);\n",
              "      fill: #174EA6;\n",
              "    }\n",
              "\n",
              "    [theme=dark] .colab-df-convert {\n",
              "      background-color: #3B4455;\n",
              "      fill: #D2E3FC;\n",
              "    }\n",
              "\n",
              "    [theme=dark] .colab-df-convert:hover {\n",
              "      background-color: #434B5C;\n",
              "      box-shadow: 0px 1px 3px 1px rgba(0, 0, 0, 0.15);\n",
              "      filter: drop-shadow(0px 1px 2px rgba(0, 0, 0, 0.3));\n",
              "      fill: #FFFFFF;\n",
              "    }\n",
              "  </style>\n",
              "\n",
              "      <script>\n",
              "        const buttonEl =\n",
              "          document.querySelector('#df-deec5233-96a0-4235-8846-8f8b042d5ba5 button.colab-df-convert');\n",
              "        buttonEl.style.display =\n",
              "          google.colab.kernel.accessAllowed ? 'block' : 'none';\n",
              "\n",
              "        async function convertToInteractive(key) {\n",
              "          const element = document.querySelector('#df-deec5233-96a0-4235-8846-8f8b042d5ba5');\n",
              "          const dataTable =\n",
              "            await google.colab.kernel.invokeFunction('convertToInteractive',\n",
              "                                                     [key], {});\n",
              "          if (!dataTable) return;\n",
              "\n",
              "          const docLinkHtml = 'Like what you see? Visit the ' +\n",
              "            '<a target=\"_blank\" href=https://colab.research.google.com/notebooks/data_table.ipynb>data table notebook</a>'\n",
              "            + ' to learn more about interactive tables.';\n",
              "          element.innerHTML = '';\n",
              "          dataTable['output_type'] = 'display_data';\n",
              "          await google.colab.output.renderOutput(dataTable, element);\n",
              "          const docLink = document.createElement('div');\n",
              "          docLink.innerHTML = docLinkHtml;\n",
              "          element.appendChild(docLink);\n",
              "        }\n",
              "      </script>\n",
              "    </div>\n",
              "  </div>\n",
              "  "
            ]
          },
          "metadata": {},
          "execution_count": 15
        }
      ],
      "source": [
        "df_merged = merge(df, False)\n",
        "df_val_merged = merge(df_val, False)\n",
        "df_merged.head()"
      ],
      "id": "3e170413"
    },
    {
      "cell_type": "code",
      "execution_count": 16,
      "metadata": {
        "id": "63a07108"
      },
      "outputs": [],
      "source": [
        "features_train = np.array(df_merged[\"merged_features\"])\n",
        "target_train = np.array(df_merged[\"fraudulent\"])\n",
        "\n",
        "features_val = np.array(df_val_merged[\"merged_features\"])\n",
        "target_val = np.array(df_val_merged[\"fraudulent\"])"
      ],
      "id": "63a07108"
    },
    {
      "cell_type": "markdown",
      "source": [
        "## Tokenization"
      ],
      "metadata": {
        "id": "eWjhI5B540FH"
      },
      "id": "eWjhI5B540FH"
    },
    {
      "cell_type": "code",
      "execution_count": 17,
      "metadata": {
        "id": "e3de280f"
      },
      "outputs": [],
      "source": [
        "# Lowercase, removing stop words, punctuation, numbers, stemming\n",
        "\n",
        "# Input -> array of docs\n",
        "def preprocess_texts(texts):\n",
        "    preprocessed = []\n",
        "    # stop_words = stopwords.words('english')\n",
        "    punct=string.punctuation\n",
        "    # stemmer=PorterStemmer()\n",
        "    lemmatizer = WordNetLemmatizer()\n",
        "    \n",
        "    print(\"Preprocessing..\")\n",
        "    for text in tqdm(texts):\n",
        "        words = word_tokenize(text)\n",
        "        words = [''.join([i for i in word if not i.isdigit()]) for word in words] # Removing numbers\n",
        "        # All in one :)\n",
        "        # words = [lemmatizer.lemmatize(word.lower()) for word in words if (word not in stop_words) and (word not in punct)]\n",
        "        words = [lemmatizer.lemmatize(word.lower()) for word in words if word not in punct]\n",
        "        preprocessed.append(words)\n",
        "        \n",
        "    print(\"Done\")\n",
        "    return preprocessed\n",
        "        "
      ],
      "id": "e3de280f"
    },
    {
      "cell_type": "code",
      "execution_count": 18,
      "metadata": {
        "colab": {
          "base_uri": "https://localhost:8080/"
        },
        "id": "bf9c9420",
        "outputId": "a164a03c-ba94-4656-9562-1f03be94e310"
      },
      "outputs": [
        {
          "output_type": "stream",
          "name": "stdout",
          "text": [
            "Preprocessing..\n"
          ]
        },
        {
          "output_type": "stream",
          "name": "stderr",
          "text": [
            "100%|██████████| 14304/14304 [00:44<00:00, 318.73it/s]\n"
          ]
        },
        {
          "output_type": "stream",
          "name": "stdout",
          "text": [
            "Done\n",
            "Preprocessing..\n"
          ]
        },
        {
          "output_type": "stream",
          "name": "stderr",
          "text": [
            "100%|██████████| 1788/1788 [00:05<00:00, 318.91it/s]"
          ]
        },
        {
          "output_type": "stream",
          "name": "stdout",
          "text": [
            "Done\n"
          ]
        },
        {
          "output_type": "stream",
          "name": "stderr",
          "text": [
            "\n"
          ]
        }
      ],
      "source": [
        "preprocessed_train = preprocess_texts(features_train)\n",
        "preprocessed_val = preprocess_texts(features_val)\n",
        "#print(preprocessed[:3])"
      ],
      "id": "bf9c9420"
    },
    {
      "cell_type": "markdown",
      "metadata": {
        "id": "3711b1bc"
      },
      "source": [
        "## GloVe Embeddings"
      ],
      "id": "3711b1bc"
    },
    {
      "cell_type": "code",
      "execution_count": 19,
      "metadata": {
        "id": "a765f8d8"
      },
      "outputs": [],
      "source": [
        "def texts2embeddings(texts, max_length, em_dim):\n",
        "    embeddings = []\n",
        "    total_words = 0\n",
        "    missing_words = 0\n",
        "    for text in tqdm(texts):\n",
        "        embedded_text = []\n",
        "        for word in text:\n",
        "            total_words += 1\n",
        "            try:\n",
        "                embedded_text.append(glove_vectors[word])\n",
        "            except:\n",
        "                embedded_text.append(glove_vectors['unk'])\n",
        "                missing_words += 1\n",
        "        embeddings.append(embedded_text)\n",
        "    embeddings = pad_sequences(embeddings, maxlen=max_length, padding='post', value=glove_vectors['unk'], dtype=\"float32\")\n",
        "    print(\"Missing words:\", missing_words/total_words)\n",
        "    return embeddings"
      ],
      "id": "a765f8d8"
    },
    {
      "cell_type": "code",
      "execution_count": 20,
      "metadata": {
        "id": "c51b05fa",
        "colab": {
          "base_uri": "https://localhost:8080/"
        },
        "outputId": "8c405569-690c-4642-b604-f0884925a4be"
      },
      "outputs": [
        {
          "output_type": "stream",
          "name": "stdout",
          "text": [
            "Max length: 1485 \n",
            "Min length: 4\n"
          ]
        },
        {
          "output_type": "stream",
          "name": "stderr",
          "text": [
            "100%|██████████| 14304/14304 [00:06<00:00, 2156.88it/s]\n"
          ]
        },
        {
          "output_type": "stream",
          "name": "stdout",
          "text": [
            "Missing words: 0.048732111102963716\n"
          ]
        },
        {
          "output_type": "stream",
          "name": "stderr",
          "text": [
            "100%|██████████| 1788/1788 [00:00<00:00, 2373.45it/s]\n"
          ]
        },
        {
          "output_type": "stream",
          "name": "stdout",
          "text": [
            "Missing words: 0.04915179188027591\n"
          ]
        }
      ],
      "source": [
        "max_input_length = max([len(doc) for doc in preprocessed_train])\n",
        "min_input_length = min([len(doc) for doc in preprocessed_train])\n",
        "\n",
        "print(\"Max length:\", max_input_length, \"\\nMin length:\", min_input_length)\n",
        "# max_input_length=1000\n",
        "\n",
        "embedded_features_train = texts2embeddings(preprocessed_train, max_input_length, embedding_dim)\n",
        "embedded_features_val = texts2embeddings(preprocessed_val, max_input_length, embedding_dim)"
      ],
      "id": "c51b05fa"
    },
    {
      "cell_type": "markdown",
      "metadata": {
        "id": "ecrH3STGUJAm"
      },
      "source": [
        "*Uncomment next cells if session crashes in colab:*"
      ],
      "id": "ecrH3STGUJAm"
    },
    {
      "cell_type": "code",
      "execution_count": 21,
      "metadata": {
        "id": "1WVbRX6-p88S"
      },
      "outputs": [],
      "source": [
        "# with open('embedded_features_train.npy', 'wb') as f:\n",
        "#     np.save(f, embedded_features_train)\n",
        "# with open('embedded_features_val.npy', 'wb') as f:\n",
        "#     np.save(f, embedded_features_val)"
      ],
      "id": "1WVbRX6-p88S"
    },
    {
      "cell_type": "code",
      "execution_count": 22,
      "metadata": {
        "id": "o0j3y_P5rE9B"
      },
      "outputs": [],
      "source": [
        "# with open('embedded_features_train.npy', 'rb') as f:\n",
        "#     embedded_features_train = np.load(f)\n",
        "# with open('embedded_features_val.npy', 'rb') as f:\n",
        "#     embedded_features_val = np.load(f)"
      ],
      "id": "o0j3y_P5rE9B"
    },
    {
      "cell_type": "markdown",
      "source": [
        "# Training the Neural Network"
      ],
      "metadata": {
        "id": "BGm4nwYSu8b6"
      },
      "id": "BGm4nwYSu8b6"
    },
    {
      "cell_type": "code",
      "execution_count": 23,
      "metadata": {
        "id": "32cca12d",
        "colab": {
          "base_uri": "https://localhost:8080/"
        },
        "outputId": "d7bbafbb-591b-4032-ad81-33e2ec0941a0"
      },
      "outputs": [
        {
          "output_type": "stream",
          "name": "stdout",
          "text": [
            "Epoch 1/30\n",
            "447/447 - 126s - loss: 0.1836 - accuracy: 0.9497 - val_loss: 0.1411 - val_accuracy: 0.9642 - 126s/epoch - 283ms/step\n",
            "Epoch 2/30\n",
            "447/447 - 118s - loss: 0.1316 - accuracy: 0.9562 - val_loss: 0.1557 - val_accuracy: 0.9620 - 118s/epoch - 264ms/step\n",
            "Epoch 3/30\n",
            "447/447 - 118s - loss: 0.1024 - accuracy: 0.9652 - val_loss: 0.0937 - val_accuracy: 0.9653 - 118s/epoch - 265ms/step\n",
            "Epoch 4/30\n",
            "447/447 - 118s - loss: 0.0699 - accuracy: 0.9759 - val_loss: 0.0517 - val_accuracy: 0.9815 - 118s/epoch - 265ms/step\n",
            "Epoch 5/30\n",
            "447/447 - 118s - loss: 0.0633 - accuracy: 0.9786 - val_loss: 0.0622 - val_accuracy: 0.9765 - 118s/epoch - 264ms/step\n",
            "Epoch 6/30\n",
            "447/447 - 118s - loss: 0.0512 - accuracy: 0.9819 - val_loss: 0.0513 - val_accuracy: 0.9821 - 118s/epoch - 264ms/step\n",
            "Epoch 7/30\n",
            "447/447 - 118s - loss: 0.0405 - accuracy: 0.9859 - val_loss: 0.0487 - val_accuracy: 0.9838 - 118s/epoch - 264ms/step\n",
            "Epoch 8/30\n",
            "447/447 - 118s - loss: 0.0307 - accuracy: 0.9892 - val_loss: 0.0475 - val_accuracy: 0.9860 - 118s/epoch - 264ms/step\n",
            "Epoch 9/30\n",
            "447/447 - 118s - loss: 0.0255 - accuracy: 0.9906 - val_loss: 0.0485 - val_accuracy: 0.9883 - 118s/epoch - 264ms/step\n",
            "Epoch 10/30\n",
            "447/447 - 118s - loss: 0.0219 - accuracy: 0.9918 - val_loss: 0.0503 - val_accuracy: 0.9877 - 118s/epoch - 264ms/step\n",
            "Epoch 11/30\n",
            "447/447 - 118s - loss: 0.0154 - accuracy: 0.9945 - val_loss: 0.0684 - val_accuracy: 0.9810 - 118s/epoch - 264ms/step\n",
            "Epoch 12/30\n",
            "447/447 - 118s - loss: 0.0612 - accuracy: 0.9832 - val_loss: 0.1173 - val_accuracy: 0.9631 - 118s/epoch - 264ms/step\n",
            "Epoch 13/30\n",
            "447/447 - 118s - loss: 0.0609 - accuracy: 0.9783 - val_loss: 0.0800 - val_accuracy: 0.9754 - 118s/epoch - 264ms/step\n",
            "Epoch 14/30\n",
            "447/447 - 118s - loss: 0.0220 - accuracy: 0.9920 - val_loss: 0.0537 - val_accuracy: 0.9877 - 118s/epoch - 264ms/step\n",
            "Epoch 15/30\n",
            "447/447 - 118s - loss: 0.0098 - accuracy: 0.9961 - val_loss: 0.0474 - val_accuracy: 0.9888 - 118s/epoch - 264ms/step\n",
            "Epoch 16/30\n",
            "447/447 - 118s - loss: 0.0076 - accuracy: 0.9976 - val_loss: 0.0646 - val_accuracy: 0.9838 - 118s/epoch - 264ms/step\n",
            "Epoch 17/30\n",
            "447/447 - 118s - loss: 0.0079 - accuracy: 0.9973 - val_loss: 0.0488 - val_accuracy: 0.9894 - 118s/epoch - 264ms/step\n",
            "Epoch 18/30\n",
            "447/447 - 118s - loss: 0.0048 - accuracy: 0.9986 - val_loss: 0.0553 - val_accuracy: 0.9911 - 118s/epoch - 264ms/step\n",
            "Epoch 19/30\n",
            "447/447 - 118s - loss: 0.0018 - accuracy: 0.9995 - val_loss: 0.0654 - val_accuracy: 0.9894 - 118s/epoch - 264ms/step\n",
            "Epoch 20/30\n",
            "447/447 - 118s - loss: 0.0050 - accuracy: 0.9984 - val_loss: 0.0753 - val_accuracy: 0.9883 - 118s/epoch - 264ms/step\n",
            "Epoch 21/30\n",
            "447/447 - 118s - loss: 0.0057 - accuracy: 0.9982 - val_loss: 0.0666 - val_accuracy: 0.9888 - 118s/epoch - 264ms/step\n",
            "Epoch 22/30\n",
            "447/447 - 118s - loss: 0.0113 - accuracy: 0.9966 - val_loss: 0.0544 - val_accuracy: 0.9894 - 118s/epoch - 264ms/step\n",
            "Epoch 23/30\n",
            "447/447 - 118s - loss: 0.0035 - accuracy: 0.9988 - val_loss: 0.0619 - val_accuracy: 0.9883 - 118s/epoch - 264ms/step\n",
            "Epoch 24/30\n",
            "447/447 - 118s - loss: 0.0059 - accuracy: 0.9982 - val_loss: 0.0623 - val_accuracy: 0.9905 - 118s/epoch - 264ms/step\n",
            "Epoch 25/30\n",
            "447/447 - 118s - loss: 0.0012 - accuracy: 0.9997 - val_loss: 0.0825 - val_accuracy: 0.9899 - 118s/epoch - 264ms/step\n",
            "Epoch 26/30\n",
            "447/447 - 118s - loss: 0.0069 - accuracy: 0.9980 - val_loss: 0.0684 - val_accuracy: 0.9877 - 118s/epoch - 264ms/step\n",
            "Epoch 27/30\n",
            "447/447 - 118s - loss: 0.0056 - accuracy: 0.9986 - val_loss: 0.0700 - val_accuracy: 0.9883 - 118s/epoch - 264ms/step\n",
            "Epoch 28/30\n",
            "447/447 - 118s - loss: 0.0052 - accuracy: 0.9985 - val_loss: 0.0658 - val_accuracy: 0.9871 - 118s/epoch - 264ms/step\n",
            "Epoch 29/30\n",
            "447/447 - 118s - loss: 0.0019 - accuracy: 0.9996 - val_loss: 0.0815 - val_accuracy: 0.9883 - 118s/epoch - 264ms/step\n",
            "Epoch 30/30\n",
            "447/447 - 118s - loss: 0.0022 - accuracy: 0.9995 - val_loss: 0.0690 - val_accuracy: 0.9877 - 118s/epoch - 265ms/step\n"
          ]
        }
      ],
      "source": [
        "from functools import lru_cache\n",
        "# Building model\n",
        "\n",
        "checkpoint_filepath = './checkpoint'\n",
        "model_checkpoint_callback = ModelCheckpoint(\n",
        "    filepath=checkpoint_filepath,\n",
        "    save_weights_only=True,\n",
        "    monitor='val_accuracy',\n",
        "    mode='max',\n",
        "    save_best_only=True)\n",
        "\n",
        "\n",
        "model = Sequential()\n",
        "model.add(Bidirectional(LSTM(400, input_shape=(max_input_length, embedding_dim))))\n",
        "model.add(Dropout(0.2))\n",
        "model.add(Dense(32))\n",
        "model.add(Dropout(0.2))\n",
        "model.add(Dense(16))\n",
        "model.add(Dense(1,activation=\"sigmoid\")) \n",
        "model.compile(loss='binary_crossentropy', optimizer='adam',metrics=[\"accuracy\"])\n",
        "history = model.fit(embedded_features_train, target_train, epochs=30, batch_size=32, verbose=2,\n",
        "                    validation_data=(embedded_features_val,target_val), callbacks=[model_checkpoint_callback])"
      ],
      "id": "32cca12d"
    },
    {
      "cell_type": "code",
      "execution_count": 24,
      "metadata": {
        "id": "f40b68d0",
        "colab": {
          "base_uri": "https://localhost:8080/"
        },
        "outputId": "7f0a37c5-a870-48db-8ff5-668d014ce47a"
      },
      "outputs": [
        {
          "output_type": "stream",
          "name": "stdout",
          "text": [
            "Baseline: 0.9619686800894854\n"
          ]
        }
      ],
      "source": [
        "print(\"Baseline:\",(1-sum(target_val)/len(target_val)))"
      ],
      "id": "f40b68d0"
    },
    {
      "cell_type": "code",
      "execution_count": 25,
      "metadata": {
        "id": "171f8a3a",
        "colab": {
          "base_uri": "https://localhost:8080/",
          "height": 821
        },
        "outputId": "0f20f01e-f681-467e-f59d-52110583b1c7"
      },
      "outputs": [
        {
          "output_type": "stream",
          "name": "stdout",
          "text": [
            "Max threshold 0.6\n",
            "Accuracy: 0.99\n",
            "F1:\n",
            "Micro: 0.99\n",
            "Macro: 0.94\n",
            "Weighted: 0.99\n",
            "For fraudulent: 0.89\n"
          ]
        },
        {
          "output_type": "display_data",
          "data": {
            "text/plain": [
              "<Figure size 800x800 with 2 Axes>"
            ],
            "image/png": "[encoded data removed]"
          },
          "metadata": {
            "needs_background": "light"
          }
        }
      ],
      "source": [
        "# The model weights (that are considered the best) are loaded into the model.\n",
        "model.load_weights(checkpoint_filepath)\n",
        "\n",
        "predicted = model.predict(embedded_features_val)\n",
        "print_metrics.calculate_analog_results(target_val, predicted)"
      ],
      "id": "171f8a3a"
    },
    {
      "cell_type": "code",
      "execution_count": 26,
      "metadata": {
        "id": "97bc138d",
        "colab": {
          "base_uri": "https://localhost:8080/",
          "height": 279
        },
        "outputId": "b2236ed2-c3ee-4ba8-c37b-1b243ba8fff4"
      },
      "outputs": [
        {
          "output_type": "display_data",
          "data": {
            "text/plain": [
              "<Figure size 432x288 with 1 Axes>"
            ],
            "image/png": "[encoded data removed]"
          },
          "metadata": {
            "needs_background": "light"
          }
        }
      ],
      "source": [
        "# Presicion / recall curve\n",
        "precision,recall,tresholds = precision_recall_curve(target_val, predicted)\n",
        "\n",
        "plt.plot(tresholds,recall[:-1],label=\"Recall\")\n",
        "plt.plot(tresholds,precision[:-1],label=\"Precision\")\n",
        "plt.xlabel(\"Tresholds\")\n",
        "plt.ylabel(\"Precision/Recall\")\n",
        "plt.legend()\n",
        "plt.show()"
      ],
      "id": "97bc138d"
    },
    {
      "cell_type": "markdown",
      "source": [
        "# Training Classical ML Models"
      ],
      "metadata": {
        "id": "jqu4tt8l6jeS"
      },
      "id": "jqu4tt8l6jeS"
    },
    {
      "cell_type": "markdown",
      "source": [
        "## Random Forest Classifier"
      ],
      "metadata": {
        "id": "2iaLX7WB_ZZL"
      },
      "id": "2iaLX7WB_ZZL"
    },
    {
      "cell_type": "code",
      "source": [
        "rfc = RandomForestClassifier(random_state=0)\n",
        "rfc.fit(embedded_features_train.reshape(len(df), -1), target_train)"
      ],
      "metadata": {
        "id": "btEesrE_vAQ4",
        "colab": {
          "base_uri": "https://localhost:8080/"
        },
        "outputId": "5c3f7ffc-86e2-4d2e-82a9-8013e6c63be7"
      },
      "id": "btEesrE_vAQ4",
      "execution_count": 33,
      "outputs": [
        {
          "output_type": "execute_result",
          "data": {
            "text/plain": [
              "RandomForestClassifier(random_state=0)"
            ]
          },
          "metadata": {},
          "execution_count": 33
        }
      ]
    },
    {
      "cell_type": "code",
      "source": [
        "predicted = rfc.predict(embedded_features_val.reshape(len(df_val), -1))\n",
        "print_metrics.calculate_discrete_results(target_val, predicted)"
      ],
      "metadata": {
        "id": "5SY8cbIkacuV",
        "colab": {
          "base_uri": "https://localhost:8080/",
          "height": 803
        },
        "outputId": "6ce6ccd7-bb1e-4d6c-a52e-82541507801b"
      },
      "id": "5SY8cbIkacuV",
      "execution_count": 34,
      "outputs": [
        {
          "output_type": "stream",
          "name": "stdout",
          "text": [
            "Accuracy: 0.98\n",
            "F1:\n",
            "Micro: 0.98\n",
            "Macro: 0.79\n",
            "Weighted: 0.97\n",
            "For fraudulent: 0.6\n"
          ]
        },
        {
          "output_type": "display_data",
          "data": {
            "text/plain": [
              "<Figure size 800x800 with 2 Axes>"
            ],
            "image/png": "[encoded data removed]"
          },
          "metadata": {
            "needs_background": "light"
          }
        }
      ]
    },
    {
      "cell_type": "markdown",
      "source": [
        "## KNN Classifier"
      ],
      "metadata": {
        "id": "R6hpThM_BXS8"
      },
      "id": "R6hpThM_BXS8"
    },
    {
      "cell_type": "code",
      "source": [
        "knn = KNeighborsClassifier(n_neighbors=4, weights='uniform', n_jobs=-1)\n",
        "knn.fit(embedded_features_train.reshape(len(df), -1), target_train)"
      ],
      "metadata": {
        "id": "5V53FNcle_8j",
        "colab": {
          "base_uri": "https://localhost:8080/"
        },
        "outputId": "cb51bcc9-5287-4e68-afe6-e14ee3456cab"
      },
      "id": "5V53FNcle_8j",
      "execution_count": 35,
      "outputs": [
        {
          "output_type": "execute_result",
          "data": {
            "text/plain": [
              "KNeighborsClassifier(n_jobs=-1, n_neighbors=4)"
            ]
          },
          "metadata": {},
          "execution_count": 35
        }
      ]
    },
    {
      "cell_type": "code",
      "source": [
        "predicted = knn.predict(embedded_features_val.reshape(len(df_val), -1))\n",
        "print_metrics.calculate_discrete_results(target_val, predicted)"
      ],
      "metadata": {
        "id": "Eu516zwBBoi7",
        "colab": {
          "base_uri": "https://localhost:8080/",
          "height": 803
        },
        "outputId": "22eb9397-082b-4f00-b878-ff5a47111457"
      },
      "id": "Eu516zwBBoi7",
      "execution_count": 36,
      "outputs": [
        {
          "output_type": "stream",
          "name": "stdout",
          "text": [
            "Accuracy: 0.97\n",
            "F1:\n",
            "Micro: 0.97\n",
            "Macro: 0.75\n",
            "Weighted: 0.97\n",
            "For fraudulent: 0.5\n"
          ]
        },
        {
          "output_type": "display_data",
          "data": {
            "text/plain": [
              "<Figure size 800x800 with 2 Axes>"
            ],
            "image/png": "[encoded data removed]"
          },
          "metadata": {
            "needs_background": "light"
          }
        }
      ]
    },
    {
      "cell_type": "markdown",
      "source": [
        "## KNN Regressor"
      ],
      "metadata": {
        "id": "sp2nJNAEcmlb"
      },
      "id": "sp2nJNAEcmlb"
    },
    {
      "cell_type": "code",
      "source": [
        "knn_reg = KNeighborsRegressor()\n",
        "knn_reg.fit(embedded_features_train.reshape(len(df), -1), target_train)"
      ],
      "metadata": {
        "id": "SMT3EC2Ccnm7"
      },
      "id": "SMT3EC2Ccnm7",
      "execution_count": null,
      "outputs": []
    },
    {
      "cell_type": "code",
      "source": [
        "predicted = knn_reg.predict(embedded_features_val.reshape(len(df_val), -1))\n",
        "print_metrics.calculate_analog_results(target_val, predicted)"
      ],
      "metadata": {
        "id": "QlgpY3MScwHh"
      },
      "id": "QlgpY3MScwHh",
      "execution_count": null,
      "outputs": []
    },
    {
      "cell_type": "markdown",
      "source": [
        "## Linear SVC (did not work because of crash)"
      ],
      "metadata": {
        "id": "TkkDVFSTjZCR"
      },
      "id": "TkkDVFSTjZCR"
    },
    {
      "cell_type": "code",
      "source": [
        "# lsvc = make_pipeline(StandardScaler(), LinearSVC(random_state=0, tol=1e-5))\n",
        "# lsvc.fit(embedded_features_train.reshape(len(df), -1), target_train)"
      ],
      "metadata": {
        "id": "QVFwPOC8jb6D"
      },
      "id": "QVFwPOC8jb6D",
      "execution_count": null,
      "outputs": []
    },
    {
      "cell_type": "code",
      "source": [
        "# predicted = lsvc.predict(embedded_features_val.reshape(len(df_val), -1))\n",
        "# print_metrics.calculate_discrete_results(target_val, predicted)"
      ],
      "metadata": {
        "id": "i6TycTd_jr-O"
      },
      "id": "i6TycTd_jr-O",
      "execution_count": null,
      "outputs": []
    },
    {
      "cell_type": "markdown",
      "source": [
        "# Predicting on Test Dataset"
      ],
      "metadata": {
        "id": "3t4BrOeeaeN0"
      },
      "id": "3t4BrOeeaeN0"
    },
    {
      "cell_type": "markdown",
      "source": [
        "## Reading and preprocessing"
      ],
      "metadata": {
        "id": "JFIcDAasakDD"
      },
      "id": "JFIcDAasakDD"
    },
    {
      "cell_type": "code",
      "source": [
        "!wget https://raw.githubusercontent.com/KilRil/Fake-job-postings/main/data/test_handout.csv"
      ],
      "metadata": {
        "id": "Y_jB42s2ai-J",
        "colab": {
          "base_uri": "https://localhost:8080/"
        },
        "outputId": "8dd761b8-5c2a-4ad8-c7eb-42148aac678d"
      },
      "id": "Y_jB42s2ai-J",
      "execution_count": 27,
      "outputs": [
        {
          "output_type": "stream",
          "name": "stdout",
          "text": [
            "--2022-05-23 13:39:43--  https://raw.githubusercontent.com/KilRil/Fake-job-postings/main/data/test_handout.csv\n",
            "Resolving raw.githubusercontent.com (raw.githubusercontent.com)... 185.199.108.133, 185.199.109.133, 185.199.111.133, ...\n",
            "Connecting to raw.githubusercontent.com (raw.githubusercontent.com)|185.199.108.133|:443... connected.\n",
            "HTTP request sent, awaiting response... 200 OK\n",
            "Length: 5014045 (4.8M) [text/plain]\n",
            "Saving to: ‘test_handout.csv’\n",
            "\n",
            "test_handout.csv    100%[===================>]   4.78M  --.-KB/s    in 0.07s   \n",
            "\n",
            "2022-05-23 13:39:43 (64.8 MB/s) - ‘test_handout.csv’ saved [5014045/5014045]\n",
            "\n"
          ]
        }
      ]
    },
    {
      "cell_type": "code",
      "source": [
        "# reading test set\n",
        "df_test = pd.read_csv(\"test_handout.csv\")\n",
        "df_test = df_test.drop([\"Unnamed: 0\"],axis=1)\n",
        "\n",
        "# removing NaN values\n",
        "df_test = df_test.fillna(\"none\")\n",
        "\n",
        "# merging selected features and extracting them\n",
        "df_test_merged = merge(df_test, True)\n",
        "features_test = np.array(df_test_merged[\"merged_features\"])\n",
        "\n",
        "# # preprocessing test set\n",
        "preprocessed_test = preprocess_texts(features_test)\n",
        "\n",
        "# creating embeddings\n",
        "embedded_features_test = texts2embeddings(preprocessed_test, max_input_length, embedding_dim)"
      ],
      "metadata": {
        "id": "BOXhqVC4bJLV",
        "colab": {
          "base_uri": "https://localhost:8080/"
        },
        "outputId": "d6e7847c-9c59-4202-9be1-b0405f014695"
      },
      "id": "BOXhqVC4bJLV",
      "execution_count": 28,
      "outputs": [
        {
          "output_type": "stream",
          "name": "stdout",
          "text": [
            "Preprocessing..\n"
          ]
        },
        {
          "output_type": "stream",
          "name": "stderr",
          "text": [
            "100%|██████████| 1788/1788 [00:05<00:00, 331.79it/s]\n"
          ]
        },
        {
          "output_type": "stream",
          "name": "stdout",
          "text": [
            "Done\n"
          ]
        },
        {
          "output_type": "stream",
          "name": "stderr",
          "text": [
            "100%|██████████| 1788/1788 [00:00<00:00, 2458.30it/s]\n"
          ]
        },
        {
          "output_type": "stream",
          "name": "stdout",
          "text": [
            "Missing words: 0.048191312058193284\n"
          ]
        }
      ]
    },
    {
      "cell_type": "markdown",
      "source": [
        "## Predicting"
      ],
      "metadata": {
        "id": "H01n4DSQaoNb"
      },
      "id": "H01n4DSQaoNb"
    },
    {
      "cell_type": "code",
      "source": [
        "checkpoint_filepath = './checkpoint'\n",
        "model.load_weights(checkpoint_filepath)\n",
        "\n",
        "predicted = model.predict(embedded_features_test)\n",
        "predicted"
      ],
      "metadata": {
        "id": "UPwTKk5uapfv",
        "colab": {
          "base_uri": "https://localhost:8080/"
        },
        "outputId": "7510e6b0-02ba-4a84-eaea-af0319cca133"
      },
      "id": "UPwTKk5uapfv",
      "execution_count": 29,
      "outputs": [
        {
          "output_type": "execute_result",
          "data": {
            "text/plain": [
              "array([[3.5945906e-08],\n",
              "       [6.8248451e-09],\n",
              "       [1.2946524e-10],\n",
              "       ...,\n",
              "       [3.0980399e-07],\n",
              "       [3.2373413e-09],\n",
              "       [2.9365802e-07]], dtype=float32)"
            ]
          },
          "metadata": {},
          "execution_count": 29
        }
      ]
    },
    {
      "cell_type": "code",
      "source": [
        "predicted.flatten().round(3)"
      ],
      "metadata": {
        "colab": {
          "base_uri": "https://localhost:8080/"
        },
        "id": "8briivRmzHYr",
        "outputId": "3e1a094d-b46c-44e6-91a5-2c970384cf05"
      },
      "id": "8briivRmzHYr",
      "execution_count": 30,
      "outputs": [
        {
          "output_type": "execute_result",
          "data": {
            "text/plain": [
              "array([0., 0., 0., ..., 0., 0., 0.], dtype=float32)"
            ]
          },
          "metadata": {},
          "execution_count": 30
        }
      ]
    },
    {
      "cell_type": "code",
      "source": [
        "predicted_labels = []\n",
        "for p in predicted.flatten():\n",
        "    if p >= 0.7:\n",
        "        predicted_labels.append(1)\n",
        "    else:\n",
        "        predicted_labels.append(0)"
      ],
      "metadata": {
        "id": "xcC5IEgHzg7W"
      },
      "id": "xcC5IEgHzg7W",
      "execution_count": 31,
      "outputs": []
    },
    {
      "cell_type": "markdown",
      "source": [
        "## Saving Results into `.csv`"
      ],
      "metadata": {
        "id": "juGSjVvZap0Y"
      },
      "id": "juGSjVvZap0Y"
    },
    {
      "cell_type": "code",
      "source": [
        "import csv\n",
        "f = open('./predictions.csv', 'w')\n",
        "writer = csv.writer(f)\n",
        "\n",
        "writer.writerow(['', 'job_id', 'fraudulent'])\n",
        "\n",
        "for i in range(len(df_test)):\n",
        "    row = [str(i), str(df_test.loc[i]['job_id']), str(predicted_labels[i])]\n",
        "    writer.writerow(row)\n",
        "\n",
        "# close the file\n",
        "f.close()"
      ],
      "metadata": {
        "id": "dbAEV-sWHj86"
      },
      "id": "dbAEV-sWHj86",
      "execution_count": 32,
      "outputs": []
    },
    {
      "cell_type": "code",
      "source": [
        ""
      ],
      "metadata": {
        "id": "WcqRWz4415gd"
      },
      "id": "WcqRWz4415gd",
      "execution_count": 32,
      "outputs": []
    }
  ],
  "metadata": {
    "accelerator": "GPU",
    "colab": {
      "collapsed_sections": [
        "d61u-Xw2dGOq",
        "9836e28e",
        "64814e3b",
        "20de6a1c",
        "h-02yv2_xePb",
        "jqu4tt8l6jeS",
        "3t4BrOeeaeN0"
      ],
      "machine_shape": "hm",
      "name": "Fake_job_postings.ipynb",
      "provenance": []
    },
    "kernelspec": {
      "display_name": "Python 3",
      "language": "python",
      "name": "python3"
    },
    "language_info": {
      "codemirror_mode": {
        "name": "ipython",
        "version": 3
      },
      "file_extension": ".py",
      "mimetype": "text/x-python",
      "name": "python",
      "nbconvert_exporter": "python",
      "pygments_lexer": "ipython3",
      "version": "3.8.8"
    }
  },
  "nbformat": 4,
  "nbformat_minor": 5
}