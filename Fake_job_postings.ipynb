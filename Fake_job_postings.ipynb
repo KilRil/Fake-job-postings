{
  "cells": [
    {
      "cell_type": "code",
      "execution_count": 1,
      "metadata": {
        "id": "0800ea05"
      },
      "outputs": [],
      "source": [
        "import pandas as pd\n",
        "import numpy as np\n",
        "import gensim\n",
        "import gensim.downloader\n",
        "\n",
        "import nltk\n",
        "from nltk.tokenize import word_tokenize\n",
        "from nltk.corpus import stopwords\n",
        "from nltk.stem import PorterStemmer\n",
        "from nltk.stem import WordNetLemmatizer\n",
        " \n",
        "import string\n",
        "\n",
        "from keras.layers import LSTM, Activation, Dropout, Dense, Input, Bidirectional, GRU\n",
        "from keras.models import Sequential\n",
        "from keras.layers.embeddings import Embedding\n",
        "from keras.models import Model\n",
        "from keras.callbacks import ModelCheckpoint\n",
        "\n",
        "from keras.preprocessing.sequence import pad_sequences\n",
        "\n",
        "from sklearn.model_selection import train_test_split\n",
        "from sklearn.metrics import f1_score,precision_recall_curve\n",
        "\n",
        "import matplotlib.pyplot as plt\n",
        "\n",
        "from tqdm import tqdm\n",
        "import tensorflow as tf"
      ],
      "id": "0800ea05"
    },
    {
      "cell_type": "code",
      "execution_count": 2,
      "metadata": {
        "colab": {
          "base_uri": "https://localhost:8080/"
        },
        "id": "65SPuYyEs10_",
        "outputId": "445d64e1-bc99-47c5-9a0b-d8baf5d55081"
      },
      "outputs": [
        {
          "output_type": "stream",
          "name": "stdout",
          "text": [
            "[nltk_data] Downloading package stopwords to /root/nltk_data...\n",
            "[nltk_data]   Unzipping corpora/stopwords.zip.\n",
            "[nltk_data] Downloading package punkt to /root/nltk_data...\n",
            "[nltk_data]   Unzipping tokenizers/punkt.zip.\n",
            "[nltk_data] Downloading package wordnet to /root/nltk_data...\n",
            "[nltk_data]   Unzipping corpora/wordnet.zip.\n"
          ]
        },
        {
          "output_type": "execute_result",
          "data": {
            "text/plain": [
              "True"
            ]
          },
          "metadata": {},
          "execution_count": 2
        }
      ],
      "source": [
        "nltk.download('stopwords')\n",
        "nltk.download('punkt')\n",
        "nltk.download('wordnet')"
      ],
      "id": "65SPuYyEs10_"
    },
    {
      "cell_type": "code",
      "execution_count": 3,
      "metadata": {
        "colab": {
          "base_uri": "https://localhost:8080/"
        },
        "id": "5d5v6siNTU5r",
        "outputId": "7a777af9-8c40-4b11-fda2-6a58ae0eea2e"
      },
      "outputs": [
        {
          "output_type": "stream",
          "name": "stdout",
          "text": [
            "--2022-05-09 08:25:59--  https://raw.githubusercontent.com/KilRil/Fake-job-postings/main/data/dev.csv\n",
            "Resolving raw.githubusercontent.com (raw.githubusercontent.com)... 185.199.110.133, 185.199.111.133, 185.199.108.133, ...\n",
            "Connecting to raw.githubusercontent.com (raw.githubusercontent.com)|185.199.110.133|:443... connected.\n",
            "HTTP request sent, awaiting response... 200 OK\n",
            "Length: 5060506 (4.8M) [text/plain]\n",
            "Saving to: ‘dev.csv’\n",
            "\n",
            "dev.csv             100%[===================>]   4.83M  --.-KB/s    in 0.04s   \n",
            "\n",
            "2022-05-09 08:25:59 (115 MB/s) - ‘dev.csv’ saved [5060506/5060506]\n",
            "\n",
            "--2022-05-09 08:25:59--  https://raw.githubusercontent.com/KilRil/Fake-job-postings/main/data/train.csv\n",
            "Resolving raw.githubusercontent.com (raw.githubusercontent.com)... 185.199.110.133, 185.199.108.133, 185.199.111.133, ...\n",
            "Connecting to raw.githubusercontent.com (raw.githubusercontent.com)|185.199.110.133|:443... connected.\n",
            "HTTP request sent, awaiting response... 200 OK\n",
            "Length: 40062185 (38M) [text/plain]\n",
            "Saving to: ‘train.csv’\n",
            "\n",
            "train.csv           100%[===================>]  38.21M   253MB/s    in 0.2s    \n",
            "\n",
            "2022-05-09 08:25:59 (253 MB/s) - ‘train.csv’ saved [40062185/40062185]\n",
            "\n",
            "--2022-05-09 08:25:59--  https://raw.githubusercontent.com/KilRil/Fake-job-postings/main/data/augmented.csv\n",
            "Resolving raw.githubusercontent.com (raw.githubusercontent.com)... 185.199.110.133, 185.199.108.133, 185.199.111.133, ...\n",
            "Connecting to raw.githubusercontent.com (raw.githubusercontent.com)|185.199.110.133|:443... connected.\n",
            "HTTP request sent, awaiting response... 200 OK\n",
            "Length: 7089385 (6.8M) [text/plain]\n",
            "Saving to: ‘augmented.csv’\n",
            "\n",
            "augmented.csv       100%[===================>]   6.76M  --.-KB/s    in 0.04s   \n",
            "\n",
            "2022-05-09 08:26:00 (183 MB/s) - ‘augmented.csv’ saved [7089385/7089385]\n",
            "\n",
            "--2022-05-09 08:26:00--  https://raw.githubusercontent.com/KilRil/Fake-job-postings/main/data/augmented-all.csv\n",
            "Resolving raw.githubusercontent.com (raw.githubusercontent.com)... 185.199.108.133, 185.199.109.133, 185.199.110.133, ...\n",
            "Connecting to raw.githubusercontent.com (raw.githubusercontent.com)|185.199.108.133|:443... connected.\n",
            "HTTP request sent, awaiting response... 200 OK\n",
            "Length: 28353550 (27M) [text/plain]\n",
            "Saving to: ‘augmented-all.csv’\n",
            "\n",
            "augmented-all.csv   100%[===================>]  27.04M  --.-KB/s    in 0.1s    \n",
            "\n",
            "2022-05-09 08:26:00 (241 MB/s) - ‘augmented-all.csv’ saved [28353550/28353550]\n",
            "\n"
          ]
        }
      ],
      "source": [
        "!wget https://raw.githubusercontent.com/KilRil/Fake-job-postings/main/data/dev.csv\n",
        "!wget https://raw.githubusercontent.com/KilRil/Fake-job-postings/main/data/train.csv\n",
        "!wget https://raw.githubusercontent.com/KilRil/Fake-job-postings/main/data/augmented.csv\n",
        "!wget https://raw.githubusercontent.com/KilRil/Fake-job-postings/main/data/augmented-all.csv"
      ],
      "id": "5d5v6siNTU5r"
    },
    {
      "cell_type": "code",
      "execution_count": 4,
      "metadata": {
        "colab": {
          "base_uri": "https://localhost:8080/"
        },
        "id": "16f41b3f",
        "outputId": "09d1f5c7-c02d-4657-fbe3-0bfb1f7c2ce9"
      },
      "outputs": [
        {
          "output_type": "stream",
          "name": "stdout",
          "text": [
            "[==================================================] 100.0% 66.0/66.0MB downloaded\n"
          ]
        }
      ],
      "source": [
        "# Download\n",
        "embedding_dim = 50\n",
        "glove_vectors = gensim.downloader.load(f'glove-wiki-gigaword-{embedding_dim}') # 50, 100, 200 or 300"
      ],
      "id": "16f41b3f"
    },
    {
      "cell_type": "markdown",
      "metadata": {
        "id": "9836e28e"
      },
      "source": [
        "#\n",
        "# Data exploration"
      ],
      "id": "9836e28e"
    },
    {
      "cell_type": "code",
      "execution_count": 5,
      "metadata": {
        "colab": {
          "base_uri": "https://localhost:8080/",
          "height": 600
        },
        "id": "7faa94a2",
        "outputId": "2e9c347d-4a3a-458e-f964-1114e49c5a51"
      },
      "outputs": [
        {
          "output_type": "stream",
          "name": "stdout",
          "text": [
            "Dropped: job_id\n",
            "Dropped: company_profile\n"
          ]
        },
        {
          "output_type": "execute_result",
          "data": {
            "text/plain": [
              "                                               title               location  \\\n",
              "0                               Maintenance Mechanic  US, NY, Niagara Falls   \n",
              "1  LS17 6DJ Customer Service Apprenticeship Avail...            GB, , Leeds   \n",
              "2                   Technical Support Representative    US, OH, Westerville   \n",
              "3                           Ruby on Rails Specialist     US, CA, Long Beach   \n",
              "4                              Caregiver -  Bridgman       US, MI, Bridgman   \n",
              "\n",
              "    department salary_range  \\\n",
              "0  Maintenance          NaN   \n",
              "1          NaN          NaN   \n",
              "2          NaN          NaN   \n",
              "3          NaN          NaN   \n",
              "4          NaN          NaN   \n",
              "\n",
              "                                         description  \\\n",
              "0  DEPARTMENT:      MaintenanceREPORTS TO:       ...   \n",
              "1  This is fantastic opportunity for someone want...   \n",
              "2  A Customer Support Representative at Status So...   \n",
              "3  Ruby on Rails Web Engineer (RoR)Now Hiring Rub...   \n",
              "4  Home Sweet Home In-Home Care is one of the fas...   \n",
              "\n",
              "                                        requirements  \\\n",
              "0                                                NaN   \n",
              "1  Government funding is only available for 16-18...   \n",
              "2  TasksMonitor the Network Operations Center, ca...   \n",
              "3                                                NaN   \n",
              "4                                                NaN   \n",
              "\n",
              "                                            benefits  telecommuting  \\\n",
              "0                                                NaN              0   \n",
              "1                                   Future prospects              0   \n",
              "2  Starting salary based on experience and educat...              0   \n",
              "3                                                NaN              0   \n",
              "4  Competitive compensation with performance revi...              0   \n",
              "\n",
              "   has_company_logo  has_questions employment_type required_experience  \\\n",
              "0                 1              0       Full-time    Mid-Senior level   \n",
              "1                 1              1             NaN                 NaN   \n",
              "2                 1              1       Full-time      Not Applicable   \n",
              "3                 0              0       Full-time    Mid-Senior level   \n",
              "4                 1              1             NaN                 NaN   \n",
              "\n",
              "          required_education                             industry  \\\n",
              "0                        NaN                            Chemicals   \n",
              "1                        NaN                                  NaN   \n",
              "2                Unspecified                    Computer Software   \n",
              "3                        NaN  Information Technology and Services   \n",
              "4  High School or equivalent               Hospital & Health Care   \n",
              "\n",
              "               function  fraudulent  \n",
              "0         Manufacturing           0  \n",
              "1                   NaN           0  \n",
              "2      Customer Service           0  \n",
              "3                   NaN           0  \n",
              "4  Health Care Provider           0  "
            ],
            "text/html": [
              "\n",
              "  <div id=\"df-2b1bbe99-fd59-4f62-9cb6-b02815a63b37\">\n",
              "    <div class=\"colab-df-container\">\n",
              "      <div>\n",
              "<style scoped>\n",
              "    .dataframe tbody tr th:only-of-type {\n",
              "        vertical-align: middle;\n",
              "    }\n",
              "\n",
              "    .dataframe tbody tr th {\n",
              "        vertical-align: top;\n",
              "    }\n",
              "\n",
              "    .dataframe thead th {\n",
              "        text-align: right;\n",
              "    }\n",
              "</style>\n",
              "<table border=\"1\" class=\"dataframe\">\n",
              "  <thead>\n",
              "    <tr style=\"text-align: right;\">\n",
              "      <th></th>\n",
              "      <th>title</th>\n",
              "      <th>location</th>\n",
              "      <th>department</th>\n",
              "      <th>salary_range</th>\n",
              "      <th>description</th>\n",
              "      <th>requirements</th>\n",
              "      <th>benefits</th>\n",
              "      <th>telecommuting</th>\n",
              "      <th>has_company_logo</th>\n",
              "      <th>has_questions</th>\n",
              "      <th>employment_type</th>\n",
              "      <th>required_experience</th>\n",
              "      <th>required_education</th>\n",
              "      <th>industry</th>\n",
              "      <th>function</th>\n",
              "      <th>fraudulent</th>\n",
              "    </tr>\n",
              "  </thead>\n",
              "  <tbody>\n",
              "    <tr>\n",
              "      <th>0</th>\n",
              "      <td>Maintenance Mechanic</td>\n",
              "      <td>US, NY, Niagara Falls</td>\n",
              "      <td>Maintenance</td>\n",
              "      <td>NaN</td>\n",
              "      <td>DEPARTMENT:      MaintenanceREPORTS TO:       ...</td>\n",
              "      <td>NaN</td>\n",
              "      <td>NaN</td>\n",
              "      <td>0</td>\n",
              "      <td>1</td>\n",
              "      <td>0</td>\n",
              "      <td>Full-time</td>\n",
              "      <td>Mid-Senior level</td>\n",
              "      <td>NaN</td>\n",
              "      <td>Chemicals</td>\n",
              "      <td>Manufacturing</td>\n",
              "      <td>0</td>\n",
              "    </tr>\n",
              "    <tr>\n",
              "      <th>1</th>\n",
              "      <td>LS17 6DJ Customer Service Apprenticeship Avail...</td>\n",
              "      <td>GB, , Leeds</td>\n",
              "      <td>NaN</td>\n",
              "      <td>NaN</td>\n",
              "      <td>This is fantastic opportunity for someone want...</td>\n",
              "      <td>Government funding is only available for 16-18...</td>\n",
              "      <td>Future prospects</td>\n",
              "      <td>0</td>\n",
              "      <td>1</td>\n",
              "      <td>1</td>\n",
              "      <td>NaN</td>\n",
              "      <td>NaN</td>\n",
              "      <td>NaN</td>\n",
              "      <td>NaN</td>\n",
              "      <td>NaN</td>\n",
              "      <td>0</td>\n",
              "    </tr>\n",
              "    <tr>\n",
              "      <th>2</th>\n",
              "      <td>Technical Support Representative</td>\n",
              "      <td>US, OH, Westerville</td>\n",
              "      <td>NaN</td>\n",
              "      <td>NaN</td>\n",
              "      <td>A Customer Support Representative at Status So...</td>\n",
              "      <td>TasksMonitor the Network Operations Center, ca...</td>\n",
              "      <td>Starting salary based on experience and educat...</td>\n",
              "      <td>0</td>\n",
              "      <td>1</td>\n",
              "      <td>1</td>\n",
              "      <td>Full-time</td>\n",
              "      <td>Not Applicable</td>\n",
              "      <td>Unspecified</td>\n",
              "      <td>Computer Software</td>\n",
              "      <td>Customer Service</td>\n",
              "      <td>0</td>\n",
              "    </tr>\n",
              "    <tr>\n",
              "      <th>3</th>\n",
              "      <td>Ruby on Rails Specialist</td>\n",
              "      <td>US, CA, Long Beach</td>\n",
              "      <td>NaN</td>\n",
              "      <td>NaN</td>\n",
              "      <td>Ruby on Rails Web Engineer (RoR)Now Hiring Rub...</td>\n",
              "      <td>NaN</td>\n",
              "      <td>NaN</td>\n",
              "      <td>0</td>\n",
              "      <td>0</td>\n",
              "      <td>0</td>\n",
              "      <td>Full-time</td>\n",
              "      <td>Mid-Senior level</td>\n",
              "      <td>NaN</td>\n",
              "      <td>Information Technology and Services</td>\n",
              "      <td>NaN</td>\n",
              "      <td>0</td>\n",
              "    </tr>\n",
              "    <tr>\n",
              "      <th>4</th>\n",
              "      <td>Caregiver -  Bridgman</td>\n",
              "      <td>US, MI, Bridgman</td>\n",
              "      <td>NaN</td>\n",
              "      <td>NaN</td>\n",
              "      <td>Home Sweet Home In-Home Care is one of the fas...</td>\n",
              "      <td>NaN</td>\n",
              "      <td>Competitive compensation with performance revi...</td>\n",
              "      <td>0</td>\n",
              "      <td>1</td>\n",
              "      <td>1</td>\n",
              "      <td>NaN</td>\n",
              "      <td>NaN</td>\n",
              "      <td>High School or equivalent</td>\n",
              "      <td>Hospital &amp; Health Care</td>\n",
              "      <td>Health Care Provider</td>\n",
              "      <td>0</td>\n",
              "    </tr>\n",
              "  </tbody>\n",
              "</table>\n",
              "</div>\n",
              "      <button class=\"colab-df-convert\" onclick=\"convertToInteractive('df-2b1bbe99-fd59-4f62-9cb6-b02815a63b37')\"\n",
              "              title=\"Convert this dataframe to an interactive table.\"\n",
              "              style=\"display:none;\">\n",
              "        \n",
              "  <svg xmlns=\"http://www.w3.org/2000/svg\" height=\"24px\"viewBox=\"0 0 24 24\"\n",
              "       width=\"24px\">\n",
              "    <path d=\"M0 0h24v24H0V0z\" fill=\"none\"/>\n",
              "    <path d=\"M18.56 5.44l.94 2.06.94-2.06 2.06-.94-2.06-.94-.94-2.06-.94 2.06-2.06.94zm-11 1L8.5 8.5l.94-2.06 2.06-.94-2.06-.94L8.5 2.5l-.94 2.06-2.06.94zm10 10l.94 2.06.94-2.06 2.06-.94-2.06-.94-.94-2.06-.94 2.06-2.06.94z\"/><path d=\"M17.41 7.96l-1.37-1.37c-.4-.4-.92-.59-1.43-.59-.52 0-1.04.2-1.43.59L10.3 9.45l-7.72 7.72c-.78.78-.78 2.05 0 2.83L4 21.41c.39.39.9.59 1.41.59.51 0 1.02-.2 1.41-.59l7.78-7.78 2.81-2.81c.8-.78.8-2.07 0-2.86zM5.41 20L4 18.59l7.72-7.72 1.47 1.35L5.41 20z\"/>\n",
              "  </svg>\n",
              "      </button>\n",
              "      \n",
              "  <style>\n",
              "    .colab-df-container {\n",
              "      display:flex;\n",
              "      flex-wrap:wrap;\n",
              "      gap: 12px;\n",
              "    }\n",
              "\n",
              "    .colab-df-convert {\n",
              "      background-color: #E8F0FE;\n",
              "      border: none;\n",
              "      border-radius: 50%;\n",
              "      cursor: pointer;\n",
              "      display: none;\n",
              "      fill: #1967D2;\n",
              "      height: 32px;\n",
              "      padding: 0 0 0 0;\n",
              "      width: 32px;\n",
              "    }\n",
              "\n",
              "    .colab-df-convert:hover {\n",
              "      background-color: #E2EBFA;\n",
              "      box-shadow: 0px 1px 2px rgba(60, 64, 67, 0.3), 0px 1px 3px 1px rgba(60, 64, 67, 0.15);\n",
              "      fill: #174EA6;\n",
              "    }\n",
              "\n",
              "    [theme=dark] .colab-df-convert {\n",
              "      background-color: #3B4455;\n",
              "      fill: #D2E3FC;\n",
              "    }\n",
              "\n",
              "    [theme=dark] .colab-df-convert:hover {\n",
              "      background-color: #434B5C;\n",
              "      box-shadow: 0px 1px 3px 1px rgba(0, 0, 0, 0.15);\n",
              "      filter: drop-shadow(0px 1px 2px rgba(0, 0, 0, 0.3));\n",
              "      fill: #FFFFFF;\n",
              "    }\n",
              "  </style>\n",
              "\n",
              "      <script>\n",
              "        const buttonEl =\n",
              "          document.querySelector('#df-2b1bbe99-fd59-4f62-9cb6-b02815a63b37 button.colab-df-convert');\n",
              "        buttonEl.style.display =\n",
              "          google.colab.kernel.accessAllowed ? 'block' : 'none';\n",
              "\n",
              "        async function convertToInteractive(key) {\n",
              "          const element = document.querySelector('#df-2b1bbe99-fd59-4f62-9cb6-b02815a63b37');\n",
              "          const dataTable =\n",
              "            await google.colab.kernel.invokeFunction('convertToInteractive',\n",
              "                                                     [key], {});\n",
              "          if (!dataTable) return;\n",
              "\n",
              "          const docLinkHtml = 'Like what you see? Visit the ' +\n",
              "            '<a target=\"_blank\" href=https://colab.research.google.com/notebooks/data_table.ipynb>data table notebook</a>'\n",
              "            + ' to learn more about interactive tables.';\n",
              "          element.innerHTML = '';\n",
              "          dataTable['output_type'] = 'display_data';\n",
              "          await google.colab.output.renderOutput(dataTable, element);\n",
              "          const docLink = document.createElement('div');\n",
              "          docLink.innerHTML = docLinkHtml;\n",
              "          element.appendChild(docLink);\n",
              "        }\n",
              "      </script>\n",
              "    </div>\n",
              "  </div>\n",
              "  "
            ]
          },
          "metadata": {},
          "execution_count": 5
        }
      ],
      "source": [
        "df = pd.read_csv(\"train.csv\")\n",
        "df = df.drop([\"Unnamed: 0\"],axis=1)\n",
        "\n",
        "# df_aug = pd.read_csv(\"augmented.csv\", sep='\\t')\n",
        "df_aug = pd.read_csv(\"augmented-all.csv\", sep='\\t')\n",
        "df_aug['fraudulent'] = np.ones(len(df_aug), dtype=int)\n",
        "\n",
        "df_val = pd.read_csv(\"dev.csv\")\n",
        "df_val = df_val.drop([\"Unnamed: 0\"],axis=1)\n",
        "\n",
        "for df_column in df.columns:\n",
        "    if df_column not in df_aug.columns:\n",
        "        print(\"Dropped:\", df_column)\n",
        "        df = df.drop([df_column],axis=1)\n",
        "        df_val = df_val.drop([df_column],axis=1)\n",
        "\n",
        "df.head()"
      ],
      "id": "7faa94a2"
    },
    {
      "cell_type": "markdown",
      "metadata": {
        "id": "4eec215e"
      },
      "source": [
        "#### Missing values"
      ],
      "id": "4eec215e"
    },
    {
      "cell_type": "code",
      "execution_count": 6,
      "metadata": {
        "colab": {
          "base_uri": "https://localhost:8080/",
          "height": 0
        },
        "id": "bb0d1a21",
        "outputId": "01c4fcbf-0b62-42e4-8bbd-bec6166283d2"
      },
      "outputs": [
        {
          "output_type": "execute_result",
          "data": {
            "text/plain": [
              "                                        title           location  \\\n",
              "52                  Client Audit Coordinator      US, TX, Austin   \n",
              "75              Client Services Manager - SM1  US, CA, San Mateo   \n",
              "77                               Receptionist             GB, ,    \n",
              "84                               CAD Operator    US, TX, Houston   \n",
              "96                   Position Admin Assistant    AU, NSW, Sydney   \n",
              "...                                       ...                ...   \n",
              "14204  Agency Sales Managers $150-$175,000/yr     US, NY, Elmira   \n",
              "14228   Director of Engineering: Applications             US, ,    \n",
              "14253             Senior System Test Engineer   US, CA, San Jose   \n",
              "14254                Adminstrative/Data Entry    US, IL, Chicago   \n",
              "14262                Administrative Assistant      US, FL, Miami   \n",
              "\n",
              "                department salary_range  \\\n",
              "52     COMPLIANCE UNIT 701  26000-30000   \n",
              "75         Client Services          NaN   \n",
              "77                     NaN          NaN   \n",
              "84             Engineering          NaN   \n",
              "96                     NaN  22000-28000   \n",
              "...                    ...          ...   \n",
              "14204                  NaN          NaN   \n",
              "14228          Engineering          NaN   \n",
              "14253         Engineering           NaN   \n",
              "14254                  NaN  63000-63000   \n",
              "14262                  NaN  36000-50000   \n",
              "\n",
              "                                             description  \\\n",
              "52     Description SUMMARY: The Client Audit Coordina...   \n",
              "75     Client Services Manager - SM1San Mateo, CA#URL...   \n",
              "77     We the Montcalm Hotel are looking for the posi...   \n",
              "84     Corporate overviewAker Solutions is a global p...   \n",
              "96     We require an experienced Admin Assistant with...   \n",
              "...                                                  ...   \n",
              "14204  We provide No Credit Check Financing to custom...   \n",
              "14228                                     Director of...   \n",
              "14253  Senior System Test Engineer | San Jose, CAAs a...   \n",
              "14254  We are a network of national standards bodies....   \n",
              "14262  Administrative Assistant provides personal adm...   \n",
              "\n",
              "                                            requirements  \\\n",
              "52     High school diploma or equivalent; Bachelor's ...   \n",
              "75     Basic Qualifications:Proven experience in mana...   \n",
              "77                                      Good Requirement   \n",
              "84     Qualifications &amp; personal attributes Educa...   \n",
              "96     • Excellent time management &amp; superb prese...   \n",
              "...                                                  ...   \n",
              "14204  Experience and Skills  Required- Minimum of 3 ...   \n",
              "14228  What you bring to the table:BS / MS in compute...   \n",
              "14253  Skills and RequirementsBS in Computer Science ...   \n",
              "14254  No requirements, Apply if you are in the force...   \n",
              "14262  Education and Experience:Usually at least 3 ye...   \n",
              "\n",
              "                                                benefits  telecommuting  \\\n",
              "52     We offer a competitive and comprehensive range...              0   \n",
              "75     Our core values drive our culture. This is wha...              0   \n",
              "77     Package: Basic salary ranges from GBP2500 - 60...              0   \n",
              "84     We offer• Friendly colleagues in an industry w...              0   \n",
              "96     Part Time – 15 to 20 hours per week – you choo...              0   \n",
              "...                                                  ...            ...   \n",
              "14204  We Provide- Complete online training and offic...              0   \n",
              "14228  What We Offer: Competitive salary, excellent b...              0   \n",
              "14253  Broad responsibility, autonomy and visibility ...              0   \n",
              "14254  The job includes benefits such as health, dent...              0   \n",
              "14262  Health, Dental, Life and AD&amp;D Insurance, E...              0   \n",
              "\n",
              "       has_company_logo  has_questions employment_type required_experience  \\\n",
              "52                    1              1       Full-time           Associate   \n",
              "75                    1              1       Full-time    Mid-Senior level   \n",
              "77                    0              0       Full-time         Entry level   \n",
              "84                    0              0             NaN                 NaN   \n",
              "96                    0              1       Part-time          Internship   \n",
              "...                 ...            ...             ...                 ...   \n",
              "14204                 1              0       Full-time                 NaN   \n",
              "14228                 1              1       Full-time            Director   \n",
              "14253                 1              1       Full-time    Mid-Senior level   \n",
              "14254                 0              0       Full-time         Entry level   \n",
              "14262                 0              0       Full-time         Entry level   \n",
              "\n",
              "              required_education                   industry  \\\n",
              "52     High School or equivalent         Financial Services   \n",
              "75             Bachelor's Degree  Marketing and Advertising   \n",
              "77                           NaN                Hospitality   \n",
              "84                           NaN               Construction   \n",
              "96                   Unspecified           Executive Office   \n",
              "...                          ...                        ...   \n",
              "14204  High School or equivalent         Financial Services   \n",
              "14228            Master's Degree                   Ranching   \n",
              "14253          Bachelor's Degree        Computer Networking   \n",
              "14254                Unspecified            Human Resources   \n",
              "14262                Unspecified                 Accounting   \n",
              "\n",
              "                     function  fraudulent  \n",
              "52           Customer Service           1  \n",
              "75     Information Technology           1  \n",
              "77                        NaN           1  \n",
              "84                     Design           1  \n",
              "96             Administrative           1  \n",
              "...                       ...         ...  \n",
              "14204                   Sales           1  \n",
              "14228             Engineering           1  \n",
              "14253             Engineering           1  \n",
              "14254         Human Resources           1  \n",
              "14262          Administrative           1  \n",
              "\n",
              "[727 rows x 16 columns]"
            ],
            "text/html": [
              "\n",
              "  <div id=\"df-8e1e7165-2e03-4326-94ef-2edf94eec86b\">\n",
              "    <div class=\"colab-df-container\">\n",
              "      <div>\n",
              "<style scoped>\n",
              "    .dataframe tbody tr th:only-of-type {\n",
              "        vertical-align: middle;\n",
              "    }\n",
              "\n",
              "    .dataframe tbody tr th {\n",
              "        vertical-align: top;\n",
              "    }\n",
              "\n",
              "    .dataframe thead th {\n",
              "        text-align: right;\n",
              "    }\n",
              "</style>\n",
              "<table border=\"1\" class=\"dataframe\">\n",
              "  <thead>\n",
              "    <tr style=\"text-align: right;\">\n",
              "      <th></th>\n",
              "      <th>title</th>\n",
              "      <th>location</th>\n",
              "      <th>department</th>\n",
              "      <th>salary_range</th>\n",
              "      <th>description</th>\n",
              "      <th>requirements</th>\n",
              "      <th>benefits</th>\n",
              "      <th>telecommuting</th>\n",
              "      <th>has_company_logo</th>\n",
              "      <th>has_questions</th>\n",
              "      <th>employment_type</th>\n",
              "      <th>required_experience</th>\n",
              "      <th>required_education</th>\n",
              "      <th>industry</th>\n",
              "      <th>function</th>\n",
              "      <th>fraudulent</th>\n",
              "    </tr>\n",
              "  </thead>\n",
              "  <tbody>\n",
              "    <tr>\n",
              "      <th>52</th>\n",
              "      <td>Client Audit Coordinator</td>\n",
              "      <td>US, TX, Austin</td>\n",
              "      <td>COMPLIANCE UNIT 701</td>\n",
              "      <td>26000-30000</td>\n",
              "      <td>Description SUMMARY: The Client Audit Coordina...</td>\n",
              "      <td>High school diploma or equivalent; Bachelor's ...</td>\n",
              "      <td>We offer a competitive and comprehensive range...</td>\n",
              "      <td>0</td>\n",
              "      <td>1</td>\n",
              "      <td>1</td>\n",
              "      <td>Full-time</td>\n",
              "      <td>Associate</td>\n",
              "      <td>High School or equivalent</td>\n",
              "      <td>Financial Services</td>\n",
              "      <td>Customer Service</td>\n",
              "      <td>1</td>\n",
              "    </tr>\n",
              "    <tr>\n",
              "      <th>75</th>\n",
              "      <td>Client Services Manager - SM1</td>\n",
              "      <td>US, CA, San Mateo</td>\n",
              "      <td>Client Services</td>\n",
              "      <td>NaN</td>\n",
              "      <td>Client Services Manager - SM1San Mateo, CA#URL...</td>\n",
              "      <td>Basic Qualifications:Proven experience in mana...</td>\n",
              "      <td>Our core values drive our culture. This is wha...</td>\n",
              "      <td>0</td>\n",
              "      <td>1</td>\n",
              "      <td>1</td>\n",
              "      <td>Full-time</td>\n",
              "      <td>Mid-Senior level</td>\n",
              "      <td>Bachelor's Degree</td>\n",
              "      <td>Marketing and Advertising</td>\n",
              "      <td>Information Technology</td>\n",
              "      <td>1</td>\n",
              "    </tr>\n",
              "    <tr>\n",
              "      <th>77</th>\n",
              "      <td>Receptionist</td>\n",
              "      <td>GB, ,</td>\n",
              "      <td>NaN</td>\n",
              "      <td>NaN</td>\n",
              "      <td>We the Montcalm Hotel are looking for the posi...</td>\n",
              "      <td>Good Requirement</td>\n",
              "      <td>Package: Basic salary ranges from GBP2500 - 60...</td>\n",
              "      <td>0</td>\n",
              "      <td>0</td>\n",
              "      <td>0</td>\n",
              "      <td>Full-time</td>\n",
              "      <td>Entry level</td>\n",
              "      <td>NaN</td>\n",
              "      <td>Hospitality</td>\n",
              "      <td>NaN</td>\n",
              "      <td>1</td>\n",
              "    </tr>\n",
              "    <tr>\n",
              "      <th>84</th>\n",
              "      <td>CAD Operator</td>\n",
              "      <td>US, TX, Houston</td>\n",
              "      <td>Engineering</td>\n",
              "      <td>NaN</td>\n",
              "      <td>Corporate overviewAker Solutions is a global p...</td>\n",
              "      <td>Qualifications &amp;amp; personal attributes Educa...</td>\n",
              "      <td>We offer• Friendly colleagues in an industry w...</td>\n",
              "      <td>0</td>\n",
              "      <td>0</td>\n",
              "      <td>0</td>\n",
              "      <td>NaN</td>\n",
              "      <td>NaN</td>\n",
              "      <td>NaN</td>\n",
              "      <td>Construction</td>\n",
              "      <td>Design</td>\n",
              "      <td>1</td>\n",
              "    </tr>\n",
              "    <tr>\n",
              "      <th>96</th>\n",
              "      <td>Position Admin Assistant</td>\n",
              "      <td>AU, NSW, Sydney</td>\n",
              "      <td>NaN</td>\n",
              "      <td>22000-28000</td>\n",
              "      <td>We require an experienced Admin Assistant with...</td>\n",
              "      <td>• Excellent time management &amp;amp; superb prese...</td>\n",
              "      <td>Part Time – 15 to 20 hours per week – you choo...</td>\n",
              "      <td>0</td>\n",
              "      <td>0</td>\n",
              "      <td>1</td>\n",
              "      <td>Part-time</td>\n",
              "      <td>Internship</td>\n",
              "      <td>Unspecified</td>\n",
              "      <td>Executive Office</td>\n",
              "      <td>Administrative</td>\n",
              "      <td>1</td>\n",
              "    </tr>\n",
              "    <tr>\n",
              "      <th>...</th>\n",
              "      <td>...</td>\n",
              "      <td>...</td>\n",
              "      <td>...</td>\n",
              "      <td>...</td>\n",
              "      <td>...</td>\n",
              "      <td>...</td>\n",
              "      <td>...</td>\n",
              "      <td>...</td>\n",
              "      <td>...</td>\n",
              "      <td>...</td>\n",
              "      <td>...</td>\n",
              "      <td>...</td>\n",
              "      <td>...</td>\n",
              "      <td>...</td>\n",
              "      <td>...</td>\n",
              "      <td>...</td>\n",
              "    </tr>\n",
              "    <tr>\n",
              "      <th>14204</th>\n",
              "      <td>Agency Sales Managers $150-$175,000/yr</td>\n",
              "      <td>US, NY, Elmira</td>\n",
              "      <td>NaN</td>\n",
              "      <td>NaN</td>\n",
              "      <td>We provide No Credit Check Financing to custom...</td>\n",
              "      <td>Experience and Skills  Required- Minimum of 3 ...</td>\n",
              "      <td>We Provide- Complete online training and offic...</td>\n",
              "      <td>0</td>\n",
              "      <td>1</td>\n",
              "      <td>0</td>\n",
              "      <td>Full-time</td>\n",
              "      <td>NaN</td>\n",
              "      <td>High School or equivalent</td>\n",
              "      <td>Financial Services</td>\n",
              "      <td>Sales</td>\n",
              "      <td>1</td>\n",
              "    </tr>\n",
              "    <tr>\n",
              "      <th>14228</th>\n",
              "      <td>Director of Engineering: Applications</td>\n",
              "      <td>US, ,</td>\n",
              "      <td>Engineering</td>\n",
              "      <td>NaN</td>\n",
              "      <td>Director of...</td>\n",
              "      <td>What you bring to the table:BS / MS in compute...</td>\n",
              "      <td>What We Offer: Competitive salary, excellent b...</td>\n",
              "      <td>0</td>\n",
              "      <td>1</td>\n",
              "      <td>1</td>\n",
              "      <td>Full-time</td>\n",
              "      <td>Director</td>\n",
              "      <td>Master's Degree</td>\n",
              "      <td>Ranching</td>\n",
              "      <td>Engineering</td>\n",
              "      <td>1</td>\n",
              "    </tr>\n",
              "    <tr>\n",
              "      <th>14253</th>\n",
              "      <td>Senior System Test Engineer</td>\n",
              "      <td>US, CA, San Jose</td>\n",
              "      <td>Engineering</td>\n",
              "      <td>NaN</td>\n",
              "      <td>Senior System Test Engineer | San Jose, CAAs a...</td>\n",
              "      <td>Skills and RequirementsBS in Computer Science ...</td>\n",
              "      <td>Broad responsibility, autonomy and visibility ...</td>\n",
              "      <td>0</td>\n",
              "      <td>1</td>\n",
              "      <td>1</td>\n",
              "      <td>Full-time</td>\n",
              "      <td>Mid-Senior level</td>\n",
              "      <td>Bachelor's Degree</td>\n",
              "      <td>Computer Networking</td>\n",
              "      <td>Engineering</td>\n",
              "      <td>1</td>\n",
              "    </tr>\n",
              "    <tr>\n",
              "      <th>14254</th>\n",
              "      <td>Adminstrative/Data Entry</td>\n",
              "      <td>US, IL, Chicago</td>\n",
              "      <td>NaN</td>\n",
              "      <td>63000-63000</td>\n",
              "      <td>We are a network of national standards bodies....</td>\n",
              "      <td>No requirements, Apply if you are in the force...</td>\n",
              "      <td>The job includes benefits such as health, dent...</td>\n",
              "      <td>0</td>\n",
              "      <td>0</td>\n",
              "      <td>0</td>\n",
              "      <td>Full-time</td>\n",
              "      <td>Entry level</td>\n",
              "      <td>Unspecified</td>\n",
              "      <td>Human Resources</td>\n",
              "      <td>Human Resources</td>\n",
              "      <td>1</td>\n",
              "    </tr>\n",
              "    <tr>\n",
              "      <th>14262</th>\n",
              "      <td>Administrative Assistant</td>\n",
              "      <td>US, FL, Miami</td>\n",
              "      <td>NaN</td>\n",
              "      <td>36000-50000</td>\n",
              "      <td>Administrative Assistant provides personal adm...</td>\n",
              "      <td>Education and Experience:Usually at least 3 ye...</td>\n",
              "      <td>Health, Dental, Life and AD&amp;amp;D Insurance, E...</td>\n",
              "      <td>0</td>\n",
              "      <td>0</td>\n",
              "      <td>0</td>\n",
              "      <td>Full-time</td>\n",
              "      <td>Entry level</td>\n",
              "      <td>Unspecified</td>\n",
              "      <td>Accounting</td>\n",
              "      <td>Administrative</td>\n",
              "      <td>1</td>\n",
              "    </tr>\n",
              "  </tbody>\n",
              "</table>\n",
              "<p>727 rows × 16 columns</p>\n",
              "</div>\n",
              "      <button class=\"colab-df-convert\" onclick=\"convertToInteractive('df-8e1e7165-2e03-4326-94ef-2edf94eec86b')\"\n",
              "              title=\"Convert this dataframe to an interactive table.\"\n",
              "              style=\"display:none;\">\n",
              "        \n",
              "  <svg xmlns=\"http://www.w3.org/2000/svg\" height=\"24px\"viewBox=\"0 0 24 24\"\n",
              "       width=\"24px\">\n",
              "    <path d=\"M0 0h24v24H0V0z\" fill=\"none\"/>\n",
              "    <path d=\"M18.56 5.44l.94 2.06.94-2.06 2.06-.94-2.06-.94-.94-2.06-.94 2.06-2.06.94zm-11 1L8.5 8.5l.94-2.06 2.06-.94-2.06-.94L8.5 2.5l-.94 2.06-2.06.94zm10 10l.94 2.06.94-2.06 2.06-.94-2.06-.94-.94-2.06-.94 2.06-2.06.94z\"/><path d=\"M17.41 7.96l-1.37-1.37c-.4-.4-.92-.59-1.43-.59-.52 0-1.04.2-1.43.59L10.3 9.45l-7.72 7.72c-.78.78-.78 2.05 0 2.83L4 21.41c.39.39.9.59 1.41.59.51 0 1.02-.2 1.41-.59l7.78-7.78 2.81-2.81c.8-.78.8-2.07 0-2.86zM5.41 20L4 18.59l7.72-7.72 1.47 1.35L5.41 20z\"/>\n",
              "  </svg>\n",
              "      </button>\n",
              "      \n",
              "  <style>\n",
              "    .colab-df-container {\n",
              "      display:flex;\n",
              "      flex-wrap:wrap;\n",
              "      gap: 12px;\n",
              "    }\n",
              "\n",
              "    .colab-df-convert {\n",
              "      background-color: #E8F0FE;\n",
              "      border: none;\n",
              "      border-radius: 50%;\n",
              "      cursor: pointer;\n",
              "      display: none;\n",
              "      fill: #1967D2;\n",
              "      height: 32px;\n",
              "      padding: 0 0 0 0;\n",
              "      width: 32px;\n",
              "    }\n",
              "\n",
              "    .colab-df-convert:hover {\n",
              "      background-color: #E2EBFA;\n",
              "      box-shadow: 0px 1px 2px rgba(60, 64, 67, 0.3), 0px 1px 3px 1px rgba(60, 64, 67, 0.15);\n",
              "      fill: #174EA6;\n",
              "    }\n",
              "\n",
              "    [theme=dark] .colab-df-convert {\n",
              "      background-color: #3B4455;\n",
              "      fill: #D2E3FC;\n",
              "    }\n",
              "\n",
              "    [theme=dark] .colab-df-convert:hover {\n",
              "      background-color: #434B5C;\n",
              "      box-shadow: 0px 1px 3px 1px rgba(0, 0, 0, 0.15);\n",
              "      filter: drop-shadow(0px 1px 2px rgba(0, 0, 0, 0.3));\n",
              "      fill: #FFFFFF;\n",
              "    }\n",
              "  </style>\n",
              "\n",
              "      <script>\n",
              "        const buttonEl =\n",
              "          document.querySelector('#df-8e1e7165-2e03-4326-94ef-2edf94eec86b button.colab-df-convert');\n",
              "        buttonEl.style.display =\n",
              "          google.colab.kernel.accessAllowed ? 'block' : 'none';\n",
              "\n",
              "        async function convertToInteractive(key) {\n",
              "          const element = document.querySelector('#df-8e1e7165-2e03-4326-94ef-2edf94eec86b');\n",
              "          const dataTable =\n",
              "            await google.colab.kernel.invokeFunction('convertToInteractive',\n",
              "                                                     [key], {});\n",
              "          if (!dataTable) return;\n",
              "\n",
              "          const docLinkHtml = 'Like what you see? Visit the ' +\n",
              "            '<a target=\"_blank\" href=https://colab.research.google.com/notebooks/data_table.ipynb>data table notebook</a>'\n",
              "            + ' to learn more about interactive tables.';\n",
              "          element.innerHTML = '';\n",
              "          dataTable['output_type'] = 'display_data';\n",
              "          await google.colab.output.renderOutput(dataTable, element);\n",
              "          const docLink = document.createElement('div');\n",
              "          docLink.innerHTML = docLinkHtml;\n",
              "          element.appendChild(docLink);\n",
              "        }\n",
              "      </script>\n",
              "    </div>\n",
              "  </div>\n",
              "  "
            ]
          },
          "metadata": {},
          "execution_count": 6
        }
      ],
      "source": [
        "df_fake = df.loc[df[\"fraudulent\"]==1]\n",
        "df_true = df.loc[df[\"fraudulent\"]==0]\n",
        "df_fake"
      ],
      "id": "bb0d1a21"
    },
    {
      "cell_type": "code",
      "execution_count": 7,
      "metadata": {
        "id": "c7e66c18"
      },
      "outputs": [],
      "source": [
        "def getNaNRatio(df):\n",
        "    rows = len(df)\n",
        "    for column in df.columns:\n",
        "        print(f\"{column}: {df[column].isna().sum()/rows}\")"
      ],
      "id": "c7e66c18"
    },
    {
      "cell_type": "code",
      "execution_count": 8,
      "metadata": {
        "colab": {
          "base_uri": "https://localhost:8080/"
        },
        "id": "6a94b0d4",
        "outputId": "43db33fd-abf4-49ac-b208-f29d0fbd9164"
      },
      "outputs": [
        {
          "output_type": "stream",
          "name": "stdout",
          "text": [
            "title: 0.0\n",
            "location: 0.01925722145804677\n",
            "department: 0.6107290233837689\n",
            "salary_range: 0.7359009628610729\n",
            "description: 0.001375515818431912\n",
            "requirements: 0.16506189821182943\n",
            "benefits: 0.40440165061898214\n",
            "telecommuting: 0.0\n",
            "has_company_logo: 0.0\n",
            "has_questions: 0.0\n",
            "employment_type: 0.28060522696011003\n",
            "required_experience: 0.49105914718019256\n",
            "required_education: 0.515818431911967\n",
            "industry: 0.3177441540577717\n",
            "function: 0.38514442916093533\n",
            "fraudulent: 0.0\n"
          ]
        }
      ],
      "source": [
        "getNaNRatio(df_fake)"
      ],
      "id": "6a94b0d4"
    },
    {
      "cell_type": "code",
      "execution_count": 9,
      "metadata": {
        "colab": {
          "base_uri": "https://localhost:8080/"
        },
        "id": "2e371a24",
        "outputId": "0492549c-1c0d-4d4f-eee6-f52283138b4b"
      },
      "outputs": [
        {
          "output_type": "stream",
          "name": "stdout",
          "text": [
            "title: 0.0\n",
            "location: 0.01922368711792001\n",
            "department: 0.6455770788834058\n",
            "salary_range: 0.8439272298740517\n",
            "description: 0.0\n",
            "requirements: 0.15150622376077189\n",
            "benefits: 0.4015614642409958\n",
            "telecommuting: 0.0\n",
            "has_company_logo: 0.0\n",
            "has_questions: 0.0\n",
            "employment_type: 0.19179494733740884\n",
            "required_experience: 0.3928702953524343\n",
            "required_education: 0.45223539809972746\n",
            "industry: 0.2739191279369522\n",
            "function: 0.36083081682256757\n",
            "fraudulent: 0.0\n"
          ]
        }
      ],
      "source": [
        "getNaNRatio(df_true)"
      ],
      "id": "2e371a24"
    },
    {
      "cell_type": "markdown",
      "metadata": {
        "id": "64814e3b"
      },
      "source": [
        "#### Correlation (features with binary value)"
      ],
      "id": "64814e3b"
    },
    {
      "cell_type": "code",
      "execution_count": 10,
      "metadata": {
        "colab": {
          "base_uri": "https://localhost:8080/",
          "height": 0
        },
        "id": "7462e621",
        "outputId": "091b6c8a-0f9e-4113-88da-04752b7a5d1b"
      },
      "outputs": [
        {
          "output_type": "execute_result",
          "data": {
            "text/plain": [
              "               telecommuting  fraudulent\n",
              "telecommuting        1.00000     0.03296\n",
              "fraudulent           0.03296     1.00000"
            ],
            "text/html": [
              "\n",
              "  <div id=\"df-c935b291-4114-4179-ac0c-95bde397dff4\">\n",
              "    <div class=\"colab-df-container\">\n",
              "      <div>\n",
              "<style scoped>\n",
              "    .dataframe tbody tr th:only-of-type {\n",
              "        vertical-align: middle;\n",
              "    }\n",
              "\n",
              "    .dataframe tbody tr th {\n",
              "        vertical-align: top;\n",
              "    }\n",
              "\n",
              "    .dataframe thead th {\n",
              "        text-align: right;\n",
              "    }\n",
              "</style>\n",
              "<table border=\"1\" class=\"dataframe\">\n",
              "  <thead>\n",
              "    <tr style=\"text-align: right;\">\n",
              "      <th></th>\n",
              "      <th>telecommuting</th>\n",
              "      <th>fraudulent</th>\n",
              "    </tr>\n",
              "  </thead>\n",
              "  <tbody>\n",
              "    <tr>\n",
              "      <th>telecommuting</th>\n",
              "      <td>1.00000</td>\n",
              "      <td>0.03296</td>\n",
              "    </tr>\n",
              "    <tr>\n",
              "      <th>fraudulent</th>\n",
              "      <td>0.03296</td>\n",
              "      <td>1.00000</td>\n",
              "    </tr>\n",
              "  </tbody>\n",
              "</table>\n",
              "</div>\n",
              "      <button class=\"colab-df-convert\" onclick=\"convertToInteractive('df-c935b291-4114-4179-ac0c-95bde397dff4')\"\n",
              "              title=\"Convert this dataframe to an interactive table.\"\n",
              "              style=\"display:none;\">\n",
              "        \n",
              "  <svg xmlns=\"http://www.w3.org/2000/svg\" height=\"24px\"viewBox=\"0 0 24 24\"\n",
              "       width=\"24px\">\n",
              "    <path d=\"M0 0h24v24H0V0z\" fill=\"none\"/>\n",
              "    <path d=\"M18.56 5.44l.94 2.06.94-2.06 2.06-.94-2.06-.94-.94-2.06-.94 2.06-2.06.94zm-11 1L8.5 8.5l.94-2.06 2.06-.94-2.06-.94L8.5 2.5l-.94 2.06-2.06.94zm10 10l.94 2.06.94-2.06 2.06-.94-2.06-.94-.94-2.06-.94 2.06-2.06.94z\"/><path d=\"M17.41 7.96l-1.37-1.37c-.4-.4-.92-.59-1.43-.59-.52 0-1.04.2-1.43.59L10.3 9.45l-7.72 7.72c-.78.78-.78 2.05 0 2.83L4 21.41c.39.39.9.59 1.41.59.51 0 1.02-.2 1.41-.59l7.78-7.78 2.81-2.81c.8-.78.8-2.07 0-2.86zM5.41 20L4 18.59l7.72-7.72 1.47 1.35L5.41 20z\"/>\n",
              "  </svg>\n",
              "      </button>\n",
              "      \n",
              "  <style>\n",
              "    .colab-df-container {\n",
              "      display:flex;\n",
              "      flex-wrap:wrap;\n",
              "      gap: 12px;\n",
              "    }\n",
              "\n",
              "    .colab-df-convert {\n",
              "      background-color: #E8F0FE;\n",
              "      border: none;\n",
              "      border-radius: 50%;\n",
              "      cursor: pointer;\n",
              "      display: none;\n",
              "      fill: #1967D2;\n",
              "      height: 32px;\n",
              "      padding: 0 0 0 0;\n",
              "      width: 32px;\n",
              "    }\n",
              "\n",
              "    .colab-df-convert:hover {\n",
              "      background-color: #E2EBFA;\n",
              "      box-shadow: 0px 1px 2px rgba(60, 64, 67, 0.3), 0px 1px 3px 1px rgba(60, 64, 67, 0.15);\n",
              "      fill: #174EA6;\n",
              "    }\n",
              "\n",
              "    [theme=dark] .colab-df-convert {\n",
              "      background-color: #3B4455;\n",
              "      fill: #D2E3FC;\n",
              "    }\n",
              "\n",
              "    [theme=dark] .colab-df-convert:hover {\n",
              "      background-color: #434B5C;\n",
              "      box-shadow: 0px 1px 3px 1px rgba(0, 0, 0, 0.15);\n",
              "      filter: drop-shadow(0px 1px 2px rgba(0, 0, 0, 0.3));\n",
              "      fill: #FFFFFF;\n",
              "    }\n",
              "  </style>\n",
              "\n",
              "      <script>\n",
              "        const buttonEl =\n",
              "          document.querySelector('#df-c935b291-4114-4179-ac0c-95bde397dff4 button.colab-df-convert');\n",
              "        buttonEl.style.display =\n",
              "          google.colab.kernel.accessAllowed ? 'block' : 'none';\n",
              "\n",
              "        async function convertToInteractive(key) {\n",
              "          const element = document.querySelector('#df-c935b291-4114-4179-ac0c-95bde397dff4');\n",
              "          const dataTable =\n",
              "            await google.colab.kernel.invokeFunction('convertToInteractive',\n",
              "                                                     [key], {});\n",
              "          if (!dataTable) return;\n",
              "\n",
              "          const docLinkHtml = 'Like what you see? Visit the ' +\n",
              "            '<a target=\"_blank\" href=https://colab.research.google.com/notebooks/data_table.ipynb>data table notebook</a>'\n",
              "            + ' to learn more about interactive tables.';\n",
              "          element.innerHTML = '';\n",
              "          dataTable['output_type'] = 'display_data';\n",
              "          await google.colab.output.renderOutput(dataTable, element);\n",
              "          const docLink = document.createElement('div');\n",
              "          docLink.innerHTML = docLinkHtml;\n",
              "          element.appendChild(docLink);\n",
              "        }\n",
              "      </script>\n",
              "    </div>\n",
              "  </div>\n",
              "  "
            ]
          },
          "metadata": {},
          "execution_count": 10
        }
      ],
      "source": [
        "# Correlation\n",
        "df[[\"telecommuting\",\"fraudulent\"]].corr()"
      ],
      "id": "7462e621"
    },
    {
      "cell_type": "code",
      "execution_count": 11,
      "metadata": {
        "colab": {
          "base_uri": "https://localhost:8080/",
          "height": 0
        },
        "id": "9ef053ee",
        "outputId": "8179ca03-2145-42f5-8ada-2f3b633792f4"
      },
      "outputs": [
        {
          "output_type": "execute_result",
          "data": {
            "text/plain": [
              "                  has_company_logo  fraudulent\n",
              "has_company_logo          1.000000   -0.264599\n",
              "fraudulent               -0.264599    1.000000"
            ],
            "text/html": [
              "\n",
              "  <div id=\"df-25d8241d-024d-4d84-9649-b375927a0300\">\n",
              "    <div class=\"colab-df-container\">\n",
              "      <div>\n",
              "<style scoped>\n",
              "    .dataframe tbody tr th:only-of-type {\n",
              "        vertical-align: middle;\n",
              "    }\n",
              "\n",
              "    .dataframe tbody tr th {\n",
              "        vertical-align: top;\n",
              "    }\n",
              "\n",
              "    .dataframe thead th {\n",
              "        text-align: right;\n",
              "    }\n",
              "</style>\n",
              "<table border=\"1\" class=\"dataframe\">\n",
              "  <thead>\n",
              "    <tr style=\"text-align: right;\">\n",
              "      <th></th>\n",
              "      <th>has_company_logo</th>\n",
              "      <th>fraudulent</th>\n",
              "    </tr>\n",
              "  </thead>\n",
              "  <tbody>\n",
              "    <tr>\n",
              "      <th>has_company_logo</th>\n",
              "      <td>1.000000</td>\n",
              "      <td>-0.264599</td>\n",
              "    </tr>\n",
              "    <tr>\n",
              "      <th>fraudulent</th>\n",
              "      <td>-0.264599</td>\n",
              "      <td>1.000000</td>\n",
              "    </tr>\n",
              "  </tbody>\n",
              "</table>\n",
              "</div>\n",
              "      <button class=\"colab-df-convert\" onclick=\"convertToInteractive('df-25d8241d-024d-4d84-9649-b375927a0300')\"\n",
              "              title=\"Convert this dataframe to an interactive table.\"\n",
              "              style=\"display:none;\">\n",
              "        \n",
              "  <svg xmlns=\"http://www.w3.org/2000/svg\" height=\"24px\"viewBox=\"0 0 24 24\"\n",
              "       width=\"24px\">\n",
              "    <path d=\"M0 0h24v24H0V0z\" fill=\"none\"/>\n",
              "    <path d=\"M18.56 5.44l.94 2.06.94-2.06 2.06-.94-2.06-.94-.94-2.06-.94 2.06-2.06.94zm-11 1L8.5 8.5l.94-2.06 2.06-.94-2.06-.94L8.5 2.5l-.94 2.06-2.06.94zm10 10l.94 2.06.94-2.06 2.06-.94-2.06-.94-.94-2.06-.94 2.06-2.06.94z\"/><path d=\"M17.41 7.96l-1.37-1.37c-.4-.4-.92-.59-1.43-.59-.52 0-1.04.2-1.43.59L10.3 9.45l-7.72 7.72c-.78.78-.78 2.05 0 2.83L4 21.41c.39.39.9.59 1.41.59.51 0 1.02-.2 1.41-.59l7.78-7.78 2.81-2.81c.8-.78.8-2.07 0-2.86zM5.41 20L4 18.59l7.72-7.72 1.47 1.35L5.41 20z\"/>\n",
              "  </svg>\n",
              "      </button>\n",
              "      \n",
              "  <style>\n",
              "    .colab-df-container {\n",
              "      display:flex;\n",
              "      flex-wrap:wrap;\n",
              "      gap: 12px;\n",
              "    }\n",
              "\n",
              "    .colab-df-convert {\n",
              "      background-color: #E8F0FE;\n",
              "      border: none;\n",
              "      border-radius: 50%;\n",
              "      cursor: pointer;\n",
              "      display: none;\n",
              "      fill: #1967D2;\n",
              "      height: 32px;\n",
              "      padding: 0 0 0 0;\n",
              "      width: 32px;\n",
              "    }\n",
              "\n",
              "    .colab-df-convert:hover {\n",
              "      background-color: #E2EBFA;\n",
              "      box-shadow: 0px 1px 2px rgba(60, 64, 67, 0.3), 0px 1px 3px 1px rgba(60, 64, 67, 0.15);\n",
              "      fill: #174EA6;\n",
              "    }\n",
              "\n",
              "    [theme=dark] .colab-df-convert {\n",
              "      background-color: #3B4455;\n",
              "      fill: #D2E3FC;\n",
              "    }\n",
              "\n",
              "    [theme=dark] .colab-df-convert:hover {\n",
              "      background-color: #434B5C;\n",
              "      box-shadow: 0px 1px 3px 1px rgba(0, 0, 0, 0.15);\n",
              "      filter: drop-shadow(0px 1px 2px rgba(0, 0, 0, 0.3));\n",
              "      fill: #FFFFFF;\n",
              "    }\n",
              "  </style>\n",
              "\n",
              "      <script>\n",
              "        const buttonEl =\n",
              "          document.querySelector('#df-25d8241d-024d-4d84-9649-b375927a0300 button.colab-df-convert');\n",
              "        buttonEl.style.display =\n",
              "          google.colab.kernel.accessAllowed ? 'block' : 'none';\n",
              "\n",
              "        async function convertToInteractive(key) {\n",
              "          const element = document.querySelector('#df-25d8241d-024d-4d84-9649-b375927a0300');\n",
              "          const dataTable =\n",
              "            await google.colab.kernel.invokeFunction('convertToInteractive',\n",
              "                                                     [key], {});\n",
              "          if (!dataTable) return;\n",
              "\n",
              "          const docLinkHtml = 'Like what you see? Visit the ' +\n",
              "            '<a target=\"_blank\" href=https://colab.research.google.com/notebooks/data_table.ipynb>data table notebook</a>'\n",
              "            + ' to learn more about interactive tables.';\n",
              "          element.innerHTML = '';\n",
              "          dataTable['output_type'] = 'display_data';\n",
              "          await google.colab.output.renderOutput(dataTable, element);\n",
              "          const docLink = document.createElement('div');\n",
              "          docLink.innerHTML = docLinkHtml;\n",
              "          element.appendChild(docLink);\n",
              "        }\n",
              "      </script>\n",
              "    </div>\n",
              "  </div>\n",
              "  "
            ]
          },
          "metadata": {},
          "execution_count": 11
        }
      ],
      "source": [
        "df[[\"has_company_logo\",\"fraudulent\"]].corr()"
      ],
      "id": "9ef053ee"
    },
    {
      "cell_type": "markdown",
      "metadata": {
        "id": "6d1c14b9"
      },
      "source": [
        "-0.26 is significant correlation for keeping this feature"
      ],
      "id": "6d1c14b9"
    },
    {
      "cell_type": "code",
      "execution_count": 12,
      "metadata": {
        "colab": {
          "base_uri": "https://localhost:8080/",
          "height": 0
        },
        "id": "46930490",
        "outputId": "a04ed072-1c9e-4ec9-b76a-acb1a1d5aaf4"
      },
      "outputs": [
        {
          "output_type": "execute_result",
          "data": {
            "text/plain": [
              "               has_questions  fraudulent\n",
              "has_questions       1.000000   -0.092613\n",
              "fraudulent         -0.092613    1.000000"
            ],
            "text/html": [
              "\n",
              "  <div id=\"df-513dd4f1-2920-46e0-997d-ce0c06c5fab2\">\n",
              "    <div class=\"colab-df-container\">\n",
              "      <div>\n",
              "<style scoped>\n",
              "    .dataframe tbody tr th:only-of-type {\n",
              "        vertical-align: middle;\n",
              "    }\n",
              "\n",
              "    .dataframe tbody tr th {\n",
              "        vertical-align: top;\n",
              "    }\n",
              "\n",
              "    .dataframe thead th {\n",
              "        text-align: right;\n",
              "    }\n",
              "</style>\n",
              "<table border=\"1\" class=\"dataframe\">\n",
              "  <thead>\n",
              "    <tr style=\"text-align: right;\">\n",
              "      <th></th>\n",
              "      <th>has_questions</th>\n",
              "      <th>fraudulent</th>\n",
              "    </tr>\n",
              "  </thead>\n",
              "  <tbody>\n",
              "    <tr>\n",
              "      <th>has_questions</th>\n",
              "      <td>1.000000</td>\n",
              "      <td>-0.092613</td>\n",
              "    </tr>\n",
              "    <tr>\n",
              "      <th>fraudulent</th>\n",
              "      <td>-0.092613</td>\n",
              "      <td>1.000000</td>\n",
              "    </tr>\n",
              "  </tbody>\n",
              "</table>\n",
              "</div>\n",
              "      <button class=\"colab-df-convert\" onclick=\"convertToInteractive('df-513dd4f1-2920-46e0-997d-ce0c06c5fab2')\"\n",
              "              title=\"Convert this dataframe to an interactive table.\"\n",
              "              style=\"display:none;\">\n",
              "        \n",
              "  <svg xmlns=\"http://www.w3.org/2000/svg\" height=\"24px\"viewBox=\"0 0 24 24\"\n",
              "       width=\"24px\">\n",
              "    <path d=\"M0 0h24v24H0V0z\" fill=\"none\"/>\n",
              "    <path d=\"M18.56 5.44l.94 2.06.94-2.06 2.06-.94-2.06-.94-.94-2.06-.94 2.06-2.06.94zm-11 1L8.5 8.5l.94-2.06 2.06-.94-2.06-.94L8.5 2.5l-.94 2.06-2.06.94zm10 10l.94 2.06.94-2.06 2.06-.94-2.06-.94-.94-2.06-.94 2.06-2.06.94z\"/><path d=\"M17.41 7.96l-1.37-1.37c-.4-.4-.92-.59-1.43-.59-.52 0-1.04.2-1.43.59L10.3 9.45l-7.72 7.72c-.78.78-.78 2.05 0 2.83L4 21.41c.39.39.9.59 1.41.59.51 0 1.02-.2 1.41-.59l7.78-7.78 2.81-2.81c.8-.78.8-2.07 0-2.86zM5.41 20L4 18.59l7.72-7.72 1.47 1.35L5.41 20z\"/>\n",
              "  </svg>\n",
              "      </button>\n",
              "      \n",
              "  <style>\n",
              "    .colab-df-container {\n",
              "      display:flex;\n",
              "      flex-wrap:wrap;\n",
              "      gap: 12px;\n",
              "    }\n",
              "\n",
              "    .colab-df-convert {\n",
              "      background-color: #E8F0FE;\n",
              "      border: none;\n",
              "      border-radius: 50%;\n",
              "      cursor: pointer;\n",
              "      display: none;\n",
              "      fill: #1967D2;\n",
              "      height: 32px;\n",
              "      padding: 0 0 0 0;\n",
              "      width: 32px;\n",
              "    }\n",
              "\n",
              "    .colab-df-convert:hover {\n",
              "      background-color: #E2EBFA;\n",
              "      box-shadow: 0px 1px 2px rgba(60, 64, 67, 0.3), 0px 1px 3px 1px rgba(60, 64, 67, 0.15);\n",
              "      fill: #174EA6;\n",
              "    }\n",
              "\n",
              "    [theme=dark] .colab-df-convert {\n",
              "      background-color: #3B4455;\n",
              "      fill: #D2E3FC;\n",
              "    }\n",
              "\n",
              "    [theme=dark] .colab-df-convert:hover {\n",
              "      background-color: #434B5C;\n",
              "      box-shadow: 0px 1px 3px 1px rgba(0, 0, 0, 0.15);\n",
              "      filter: drop-shadow(0px 1px 2px rgba(0, 0, 0, 0.3));\n",
              "      fill: #FFFFFF;\n",
              "    }\n",
              "  </style>\n",
              "\n",
              "      <script>\n",
              "        const buttonEl =\n",
              "          document.querySelector('#df-513dd4f1-2920-46e0-997d-ce0c06c5fab2 button.colab-df-convert');\n",
              "        buttonEl.style.display =\n",
              "          google.colab.kernel.accessAllowed ? 'block' : 'none';\n",
              "\n",
              "        async function convertToInteractive(key) {\n",
              "          const element = document.querySelector('#df-513dd4f1-2920-46e0-997d-ce0c06c5fab2');\n",
              "          const dataTable =\n",
              "            await google.colab.kernel.invokeFunction('convertToInteractive',\n",
              "                                                     [key], {});\n",
              "          if (!dataTable) return;\n",
              "\n",
              "          const docLinkHtml = 'Like what you see? Visit the ' +\n",
              "            '<a target=\"_blank\" href=https://colab.research.google.com/notebooks/data_table.ipynb>data table notebook</a>'\n",
              "            + ' to learn more about interactive tables.';\n",
              "          element.innerHTML = '';\n",
              "          dataTable['output_type'] = 'display_data';\n",
              "          await google.colab.output.renderOutput(dataTable, element);\n",
              "          const docLink = document.createElement('div');\n",
              "          docLink.innerHTML = docLinkHtml;\n",
              "          element.appendChild(docLink);\n",
              "        }\n",
              "      </script>\n",
              "    </div>\n",
              "  </div>\n",
              "  "
            ]
          },
          "metadata": {},
          "execution_count": 12
        }
      ],
      "source": [
        "df[[\"has_questions\",\"fraudulent\"]].corr()"
      ],
      "id": "46930490"
    },
    {
      "cell_type": "markdown",
      "metadata": {
        "id": "92cd5cb4"
      },
      "source": [
        "# Preprocessing"
      ],
      "id": "92cd5cb4"
    },
    {
      "cell_type": "markdown",
      "metadata": {
        "id": "20de6a1c"
      },
      "source": [
        "## Fill nan"
      ],
      "id": "20de6a1c"
    },
    {
      "cell_type": "code",
      "execution_count": 13,
      "metadata": {
        "id": "c434adc8"
      },
      "outputs": [],
      "source": [
        "df = df.fillna(\"none\")\n",
        "df_aug = df_aug.fillna(\"none\")\n",
        "df_val = df_val.fillna(\"none\")"
      ],
      "id": "c434adc8"
    },
    {
      "cell_type": "markdown",
      "metadata": {
        "id": "h-02yv2_xePb"
      },
      "source": [
        "## Concatenate Train and Augmented datasets"
      ],
      "id": "h-02yv2_xePb"
    },
    {
      "cell_type": "code",
      "execution_count": 14,
      "metadata": {
        "colab": {
          "base_uri": "https://localhost:8080/"
        },
        "id": "WW7IRUTgxdu9",
        "outputId": "34234038-3c82-47b0-f526-6874ddce69f9"
      },
      "outputs": [
        {
          "output_type": "stream",
          "name": "stdout",
          "text": [
            "Train dataset length: 14304\n",
            "Augmented dataset length: 14530\n",
            "Train dataset after concatenation: 28834\n"
          ]
        }
      ],
      "source": [
        "print('Train dataset length:', len(df))\n",
        "print('Augmented dataset length:', len(df_aug))\n",
        "\n",
        "df = pd.concat([df_aug, df])\n",
        "df = df.reset_index()\n",
        "\n",
        "print('Train dataset after concatenation:', len(df))"
      ],
      "id": "WW7IRUTgxdu9"
    },
    {
      "cell_type": "markdown",
      "metadata": {
        "id": "cfe8fafc"
      },
      "source": [
        "## Merged features embeddings"
      ],
      "id": "cfe8fafc"
    },
    {
      "cell_type": "code",
      "execution_count": 15,
      "metadata": {
        "id": "03ddd8a4"
      },
      "outputs": [],
      "source": [
        "def merge(df):\n",
        "    # df = df.assign(merged_features=lambda df: df[\"title\"]+\" \"+df[\"location\"]+\" \"+df[\"department\"]+\n",
        "    #           df[\"employment_type\"]+\" \"+df[\"required_experience\"]+\" \"+df[\"required_education\"]+\" \"+\n",
        "    #            df[\"industry\"]+\" \"+df[\"function\"])\n",
        "    \n",
        "    # df = df.assign(merged_features=lambda df: df[\"description\"])\n",
        "    \n",
        "    df = df.assign(merged_features=lambda df: \n",
        "                   df[\"title\"]+\" \"\n",
        "                   +df[\"location\"]+\" \"\n",
        "                   +df[\"department\"]\n",
        "                  #  +df[\"employment_type\"]+\" \"\n",
        "                  #  +df[\"required_experience\"]+\" \"\n",
        "                  #  +df[\"required_education\"]+\" \"\n",
        "                  #  +df[\"industry\"]+\" \"\n",
        "                  #  +df[\"function\"]+\" \"\n",
        "                   +df[\"description\"]+\" \"\n",
        "                  #  +df[\"requirements\"]+\" \"\n",
        "                  #  +df[\"benefits\"]\n",
        "                   )\n",
        "    \n",
        "\n",
        "    return df[[\"merged_features\",\"fraudulent\"]]"
      ],
      "id": "03ddd8a4"
    },
    {
      "cell_type": "code",
      "execution_count": 16,
      "metadata": {
        "colab": {
          "base_uri": "https://localhost:8080/",
          "height": 206
        },
        "id": "3e170413",
        "outputId": "7b3f6041-bcc7-4cbd-efc7-38dfbd5d27a5"
      },
      "outputs": [
        {
          "output_type": "execute_result",
          "data": {
            "text/plain": [
              "                                     merged_features  fraudulent\n",
              "0  Client Audit coordinator Coordinator us, tx, a...           1\n",
              "1  national audit coordinator us, ny, ny complian...           1\n",
              "2  node audit coordinator Austin TX, US, 701 UNIT...           1\n",
              "3  client Audit Coordinator US, TX, capital of te...           1\n",
              "4  Client scrutinize Coordinator US, TX, Austin C...           1"
            ],
            "text/html": [
              "\n",
              "  <div id=\"df-2ed87cb6-fcea-4540-a12f-b0dfe46b154b\">\n",
              "    <div class=\"colab-df-container\">\n",
              "      <div>\n",
              "<style scoped>\n",
              "    .dataframe tbody tr th:only-of-type {\n",
              "        vertical-align: middle;\n",
              "    }\n",
              "\n",
              "    .dataframe tbody tr th {\n",
              "        vertical-align: top;\n",
              "    }\n",
              "\n",
              "    .dataframe thead th {\n",
              "        text-align: right;\n",
              "    }\n",
              "</style>\n",
              "<table border=\"1\" class=\"dataframe\">\n",
              "  <thead>\n",
              "    <tr style=\"text-align: right;\">\n",
              "      <th></th>\n",
              "      <th>merged_features</th>\n",
              "      <th>fraudulent</th>\n",
              "    </tr>\n",
              "  </thead>\n",
              "  <tbody>\n",
              "    <tr>\n",
              "      <th>0</th>\n",
              "      <td>Client Audit coordinator Coordinator us, tx, a...</td>\n",
              "      <td>1</td>\n",
              "    </tr>\n",
              "    <tr>\n",
              "      <th>1</th>\n",
              "      <td>national audit coordinator us, ny, ny complian...</td>\n",
              "      <td>1</td>\n",
              "    </tr>\n",
              "    <tr>\n",
              "      <th>2</th>\n",
              "      <td>node audit coordinator Austin TX, US, 701 UNIT...</td>\n",
              "      <td>1</td>\n",
              "    </tr>\n",
              "    <tr>\n",
              "      <th>3</th>\n",
              "      <td>client Audit Coordinator US, TX, capital of te...</td>\n",
              "      <td>1</td>\n",
              "    </tr>\n",
              "    <tr>\n",
              "      <th>4</th>\n",
              "      <td>Client scrutinize Coordinator US, TX, Austin C...</td>\n",
              "      <td>1</td>\n",
              "    </tr>\n",
              "  </tbody>\n",
              "</table>\n",
              "</div>\n",
              "      <button class=\"colab-df-convert\" onclick=\"convertToInteractive('df-2ed87cb6-fcea-4540-a12f-b0dfe46b154b')\"\n",
              "              title=\"Convert this dataframe to an interactive table.\"\n",
              "              style=\"display:none;\">\n",
              "        \n",
              "  <svg xmlns=\"http://www.w3.org/2000/svg\" height=\"24px\"viewBox=\"0 0 24 24\"\n",
              "       width=\"24px\">\n",
              "    <path d=\"M0 0h24v24H0V0z\" fill=\"none\"/>\n",
              "    <path d=\"M18.56 5.44l.94 2.06.94-2.06 2.06-.94-2.06-.94-.94-2.06-.94 2.06-2.06.94zm-11 1L8.5 8.5l.94-2.06 2.06-.94-2.06-.94L8.5 2.5l-.94 2.06-2.06.94zm10 10l.94 2.06.94-2.06 2.06-.94-2.06-.94-.94-2.06-.94 2.06-2.06.94z\"/><path d=\"M17.41 7.96l-1.37-1.37c-.4-.4-.92-.59-1.43-.59-.52 0-1.04.2-1.43.59L10.3 9.45l-7.72 7.72c-.78.78-.78 2.05 0 2.83L4 21.41c.39.39.9.59 1.41.59.51 0 1.02-.2 1.41-.59l7.78-7.78 2.81-2.81c.8-.78.8-2.07 0-2.86zM5.41 20L4 18.59l7.72-7.72 1.47 1.35L5.41 20z\"/>\n",
              "  </svg>\n",
              "      </button>\n",
              "      \n",
              "  <style>\n",
              "    .colab-df-container {\n",
              "      display:flex;\n",
              "      flex-wrap:wrap;\n",
              "      gap: 12px;\n",
              "    }\n",
              "\n",
              "    .colab-df-convert {\n",
              "      background-color: #E8F0FE;\n",
              "      border: none;\n",
              "      border-radius: 50%;\n",
              "      cursor: pointer;\n",
              "      display: none;\n",
              "      fill: #1967D2;\n",
              "      height: 32px;\n",
              "      padding: 0 0 0 0;\n",
              "      width: 32px;\n",
              "    }\n",
              "\n",
              "    .colab-df-convert:hover {\n",
              "      background-color: #E2EBFA;\n",
              "      box-shadow: 0px 1px 2px rgba(60, 64, 67, 0.3), 0px 1px 3px 1px rgba(60, 64, 67, 0.15);\n",
              "      fill: #174EA6;\n",
              "    }\n",
              "\n",
              "    [theme=dark] .colab-df-convert {\n",
              "      background-color: #3B4455;\n",
              "      fill: #D2E3FC;\n",
              "    }\n",
              "\n",
              "    [theme=dark] .colab-df-convert:hover {\n",
              "      background-color: #434B5C;\n",
              "      box-shadow: 0px 1px 3px 1px rgba(0, 0, 0, 0.15);\n",
              "      filter: drop-shadow(0px 1px 2px rgba(0, 0, 0, 0.3));\n",
              "      fill: #FFFFFF;\n",
              "    }\n",
              "  </style>\n",
              "\n",
              "      <script>\n",
              "        const buttonEl =\n",
              "          document.querySelector('#df-2ed87cb6-fcea-4540-a12f-b0dfe46b154b button.colab-df-convert');\n",
              "        buttonEl.style.display =\n",
              "          google.colab.kernel.accessAllowed ? 'block' : 'none';\n",
              "\n",
              "        async function convertToInteractive(key) {\n",
              "          const element = document.querySelector('#df-2ed87cb6-fcea-4540-a12f-b0dfe46b154b');\n",
              "          const dataTable =\n",
              "            await google.colab.kernel.invokeFunction('convertToInteractive',\n",
              "                                                     [key], {});\n",
              "          if (!dataTable) return;\n",
              "\n",
              "          const docLinkHtml = 'Like what you see? Visit the ' +\n",
              "            '<a target=\"_blank\" href=https://colab.research.google.com/notebooks/data_table.ipynb>data table notebook</a>'\n",
              "            + ' to learn more about interactive tables.';\n",
              "          element.innerHTML = '';\n",
              "          dataTable['output_type'] = 'display_data';\n",
              "          await google.colab.output.renderOutput(dataTable, element);\n",
              "          const docLink = document.createElement('div');\n",
              "          docLink.innerHTML = docLinkHtml;\n",
              "          element.appendChild(docLink);\n",
              "        }\n",
              "      </script>\n",
              "    </div>\n",
              "  </div>\n",
              "  "
            ]
          },
          "metadata": {},
          "execution_count": 16
        }
      ],
      "source": [
        "df_merged = merge(df)\n",
        "df_val_merged = merge(df_val)\n",
        "df_merged.head()"
      ],
      "id": "3e170413"
    },
    {
      "cell_type": "code",
      "execution_count": 17,
      "metadata": {
        "id": "e3de280f"
      },
      "outputs": [],
      "source": [
        "# Lowercase, removing stop words, punctuation, numbers, stemming\n",
        "\n",
        "# Input -> array of docs\n",
        "def preprocess_texts(texts):\n",
        "    preprocessed = []\n",
        "    stop_words = stopwords.words('english')\n",
        "    punct=string.punctuation\n",
        "    # stemmer=PorterStemmer()\n",
        "    lemmatizer = WordNetLemmatizer()\n",
        "    \n",
        "    print(\"Preprocessing..\")\n",
        "    for text in tqdm(texts):\n",
        "        words = word_tokenize(text)\n",
        "        words = [''.join([i for i in word if not i.isdigit()]) for word in words] # Removing numbers\n",
        "        # All in one :)\n",
        "        words = [lemmatizer.lemmatize(word.lower()) for word in words if (word not in stop_words) and (word not in punct)]\n",
        "        preprocessed.append(words)\n",
        "        \n",
        "    print(\"Done\")\n",
        "    return preprocessed\n",
        "        "
      ],
      "id": "e3de280f"
    },
    {
      "cell_type": "code",
      "execution_count": 18,
      "metadata": {
        "id": "63a07108"
      },
      "outputs": [],
      "source": [
        "features_train = np.array(df_merged[\"merged_features\"])\n",
        "target_train = np.array(df_merged[\"fraudulent\"])\n",
        "\n",
        "features_val = np.array(df_val_merged[\"merged_features\"])\n",
        "target_val = np.array(df_val_merged[\"fraudulent\"])"
      ],
      "id": "63a07108"
    },
    {
      "cell_type": "code",
      "execution_count": 19,
      "metadata": {
        "colab": {
          "base_uri": "https://localhost:8080/"
        },
        "id": "bf9c9420",
        "outputId": "4340e8ce-2dc9-4f24-9c5f-b1e11e1219f3"
      },
      "outputs": [
        {
          "output_type": "stream",
          "name": "stdout",
          "text": [
            "Preprocessing..\n"
          ]
        },
        {
          "output_type": "stream",
          "name": "stderr",
          "text": [
            "100%|██████████| 28834/28834 [01:12<00:00, 399.35it/s]\n"
          ]
        },
        {
          "output_type": "stream",
          "name": "stdout",
          "text": [
            "Done\n",
            "Preprocessing..\n"
          ]
        },
        {
          "output_type": "stream",
          "name": "stderr",
          "text": [
            "100%|██████████| 1788/1788 [00:04<00:00, 397.88it/s]"
          ]
        },
        {
          "output_type": "stream",
          "name": "stdout",
          "text": [
            "Done\n"
          ]
        },
        {
          "output_type": "stream",
          "name": "stderr",
          "text": [
            "\n"
          ]
        }
      ],
      "source": [
        "preprocessed_train = preprocess_texts(features_train)\n",
        "preprocessed_val = preprocess_texts(features_val)\n",
        "#print(preprocessed[:3])"
      ],
      "id": "bf9c9420"
    },
    {
      "cell_type": "markdown",
      "metadata": {
        "id": "3711b1bc"
      },
      "source": [
        "#### GloVe"
      ],
      "id": "3711b1bc"
    },
    {
      "cell_type": "code",
      "execution_count": 20,
      "metadata": {
        "id": "a765f8d8"
      },
      "outputs": [],
      "source": [
        "def texts2embeddings(texts, max_length, em_dim):\n",
        "    zero_vector = np.zeros(em_dim)\n",
        "    embeddings = []\n",
        "    total_words = 0\n",
        "    missing_words = 0\n",
        "    for text in tqdm(texts):\n",
        "        embedded_text = []\n",
        "        for word in text:\n",
        "            total_words += 1\n",
        "            try:\n",
        "                embedded_text.append(glove_vectors[word])\n",
        "            except:\n",
        "                embedded_text.append(zero_vector)\n",
        "                missing_words += 1\n",
        "        embeddings.append(embedded_text)\n",
        "    embeddings = pad_sequences(embeddings, maxlen=max_length, padding='post',value=zero_vector,dtype=\"float32\")\n",
        "    print(\"Missing words:\",missing_words/total_words)\n",
        "    return embeddings"
      ],
      "id": "a765f8d8"
    },
    {
      "cell_type": "code",
      "execution_count": 21,
      "metadata": {
        "colab": {
          "base_uri": "https://localhost:8080/"
        },
        "id": "c51b05fa",
        "outputId": "752569b2-0fb8-4768-c15e-8b6f5cd1e119"
      },
      "outputs": [
        {
          "output_type": "stream",
          "name": "stdout",
          "text": [
            "Max length: 834\n"
          ]
        },
        {
          "output_type": "stream",
          "name": "stderr",
          "text": [
            "100%|██████████| 28834/28834 [00:05<00:00, 5618.59it/s]\n"
          ]
        },
        {
          "output_type": "stream",
          "name": "stdout",
          "text": [
            "Missing words: 0.07894958990215976\n"
          ]
        },
        {
          "output_type": "stream",
          "name": "stderr",
          "text": [
            "100%|██████████| 1788/1788 [00:00<00:00, 5483.08it/s]\n"
          ]
        },
        {
          "output_type": "stream",
          "name": "stdout",
          "text": [
            "Missing words: 0.09132745478451962\n"
          ]
        }
      ],
      "source": [
        "max_input_length = max([len(doc) for doc in preprocessed_train]) \n",
        "print(\"Max length:\", max_input_length)\n",
        "max_input_length=800\n",
        "\n",
        "embedded_features_train = texts2embeddings(preprocessed_train,max_input_length,embedding_dim)\n",
        "embedded_features_val = texts2embeddings(preprocessed_val,max_input_length,embedding_dim)"
      ],
      "id": "c51b05fa"
    },
    {
      "cell_type": "markdown",
      "metadata": {
        "id": "ecrH3STGUJAm"
      },
      "source": [
        "*Uncomment next cells if session crashes in colab:*"
      ],
      "id": "ecrH3STGUJAm"
    },
    {
      "cell_type": "code",
      "execution_count": 22,
      "metadata": {
        "id": "1WVbRX6-p88S"
      },
      "outputs": [],
      "source": [
        "# with open('embedded_features_train.npy', 'wb') as f:\n",
        "#     np.save(f, embedded_features_train)\n",
        "# with open('embedded_features_val.npy', 'wb') as f:\n",
        "#     np.save(f, embedded_features_val)"
      ],
      "id": "1WVbRX6-p88S"
    },
    {
      "cell_type": "code",
      "execution_count": 23,
      "metadata": {
        "id": "o0j3y_P5rE9B"
      },
      "outputs": [],
      "source": [
        "# with open('embedded_features_train.npy', 'rb') as f:\n",
        "#     embedded_features_train = np.load(f)\n",
        "# with open('embedded_features_val.npy', 'rb') as f:\n",
        "#     embedded_features_val = np.load(f)"
      ],
      "id": "o0j3y_P5rE9B"
    },
    {
      "cell_type": "code",
      "execution_count": 24,
      "metadata": {
        "colab": {
          "base_uri": "https://localhost:8080/"
        },
        "id": "32cca12d",
        "outputId": "d04c5267-556f-4d6c-bc80-91483e7d4ba2"
      },
      "outputs": [
        {
          "output_type": "stream",
          "name": "stdout",
          "text": [
            "Epoch 1/30\n",
            "902/902 - 64s - loss: 0.2879 - accuracy: 0.8749 - val_loss: 0.2530 - val_accuracy: 0.9016 - 64s/epoch - 71ms/step\n",
            "Epoch 2/30\n",
            "902/902 - 50s - loss: 0.1028 - accuracy: 0.9615 - val_loss: 0.1465 - val_accuracy: 0.9569 - 50s/epoch - 55ms/step\n",
            "Epoch 3/30\n",
            "902/902 - 50s - loss: 0.0597 - accuracy: 0.9792 - val_loss: 0.1311 - val_accuracy: 0.9541 - 50s/epoch - 56ms/step\n",
            "Epoch 4/30\n",
            "902/902 - 50s - loss: 0.0426 - accuracy: 0.9857 - val_loss: 0.1424 - val_accuracy: 0.9636 - 50s/epoch - 55ms/step\n",
            "Epoch 5/30\n",
            "902/902 - 50s - loss: 0.0276 - accuracy: 0.9904 - val_loss: 0.1437 - val_accuracy: 0.9642 - 50s/epoch - 56ms/step\n",
            "Epoch 6/30\n",
            "902/902 - 50s - loss: 0.0212 - accuracy: 0.9926 - val_loss: 0.2092 - val_accuracy: 0.9469 - 50s/epoch - 55ms/step\n",
            "Epoch 7/30\n",
            "902/902 - 50s - loss: 0.0709 - accuracy: 0.9777 - val_loss: 0.1432 - val_accuracy: 0.9547 - 50s/epoch - 55ms/step\n",
            "Epoch 8/30\n",
            "902/902 - 50s - loss: 0.0449 - accuracy: 0.9843 - val_loss: 0.1477 - val_accuracy: 0.9681 - 50s/epoch - 56ms/step\n",
            "Epoch 9/30\n",
            "902/902 - 50s - loss: 0.0177 - accuracy: 0.9938 - val_loss: 0.1794 - val_accuracy: 0.9648 - 50s/epoch - 56ms/step\n",
            "Epoch 10/30\n",
            "902/902 - 50s - loss: 0.0148 - accuracy: 0.9948 - val_loss: 0.1654 - val_accuracy: 0.9670 - 50s/epoch - 56ms/step\n",
            "Epoch 11/30\n",
            "902/902 - 50s - loss: 0.0113 - accuracy: 0.9963 - val_loss: 0.1680 - val_accuracy: 0.9793 - 50s/epoch - 56ms/step\n",
            "Epoch 12/30\n",
            "902/902 - 50s - loss: 0.0112 - accuracy: 0.9962 - val_loss: 0.1706 - val_accuracy: 0.9709 - 50s/epoch - 56ms/step\n",
            "Epoch 13/30\n",
            "902/902 - 50s - loss: 0.0262 - accuracy: 0.9915 - val_loss: 0.1320 - val_accuracy: 0.9765 - 50s/epoch - 56ms/step\n",
            "Epoch 14/30\n",
            "902/902 - 50s - loss: 0.0113 - accuracy: 0.9963 - val_loss: 0.1713 - val_accuracy: 0.9743 - 50s/epoch - 56ms/step\n",
            "Epoch 15/30\n",
            "902/902 - 50s - loss: 0.0077 - accuracy: 0.9973 - val_loss: 0.1541 - val_accuracy: 0.9720 - 50s/epoch - 56ms/step\n",
            "Epoch 16/30\n",
            "902/902 - 50s - loss: 0.0093 - accuracy: 0.9971 - val_loss: 0.1743 - val_accuracy: 0.9743 - 50s/epoch - 56ms/step\n",
            "Epoch 17/30\n",
            "902/902 - 50s - loss: 0.0057 - accuracy: 0.9983 - val_loss: 0.2253 - val_accuracy: 0.9676 - 50s/epoch - 56ms/step\n",
            "Epoch 18/30\n",
            "902/902 - 50s - loss: 0.0095 - accuracy: 0.9971 - val_loss: 0.1315 - val_accuracy: 0.9743 - 50s/epoch - 56ms/step\n",
            "Epoch 19/30\n",
            "902/902 - 50s - loss: 0.0060 - accuracy: 0.9979 - val_loss: 0.1862 - val_accuracy: 0.9726 - 50s/epoch - 56ms/step\n",
            "Epoch 20/30\n",
            "902/902 - 50s - loss: 0.0055 - accuracy: 0.9983 - val_loss: 0.1790 - val_accuracy: 0.9782 - 50s/epoch - 56ms/step\n",
            "Epoch 21/30\n",
            "902/902 - 50s - loss: 0.0052 - accuracy: 0.9983 - val_loss: 0.1985 - val_accuracy: 0.9776 - 50s/epoch - 56ms/step\n",
            "Epoch 22/30\n",
            "902/902 - 50s - loss: 0.0061 - accuracy: 0.9983 - val_loss: 0.1702 - val_accuracy: 0.9748 - 50s/epoch - 56ms/step\n",
            "Epoch 23/30\n",
            "902/902 - 50s - loss: 0.0059 - accuracy: 0.9980 - val_loss: 0.1918 - val_accuracy: 0.9687 - 50s/epoch - 55ms/step\n",
            "Epoch 24/30\n",
            "902/902 - 50s - loss: 0.0061 - accuracy: 0.9982 - val_loss: 0.1746 - val_accuracy: 0.9804 - 50s/epoch - 55ms/step\n",
            "Epoch 25/30\n",
            "902/902 - 50s - loss: 0.0042 - accuracy: 0.9989 - val_loss: 0.1921 - val_accuracy: 0.9776 - 50s/epoch - 56ms/step\n",
            "Epoch 26/30\n",
            "902/902 - 50s - loss: 0.0041 - accuracy: 0.9990 - val_loss: 0.1504 - val_accuracy: 0.9771 - 50s/epoch - 56ms/step\n",
            "Epoch 27/30\n",
            "902/902 - 50s - loss: 0.0041 - accuracy: 0.9989 - val_loss: 0.1800 - val_accuracy: 0.9815 - 50s/epoch - 56ms/step\n",
            "Epoch 28/30\n",
            "902/902 - 50s - loss: 0.0041 - accuracy: 0.9987 - val_loss: 0.1836 - val_accuracy: 0.9787 - 50s/epoch - 55ms/step\n",
            "Epoch 29/30\n",
            "902/902 - 50s - loss: 0.0048 - accuracy: 0.9984 - val_loss: 0.1762 - val_accuracy: 0.9692 - 50s/epoch - 56ms/step\n",
            "Epoch 30/30\n",
            "902/902 - 50s - loss: 0.0038 - accuracy: 0.9989 - val_loss: 0.2057 - val_accuracy: 0.9765 - 50s/epoch - 56ms/step\n"
          ]
        }
      ],
      "source": [
        "from functools import lru_cache\n",
        "# Building model\n",
        "\n",
        "checkpoint_filepath = './checkpoint'\n",
        "model_checkpoint_callback = ModelCheckpoint(\n",
        "    filepath=checkpoint_filepath,\n",
        "    save_weights_only=True,\n",
        "    monitor='val_accuracy',\n",
        "    mode='max',\n",
        "    save_best_only=True)\n",
        "\n",
        "\n",
        "model = Sequential()\n",
        "model.add(Bidirectional(LSTM(100, input_shape=(max_input_length, embedding_dim))))\n",
        "model.add(Dropout(0.2))\n",
        "model.add(Dense(32))\n",
        "model.add(Dropout(0.2))\n",
        "model.add(Dense(16))\n",
        "model.add(Dense(1,activation=\"sigmoid\")) \n",
        "model.compile(loss='binary_crossentropy', optimizer='adam',metrics=[\"accuracy\"])\n",
        "history = model.fit(embedded_features_train, target_train, epochs=30, batch_size=32, verbose=2,\n",
        "                    validation_data=(embedded_features_val,target_val), callbacks=[model_checkpoint_callback])"
      ],
      "id": "32cca12d"
    },
    {
      "cell_type": "code",
      "execution_count": 25,
      "metadata": {
        "id": "f40b68d0",
        "colab": {
          "base_uri": "https://localhost:8080/"
        },
        "outputId": "0787c018-e2be-4145-a69a-65249ec1fa5a"
      },
      "outputs": [
        {
          "output_type": "stream",
          "name": "stdout",
          "text": [
            "Baseline: 0.9619686800894854\n"
          ]
        }
      ],
      "source": [
        "print(\"Baseline:\",(1-sum(target_val)/len(target_val)))"
      ],
      "id": "f40b68d0"
    },
    {
      "cell_type": "code",
      "execution_count": 26,
      "metadata": {
        "id": "171f8a3a",
        "colab": {
          "base_uri": "https://localhost:8080/"
        },
        "outputId": "1e65c5c1-6a9a-4fd8-e4e7-7110429f77cb"
      },
      "outputs": [
        {
          "output_type": "stream",
          "name": "stdout",
          "text": [
            "Max threshold 0.2\n",
            "F1:\n",
            "Micro: 0.9821029082774049\n",
            "Macro: 0.8683781918564527\n",
            "Weighted: 0.9814186440390117\n",
            "For fraudulent: 0.746031746031746\n"
          ]
        }
      ],
      "source": [
        "# The model weights (that are considered the best) are loaded into the model.\n",
        "model.load_weights(checkpoint_filepath)\n",
        "\n",
        "predicted = model.predict(embedded_features_val)\n",
        "max_score = 0\n",
        "max_threshold = None\n",
        "max_threshold_labels = []\n",
        "\n",
        "# As labels\n",
        "for threshold in np.linspace(0.1, 0.9, 9):\n",
        "    predicted_labels = []\n",
        "    for p in predicted:\n",
        "        if p >= threshold:\n",
        "            predicted_labels.append([1])\n",
        "        else:\n",
        "            predicted_labels.append([0])\n",
        "\n",
        "\n",
        "    f1_binary = f1_score(target_val,predicted_labels,average=\"binary\")\n",
        "    if f1_binary > max_score:\n",
        "        max_threshold = threshold\n",
        "        max_score = f1_binary\n",
        "        max_threshold_predicted_labels = predicted_labels\n",
        "\n",
        "print(\"Max threshold\", max_threshold)\n",
        "print(\"F1:\")\n",
        "print(\"Micro:\",f1_score(target_val,max_threshold_predicted_labels,average=\"micro\"))\n",
        "print(\"Macro:\",f1_score(target_val,max_threshold_predicted_labels,average=\"macro\"))\n",
        "print(\"Weighted:\",f1_score(target_val,max_threshold_predicted_labels,average=\"weighted\"))\n",
        "print(\"For fraudulent:\",f1_score(target_val,max_threshold_predicted_labels,average=\"binary\"))"
      ],
      "id": "171f8a3a"
    },
    {
      "cell_type": "markdown",
      "metadata": {
        "id": "68a06f59"
      },
      "source": [
        "Seems gooood!=)"
      ],
      "id": "68a06f59"
    },
    {
      "cell_type": "code",
      "execution_count": 27,
      "metadata": {
        "id": "97bc138d",
        "colab": {
          "base_uri": "https://localhost:8080/",
          "height": 279
        },
        "outputId": "bb411c6b-706e-458c-e66a-2c475e703a9b"
      },
      "outputs": [
        {
          "output_type": "display_data",
          "data": {
            "text/plain": [
              "<Figure size 432x288 with 1 Axes>"
            ],
            "image/png": "[encoded data removed]"
          },
          "metadata": {
            "needs_background": "light"
          }
        }
      ],
      "source": [
        "# Presicion / recall curve\n",
        "precision,recall,tresholds = precision_recall_curve(target_val,predicted)\n",
        "\n",
        "plt.plot(tresholds,recall[:-1],label=\"Recall\")\n",
        "plt.plot(tresholds,precision[:-1],label=\"Precision\")\n",
        "plt.xlabel(\"Tresholds\")\n",
        "plt.ylabel(\"Precision/Recall\")\n",
        "plt.legend()\n",
        "plt.show()"
      ],
      "id": "97bc138d"
    },
    {
      "cell_type": "code",
      "execution_count": 28,
      "metadata": {
        "id": "6368efc5",
        "colab": {
          "base_uri": "https://localhost:8080/"
        },
        "outputId": "35b93628-a862-422b-e6f9-0b25e7a7c61e"
      },
      "outputs": [
        {
          "output_type": "execute_result",
          "data": {
            "text/plain": [
              "(0    1720\n",
              " 1      68\n",
              " Name: fraudulent, dtype: int64, array([46]), array([1742]))"
            ]
          },
          "metadata": {},
          "execution_count": 28
        }
      ],
      "source": [
        "df_val['fraudulent'].value_counts(), sum(predicted >= threshold), sum(predicted < threshold)"
      ],
      "id": "6368efc5"
    },
    {
      "cell_type": "code",
      "execution_count": 28,
      "metadata": {
        "id": "EhmXRWHaxRW2"
      },
      "outputs": [],
      "source": [
        ""
      ],
      "id": "EhmXRWHaxRW2"
    }
  ],
  "metadata": {
    "accelerator": "GPU",
    "colab": {
      "collapsed_sections": [
        "4eec215e",
        "64814e3b"
      ],
      "machine_shape": "hm",
      "name": "Fake_job_postings.ipynb",
      "provenance": []
    },
    "kernelspec": {
      "display_name": "Python 3",
      "language": "python",
      "name": "python3"
    },
    "language_info": {
      "codemirror_mode": {
        "name": "ipython",
        "version": 3
      },
      "file_extension": ".py",
      "mimetype": "text/x-python",
      "name": "python",
      "nbconvert_exporter": "python",
      "pygments_lexer": "ipython3",
      "version": "3.8.8"
    }
  },
  "nbformat": 4,
  "nbformat_minor": 5
}