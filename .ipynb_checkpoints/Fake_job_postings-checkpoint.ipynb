{
 "cells": [
  {
   "cell_type": "code",
   "execution_count": 1,
   "id": "0800ea05",
   "metadata": {
    "id": "0800ea05"
   },
   "outputs": [],
   "source": [
    "import pandas as pd\n",
    "import numpy as np\n",
    "import gensim\n",
    "import gensim.downloader\n",
    "\n",
    "import nltk\n",
    "from nltk.tokenize import word_tokenize\n",
    "from nltk.corpus import stopwords\n",
    "from nltk.stem import PorterStemmer\n",
    "from nltk.stem import WordNetLemmatizer\n",
    " \n",
    "import string\n",
    "\n",
    "from keras.layers import LSTM, Activation, Dropout, Dense, Input, Bidirectional\n",
    "from keras.models import Sequential\n",
    "from keras.layers.embeddings import Embedding\n",
    "from keras.models import Model\n",
    "from keras.callbacks import ModelCheckpoint\n",
    "\n",
    "from keras.preprocessing.sequence import pad_sequences\n",
    "\n",
    "from sklearn.model_selection import train_test_split\n",
    "from sklearn.metrics import f1_score,precision_recall_curve\n",
    "\n",
    "import matplotlib.pyplot as plt\n",
    "\n",
    "from tqdm import tqdm\n"
   ]
  },
  {
   "cell_type": "code",
   "execution_count": 2,
   "id": "65SPuYyEs10_",
   "metadata": {
    "colab": {
     "base_uri": "https://localhost:8080/"
    },
    "id": "65SPuYyEs10_",
    "outputId": "1aeaacee-c0e8-49da-d27d-f4c262c00576"
   },
   "outputs": [
    {
     "name": "stderr",
     "output_type": "stream",
     "text": [
      "[nltk_data] Downloading package stopwords to\n",
      "[nltk_data]     C:\\Users\\Kirill\\AppData\\Roaming\\nltk_data...\n",
      "[nltk_data]   Package stopwords is already up-to-date!\n",
      "[nltk_data] Downloading package punkt to\n",
      "[nltk_data]     C:\\Users\\Kirill\\AppData\\Roaming\\nltk_data...\n",
      "[nltk_data]   Package punkt is already up-to-date!\n",
      "[nltk_data] Downloading package wordnet to\n",
      "[nltk_data]     C:\\Users\\Kirill\\AppData\\Roaming\\nltk_data...\n",
      "[nltk_data]   Package wordnet is already up-to-date!\n"
     ]
    },
    {
     "data": {
      "text/plain": [
       "True"
      ]
     },
     "execution_count": 2,
     "metadata": {},
     "output_type": "execute_result"
    }
   ],
   "source": [
    "nltk.download('stopwords')\n",
    "nltk.download('punkt')\n",
    "nltk.download('wordnet')"
   ]
  },
  {
   "cell_type": "markdown",
   "id": "9836e28e",
   "metadata": {
    "id": "9836e28e"
   },
   "source": [
    "## Data exploration"
   ]
  },
  {
   "cell_type": "code",
   "execution_count": 3,
   "id": "7faa94a2",
   "metadata": {
    "colab": {
     "base_uri": "https://localhost:8080/",
     "height": 565
    },
    "id": "7faa94a2",
    "outputId": "186f6d9b-dd3e-48c2-f409-5aa7450f20a0"
   },
   "outputs": [
    {
     "data": {
      "text/html": [
       "<div>\n",
       "<style scoped>\n",
       "    .dataframe tbody tr th:only-of-type {\n",
       "        vertical-align: middle;\n",
       "    }\n",
       "\n",
       "    .dataframe tbody tr th {\n",
       "        vertical-align: top;\n",
       "    }\n",
       "\n",
       "    .dataframe thead th {\n",
       "        text-align: right;\n",
       "    }\n",
       "</style>\n",
       "<table border=\"1\" class=\"dataframe\">\n",
       "  <thead>\n",
       "    <tr style=\"text-align: right;\">\n",
       "      <th></th>\n",
       "      <th>job_id</th>\n",
       "      <th>title</th>\n",
       "      <th>location</th>\n",
       "      <th>department</th>\n",
       "      <th>salary_range</th>\n",
       "      <th>company_profile</th>\n",
       "      <th>description</th>\n",
       "      <th>requirements</th>\n",
       "      <th>benefits</th>\n",
       "      <th>telecommuting</th>\n",
       "      <th>has_company_logo</th>\n",
       "      <th>has_questions</th>\n",
       "      <th>employment_type</th>\n",
       "      <th>required_experience</th>\n",
       "      <th>required_education</th>\n",
       "      <th>industry</th>\n",
       "      <th>function</th>\n",
       "      <th>fraudulent</th>\n",
       "    </tr>\n",
       "  </thead>\n",
       "  <tbody>\n",
       "    <tr>\n",
       "      <th>0</th>\n",
       "      <td>11284</td>\n",
       "      <td>Maintenance Mechanic</td>\n",
       "      <td>US, NY, Niagara Falls</td>\n",
       "      <td>Maintenance</td>\n",
       "      <td>NaN</td>\n",
       "      <td>Niacet is a leading producer of organic salts,...</td>\n",
       "      <td>DEPARTMENT:      MaintenanceREPORTS TO:       ...</td>\n",
       "      <td>NaN</td>\n",
       "      <td>NaN</td>\n",
       "      <td>0</td>\n",
       "      <td>1</td>\n",
       "      <td>0</td>\n",
       "      <td>Full-time</td>\n",
       "      <td>Mid-Senior level</td>\n",
       "      <td>NaN</td>\n",
       "      <td>Chemicals</td>\n",
       "      <td>Manufacturing</td>\n",
       "      <td>0</td>\n",
       "    </tr>\n",
       "    <tr>\n",
       "      <th>1</th>\n",
       "      <td>11511</td>\n",
       "      <td>LS17 6DJ Customer Service Apprenticeship Avail...</td>\n",
       "      <td>GB, , Leeds</td>\n",
       "      <td>NaN</td>\n",
       "      <td>NaN</td>\n",
       "      <td>Established on the principles that full time e...</td>\n",
       "      <td>This is fantastic opportunity for someone want...</td>\n",
       "      <td>Government funding is only available for 16-18...</td>\n",
       "      <td>Future prospects</td>\n",
       "      <td>0</td>\n",
       "      <td>1</td>\n",
       "      <td>1</td>\n",
       "      <td>NaN</td>\n",
       "      <td>NaN</td>\n",
       "      <td>NaN</td>\n",
       "      <td>NaN</td>\n",
       "      <td>NaN</td>\n",
       "      <td>0</td>\n",
       "    </tr>\n",
       "    <tr>\n",
       "      <th>2</th>\n",
       "      <td>5663</td>\n",
       "      <td>Technical Support Representative</td>\n",
       "      <td>US, OH, Westerville</td>\n",
       "      <td>NaN</td>\n",
       "      <td>NaN</td>\n",
       "      <td>Working for Status Solutions means that you ar...</td>\n",
       "      <td>A Customer Support Representative at Status So...</td>\n",
       "      <td>TasksMonitor the Network Operations Center, ca...</td>\n",
       "      <td>Starting salary based on experience and educat...</td>\n",
       "      <td>0</td>\n",
       "      <td>1</td>\n",
       "      <td>1</td>\n",
       "      <td>Full-time</td>\n",
       "      <td>Not Applicable</td>\n",
       "      <td>Unspecified</td>\n",
       "      <td>Computer Software</td>\n",
       "      <td>Customer Service</td>\n",
       "      <td>0</td>\n",
       "    </tr>\n",
       "    <tr>\n",
       "      <th>3</th>\n",
       "      <td>16816</td>\n",
       "      <td>Ruby on Rails Specialist</td>\n",
       "      <td>US, CA, Long Beach</td>\n",
       "      <td>NaN</td>\n",
       "      <td>NaN</td>\n",
       "      <td>NaN</td>\n",
       "      <td>Ruby on Rails Web Engineer (RoR)Now Hiring Rub...</td>\n",
       "      <td>NaN</td>\n",
       "      <td>NaN</td>\n",
       "      <td>0</td>\n",
       "      <td>0</td>\n",
       "      <td>0</td>\n",
       "      <td>Full-time</td>\n",
       "      <td>Mid-Senior level</td>\n",
       "      <td>NaN</td>\n",
       "      <td>Information Technology and Services</td>\n",
       "      <td>NaN</td>\n",
       "      <td>0</td>\n",
       "    </tr>\n",
       "    <tr>\n",
       "      <th>4</th>\n",
       "      <td>3733</td>\n",
       "      <td>Caregiver -  Bridgman</td>\n",
       "      <td>US, MI, Bridgman</td>\n",
       "      <td>NaN</td>\n",
       "      <td>NaN</td>\n",
       "      <td>\"Our mission to our clients is to preserve the...</td>\n",
       "      <td>Home Sweet Home In-Home Care is one of the fas...</td>\n",
       "      <td>NaN</td>\n",
       "      <td>Competitive compensation with performance revi...</td>\n",
       "      <td>0</td>\n",
       "      <td>1</td>\n",
       "      <td>1</td>\n",
       "      <td>NaN</td>\n",
       "      <td>NaN</td>\n",
       "      <td>High School or equivalent</td>\n",
       "      <td>Hospital &amp; Health Care</td>\n",
       "      <td>Health Care Provider</td>\n",
       "      <td>0</td>\n",
       "    </tr>\n",
       "  </tbody>\n",
       "</table>\n",
       "</div>"
      ],
      "text/plain": [
       "   job_id                                              title  \\\n",
       "0   11284                               Maintenance Mechanic   \n",
       "1   11511  LS17 6DJ Customer Service Apprenticeship Avail...   \n",
       "2    5663                   Technical Support Representative   \n",
       "3   16816                           Ruby on Rails Specialist   \n",
       "4    3733                              Caregiver -  Bridgman   \n",
       "\n",
       "                location   department salary_range  \\\n",
       "0  US, NY, Niagara Falls  Maintenance          NaN   \n",
       "1            GB, , Leeds          NaN          NaN   \n",
       "2    US, OH, Westerville          NaN          NaN   \n",
       "3     US, CA, Long Beach          NaN          NaN   \n",
       "4       US, MI, Bridgman          NaN          NaN   \n",
       "\n",
       "                                     company_profile  \\\n",
       "0  Niacet is a leading producer of organic salts,...   \n",
       "1  Established on the principles that full time e...   \n",
       "2  Working for Status Solutions means that you ar...   \n",
       "3                                                NaN   \n",
       "4  \"Our mission to our clients is to preserve the...   \n",
       "\n",
       "                                         description  \\\n",
       "0  DEPARTMENT:      MaintenanceREPORTS TO:       ...   \n",
       "1  This is fantastic opportunity for someone want...   \n",
       "2  A Customer Support Representative at Status So...   \n",
       "3  Ruby on Rails Web Engineer (RoR)Now Hiring Rub...   \n",
       "4  Home Sweet Home In-Home Care is one of the fas...   \n",
       "\n",
       "                                        requirements  \\\n",
       "0                                                NaN   \n",
       "1  Government funding is only available for 16-18...   \n",
       "2  TasksMonitor the Network Operations Center, ca...   \n",
       "3                                                NaN   \n",
       "4                                                NaN   \n",
       "\n",
       "                                            benefits  telecommuting  \\\n",
       "0                                                NaN              0   \n",
       "1                                   Future prospects              0   \n",
       "2  Starting salary based on experience and educat...              0   \n",
       "3                                                NaN              0   \n",
       "4  Competitive compensation with performance revi...              0   \n",
       "\n",
       "   has_company_logo  has_questions employment_type required_experience  \\\n",
       "0                 1              0       Full-time    Mid-Senior level   \n",
       "1                 1              1             NaN                 NaN   \n",
       "2                 1              1       Full-time      Not Applicable   \n",
       "3                 0              0       Full-time    Mid-Senior level   \n",
       "4                 1              1             NaN                 NaN   \n",
       "\n",
       "          required_education                             industry  \\\n",
       "0                        NaN                            Chemicals   \n",
       "1                        NaN                                  NaN   \n",
       "2                Unspecified                    Computer Software   \n",
       "3                        NaN  Information Technology and Services   \n",
       "4  High School or equivalent               Hospital & Health Care   \n",
       "\n",
       "               function  fraudulent  \n",
       "0         Manufacturing           0  \n",
       "1                   NaN           0  \n",
       "2      Customer Service           0  \n",
       "3                   NaN           0  \n",
       "4  Health Care Provider           0  "
      ]
     },
     "execution_count": 3,
     "metadata": {},
     "output_type": "execute_result"
    }
   ],
   "source": [
    "df = pd.read_csv(\"data/train.csv\")\n",
    "df = df.drop([\"Unnamed: 0\"],axis=1)\n",
    "\n",
    "df_val = pd.read_csv(\"data/dev.csv\")\n",
    "df_val = df_val.drop([\"Unnamed: 0\"],axis=1)\n",
    "df.head()"
   ]
  },
  {
   "cell_type": "markdown",
   "id": "4eec215e",
   "metadata": {
    "id": "4eec215e"
   },
   "source": [
    "#### Missing values"
   ]
  },
  {
   "cell_type": "code",
   "execution_count": 4,
   "id": "bb0d1a21",
   "metadata": {
    "colab": {
     "base_uri": "https://localhost:8080/",
     "height": 1000
    },
    "id": "bb0d1a21",
    "outputId": "988be1f5-82bf-4f30-cb0e-0f5ba1a11783"
   },
   "outputs": [
    {
     "data": {
      "text/html": [
       "<div>\n",
       "<style scoped>\n",
       "    .dataframe tbody tr th:only-of-type {\n",
       "        vertical-align: middle;\n",
       "    }\n",
       "\n",
       "    .dataframe tbody tr th {\n",
       "        vertical-align: top;\n",
       "    }\n",
       "\n",
       "    .dataframe thead th {\n",
       "        text-align: right;\n",
       "    }\n",
       "</style>\n",
       "<table border=\"1\" class=\"dataframe\">\n",
       "  <thead>\n",
       "    <tr style=\"text-align: right;\">\n",
       "      <th></th>\n",
       "      <th>job_id</th>\n",
       "      <th>title</th>\n",
       "      <th>location</th>\n",
       "      <th>department</th>\n",
       "      <th>salary_range</th>\n",
       "      <th>company_profile</th>\n",
       "      <th>description</th>\n",
       "      <th>requirements</th>\n",
       "      <th>benefits</th>\n",
       "      <th>telecommuting</th>\n",
       "      <th>has_company_logo</th>\n",
       "      <th>has_questions</th>\n",
       "      <th>employment_type</th>\n",
       "      <th>required_experience</th>\n",
       "      <th>required_education</th>\n",
       "      <th>industry</th>\n",
       "      <th>function</th>\n",
       "      <th>fraudulent</th>\n",
       "    </tr>\n",
       "  </thead>\n",
       "  <tbody>\n",
       "    <tr>\n",
       "      <th>52</th>\n",
       "      <td>6528</td>\n",
       "      <td>Client Audit Coordinator</td>\n",
       "      <td>US, TX, Austin</td>\n",
       "      <td>COMPLIANCE UNIT 701</td>\n",
       "      <td>26000-30000</td>\n",
       "      <td>The Accion  story began more than 100 years ag...</td>\n",
       "      <td>Description SUMMARY: The Client Audit Coordina...</td>\n",
       "      <td>High school diploma or equivalent; Bachelor's ...</td>\n",
       "      <td>We offer a competitive and comprehensive range...</td>\n",
       "      <td>0</td>\n",
       "      <td>1</td>\n",
       "      <td>1</td>\n",
       "      <td>Full-time</td>\n",
       "      <td>Associate</td>\n",
       "      <td>High School or equivalent</td>\n",
       "      <td>Financial Services</td>\n",
       "      <td>Customer Service</td>\n",
       "      <td>1</td>\n",
       "    </tr>\n",
       "    <tr>\n",
       "      <th>75</th>\n",
       "      <td>9842</td>\n",
       "      <td>Client Services Manager - SM1</td>\n",
       "      <td>US, CA, San Mateo</td>\n",
       "      <td>Client Services</td>\n",
       "      <td>NaN</td>\n",
       "      <td>#URL_ddb080358fa5eecf5a67c649cfb4ffc343c484389...</td>\n",
       "      <td>Client Services Manager - SM1San Mateo, CA#URL...</td>\n",
       "      <td>Basic Qualifications:Proven experience in mana...</td>\n",
       "      <td>Our core values drive our culture. This is wha...</td>\n",
       "      <td>0</td>\n",
       "      <td>1</td>\n",
       "      <td>1</td>\n",
       "      <td>Full-time</td>\n",
       "      <td>Mid-Senior level</td>\n",
       "      <td>Bachelor's Degree</td>\n",
       "      <td>Marketing and Advertising</td>\n",
       "      <td>Information Technology</td>\n",
       "      <td>1</td>\n",
       "    </tr>\n",
       "    <tr>\n",
       "      <th>77</th>\n",
       "      <td>17806</td>\n",
       "      <td>Receptionist</td>\n",
       "      <td>GB, ,</td>\n",
       "      <td>NaN</td>\n",
       "      <td>NaN</td>\n",
       "      <td>NaN</td>\n",
       "      <td>We the Montcalm Hotel are looking for the posi...</td>\n",
       "      <td>Good Requirement</td>\n",
       "      <td>Package: Basic salary ranges from GBP2500 - 60...</td>\n",
       "      <td>0</td>\n",
       "      <td>0</td>\n",
       "      <td>0</td>\n",
       "      <td>Full-time</td>\n",
       "      <td>Entry level</td>\n",
       "      <td>NaN</td>\n",
       "      <td>Hospitality</td>\n",
       "      <td>NaN</td>\n",
       "      <td>1</td>\n",
       "    </tr>\n",
       "    <tr>\n",
       "      <th>84</th>\n",
       "      <td>9258</td>\n",
       "      <td>CAD Operator</td>\n",
       "      <td>US, TX, Houston</td>\n",
       "      <td>Engineering</td>\n",
       "      <td>NaN</td>\n",
       "      <td>NaN</td>\n",
       "      <td>Corporate overviewAker Solutions is a global p...</td>\n",
       "      <td>Qualifications &amp;amp; personal attributes Educa...</td>\n",
       "      <td>We offer• Friendly colleagues in an industry w...</td>\n",
       "      <td>0</td>\n",
       "      <td>0</td>\n",
       "      <td>0</td>\n",
       "      <td>NaN</td>\n",
       "      <td>NaN</td>\n",
       "      <td>NaN</td>\n",
       "      <td>Construction</td>\n",
       "      <td>Design</td>\n",
       "      <td>1</td>\n",
       "    </tr>\n",
       "    <tr>\n",
       "      <th>96</th>\n",
       "      <td>5784</td>\n",
       "      <td>Position Admin Assistant</td>\n",
       "      <td>AU, NSW, Sydney</td>\n",
       "      <td>NaN</td>\n",
       "      <td>22000-28000</td>\n",
       "      <td>NaN</td>\n",
       "      <td>We require an experienced Admin Assistant with...</td>\n",
       "      <td>• Excellent time management &amp;amp; superb prese...</td>\n",
       "      <td>Part Time – 15 to 20 hours per week – you choo...</td>\n",
       "      <td>0</td>\n",
       "      <td>0</td>\n",
       "      <td>1</td>\n",
       "      <td>Part-time</td>\n",
       "      <td>Internship</td>\n",
       "      <td>Unspecified</td>\n",
       "      <td>Executive Office</td>\n",
       "      <td>Administrative</td>\n",
       "      <td>1</td>\n",
       "    </tr>\n",
       "    <tr>\n",
       "      <th>...</th>\n",
       "      <td>...</td>\n",
       "      <td>...</td>\n",
       "      <td>...</td>\n",
       "      <td>...</td>\n",
       "      <td>...</td>\n",
       "      <td>...</td>\n",
       "      <td>...</td>\n",
       "      <td>...</td>\n",
       "      <td>...</td>\n",
       "      <td>...</td>\n",
       "      <td>...</td>\n",
       "      <td>...</td>\n",
       "      <td>...</td>\n",
       "      <td>...</td>\n",
       "      <td>...</td>\n",
       "      <td>...</td>\n",
       "      <td>...</td>\n",
       "      <td>...</td>\n",
       "    </tr>\n",
       "    <tr>\n",
       "      <th>14204</th>\n",
       "      <td>5751</td>\n",
       "      <td>Agency Sales Managers $150-$175,000/yr</td>\n",
       "      <td>US, NY, Elmira</td>\n",
       "      <td>NaN</td>\n",
       "      <td>NaN</td>\n",
       "      <td>We have aggressive growth plans in place for t...</td>\n",
       "      <td>We provide No Credit Check Financing to custom...</td>\n",
       "      <td>Experience and Skills  Required- Minimum of 3 ...</td>\n",
       "      <td>We Provide- Complete online training and offic...</td>\n",
       "      <td>0</td>\n",
       "      <td>1</td>\n",
       "      <td>0</td>\n",
       "      <td>Full-time</td>\n",
       "      <td>NaN</td>\n",
       "      <td>High School or equivalent</td>\n",
       "      <td>Financial Services</td>\n",
       "      <td>Sales</td>\n",
       "      <td>1</td>\n",
       "    </tr>\n",
       "    <tr>\n",
       "      <th>14228</th>\n",
       "      <td>17677</td>\n",
       "      <td>Director of Engineering: Applications</td>\n",
       "      <td>US, ,</td>\n",
       "      <td>Engineering</td>\n",
       "      <td>NaN</td>\n",
       "      <td>...</td>\n",
       "      <td>Director of...</td>\n",
       "      <td>What you bring to the table:BS / MS in compute...</td>\n",
       "      <td>What We Offer: Competitive salary, excellent b...</td>\n",
       "      <td>0</td>\n",
       "      <td>1</td>\n",
       "      <td>1</td>\n",
       "      <td>Full-time</td>\n",
       "      <td>Director</td>\n",
       "      <td>Master's Degree</td>\n",
       "      <td>Ranching</td>\n",
       "      <td>Engineering</td>\n",
       "      <td>1</td>\n",
       "    </tr>\n",
       "    <tr>\n",
       "      <th>14253</th>\n",
       "      <td>10483</td>\n",
       "      <td>Senior System Test Engineer</td>\n",
       "      <td>US, CA, San Jose</td>\n",
       "      <td>Engineering</td>\n",
       "      <td>NaN</td>\n",
       "      <td>Aptitude Staffing Solutions has redesigned the...</td>\n",
       "      <td>Senior System Test Engineer | San Jose, CAAs a...</td>\n",
       "      <td>Skills and RequirementsBS in Computer Science ...</td>\n",
       "      <td>Broad responsibility, autonomy and visibility ...</td>\n",
       "      <td>0</td>\n",
       "      <td>1</td>\n",
       "      <td>1</td>\n",
       "      <td>Full-time</td>\n",
       "      <td>Mid-Senior level</td>\n",
       "      <td>Bachelor's Degree</td>\n",
       "      <td>Computer Networking</td>\n",
       "      <td>Engineering</td>\n",
       "      <td>1</td>\n",
       "    </tr>\n",
       "    <tr>\n",
       "      <th>14254</th>\n",
       "      <td>14129</td>\n",
       "      <td>Adminstrative/Data Entry</td>\n",
       "      <td>US, IL, Chicago</td>\n",
       "      <td>NaN</td>\n",
       "      <td>63000-63000</td>\n",
       "      <td>NaN</td>\n",
       "      <td>We are a network of national standards bodies....</td>\n",
       "      <td>No requirements, Apply if you are in the force...</td>\n",
       "      <td>The job includes benefits such as health, dent...</td>\n",
       "      <td>0</td>\n",
       "      <td>0</td>\n",
       "      <td>0</td>\n",
       "      <td>Full-time</td>\n",
       "      <td>Entry level</td>\n",
       "      <td>Unspecified</td>\n",
       "      <td>Human Resources</td>\n",
       "      <td>Human Resources</td>\n",
       "      <td>1</td>\n",
       "    </tr>\n",
       "    <tr>\n",
       "      <th>14262</th>\n",
       "      <td>2740</td>\n",
       "      <td>Administrative Assistant</td>\n",
       "      <td>US, FL, Miami</td>\n",
       "      <td>NaN</td>\n",
       "      <td>36000-50000</td>\n",
       "      <td>NaN</td>\n",
       "      <td>Administrative Assistant provides personal adm...</td>\n",
       "      <td>Education and Experience:Usually at least 3 ye...</td>\n",
       "      <td>Health, Dental, Life and AD&amp;amp;D Insurance, E...</td>\n",
       "      <td>0</td>\n",
       "      <td>0</td>\n",
       "      <td>0</td>\n",
       "      <td>Full-time</td>\n",
       "      <td>Entry level</td>\n",
       "      <td>Unspecified</td>\n",
       "      <td>Accounting</td>\n",
       "      <td>Administrative</td>\n",
       "      <td>1</td>\n",
       "    </tr>\n",
       "  </tbody>\n",
       "</table>\n",
       "<p>727 rows × 18 columns</p>\n",
       "</div>"
      ],
      "text/plain": [
       "       job_id                                   title           location  \\\n",
       "52       6528               Client Audit Coordinator      US, TX, Austin   \n",
       "75       9842           Client Services Manager - SM1  US, CA, San Mateo   \n",
       "77      17806                            Receptionist             GB, ,    \n",
       "84       9258                            CAD Operator    US, TX, Houston   \n",
       "96       5784                Position Admin Assistant    AU, NSW, Sydney   \n",
       "...       ...                                     ...                ...   \n",
       "14204    5751  Agency Sales Managers $150-$175,000/yr     US, NY, Elmira   \n",
       "14228   17677   Director of Engineering: Applications             US, ,    \n",
       "14253   10483             Senior System Test Engineer   US, CA, San Jose   \n",
       "14254   14129                Adminstrative/Data Entry    US, IL, Chicago   \n",
       "14262    2740                Administrative Assistant      US, FL, Miami   \n",
       "\n",
       "                department salary_range  \\\n",
       "52     COMPLIANCE UNIT 701  26000-30000   \n",
       "75         Client Services          NaN   \n",
       "77                     NaN          NaN   \n",
       "84             Engineering          NaN   \n",
       "96                     NaN  22000-28000   \n",
       "...                    ...          ...   \n",
       "14204                  NaN          NaN   \n",
       "14228          Engineering          NaN   \n",
       "14253         Engineering           NaN   \n",
       "14254                  NaN  63000-63000   \n",
       "14262                  NaN  36000-50000   \n",
       "\n",
       "                                         company_profile  \\\n",
       "52     The Accion  story began more than 100 years ag...   \n",
       "75     #URL_ddb080358fa5eecf5a67c649cfb4ffc343c484389...   \n",
       "77                                                   NaN   \n",
       "84                                                   NaN   \n",
       "96                                                   NaN   \n",
       "...                                                  ...   \n",
       "14204  We have aggressive growth plans in place for t...   \n",
       "14228                                                ...   \n",
       "14253  Aptitude Staffing Solutions has redesigned the...   \n",
       "14254                                                NaN   \n",
       "14262                                                NaN   \n",
       "\n",
       "                                             description  \\\n",
       "52     Description SUMMARY: The Client Audit Coordina...   \n",
       "75     Client Services Manager - SM1San Mateo, CA#URL...   \n",
       "77     We the Montcalm Hotel are looking for the posi...   \n",
       "84     Corporate overviewAker Solutions is a global p...   \n",
       "96     We require an experienced Admin Assistant with...   \n",
       "...                                                  ...   \n",
       "14204  We provide No Credit Check Financing to custom...   \n",
       "14228                                     Director of...   \n",
       "14253  Senior System Test Engineer | San Jose, CAAs a...   \n",
       "14254  We are a network of national standards bodies....   \n",
       "14262  Administrative Assistant provides personal adm...   \n",
       "\n",
       "                                            requirements  \\\n",
       "52     High school diploma or equivalent; Bachelor's ...   \n",
       "75     Basic Qualifications:Proven experience in mana...   \n",
       "77                                      Good Requirement   \n",
       "84     Qualifications &amp; personal attributes Educa...   \n",
       "96     • Excellent time management &amp; superb prese...   \n",
       "...                                                  ...   \n",
       "14204  Experience and Skills  Required- Minimum of 3 ...   \n",
       "14228  What you bring to the table:BS / MS in compute...   \n",
       "14253  Skills and RequirementsBS in Computer Science ...   \n",
       "14254  No requirements, Apply if you are in the force...   \n",
       "14262  Education and Experience:Usually at least 3 ye...   \n",
       "\n",
       "                                                benefits  telecommuting  \\\n",
       "52     We offer a competitive and comprehensive range...              0   \n",
       "75     Our core values drive our culture. This is wha...              0   \n",
       "77     Package: Basic salary ranges from GBP2500 - 60...              0   \n",
       "84     We offer• Friendly colleagues in an industry w...              0   \n",
       "96     Part Time – 15 to 20 hours per week – you choo...              0   \n",
       "...                                                  ...            ...   \n",
       "14204  We Provide- Complete online training and offic...              0   \n",
       "14228  What We Offer: Competitive salary, excellent b...              0   \n",
       "14253  Broad responsibility, autonomy and visibility ...              0   \n",
       "14254  The job includes benefits such as health, dent...              0   \n",
       "14262  Health, Dental, Life and AD&amp;D Insurance, E...              0   \n",
       "\n",
       "       has_company_logo  has_questions employment_type required_experience  \\\n",
       "52                    1              1       Full-time           Associate   \n",
       "75                    1              1       Full-time    Mid-Senior level   \n",
       "77                    0              0       Full-time         Entry level   \n",
       "84                    0              0             NaN                 NaN   \n",
       "96                    0              1       Part-time          Internship   \n",
       "...                 ...            ...             ...                 ...   \n",
       "14204                 1              0       Full-time                 NaN   \n",
       "14228                 1              1       Full-time            Director   \n",
       "14253                 1              1       Full-time    Mid-Senior level   \n",
       "14254                 0              0       Full-time         Entry level   \n",
       "14262                 0              0       Full-time         Entry level   \n",
       "\n",
       "              required_education                   industry  \\\n",
       "52     High School or equivalent         Financial Services   \n",
       "75             Bachelor's Degree  Marketing and Advertising   \n",
       "77                           NaN                Hospitality   \n",
       "84                           NaN               Construction   \n",
       "96                   Unspecified           Executive Office   \n",
       "...                          ...                        ...   \n",
       "14204  High School or equivalent         Financial Services   \n",
       "14228            Master's Degree                   Ranching   \n",
       "14253          Bachelor's Degree        Computer Networking   \n",
       "14254                Unspecified            Human Resources   \n",
       "14262                Unspecified                 Accounting   \n",
       "\n",
       "                     function  fraudulent  \n",
       "52           Customer Service           1  \n",
       "75     Information Technology           1  \n",
       "77                        NaN           1  \n",
       "84                     Design           1  \n",
       "96             Administrative           1  \n",
       "...                       ...         ...  \n",
       "14204                   Sales           1  \n",
       "14228             Engineering           1  \n",
       "14253             Engineering           1  \n",
       "14254         Human Resources           1  \n",
       "14262          Administrative           1  \n",
       "\n",
       "[727 rows x 18 columns]"
      ]
     },
     "execution_count": 4,
     "metadata": {},
     "output_type": "execute_result"
    }
   ],
   "source": [
    "df_fake = df.loc[df[\"fraudulent\"]==1]\n",
    "df_true = df.loc[df[\"fraudulent\"]==0]\n",
    "df_fake"
   ]
  },
  {
   "cell_type": "code",
   "execution_count": 5,
   "id": "c7e66c18",
   "metadata": {
    "id": "c7e66c18"
   },
   "outputs": [],
   "source": [
    "def getNaNRatio(df):\n",
    "    rows = len(df)\n",
    "    for column in df.columns:\n",
    "        print(f\"{column}: {df[column].isna().sum()/rows}\")"
   ]
  },
  {
   "cell_type": "code",
   "execution_count": 6,
   "id": "6a94b0d4",
   "metadata": {
    "colab": {
     "base_uri": "https://localhost:8080/"
    },
    "id": "6a94b0d4",
    "outputId": "92eed36c-d52d-4f61-d7d3-06f81932d798"
   },
   "outputs": [
    {
     "name": "stdout",
     "output_type": "stream",
     "text": [
      "job_id: 0.0\n",
      "title: 0.0\n",
      "location: 0.01925722145804677\n",
      "department: 0.6107290233837689\n",
      "salary_range: 0.7359009628610729\n",
      "company_profile: 0.6685006877579092\n",
      "description: 0.001375515818431912\n",
      "requirements: 0.16506189821182943\n",
      "benefits: 0.40440165061898214\n",
      "telecommuting: 0.0\n",
      "has_company_logo: 0.0\n",
      "has_questions: 0.0\n",
      "employment_type: 0.28060522696011003\n",
      "required_experience: 0.49105914718019256\n",
      "required_education: 0.515818431911967\n",
      "industry: 0.3177441540577717\n",
      "function: 0.38514442916093533\n",
      "fraudulent: 0.0\n"
     ]
    }
   ],
   "source": [
    "getNaNRatio(df_fake)"
   ]
  },
  {
   "cell_type": "code",
   "execution_count": 7,
   "id": "2e371a24",
   "metadata": {
    "colab": {
     "base_uri": "https://localhost:8080/"
    },
    "id": "2e371a24",
    "outputId": "2527ad2e-d8ad-4bdb-e114-5dcab8dfe581"
   },
   "outputs": [
    {
     "name": "stdout",
     "output_type": "stream",
     "text": [
      "job_id: 0.0\n",
      "title: 0.0\n",
      "location: 0.01922368711792001\n",
      "department: 0.6455770788834058\n",
      "salary_range: 0.8439272298740517\n",
      "company_profile: 0.16144951020107534\n",
      "description: 0.0\n",
      "requirements: 0.15150622376077189\n",
      "benefits: 0.4015614642409958\n",
      "telecommuting: 0.0\n",
      "has_company_logo: 0.0\n",
      "has_questions: 0.0\n",
      "employment_type: 0.19179494733740884\n",
      "required_experience: 0.3928702953524343\n",
      "required_education: 0.45223539809972746\n",
      "industry: 0.2739191279369522\n",
      "function: 0.36083081682256757\n",
      "fraudulent: 0.0\n"
     ]
    }
   ],
   "source": [
    "getNaNRatio(df_true)"
   ]
  },
  {
   "cell_type": "markdown",
   "id": "64814e3b",
   "metadata": {
    "id": "64814e3b"
   },
   "source": [
    "#### Correlation (features with binary value)"
   ]
  },
  {
   "cell_type": "code",
   "execution_count": 8,
   "id": "7462e621",
   "metadata": {
    "colab": {
     "base_uri": "https://localhost:8080/",
     "height": 112
    },
    "id": "7462e621",
    "outputId": "e8f8f94c-60b7-452c-92a8-ccff33c0200d"
   },
   "outputs": [
    {
     "data": {
      "text/html": [
       "<div>\n",
       "<style scoped>\n",
       "    .dataframe tbody tr th:only-of-type {\n",
       "        vertical-align: middle;\n",
       "    }\n",
       "\n",
       "    .dataframe tbody tr th {\n",
       "        vertical-align: top;\n",
       "    }\n",
       "\n",
       "    .dataframe thead th {\n",
       "        text-align: right;\n",
       "    }\n",
       "</style>\n",
       "<table border=\"1\" class=\"dataframe\">\n",
       "  <thead>\n",
       "    <tr style=\"text-align: right;\">\n",
       "      <th></th>\n",
       "      <th>telecommuting</th>\n",
       "      <th>fraudulent</th>\n",
       "    </tr>\n",
       "  </thead>\n",
       "  <tbody>\n",
       "    <tr>\n",
       "      <th>telecommuting</th>\n",
       "      <td>1.00000</td>\n",
       "      <td>0.03296</td>\n",
       "    </tr>\n",
       "    <tr>\n",
       "      <th>fraudulent</th>\n",
       "      <td>0.03296</td>\n",
       "      <td>1.00000</td>\n",
       "    </tr>\n",
       "  </tbody>\n",
       "</table>\n",
       "</div>"
      ],
      "text/plain": [
       "               telecommuting  fraudulent\n",
       "telecommuting        1.00000     0.03296\n",
       "fraudulent           0.03296     1.00000"
      ]
     },
     "execution_count": 8,
     "metadata": {},
     "output_type": "execute_result"
    }
   ],
   "source": [
    "# Correlation\n",
    "df[[\"telecommuting\",\"fraudulent\"]].corr()"
   ]
  },
  {
   "cell_type": "code",
   "execution_count": 9,
   "id": "9ef053ee",
   "metadata": {
    "colab": {
     "base_uri": "https://localhost:8080/",
     "height": 112
    },
    "id": "9ef053ee",
    "outputId": "8d8c9456-a42f-4cd3-8908-d7af20daa7ca"
   },
   "outputs": [
    {
     "data": {
      "text/html": [
       "<div>\n",
       "<style scoped>\n",
       "    .dataframe tbody tr th:only-of-type {\n",
       "        vertical-align: middle;\n",
       "    }\n",
       "\n",
       "    .dataframe tbody tr th {\n",
       "        vertical-align: top;\n",
       "    }\n",
       "\n",
       "    .dataframe thead th {\n",
       "        text-align: right;\n",
       "    }\n",
       "</style>\n",
       "<table border=\"1\" class=\"dataframe\">\n",
       "  <thead>\n",
       "    <tr style=\"text-align: right;\">\n",
       "      <th></th>\n",
       "      <th>has_company_logo</th>\n",
       "      <th>fraudulent</th>\n",
       "    </tr>\n",
       "  </thead>\n",
       "  <tbody>\n",
       "    <tr>\n",
       "      <th>has_company_logo</th>\n",
       "      <td>1.000000</td>\n",
       "      <td>-0.264599</td>\n",
       "    </tr>\n",
       "    <tr>\n",
       "      <th>fraudulent</th>\n",
       "      <td>-0.264599</td>\n",
       "      <td>1.000000</td>\n",
       "    </tr>\n",
       "  </tbody>\n",
       "</table>\n",
       "</div>"
      ],
      "text/plain": [
       "                  has_company_logo  fraudulent\n",
       "has_company_logo          1.000000   -0.264599\n",
       "fraudulent               -0.264599    1.000000"
      ]
     },
     "execution_count": 9,
     "metadata": {},
     "output_type": "execute_result"
    }
   ],
   "source": [
    "df[[\"has_company_logo\",\"fraudulent\"]].corr()"
   ]
  },
  {
   "cell_type": "markdown",
   "id": "6d1c14b9",
   "metadata": {
    "id": "6d1c14b9"
   },
   "source": [
    "-0.26 is significant correlation for keeping this feature"
   ]
  },
  {
   "cell_type": "code",
   "execution_count": 10,
   "id": "46930490",
   "metadata": {
    "colab": {
     "base_uri": "https://localhost:8080/",
     "height": 112
    },
    "id": "46930490",
    "outputId": "1179099c-6dff-4ed5-f0d5-b2dede2d066b"
   },
   "outputs": [
    {
     "data": {
      "text/html": [
       "<div>\n",
       "<style scoped>\n",
       "    .dataframe tbody tr th:only-of-type {\n",
       "        vertical-align: middle;\n",
       "    }\n",
       "\n",
       "    .dataframe tbody tr th {\n",
       "        vertical-align: top;\n",
       "    }\n",
       "\n",
       "    .dataframe thead th {\n",
       "        text-align: right;\n",
       "    }\n",
       "</style>\n",
       "<table border=\"1\" class=\"dataframe\">\n",
       "  <thead>\n",
       "    <tr style=\"text-align: right;\">\n",
       "      <th></th>\n",
       "      <th>has_questions</th>\n",
       "      <th>fraudulent</th>\n",
       "    </tr>\n",
       "  </thead>\n",
       "  <tbody>\n",
       "    <tr>\n",
       "      <th>has_questions</th>\n",
       "      <td>1.000000</td>\n",
       "      <td>-0.092613</td>\n",
       "    </tr>\n",
       "    <tr>\n",
       "      <th>fraudulent</th>\n",
       "      <td>-0.092613</td>\n",
       "      <td>1.000000</td>\n",
       "    </tr>\n",
       "  </tbody>\n",
       "</table>\n",
       "</div>"
      ],
      "text/plain": [
       "               has_questions  fraudulent\n",
       "has_questions       1.000000   -0.092613\n",
       "fraudulent         -0.092613    1.000000"
      ]
     },
     "execution_count": 10,
     "metadata": {},
     "output_type": "execute_result"
    }
   ],
   "source": [
    "df[[\"has_questions\",\"fraudulent\"]].corr()"
   ]
  },
  {
   "cell_type": "markdown",
   "id": "92cd5cb4",
   "metadata": {
    "id": "92cd5cb4"
   },
   "source": [
    "## Preprocessing"
   ]
  },
  {
   "cell_type": "code",
   "execution_count": 11,
   "id": "e3de280f",
   "metadata": {
    "id": "e3de280f"
   },
   "outputs": [],
   "source": [
    "# Lowercase, removing stop words, punctuation, numbers, stemming\n",
    "\n",
    "# Input -> array of docs\n",
    "def preprocess_texts(texts):\n",
    "    preprocessed = []\n",
    "    stop_words = stopwords.words('english')\n",
    "    punct=string.punctuation\n",
    "    # stemmer=PorterStemmer()\n",
    "    lemmatizer = WordNetLemmatizer()\n",
    "    \n",
    "    print(\"Preprocessing..\")\n",
    "    for text in tqdm(texts):\n",
    "        words = word_tokenize(text)\n",
    "        words = [''.join([i for i in word if not i.isdigit()]) for word in words] # Removing numbers\n",
    "        # All in one :)\n",
    "        words = [lemmatizer.lemmatize(word.lower()) for word in words if (word not in stop_words) and (word not in punct)]\n",
    "        preprocessed.append(words)\n",
    "        \n",
    "    print(\"Done\")\n",
    "    return preprocessed\n",
    "        "
   ]
  },
  {
   "cell_type": "markdown",
   "id": "20de6a1c",
   "metadata": {
    "id": "20de6a1c"
   },
   "source": [
    "## Fill nan"
   ]
  },
  {
   "cell_type": "code",
   "execution_count": 12,
   "id": "c434adc8",
   "metadata": {
    "id": "c434adc8"
   },
   "outputs": [],
   "source": [
    "df = df.fillna(\"none\")\n",
    "df_val = df_val.fillna(\"none\")"
   ]
  },
  {
   "cell_type": "markdown",
   "id": "cfe8fafc",
   "metadata": {
    "id": "cfe8fafc"
   },
   "source": [
    "## Small features embeddings"
   ]
  },
  {
   "cell_type": "code",
   "execution_count": 13,
   "id": "03ddd8a4",
   "metadata": {
    "id": "03ddd8a4"
   },
   "outputs": [],
   "source": [
    "def merge(df):\n",
    "    # df = df.assign(small_features=lambda df: df[\"title\"]+\" \"+df[\"location\"]+\" \"+df[\"department\"]+\n",
    "    #           df[\"employment_type\"]+\" \"+df[\"required_experience\"]+\" \"+df[\"required_education\"]+\" \"+\n",
    "    #            df[\"industry\"]+\" \"+df[\"function\"])\n",
    "    \n",
    "    # df = df.assign(small_features=lambda df: df[\"description\"])\n",
    "    \n",
    "    df = df.assign(small_features=lambda df: df[\"title\"]+\" \"+df[\"location\"]+\" \"+df[\"department\"]+\n",
    "              df[\"employment_type\"]+\" \"+df[\"required_experience\"]+\" \"+df[\"required_education\"]+\" \"+\n",
    "               df[\"industry\"]+\" \"+df[\"function\"]+\" \"+df[\"description\"])\n",
    "    \n",
    "\n",
    "    return df[[\"small_features\",\"fraudulent\"]]"
   ]
  },
  {
   "cell_type": "code",
   "execution_count": 14,
   "id": "3e170413",
   "metadata": {
    "colab": {
     "base_uri": "https://localhost:8080/",
     "height": 711
    },
    "id": "3e170413",
    "outputId": "497a9fc4-5044-4058-9a55-31e54124c775"
   },
   "outputs": [
    {
     "data": {
      "text/html": [
       "<div>\n",
       "<style scoped>\n",
       "    .dataframe tbody tr th:only-of-type {\n",
       "        vertical-align: middle;\n",
       "    }\n",
       "\n",
       "    .dataframe tbody tr th {\n",
       "        vertical-align: top;\n",
       "    }\n",
       "\n",
       "    .dataframe thead th {\n",
       "        text-align: right;\n",
       "    }\n",
       "</style>\n",
       "<table border=\"1\" class=\"dataframe\">\n",
       "  <thead>\n",
       "    <tr style=\"text-align: right;\">\n",
       "      <th></th>\n",
       "      <th>small_features</th>\n",
       "      <th>fraudulent</th>\n",
       "    </tr>\n",
       "  </thead>\n",
       "  <tbody>\n",
       "    <tr>\n",
       "      <th>0</th>\n",
       "      <td>Maintenance Mechanic US, NY, Niagara Falls Mai...</td>\n",
       "      <td>0</td>\n",
       "    </tr>\n",
       "    <tr>\n",
       "      <th>1</th>\n",
       "      <td>LS17 6DJ Customer Service Apprenticeship Avail...</td>\n",
       "      <td>0</td>\n",
       "    </tr>\n",
       "    <tr>\n",
       "      <th>2</th>\n",
       "      <td>Technical Support Representative US, OH, Weste...</td>\n",
       "      <td>0</td>\n",
       "    </tr>\n",
       "    <tr>\n",
       "      <th>3</th>\n",
       "      <td>Ruby on Rails Specialist US, CA, Long Beach no...</td>\n",
       "      <td>0</td>\n",
       "    </tr>\n",
       "    <tr>\n",
       "      <th>4</th>\n",
       "      <td>Caregiver -  Bridgman US, MI, Bridgman nonenon...</td>\n",
       "      <td>0</td>\n",
       "    </tr>\n",
       "  </tbody>\n",
       "</table>\n",
       "</div>"
      ],
      "text/plain": [
       "                                      small_features  fraudulent\n",
       "0  Maintenance Mechanic US, NY, Niagara Falls Mai...           0\n",
       "1  LS17 6DJ Customer Service Apprenticeship Avail...           0\n",
       "2  Technical Support Representative US, OH, Weste...           0\n",
       "3  Ruby on Rails Specialist US, CA, Long Beach no...           0\n",
       "4  Caregiver -  Bridgman US, MI, Bridgman nonenon...           0"
      ]
     },
     "execution_count": 14,
     "metadata": {},
     "output_type": "execute_result"
    }
   ],
   "source": [
    "df_small = merge(df)\n",
    "df_val_small = merge(df_val)\n",
    "df_small.head()"
   ]
  },
  {
   "cell_type": "code",
   "execution_count": 15,
   "id": "63a07108",
   "metadata": {
    "id": "63a07108"
   },
   "outputs": [],
   "source": [
    "features_train = np.array(df_small[\"small_features\"])\n",
    "target_train = np.array(df_small[\"fraudulent\"])\n",
    "\n",
    "features_val = np.array(df_val_small[\"small_features\"])\n",
    "target_val = np.array(df_val_small[\"fraudulent\"])"
   ]
  },
  {
   "cell_type": "code",
   "execution_count": 16,
   "id": "bf9c9420",
   "metadata": {
    "colab": {
     "base_uri": "https://localhost:8080/"
    },
    "id": "bf9c9420",
    "outputId": "e5ee1942-033d-45b2-dee1-572cd2d3e927"
   },
   "outputs": [
    {
     "name": "stdout",
     "output_type": "stream",
     "text": [
      "Preprocessing..\n"
     ]
    },
    {
     "name": "stderr",
     "output_type": "stream",
     "text": [
      "100%|███████████████████████████████████████████████████████████████████████████| 14304/14304 [01:32<00:00, 155.23it/s]\n"
     ]
    },
    {
     "name": "stdout",
     "output_type": "stream",
     "text": [
      "Done\n",
      "Preprocessing..\n"
     ]
    },
    {
     "name": "stderr",
     "output_type": "stream",
     "text": [
      "100%|█████████████████████████████████████████████████████████████████████████████| 1788/1788 [00:11<00:00, 161.21it/s]"
     ]
    },
    {
     "name": "stdout",
     "output_type": "stream",
     "text": [
      "Done\n"
     ]
    },
    {
     "name": "stderr",
     "output_type": "stream",
     "text": [
      "\n"
     ]
    }
   ],
   "source": [
    "preprocessed_train = preprocess_texts(features_train)\n",
    "preprocessed_val = preprocess_texts(features_val)\n",
    "#print(preprocessed[:3])"
   ]
  },
  {
   "cell_type": "markdown",
   "id": "3711b1bc",
   "metadata": {
    "id": "3711b1bc"
   },
   "source": [
    "#### GloVe"
   ]
  },
  {
   "cell_type": "code",
   "execution_count": 17,
   "id": "16f41b3f",
   "metadata": {
    "colab": {
     "base_uri": "https://localhost:8080/"
    },
    "id": "16f41b3f",
    "outputId": "3bbeb55c-33bb-4984-ee91-87602f6a89b9"
   },
   "outputs": [],
   "source": [
    "# Download\n",
    "glove_vectors = gensim.downloader.load('glove-wiki-gigaword-50') # 50 dimensions embeddings\n",
    "embedding_dim = 50"
   ]
  },
  {
   "cell_type": "code",
   "execution_count": 18,
   "id": "552fd32d",
   "metadata": {
    "colab": {
     "base_uri": "https://localhost:8080/"
    },
    "id": "552fd32d",
    "outputId": "60921dd5-2d36-4b26-ba0c-1f96d0bf1c8e"
   },
   "outputs": [
    {
     "name": "stdout",
     "output_type": "stream",
     "text": [
      "[ 0.45281  -0.50108  -0.53714  -0.015697  0.22191   0.54602  -0.67301\n",
      " -0.6891    0.63493  -0.19726   0.33685   0.7735    0.90094   0.38488\n",
      "  0.38367   0.2657   -0.08057   0.61089  -1.2894   -0.22313  -0.61578\n",
      "  0.21697   0.35614   0.44499   0.60885  -1.1633   -1.1579    0.36118\n",
      "  0.10466  -0.78325   1.4352    0.18629  -0.26112   0.83275  -0.23123\n",
      "  0.32481   0.14485  -0.44552   0.33497  -0.95946  -0.097479  0.48138\n",
      " -0.43352   0.69455   0.91043  -0.28173   0.41637  -1.2609    0.71278\n",
      "  0.23782 ]\n"
     ]
    },
    {
     "data": {
      "text/plain": [
       "[('dog', 0.9218006134033203),\n",
       " ('rabbit', 0.8487821221351624),\n",
       " ('monkey', 0.8041081428527832),\n",
       " ('rat', 0.7891963124275208),\n",
       " ('cats', 0.7865270972251892),\n",
       " ('snake', 0.7798910737037659),\n",
       " ('dogs', 0.7795814871788025),\n",
       " ('pet', 0.7792249917984009),\n",
       " ('mouse', 0.773166835308075),\n",
       " ('bite', 0.7728800177574158)]"
      ]
     },
     "execution_count": 18,
     "metadata": {},
     "output_type": "execute_result"
    }
   ],
   "source": [
    "# Example\n",
    "\n",
    "print(glove_vectors[\"cat\"])\n",
    "glove_vectors.most_similar(\"cat\",topn=10)"
   ]
  },
  {
   "cell_type": "code",
   "execution_count": 19,
   "id": "aa687822",
   "metadata": {
    "colab": {
     "base_uri": "https://localhost:8080/"
    },
    "id": "aa687822",
    "outputId": "de0b8a57-b2d3-4d78-aeca-3a651d33af8d"
   },
   "outputs": [
    {
     "name": "stdout",
     "output_type": "stream",
     "text": [
      "811\n"
     ]
    }
   ],
   "source": [
    "max_input_length = max([len(doc) for doc in preprocessed_train]) \n",
    "print(max_input_length)"
   ]
  },
  {
   "cell_type": "code",
   "execution_count": 20,
   "id": "a765f8d8",
   "metadata": {
    "id": "a765f8d8"
   },
   "outputs": [],
   "source": [
    "def texts2embeddings(texts,max_length,em_dim):\n",
    "    zero_vector = np.zeros(em_dim)\n",
    "    embeddings = []\n",
    "    total_words = 0\n",
    "    missing_words = 0\n",
    "    for text in tqdm(texts):\n",
    "        embedded_text = []\n",
    "        for word in text:\n",
    "            total_words += 1\n",
    "            try:\n",
    "                embedded_text.append(glove_vectors[word])\n",
    "            except:\n",
    "                embedded_text.append(zero_vector)\n",
    "                missing_words += 1\n",
    "        embeddings.append(embedded_text)\n",
    "    embeddings = pad_sequences(embeddings, maxlen=max_length, padding='post',value=zero_vector,dtype=\"float32\")\n",
    "    print(\"Missing words:\",missing_words/total_words)\n",
    "    return embeddings"
   ]
  },
  {
   "cell_type": "code",
   "execution_count": 21,
   "id": "c51b05fa",
   "metadata": {
    "colab": {
     "base_uri": "https://localhost:8080/"
    },
    "id": "c51b05fa",
    "outputId": "3a369dd1-a3e4-4e4a-91ee-d447b77e1476"
   },
   "outputs": [
    {
     "name": "stderr",
     "output_type": "stream",
     "text": [
      "100%|██████████████████████████████████████████████████████████████████████████| 14304/14304 [00:07<00:00, 1990.26it/s]\n"
     ]
    },
    {
     "name": "stdout",
     "output_type": "stream",
     "text": [
      "Missing words: 0.08733109218991177\n"
     ]
    },
    {
     "name": "stderr",
     "output_type": "stream",
     "text": [
      "100%|████████████████████████████████████████████████████████████████████████████| 1788/1788 [00:00<00:00, 2006.25it/s]\n"
     ]
    },
    {
     "name": "stdout",
     "output_type": "stream",
     "text": [
      "Missing words: 0.08852106322437366\n"
     ]
    }
   ],
   "source": [
    "embedded_features_train = texts2embeddings(preprocessed_train,max_input_length,embedding_dim)\n",
    "embedded_features_val = texts2embeddings(preprocessed_val,max_input_length,embedding_dim)"
   ]
  },
  {
   "cell_type": "code",
   "execution_count": 22,
   "id": "1WVbRX6-p88S",
   "metadata": {
    "id": "1WVbRX6-p88S"
   },
   "outputs": [],
   "source": [
    "# with open('embedded_features_train.npy', 'wb') as f:\n",
    "#     np.save(f, embedded_features_train)\n",
    "# with open('embedded_features_val.npy', 'wb') as f:\n",
    "#     np.save(f, embedded_features_val)"
   ]
  },
  {
   "cell_type": "code",
   "execution_count": 23,
   "id": "o0j3y_P5rE9B",
   "metadata": {
    "id": "o0j3y_P5rE9B"
   },
   "outputs": [],
   "source": [
    "# with open('embedded_features_train.npy', 'rb') as f:\n",
    "#     embedded_features_train = np.load(f)\n",
    "# with open('embedded_features_val.npy', 'rb') as f:\n",
    "#     embedded_features_val = np.load(f)"
   ]
  },
  {
   "cell_type": "code",
   "execution_count": null,
   "id": "32cca12d",
   "metadata": {
    "colab": {
     "base_uri": "https://localhost:8080/",
     "height": 1000
    },
    "id": "32cca12d",
    "outputId": "f683e363-e734-4326-acfe-2a773cd76aa2"
   },
   "outputs": [],
   "source": [
    "from functools import lru_cache\n",
    "# Building model\n",
    "\n",
    "checkpoint_filepath = './checkpoint'\n",
    "model_checkpoint_callback = ModelCheckpoint(\n",
    "    filepath=checkpoint_filepath,\n",
    "    save_weights_only=True,\n",
    "    monitor='val_accuracy',\n",
    "    mode='max',\n",
    "    save_best_only=True)\n",
    "\n",
    "\n",
    "model = Sequential()\n",
    "model.add(Bidirectional(LSTM(100, input_shape=(max_input_length, embedding_dim))))\n",
    "model.add(Dropout(0.2)) # Regularization\n",
    "model.add(Dense(16)) # TODO: Dense(32)\n",
    "# TODO: Maybe additional Dropout?\n",
    "model.add(Dense(1,activation=\"sigmoid\")) \n",
    "model.compile(loss='binary_crossentropy', optimizer='adam',metrics=[\"accuracy\"])\n",
    "history = model.fit(embedded_features_train, target_train, epochs=30, batch_size=32, verbose=2,\n",
    "                    validation_data=(embedded_features_val,target_val), callbacks=[model_checkpoint_callback])\n",
    "\n",
    "\n",
    "# The model weights (that are considered the best) are loaded into the model.\n",
    "model.load_weights(checkpoint_filepath)"
   ]
  },
  {
   "cell_type": "code",
   "execution_count": 26,
   "id": "f40b68d0",
   "metadata": {
    "colab": {
     "base_uri": "https://localhost:8080/"
    },
    "id": "f40b68d0",
    "outputId": "2d6305bb-7c18-427f-a091-b42a8172d476"
   },
   "outputs": [
    {
     "name": "stdout",
     "output_type": "stream",
     "text": [
      "Baseline: 0.9619686800894854\n"
     ]
    }
   ],
   "source": [
    "print(\"Baseline:\",(1-sum(target_val)/len(target_val)))"
   ]
  },
  {
   "cell_type": "code",
   "execution_count": 33,
   "id": "171f8a3a",
   "metadata": {
    "colab": {
     "base_uri": "https://localhost:8080/"
    },
    "id": "171f8a3a",
    "outputId": "e0536f6d-f418-47c0-e836-9639ebc795b2"
   },
   "outputs": [
    {
     "name": "stdout",
     "output_type": "stream",
     "text": [
      "F1:\n",
      "Micro: 0.9843400447427293\n",
      "Macro: 0.8773073492074384\n",
      "Weighted: 0.9831863989225884\n",
      "For fraudulent: 0.7627118644067796\n"
     ]
    }
   ],
   "source": [
    "predicted = model.predict(embedded_features_val)\n",
    "\n",
    "# As labels\n",
    "treshold = 0.63\n",
    "predicted_labels = []\n",
    "for p in predicted:\n",
    "    if p >= treshold:\n",
    "        predicted_labels.append([1])\n",
    "    else:\n",
    "        predicted_labels.append([0])\n",
    "\n",
    "print(\"F1:\")\n",
    "print(\"Micro:\",f1_score(target_val,predicted_labels,average=\"micro\"))\n",
    "print(\"Macro:\",f1_score(target_val,predicted_labels,average=\"macro\"))\n",
    "print(\"Weighted:\",f1_score(target_val,predicted_labels,average=\"weighted\"))\n",
    "print(\"For fraudulent:\",f1_score(target_val,predicted_labels,average=\"binary\"))"
   ]
  },
  {
   "cell_type": "markdown",
   "id": "68a06f59",
   "metadata": {
    "id": "68a06f59"
   },
   "source": [
    "Seems gooood!=)"
   ]
  },
  {
   "cell_type": "code",
   "execution_count": 31,
   "id": "97bc138d",
   "metadata": {},
   "outputs": [
    {
     "data": {
      "image/png": "[encoded data removed]",
      "text/plain": [
       "<Figure size 432x288 with 1 Axes>"
      ]
     },
     "metadata": {
      "needs_background": "light"
     },
     "output_type": "display_data"
    }
   ],
   "source": [
    "# Presicion / recall curve\n",
    "precision,recall,tresholds = precision_recall_curve(target_val,predicted)\n",
    "\n",
    "plt.plot(tresholds,recall[:-1],label=\"Recall\")\n",
    "plt.plot(tresholds,precision[:-1],label=\"Precision\")\n",
    "plt.xlabel(\"Tresholds\")\n",
    "plt.ylabel(\"Precision/Recall\")\n",
    "plt.legend()\n",
    "plt.show()"
   ]
  },
  {
   "cell_type": "code",
   "execution_count": null,
   "id": "6368efc5",
   "metadata": {
    "colab": {
     "base_uri": "https://localhost:8080/"
    },
    "id": "6368efc5",
    "outputId": "5147c456-93cb-4b65-8f6b-c554952ad47f"
   },
   "outputs": [],
   "source": [
    "df_val['fraudulent'].value_counts(), sum(predicted > 0.5), sum(predicted <= 0.5)"
   ]
  },
  {
   "cell_type": "code",
   "execution_count": null,
   "id": "EhmXRWHaxRW2",
   "metadata": {
    "id": "EhmXRWHaxRW2"
   },
   "outputs": [],
   "source": []
  }
 ],
 "metadata": {
  "accelerator": "GPU",
  "colab": {
   "collapsed_sections": [],
   "machine_shape": "hm",
   "name": "Fake job postings.ipynb",
   "provenance": []
  },
  "kernelspec": {
   "display_name": "Python 3",
   "language": "python",
   "name": "python3"
  },
  "language_info": {
   "codemirror_mode": {
    "name": "ipython",
    "version": 3
   },
   "file_extension": ".py",
   "mimetype": "text/x-python",
   "name": "python",
   "nbconvert_exporter": "python",
   "pygments_lexer": "ipython3",
   "version": "3.8.8"
  }
 },
 "nbformat": 4,
 "nbformat_minor": 5
}
