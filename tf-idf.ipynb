{
 "cells": [
  {
   "cell_type": "code",
   "execution_count": 1,
   "id": "95f07665",
   "metadata": {},
   "outputs": [],
   "source": [
    "from sklearn.feature_extraction.text import TfidfVectorizer\n",
    "from sklearn.naive_bayes import MultinomialNB\n",
    "from nltk.stem import WordNetLemmatizer\n",
    "from sklearn.metrics import classification_report\n",
    "from sklearn.utils import shuffle\n",
    "import pandas as pd\n",
    "import numpy as np\n",
    "import nltk\n",
    "import re"
   ]
  },
  {
   "cell_type": "code",
   "execution_count": 2,
   "id": "32e3baf3",
   "metadata": {},
   "outputs": [
    {
     "name": "stderr",
     "output_type": "stream",
     "text": [
      "[nltk_data] Downloading package stopwords to /home/artjom/nltk_data...\n",
      "[nltk_data]   Package stopwords is already up-to-date!\n"
     ]
    },
    {
     "data": {
      "text/plain": [
       "True"
      ]
     },
     "execution_count": 2,
     "metadata": {},
     "output_type": "execute_result"
    }
   ],
   "source": [
    "nltk.download('stopwords')"
   ]
  },
  {
   "cell_type": "code",
   "execution_count": 3,
   "id": "c8fe0735",
   "metadata": {},
   "outputs": [],
   "source": [
    "def merge(df):\n",
    "    df = df.assign(merged_features=lambda df: \n",
    "                   df[\"title\"]+\" \"\n",
    "                   +df[\"location\"]+\" \"\n",
    "                   +df[\"department\"]+\" \"\n",
    "                   +df[\"employment_type\"]+\" \"\n",
    "                   +df[\"required_experience\"]+\" \"\n",
    "                   +df[\"required_education\"]+\" \"\n",
    "                   +df[\"industry\"]+\" \"\n",
    "                   +df[\"function\"]+\" \"\n",
    "                   +df[\"description\"]+\" \"\n",
    "                   +df[\"requirements\"]+\" \"\n",
    "                   +df[\"benefits\"]\n",
    "                   )\n",
    "    return df[[\"merged_features\",\"fraudulent\"]]"
   ]
  },
  {
   "cell_type": "code",
   "execution_count": 9,
   "id": "bcebd4be",
   "metadata": {},
   "outputs": [],
   "source": [
    "df_train = pd.read_csv(\"data/train.csv\")\n",
    "df_train = df_train.fillna(\"none\")\n",
    "\n",
    "df_test = pd.read_csv(\"data/dev.csv\")\n",
    "df_test = df_test.fillna(\"none\")\n",
    "\n",
    "df_aug = pd.read_csv(\"augmented.csv\", sep='\\t')\n",
    "df_aug['fraudulent'] = np.ones(len(df_aug), dtype=int)\n",
    "df_aug = df_aug.replace(\" \",np.nan)\n",
    "df_aug = df_aug.fillna(\"none\")\n",
    "\n",
    "df = pd.concat([df_aug, df_train])\n",
    "df = shuffle(df)\n",
    "df = df.reset_index()\n",
    "\n",
    "df_merged = merge(df)\n",
    "df_test_merged = merge(df_test)\n",
    "\n",
    "X_train = np.array(df_merged[\"merged_features\"])\n",
    "y_train = np.array(df_merged[\"fraudulent\"])\n",
    "\n",
    "X_test = np.array(df_test_merged[\"merged_features\"])\n",
    "y_test = np.array(df_test_merged[\"fraudulent\"])\n",
    "\n",
    "stopwords = nltk.corpus.stopwords.words('english')\n",
    "lemmatizer = WordNetLemmatizer()"
   ]
  },
  {
   "cell_type": "code",
   "execution_count": 10,
   "id": "a41b4879",
   "metadata": {},
   "outputs": [],
   "source": [
    "# Params description\n",
    "# data - array of sentences\n",
    "def preprocessing(data: list):\n",
    "    output = []\n",
    "    for sentence in data:\n",
    "        review = re.sub('[^a-zA-Z]', ' ', sentence)\n",
    "        review = review.lower()\n",
    "        review = review.split()\n",
    "        review = [lemmatizer.lemmatize(word) for word in review if not word in set(stopwords)]\n",
    "        review = ' '.join(review)\n",
    "        output.append(review)\n",
    "    return output\n",
    "\n",
    "X_train = preprocessing(X_train)"
   ]
  },
  {
   "cell_type": "markdown",
   "id": "95271a58",
   "metadata": {},
   "source": [
    "#### TF-IDF Vectorizer"
   ]
  },
  {
   "cell_type": "code",
   "execution_count": 11,
   "id": "b4e87494",
   "metadata": {},
   "outputs": [],
   "source": [
    "tf_idf = TfidfVectorizer()\n",
    "X_train_tf = tf_idf.fit_transform(X_train)\n",
    "X_test_tf = tf_idf.transform(X_test)"
   ]
  },
  {
   "cell_type": "markdown",
   "id": "8d71e3d9",
   "metadata": {},
   "source": [
    "#### Naive Bayes Classifier"
   ]
  },
  {
   "cell_type": "code",
   "execution_count": 12,
   "id": "1c278e59",
   "metadata": {},
   "outputs": [],
   "source": [
    "naive_bayes_classifier = MultinomialNB()\n",
    "naive_bayes_classifier.fit(X_train_tf, y_train)\n",
    "y_pred = naive_bayes_classifier.predict(X_test_tf)"
   ]
  },
  {
   "cell_type": "code",
   "execution_count": 13,
   "id": "0e2468c9",
   "metadata": {},
   "outputs": [
    {
     "name": "stdout",
     "output_type": "stream",
     "text": [
      "                precision    recall  f1-score   support\n",
      "\n",
      "Not fraudulent       0.97      1.00      0.99      1720\n",
      "    Fraudulent       0.91      0.29      0.44        68\n",
      "\n",
      "      accuracy                           0.97      1788\n",
      "     macro avg       0.94      0.65      0.72      1788\n",
      "  weighted avg       0.97      0.97      0.97      1788\n",
      "\n"
     ]
    }
   ],
   "source": [
    "print(classification_report(y_test, y_pred, target_names=['Not fraudulent', 'Fraudulent']))"
   ]
  }
 ],
 "metadata": {
  "kernelspec": {
   "display_name": "Python 3 (ipykernel)",
   "language": "python",
   "name": "python3"
  },
  "language_info": {
   "codemirror_mode": {
    "name": "ipython",
    "version": 3
   },
   "file_extension": ".py",
   "mimetype": "text/x-python",
   "name": "python",
   "nbconvert_exporter": "python",
   "pygments_lexer": "ipython3",
   "version": "3.7.11"
  }
 },
 "nbformat": 4,
 "nbformat_minor": 5
}
